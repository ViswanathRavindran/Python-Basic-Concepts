{
 "cells": [
  {
   "cell_type": "raw",
   "metadata": {},
   "source": [
    "Python is a very good language. Quick turn around language between editing and running."
   ]
  },
  {
   "cell_type": "code",
   "execution_count": 1,
   "metadata": {
    "collapsed": false
   },
   "outputs": [
    {
     "data": {
      "text/plain": [
       "6"
      ]
     },
     "execution_count": 1,
     "metadata": {},
     "output_type": "execute_result"
    }
   ],
   "source": [
    "# Basics - Read eval print loop, there are no requirments to do \n",
    "#any declaration for Python as like many other programming languages.\n",
    "a = 6\n",
    "a"
   ]
  },
  {
   "cell_type": "code",
   "execution_count": 2,
   "metadata": {
    "collapsed": false
   },
   "outputs": [
    {
     "data": {
      "text/plain": [
       "'hello'"
      ]
     },
     "execution_count": 2,
     "metadata": {},
     "output_type": "execute_result"
    }
   ],
   "source": [
    "a = \"hello\"\n",
    "a"
   ]
  },
  {
   "cell_type": "code",
   "execution_count": 3,
   "metadata": {
    "collapsed": false
   },
   "outputs": [
    {
     "data": {
      "text/plain": [
       "5"
      ]
     },
     "execution_count": 3,
     "metadata": {},
     "output_type": "execute_result"
    }
   ],
   "source": [
    "# Length Function\n",
    "len(a)"
   ]
  },
  {
   "cell_type": "raw",
   "metadata": {},
   "source": [
    "#In Python the class conversion while adding a string and number does \n",
    "#not work\n",
    "a + 5 - gives an error\n",
    "Ctrl + D will be used for "
   ]
  },
  {
   "cell_type": "code",
   "execution_count": 4,
   "metadata": {
    "collapsed": false
   },
   "outputs": [
    {
     "data": {
      "text/plain": [
       "'hello5'"
      ]
     },
     "execution_count": 4,
     "metadata": {},
     "output_type": "execute_result"
    }
   ],
   "source": [
    "# the alternative is:\n",
    "a + str(5)"
   ]
  },
  {
   "cell_type": "code",
   "execution_count": 5,
   "metadata": {
    "collapsed": false
   },
   "outputs": [
    {
     "name": "stdout",
     "output_type": "stream",
     "text": [
      "Hello\n"
     ]
    }
   ],
   "source": [
    "# Hello word in Python, all convestional codes will be under main\n",
    "import sys\n",
    "def main():\n",
    "    print \"Hello\"\n",
    "\n",
    "# This is a boiler plate syntax\n",
    "if __name__ == '__main__':\n",
    "    main()"
   ]
  },
  {
   "cell_type": "code",
   "execution_count": 6,
   "metadata": {
    "collapsed": false
   },
   "outputs": [
    {
     "name": "stdout",
     "output_type": "stream",
     "text": [
      "('Hello Word', ['/anaconda/lib/python2.7/site-packages/ipykernel/__main__.py', '-f', '/Users/viswanathravindran/Library/Jupyter/runtime/kernel-868d38cc-1616-4f4a-b20d-335d81dcfb11.json'])\n"
     ]
    }
   ],
   "source": [
    "#Modification for Hello world this type of \n",
    "#program should be run by calling ou the name of .py file\n",
    "import sys\n",
    "\n",
    "def main():\n",
    "    print ('Hello Word', sys.argv)\n",
    "    \n",
    "if __name__ == '__main__':\n",
    "    main()"
   ]
  },
  {
   "cell_type": "code",
   "execution_count": 7,
   "metadata": {
    "collapsed": false
   },
   "outputs": [
    {
     "data": {
      "text/plain": [
       "['__add__',\n",
       " '__class__',\n",
       " '__contains__',\n",
       " '__delattr__',\n",
       " '__delitem__',\n",
       " '__delslice__',\n",
       " '__doc__',\n",
       " '__eq__',\n",
       " '__format__',\n",
       " '__ge__',\n",
       " '__getattribute__',\n",
       " '__getitem__',\n",
       " '__getslice__',\n",
       " '__gt__',\n",
       " '__hash__',\n",
       " '__iadd__',\n",
       " '__imul__',\n",
       " '__init__',\n",
       " '__iter__',\n",
       " '__le__',\n",
       " '__len__',\n",
       " '__lt__',\n",
       " '__mul__',\n",
       " '__ne__',\n",
       " '__new__',\n",
       " '__reduce__',\n",
       " '__reduce_ex__',\n",
       " '__repr__',\n",
       " '__reversed__',\n",
       " '__rmul__',\n",
       " '__setattr__',\n",
       " '__setitem__',\n",
       " '__setslice__',\n",
       " '__sizeof__',\n",
       " '__str__',\n",
       " '__subclasshook__',\n",
       " 'append',\n",
       " 'count',\n",
       " 'extend',\n",
       " 'index',\n",
       " 'insert',\n",
       " 'pop',\n",
       " 'remove',\n",
       " 'reverse',\n",
       " 'sort']"
      ]
     },
     "execution_count": 7,
     "metadata": {},
     "output_type": "execute_result"
    }
   ],
   "source": [
    "#This is how you can understand the \n",
    "dir(sys.argv)"
   ]
  },
  {
   "cell_type": "code",
   "execution_count": 8,
   "metadata": {
    "collapsed": false,
    "scrolled": true
   },
   "outputs": [
    {
     "name": "stdout",
     "output_type": "stream",
     "text": [
      "Help on built-in function exit in module sys:\n",
      "\n",
      "exit(...)\n",
      "    exit([status])\n",
      "    \n",
      "    Exit the interpreter by raising SystemExit(status).\n",
      "    If the status is omitted or None, it defaults to zero (i.e., success).\n",
      "    If the status is an integer, it will be used as the system exit status.\n",
      "    If it is another kind of object, it will be printed and the system\n",
      "    exit status will be one (i.e., failure).\n",
      "\n"
     ]
    }
   ],
   "source": [
    "help(sys.exit)"
   ]
  },
  {
   "cell_type": "code",
   "execution_count": 9,
   "metadata": {
    "collapsed": false
   },
   "outputs": [
    {
     "data": {
      "text/plain": [
       "<function len>"
      ]
     },
     "execution_count": 9,
     "metadata": {},
     "output_type": "execute_result"
    }
   ],
   "source": [
    "len"
   ]
  },
  {
   "cell_type": "code",
   "execution_count": 10,
   "metadata": {
    "collapsed": false
   },
   "outputs": [
    {
     "data": {
      "text/plain": [
       "5"
      ]
     },
     "execution_count": 10,
     "metadata": {},
     "output_type": "execute_result"
    }
   ],
   "source": [
    "# Before referring to a variable you must have defined it before\n",
    "a = 'Hello'\n",
    "len(a)"
   ]
  },
  {
   "cell_type": "code",
   "execution_count": 11,
   "metadata": {
    "collapsed": true
   },
   "outputs": [],
   "source": [
    "# Under def the next line is indentended by 2 spaces or a tab\n",
    "# this is how Python does the deiferentiation of function and \n",
    "# the code within it\n",
    "def Hello(name):\n",
    "    name = name + '!!!!'\n",
    "    print 'Hello', name"
   ]
  },
  {
   "cell_type": "code",
   "execution_count": 12,
   "metadata": {
    "collapsed": false
   },
   "outputs": [
    {
     "data": {
      "text/plain": [
       "<function __main__.Hello>"
      ]
     },
     "execution_count": 12,
     "metadata": {},
     "output_type": "execute_result"
    }
   ],
   "source": [
    "Hello"
   ]
  },
  {
   "cell_type": "code",
   "execution_count": 13,
   "metadata": {
    "collapsed": false
   },
   "outputs": [
    {
     "name": "stdout",
     "output_type": "stream",
     "text": [
      "Hello vis!!!!\n"
     ]
    }
   ],
   "source": [
    "Hello('vis')"
   ]
  },
  {
   "cell_type": "code",
   "execution_count": 14,
   "metadata": {
    "collapsed": true
   },
   "outputs": [],
   "source": [
    "# complicated Hello with a if statement\n",
    "# after if the parenthesis is not required unlike C++\n",
    "# and is and, or is or and noy is not ! but is not\n",
    "def Hello(name):\n",
    "    if name == 'Alice' or name == 'Nick':\n",
    "        print 'Alert Alice mode'\n",
    "        name = name + '$$$'\n",
    "    name = name + '!!!!'\n",
    "    print 'Hello', name"
   ]
  },
  {
   "cell_type": "code",
   "execution_count": 15,
   "metadata": {
    "collapsed": false
   },
   "outputs": [
    {
     "name": "stdout",
     "output_type": "stream",
     "text": [
      "Alert Alice mode\n",
      "Hello Alice$$$!!!!\n"
     ]
    }
   ],
   "source": [
    "# Python does the check in the last minute\n",
    "# It evaluates everything frm variables, function will be \n",
    "# checked in the last minute\n",
    "# doees not exist function\n",
    "Hello('Alice')"
   ]
  },
  {
   "cell_type": "code",
   "execution_count": 16,
   "metadata": {
    "collapsed": true
   },
   "outputs": [],
   "source": [
    "# single or double is not different but inside a single\n",
    "# there should be a double quote\n",
    "a = 'Hello'"
   ]
  },
  {
   "cell_type": "code",
   "execution_count": 17,
   "metadata": {
    "collapsed": false
   },
   "outputs": [
    {
     "data": {
      "text/plain": [
       "'Helloyay!'"
      ]
     },
     "execution_count": 17,
     "metadata": {},
     "output_type": "execute_result"
    }
   ],
   "source": [
    "# strings are immutable where the original a is still not changed\n",
    "a + 'yay!'"
   ]
  },
  {
   "cell_type": "code",
   "execution_count": 18,
   "metadata": {
    "collapsed": false
   },
   "outputs": [
    {
     "name": "stdout",
     "output_type": "stream",
     "text": [
      "hello\n",
      "1\n"
     ]
    }
   ],
   "source": [
    "# Build in String methods on a string object\n",
    "print a.lower()\n",
    "print a.find('e')"
   ]
  },
  {
   "cell_type": "code",
   "execution_count": 19,
   "metadata": {
    "collapsed": false
   },
   "outputs": [
    {
     "name": "stdout",
     "output_type": "stream",
     "text": [
      "H\n",
      "e\n",
      "o\n",
      "Slicing is as below\n",
      "ell\n",
      "Hel\n",
      "llo\n",
      "Hello\n",
      "Hel\n"
     ]
    }
   ],
   "source": [
    "#indexing of things while storing\n",
    "print a[0]\n",
    "print a[1]\n",
    "#print a[6] --> string index out of range\n",
    "print a [-1]\n",
    "print 'Slicing is as below'\n",
    "print a[1:4]\n",
    "print a[:3]\n",
    "print a[2:]\n",
    "print a[:]\n",
    "print a[:-2]"
   ]
  },
  {
   "cell_type": "code",
   "execution_count": 20,
   "metadata": {
    "collapsed": false
   },
   "outputs": [
    {
     "data": {
      "text/plain": [
       "'This is me Vishy and I am 32 old'"
      ]
     },
     "execution_count": 20,
     "metadata": {},
     "output_type": "execute_result"
    }
   ],
   "source": [
    "#usage of % construct\n",
    "'This is me %s and I am %d old' % ('Vishy', 32)"
   ]
  },
  {
   "cell_type": "code",
   "execution_count": 21,
   "metadata": {
    "collapsed": true
   },
   "outputs": [],
   "source": [
    "# -tt flag on top of the .py file\n",
    "# This will point out an error in indentation between 2 space and 1 tab"
   ]
  },
  {
   "cell_type": "code",
   "execution_count": 22,
   "metadata": {
    "collapsed": true
   },
   "outputs": [],
   "source": [
    "# Lists in Python appear in square brackets\n",
    "# Python has a grbage collector which takes care of memory management\n",
    "a = [1,2,3]"
   ]
  },
  {
   "cell_type": "code",
   "execution_count": 23,
   "metadata": {
    "collapsed": true
   },
   "outputs": [],
   "source": [
    "# elements can be heterogenous\n",
    "b = [1,4,'aa']"
   ]
  },
  {
   "cell_type": "code",
   "execution_count": 24,
   "metadata": {
    "collapsed": false
   },
   "outputs": [
    {
     "name": "stdout",
     "output_type": "stream",
     "text": [
      "3\n",
      "[1, 2, 3, 1, 4, 'aa']\n"
     ]
    }
   ],
   "source": [
    "# in Python syntax is same across all datatypes\n",
    "print len(a)\n",
    "print a + b"
   ]
  },
  {
   "cell_type": "code",
   "execution_count": 25,
   "metadata": {
    "collapsed": true
   },
   "outputs": [],
   "source": [
    "# Referring does not create a duplicate it changes the pointers\n",
    "c = a"
   ]
  },
  {
   "cell_type": "code",
   "execution_count": 26,
   "metadata": {
    "collapsed": false
   },
   "outputs": [
    {
     "data": {
      "text/plain": [
       "2"
      ]
     },
     "execution_count": 26,
     "metadata": {},
     "output_type": "execute_result"
    }
   ],
   "source": [
    "a[1]"
   ]
  },
  {
   "cell_type": "code",
   "execution_count": 27,
   "metadata": {
    "collapsed": true
   },
   "outputs": [],
   "source": [
    "# Lists are mutable and can be changes unlike lists\n",
    "a[1] = 5"
   ]
  },
  {
   "cell_type": "code",
   "execution_count": 28,
   "metadata": {
    "collapsed": false
   },
   "outputs": [
    {
     "name": "stdout",
     "output_type": "stream",
     "text": [
      "[1, 5, 3]\n",
      "[1, 5, 3]\n"
     ]
    }
   ],
   "source": [
    "print a\n",
    "print c"
   ]
  },
  {
   "cell_type": "code",
   "execution_count": 29,
   "metadata": {
    "collapsed": false
   },
   "outputs": [
    {
     "data": {
      "text/plain": [
       "True"
      ]
     },
     "execution_count": 29,
     "metadata": {},
     "output_type": "execute_result"
    }
   ],
   "source": [
    "a ==  c"
   ]
  },
  {
   "cell_type": "code",
   "execution_count": 30,
   "metadata": {
    "collapsed": false
   },
   "outputs": [
    {
     "data": {
      "text/plain": [
       "[5, 3]"
      ]
     },
     "execution_count": 30,
     "metadata": {},
     "output_type": "execute_result"
    }
   ],
   "source": [
    "a[1:3]"
   ]
  },
  {
   "cell_type": "code",
   "execution_count": 31,
   "metadata": {
    "collapsed": false
   },
   "outputs": [
    {
     "data": {
      "text/plain": [
       "[1, 5]"
      ]
     },
     "execution_count": 31,
     "metadata": {},
     "output_type": "execute_result"
    }
   ],
   "source": [
    "a[:-1]"
   ]
  },
  {
   "cell_type": "code",
   "execution_count": 32,
   "metadata": {
    "collapsed": false
   },
   "outputs": [
    {
     "name": "stdout",
     "output_type": "stream",
     "text": [
      "1\n",
      "25\n",
      "9\n"
     ]
    }
   ],
   "source": [
    "# Loop over a list, there is a built in for each loop\n",
    "# It automatically iterates over the list automatically\n",
    "# In a for loop when you are looping over a list you cannot \n",
    "# modify the list to change the lenght or structure\n",
    "for var in a:\n",
    "    print var**2"
   ]
  },
  {
   "cell_type": "code",
   "execution_count": 33,
   "metadata": {
    "collapsed": false
   },
   "outputs": [
    {
     "name": "stdout",
     "output_type": "stream",
     "text": [
      "True\n",
      "False\n"
     ]
    }
   ],
   "source": [
    "#To check the value part of things\n",
    "print (3 in a)\n",
    "print (4 in a)"
   ]
  },
  {
   "cell_type": "code",
   "execution_count": 34,
   "metadata": {
    "collapsed": false
   },
   "outputs": [
    {
     "name": "stdout",
     "output_type": "stream",
     "text": [
      "[1, 5, 3, 8]\n"
     ]
    }
   ],
   "source": [
    "#Lists also have methods like strings\n",
    "a.append(8) # this does return anything and do not write a=a.append()\n",
    "print a"
   ]
  },
  {
   "cell_type": "code",
   "execution_count": 35,
   "metadata": {
    "collapsed": false
   },
   "outputs": [
    {
     "name": "stdout",
     "output_type": "stream",
     "text": [
      "[1, 3, 8]\n"
     ]
    }
   ],
   "source": [
    "# pop is opposite and it does by position\n",
    "a.pop(1)\n",
    "print a"
   ]
  },
  {
   "cell_type": "code",
   "execution_count": 36,
   "metadata": {
    "collapsed": false
   },
   "outputs": [
    {
     "name": "stdout",
     "output_type": "stream",
     "text": [
      "[1, 3, 8]\n"
     ]
    }
   ],
   "source": [
    "#del is delte and is an operarator\n",
    "del a\n",
    "#print a --> name 'a' is not defined\n",
    "print c # but however still c is fine"
   ]
  },
  {
   "cell_type": "code",
   "execution_count": 37,
   "metadata": {
    "collapsed": false
   },
   "outputs": [
    {
     "data": {
      "text/plain": [
       "[1, 2, 4, 6]"
      ]
     },
     "execution_count": 37,
     "metadata": {},
     "output_type": "execute_result"
    }
   ],
   "source": [
    "#Sorting is an important concept in Lists\n",
    "a = [4,1,6,2]\n",
    "sorted(a)\n",
    "#sorted(iterable, cmp=None, Key=None, reverse=False)"
   ]
  },
  {
   "cell_type": "code",
   "execution_count": 38,
   "metadata": {
    "collapsed": false
   },
   "outputs": [
    {
     "data": {
      "text/plain": [
       "[6, 4, 2, 1]"
      ]
     },
     "execution_count": 38,
     "metadata": {},
     "output_type": "execute_result"
    }
   ],
   "source": [
    "sorted(a, reverse=True)"
   ]
  },
  {
   "cell_type": "code",
   "execution_count": 39,
   "metadata": {
    "collapsed": false
   },
   "outputs": [
    {
     "name": "stdout",
     "output_type": "stream",
     "text": [
      "['aaaa', 'bb', 'ccc', 'd']\n",
      "['d', 'bb', 'ccc', 'aaaa']\n"
     ]
    }
   ],
   "source": [
    "# Custom Sorting\n",
    "a = ['ccc', 'aaaa', 'd','bb']\n",
    "print sorted(a)\n",
    "\n",
    "def slength(str):\n",
    "    return len(str)\n",
    "\n",
    "print sorted(a, key=slength)"
   ]
  },
  {
   "cell_type": "code",
   "execution_count": 40,
   "metadata": {
    "collapsed": false
   },
   "outputs": [
    {
     "name": "stdout",
     "output_type": "stream",
     "text": [
      "ccc:aaaa:d:bb\n"
     ]
    }
   ],
   "source": [
    "#join of strings\n",
    "b = ':'.join(a)\n",
    "print b"
   ]
  },
  {
   "cell_type": "code",
   "execution_count": 41,
   "metadata": {
    "collapsed": false
   },
   "outputs": [
    {
     "data": {
      "text/plain": [
       "['ccc', 'aaaa', 'd', 'bb']"
      ]
     },
     "execution_count": 41,
     "metadata": {},
     "output_type": "execute_result"
    }
   ],
   "source": [
    "#opposite of join i split\n",
    "b.split(':')"
   ]
  },
  {
   "cell_type": "code",
   "execution_count": 42,
   "metadata": {
    "collapsed": false
   },
   "outputs": [
    {
     "name": "stdout",
     "output_type": "stream",
     "text": [
      "['ccc', 'aaaa', 'd', 'bb']\n"
     ]
    }
   ],
   "source": [
    "#append demo\n",
    "result = []\n",
    "for s in a: result.append(s)\n",
    "print result"
   ]
  },
  {
   "cell_type": "code",
   "execution_count": 43,
   "metadata": {
    "collapsed": false
   },
   "outputs": [
    {
     "data": {
      "text/plain": [
       "[2, 6, 10, 14, 18]"
      ]
     },
     "execution_count": 43,
     "metadata": {},
     "output_type": "execute_result"
    }
   ],
   "source": [
    "#Creates a range of values between a to b and jump n steps\n",
    "range(2,20,4)"
   ]
  },
  {
   "cell_type": "code",
   "execution_count": 44,
   "metadata": {
    "collapsed": true
   },
   "outputs": [],
   "source": [
    "# Tuples is a modest little data structure\n",
    "# Tuples is fixed size and is immutable, storing coordinates\n",
    "atup = (1,2,3)"
   ]
  },
  {
   "cell_type": "code",
   "execution_count": 45,
   "metadata": {
    "collapsed": false
   },
   "outputs": [
    {
     "name": "stdout",
     "output_type": "stream",
     "text": [
      "3\n",
      "2\n"
     ]
    }
   ],
   "source": [
    "# All fucntion again apply on the Tuple\n",
    "print len(atup)\n",
    "print atup[1]"
   ]
  },
  {
   "cell_type": "code",
   "execution_count": 46,
   "metadata": {
    "collapsed": true
   },
   "outputs": [],
   "source": [
    "a = [(1,'b'), (2,'a'), (1, 'a')]"
   ]
  },
  {
   "cell_type": "code",
   "execution_count": 47,
   "metadata": {
    "collapsed": false
   },
   "outputs": [
    {
     "data": {
      "text/plain": [
       "[(1, 'a'), (1, 'b'), (2, 'a')]"
      ]
     },
     "execution_count": 47,
     "metadata": {},
     "output_type": "execute_result"
    }
   ],
   "source": [
    "sorted(a)"
   ]
  },
  {
   "cell_type": "code",
   "execution_count": 49,
   "metadata": {
    "collapsed": false
   },
   "outputs": [
    {
     "name": "stdout",
     "output_type": "stream",
     "text": [
      "1\n",
      "2\n"
     ]
    }
   ],
   "source": [
    "(x, y) = (1, 2)\n",
    "print x\n",
    "print y"
   ]
  },
  {
   "cell_type": "code",
   "execution_count": 54,
   "metadata": {
    "collapsed": false
   },
   "outputs": [
    {
     "data": {
      "text/plain": [
       "(2, 'a')"
      ]
     },
     "execution_count": 54,
     "metadata": {},
     "output_type": "execute_result"
    }
   ],
   "source": [
    "a[1]"
   ]
  },
  {
   "cell_type": "code",
   "execution_count": 61,
   "metadata": {
    "collapsed": false
   },
   "outputs": [
    {
     "name": "stdout",
     "output_type": "stream",
     "text": [
      "{'a': 'alpha', 'g': 'gamma', 'o': 'omega'}\n"
     ]
    }
   ],
   "source": [
    "# Dictionary Data Structure storesvalue for every key and it is very\n",
    "# fast in retrieving the values. Dictionary is a key value binding\n",
    "d = {}\n",
    "d['a'] = 'alpha'\n",
    "d['o'] = 'omega'\n",
    "d['g'] = 'gamma'\n",
    "print d"
   ]
  },
  {
   "cell_type": "code",
   "execution_count": 62,
   "metadata": {
    "collapsed": false
   },
   "outputs": [
    {
     "name": "stdout",
     "output_type": "stream",
     "text": [
      "alpha\n",
      "omega\n",
      "None\n"
     ]
    }
   ],
   "source": [
    "# Retrieving the values from Dictionary\n",
    "print d['a']\n",
    "print d.get('o')\n",
    "print d.get('b')"
   ]
  },
  {
   "cell_type": "code",
   "execution_count": 64,
   "metadata": {
    "collapsed": false
   },
   "outputs": [
    {
     "name": "stdout",
     "output_type": "stream",
     "text": [
      "True\n",
      "False\n"
     ]
    }
   ],
   "source": [
    "# Checking if the value is in the Dictionary\n",
    "print 'a' in d\n",
    "print 'x' in d"
   ]
  },
  {
   "cell_type": "code",
   "execution_count": 65,
   "metadata": {
    "collapsed": false
   },
   "outputs": [
    {
     "data": {
      "text/plain": [
       "['a', 'g', 'o']"
      ]
     },
     "execution_count": 65,
     "metadata": {},
     "output_type": "execute_result"
    }
   ],
   "source": [
    "# To check the list of all Keys\n",
    "d.keys()"
   ]
  },
  {
   "cell_type": "code",
   "execution_count": 66,
   "metadata": {
    "collapsed": false
   },
   "outputs": [
    {
     "data": {
      "text/plain": [
       "['alpha', 'gamma', 'omega']"
      ]
     },
     "execution_count": 66,
     "metadata": {},
     "output_type": "execute_result"
    }
   ],
   "source": [
    "# To check the list of all Keys\n",
    "d.values()"
   ]
  },
  {
   "cell_type": "code",
   "execution_count": null,
   "metadata": {
    "collapsed": true
   },
   "outputs": [],
   "source": [
    "# Print both the keys and values by iterating through the items\n",
    "for k in sorted(d.keys()):\n",
    "    print 'key:', k, '->', d[k]"
   ]
  },
  {
   "cell_type": "code",
   "execution_count": 70,
   "metadata": {
    "collapsed": false
   },
   "outputs": [
    {
     "data": {
      "text/plain": [
       "[('a', 'alpha'), ('g', 'gamma'), ('o', 'omega')]"
      ]
     },
     "execution_count": 70,
     "metadata": {},
     "output_type": "execute_result"
    }
   ],
   "source": [
    "#Return the Dictionaty values as a tuple of length 2\n",
    "d.items()"
   ]
  },
  {
   "cell_type": "code",
   "execution_count": 71,
   "metadata": {
    "collapsed": false
   },
   "outputs": [
    {
     "name": "stdout",
     "output_type": "stream",
     "text": [
      "('a', 'alpha')\n",
      "('g', 'gamma')\n",
      "('o', 'omega')\n"
     ]
    }
   ],
   "source": [
    "# using the Tuple characteristic and extract all Dictionary items\n",
    "for tuple in d.items(): print tuple"
   ]
  },
  {
   "cell_type": "code",
   "execution_count": 76,
   "metadata": {
    "collapsed": true
   },
   "outputs": [],
   "source": [
    "# File operations, demonstrating unix cat(print)\n",
    "# While handling files we should remember to have good variable \n",
    "# names and keep track of the varaible name\n",
    "def cat(filename):\n",
    "    f = open(filename, 'rU')\n",
    "    for line in f:\n",
    "        print line,\n",
    "    f.close()"
   ]
  },
  {
   "cell_type": "code",
   "execution_count": 73,
   "metadata": {
    "collapsed": false
   },
   "outputs": [
    {
     "data": {
      "text/plain": [
       "<function __main__.cat>"
      ]
     },
     "execution_count": 73,
     "metadata": {},
     "output_type": "execute_result"
    }
   ],
   "source": [
    "cat"
   ]
  },
  {
   "cell_type": "code",
   "execution_count": 78,
   "metadata": {
    "collapsed": false
   },
   "outputs": [
    {
     "name": "stdout",
     "output_type": "stream",
     "text": [
      "We are not what we should be\n",
      "We are not what we need to be\n",
      "But at least we are not what we used to be\n",
      "-- Football Coach\n"
     ]
    }
   ],
   "source": [
    "cat(\"small.txt\")"
   ]
  },
  {
   "cell_type": "code",
   "execution_count": null,
   "metadata": {
    "collapsed": true
   },
   "outputs": [],
   "source": [
    "#demo of read lines, saves the entire file in memory (memory issues)\n",
    "def cat(filename):\n",
    "    f = open(filename, 'rU')\n",
    "    lines = f.readlines()\n",
    "    print lines\n",
    "    f.close()"
   ]
  },
  {
   "cell_type": "code",
   "execution_count": 79,
   "metadata": {
    "collapsed": false
   },
   "outputs": [
    {
     "name": "stdout",
     "output_type": "stream",
     "text": [
      "We are not what we should be\n",
      "We are not what we need to be\n",
      "But at least we are not what we used to be\n",
      "-- Football Coach\n"
     ]
    }
   ],
   "source": [
    "cat('small.txt')"
   ]
  },
  {
   "cell_type": "code",
   "execution_count": 80,
   "metadata": {
    "collapsed": true
   },
   "outputs": [],
   "source": [
    "#demo of read and read entire file as a string\n",
    "def cat(filename):\n",
    "    f = open(filename, 'rU')\n",
    "    text = f.read() \n",
    "    print text\n",
    "    f.close()"
   ]
  },
  {
   "cell_type": "code",
   "execution_count": 81,
   "metadata": {
    "collapsed": false
   },
   "outputs": [
    {
     "name": "stdout",
     "output_type": "stream",
     "text": [
      "We are not what we should be\n",
      "We are not what we need to be\n",
      "But at least we are not what we used to be\n",
      "-- Football Coach\n"
     ]
    }
   ],
   "source": [
    "cat('small.txt')"
   ]
  },
  {
   "cell_type": "code",
   "execution_count": 85,
   "metadata": {
    "collapsed": false
   },
   "outputs": [
    {
     "name": "stdout",
     "output_type": "stream",
     "text": [
      "donuts\n",
      " OK  got: 'Number of donuts: 4' expected: 'Number of donuts: 4'\n",
      " OK  got: 'Number of donuts: 9' expected: 'Number of donuts: 9'\n",
      " OK  got: 'Number of donuts: many' expected: 'Number of donuts: many'\n",
      " OK  got: 'Number of donuts: many' expected: 'Number of donuts: many'\n",
      "\n",
      "both_ends\n",
      " OK  got: 'spng' expected: 'spng'\n",
      " OK  got: 'Helo' expected: 'Helo'\n",
      " OK  got: '' expected: ''\n",
      " OK  got: 'xyyz' expected: 'xyyz'\n",
      "\n",
      "fix_start\n",
      " OK  got: 'ba**le' expected: 'ba**le'\n",
      " OK  got: 'a*rdv*rk' expected: 'a*rdv*rk'\n",
      " OK  got: 'goo*le' expected: 'goo*le'\n",
      " OK  got: 'donut' expected: 'donut'\n",
      "\n",
      "mix_up\n",
      " OK  got: 'pox mid' expected: 'pox mid'\n",
      " OK  got: 'dig donner' expected: 'dig donner'\n",
      " OK  got: 'spash gnort' expected: 'spash gnort'\n",
      " OK  got: 'fizzy perm' expected: 'fizzy perm'\n"
     ]
    }
   ],
   "source": [
    "#Excercise on Strings1\n",
    "\n",
    "# A. donuts\n",
    "# Given an int count of a number of donuts, return a string\n",
    "# of the form 'Number of donuts: <count>', where <count> is the number\n",
    "# passed in. However, if the count is 10 or more, then use the word 'many'\n",
    "# instead of the actual count.\n",
    "# So donuts(5) returns 'Number of donuts: 5'\n",
    "# and donuts(23) returns 'Number of donuts: many'\n",
    "def donuts(count):\n",
    "    if count > 9:\n",
    "        return 'Number of donuts: many'\n",
    "    else:\n",
    "        return 'Number of donuts: '+str(count)\n",
    "\n",
    "# B. both_ends\n",
    "# Given a string s, return a string made of the first 2\n",
    "# and the last 2 chars of the original string,\n",
    "# so 'spring' yields 'spng'. However, if the string length\n",
    "# is less than 2, return instead the empty string.\n",
    "def both_ends(s):\n",
    "    if len(s) > 2:\n",
    "        return s[:2]+s[-2:]\n",
    "    else:\n",
    "        return ''\n",
    "\n",
    "# C. fix_start\n",
    "# Given a string s, return a string\n",
    "# where all occurences of its first char have\n",
    "# been changed to '*', except do not change\n",
    "# the first char itself.\n",
    "# e.g. 'babble' yields 'ba**le'\n",
    "# Assume that the string is length 1 or more.\n",
    "# Hint: s.replace(stra, strb) returns a version of string s\n",
    "# where all instances of stra have been replaced by strb.\n",
    "def fix_start(s):\n",
    "    stra = s[0]\n",
    "    strb = s[1:]\n",
    "    new = stra+strb.replace(stra, '*')\n",
    "    return new\n",
    "\n",
    "# D. MixUp\n",
    "# Given strings a and b, return a single string with a and b separated\n",
    "# by a space '<a> <b>', except swap the first 2 chars of each string.\n",
    "# e.g.\n",
    "#   'mix', pod' -> 'pox mid'\n",
    "#   'dog', 'dinner' -> 'dig donner'\n",
    "# Assume a and b are length 2 or more.\n",
    "def mix_up(a, b):\n",
    "    c = a[:2]\n",
    "    d = b[:2]\n",
    "    na = d+a[2:]\n",
    "    nb = c+b[2:]\n",
    "    return na+\" \"+nb\n",
    "\n",
    "# Provided simple test() function used in main() to print\n",
    "# what each function returns vs. what it's supposed to return.\n",
    "def test(got, expected):\n",
    "  if got == expected:\n",
    "    prefix = ' OK '\n",
    "  else:\n",
    "    prefix = '  X '\n",
    "  print '%s got: %s expected: %s' % (prefix, repr(got), repr(expected))\n",
    "\n",
    "def main():\n",
    "  print 'donuts'\n",
    "  # Each line calls donuts, compares its result to the expected for that call.\n",
    "  test(donuts(4), 'Number of donuts: 4')\n",
    "  test(donuts(9), 'Number of donuts: 9')\n",
    "  test(donuts(11), 'Number of donuts: many')\n",
    "  test(donuts(12), 'Number of donuts: many')\n",
    "\n",
    "  print\n",
    "  print 'both_ends'\n",
    "  test(both_ends('spring'), 'spng')\n",
    "  test(both_ends('Hello'), 'Helo')\n",
    "  test(both_ends('a'), '')\n",
    "  test(both_ends('xyz'), 'xyyz')\n",
    "\n",
    "  \n",
    "  print\n",
    "  print 'fix_start'\n",
    "  test(fix_start('babble'), 'ba**le')\n",
    "  test(fix_start('aardvark'), 'a*rdv*rk')\n",
    "  test(fix_start('google'), 'goo*le')\n",
    "  test(fix_start('donut'), 'donut')\n",
    "\n",
    "  print\n",
    "  print 'mix_up'\n",
    "  test(mix_up('mix', 'pod'), 'pox mid')\n",
    "  test(mix_up('dog', 'dinner'), 'dig donner')\n",
    "  test(mix_up('gnash', 'sport'), 'spash gnort')\n",
    "  test(mix_up('pezzy', 'firm'), 'fizzy perm')\n",
    "\n",
    "\n",
    "# Standard boilerplate to call the main() function.\n",
    "if __name__ == '__main__':\n",
    "  main()"
   ]
  },
  {
   "cell_type": "code",
   "execution_count": 96,
   "metadata": {
    "collapsed": false
   },
   "outputs": [
    {
     "name": "stdout",
     "output_type": "stream",
     "text": [
      "verbing\n",
      " OK  got: 'hailing' expected: 'hailing'\n",
      " OK  got: 'swimingly' expected: 'swimingly'\n",
      " OK  got: 'do' expected: 'do'\n",
      "\n",
      "not_bad\n",
      " OK  got: 'This movie is good' expected: 'This movie is good'\n",
      " OK  got: 'Good dinner!' expected: 'Good dinner!'\n",
      " OK  got: 'This tea is not hot' expected: 'This tea is not hot'\n",
      " OK  got: \"It's bad yet not\" expected: \"It's bad yet not\"\n",
      "\n",
      "front_back\n",
      " OK  got: 'abxcdy' expected: 'abxcdy'\n",
      " OK  got: 'abcxydez' expected: 'abcxydez'\n",
      " OK  got: 'KitDontenut' expected: 'KitDontenut'\n"
     ]
    }
   ],
   "source": [
    "#Excercise on Strings2\n",
    "\n",
    "# D. verbing\n",
    "# Given a string, if its length is at least 3,\n",
    "# add 'ing' to its end.\n",
    "# Unless it already ends in 'ing', in which case\n",
    "# add 'ly' instead.\n",
    "# If the string length is less than 3, leave it unchanged.\n",
    "# Return the resulting string.\n",
    "def verbing(s):\n",
    "    if len(s) > 3:\n",
    "        if s[-3:] == 'ing':\n",
    "            return s+'ly'\n",
    "        else:\n",
    "            return s+'ing'\n",
    "    else:\n",
    "        return s\n",
    "\n",
    "# E. not_bad\n",
    "# Given a string, find the first appearance of the\n",
    "# substring 'not' and 'bad'. If the 'bad' follows\n",
    "# the 'not', replace the whole 'not'...'bad' substring\n",
    "# with 'good'.\n",
    "# Return the resulting string.\n",
    "# So 'This dinner is not that bad!' yields:\n",
    "# This dinner is good!\n",
    "def not_bad(s):\n",
    "    not_pos = s.find('not')\n",
    "    bad_pos = s.find('bad')\n",
    "    if bad_pos > not_pos:\n",
    "        if not_pos == -1:\n",
    "            return 'Good'+ s[(bad_pos+3):]\n",
    "        else:\n",
    "            return s[:not_pos] + 'good' + s[(bad_pos+3):]\n",
    "    else:\n",
    "        return s\n",
    "\n",
    "# F. front_back\n",
    "# Consider dividing a string into two halves.\n",
    "# If the length is even, the front and back halves are the same length.\n",
    "# If the length is odd, we'll say that the extra char goes in the front half.\n",
    "# e.g. 'abcde', the front half is 'abc', the back half 'de'.\n",
    "# Given 2 strings, a and b, return a string of the form\n",
    "#  a-front + b-front + a-back + b-back\n",
    "def front_back(a, b):\n",
    "    a_mid = len(a)/2\n",
    "    b_mid = len(b)/2\n",
    "    if len(a) % 2 == 1:\n",
    "        a_mid = a_mid+1\n",
    "    if len(b) % 2 == 1:\n",
    "        b_mid = b_mid+1\n",
    "    new = a[:a_mid]+b[:b_mid]+a[a_mid:]+b[b_mid:]\n",
    "    return new\n",
    "\n",
    "# Simple provided test() function used in main() to print\n",
    "# what each function returns vs. what it's supposed to return.\n",
    "def test(got, expected):\n",
    "  if got == expected:\n",
    "    prefix = ' OK '\n",
    "  else:\n",
    "    prefix = '  X '\n",
    "  print '%s got: %s expected: %s' % (prefix, repr(got), repr(expected))\n",
    "\n",
    "\n",
    "# main() calls the above functions with interesting inputs,\n",
    "# using the above test() to check if the result is correct or not.\n",
    "def main():\n",
    "  print 'verbing'\n",
    "  test(verbing('hail'), 'hailing')\n",
    "  test(verbing('swiming'), 'swimingly')\n",
    "  test(verbing('do'), 'do')\n",
    "\n",
    "  print\n",
    "  print 'not_bad'\n",
    "  test(not_bad('This movie is not so bad'), 'This movie is good')\n",
    "  test(not_bad('Not a bad dinner!'), 'Good dinner!')\n",
    "  test(not_bad('This tea is not hot'), 'This tea is not hot')\n",
    "  test(not_bad(\"It's bad yet not\"), \"It's bad yet not\")\n",
    "\n",
    "  print\n",
    "  print 'front_back'\n",
    "  test(front_back('abcd', 'xy'), 'abxcdy')\n",
    "  test(front_back('abcde', 'xyz'), 'abcxydez')\n",
    "  test(front_back('Kitten', 'Donut'), 'KitDontenut')\n",
    "\n",
    "if __name__ == '__main__':\n",
    "  main()"
   ]
  },
  {
   "cell_type": "code",
   "execution_count": 105,
   "metadata": {
    "collapsed": false
   },
   "outputs": [
    {
     "name": "stdout",
     "output_type": "stream",
     "text": [
      "match_ends\n",
      " OK  got: 3 expected: 3\n",
      " OK  got: 2 expected: 2\n",
      " OK  got: 1 expected: 1\n",
      "\n",
      "front_x\n",
      " OK  got: ['xaa', 'xzz', 'axx', 'bbb', 'ccc'] expected: ['xaa', 'xzz', 'axx', 'bbb', 'ccc']\n",
      " OK  got: ['xaa', 'xcc', 'aaa', 'bbb', 'ccc'] expected: ['xaa', 'xcc', 'aaa', 'bbb', 'ccc']\n",
      " OK  got: ['xanadu', 'xyz', 'aardvark', 'apple', 'mix'] expected: ['xanadu', 'xyz', 'aardvark', 'apple', 'mix']\n",
      "\n",
      "sort_last\n",
      " OK  got: [(2, 1), (3, 2), (1, 3)] expected: [(2, 1), (3, 2), (1, 3)]\n",
      " OK  got: [(3, 1), (1, 2), (2, 3)] expected: [(3, 1), (1, 2), (2, 3)]\n",
      " OK  got: [(2, 2), (1, 3), (3, 4, 5), (1, 7)] expected: [(2, 2), (1, 3), (3, 4, 5), (1, 7)]\n"
     ]
    }
   ],
   "source": [
    "# A. match_ends\n",
    "# Given a list of strings, return the count of the number of\n",
    "# strings where the string length is 2 or more and the first\n",
    "# and last chars of the string are the same.\n",
    "# Note: python does not have a ++ operator, but += works.\n",
    "def match_ends(words):\n",
    "    count = 0\n",
    "    for word in words:\n",
    "        if len(word) >= 2 and word[0] == word[-1]:\n",
    "            count = count + 1\n",
    "    return count\n",
    "    \n",
    "    \n",
    "# B. front_x\n",
    "# Given a list of strings, return a list with the strings\n",
    "# in sorted order, except group all the strings that begin with 'x' first.\n",
    "# e.g. ['mix', 'xyz', 'apple', 'xanadu', 'aardvark'] yields\n",
    "# ['xanadu', 'xyz', 'aardvark', 'apple', 'mix']\n",
    "# Hint: this can be done by making 2 lists and sorting each of them\n",
    "# before combining them.\n",
    "def front_x(words):\n",
    "    x_list =[]\n",
    "    o_list =[]\n",
    "    for word in words:\n",
    "        if word[0] == 'x':\n",
    "            x_list.append(word)\n",
    "        else:\n",
    "            o_list.append(word)\n",
    "    return sorted(x_list) + sorted(o_list)\n",
    "    \n",
    "\n",
    "# C. sort_last\n",
    "# Given a list of non-empty tuples, return a list sorted in increasing\n",
    "# order by the last element in each tuple.\n",
    "# e.g. [(1, 7), (1, 3), (3, 4, 5), (2, 2)] yields\n",
    "# [(2, 2), (1, 3), (3, 4, 5), (1, 7)]\n",
    "# Hint: use a custom key= function to extract the last element form each tuple.\n",
    "def ilast(tup):\n",
    "    return tup[-1]\n",
    "\n",
    "def sort_last(a):\n",
    "    return sorted(a, key=ilast, reverse=False)\n",
    "\n",
    "\n",
    "# Simple provided test() function used in main() to print\n",
    "# what each function returns vs. what it's supposed to return.\n",
    "def test(got, expected):\n",
    "  if got == expected:\n",
    "    prefix = ' OK '\n",
    "  else:\n",
    "    prefix = '  X '\n",
    "  print '%s got: %s expected: %s' % (prefix, repr(got), repr(expected))\n",
    "\n",
    "# Calls the above functions with interesting inputs.\n",
    "def main():\n",
    "  print 'match_ends'\n",
    "  test(match_ends(['aba', 'xyz', 'aa', 'x', 'bbb']), 3)\n",
    "  test(match_ends(['', 'x', 'xy', 'xyx', 'xx']), 2)\n",
    "  test(match_ends(['be', 'abc', 'hello', 'aaa']), 1)\n",
    "\n",
    "  print\n",
    "  print 'front_x'\n",
    "  test(front_x(['bbb', 'ccc', 'axx', 'xzz', 'xaa']),\n",
    "       ['xaa', 'xzz', 'axx', 'bbb', 'ccc'])\n",
    "  test(front_x(['ccc', 'bbb', 'aaa', 'xcc', 'xaa']),\n",
    "       ['xaa', 'xcc', 'aaa', 'bbb', 'ccc'])\n",
    "  test(front_x(['mix', 'xyz', 'apple', 'xanadu', 'aardvark']),\n",
    "       ['xanadu', 'xyz', 'aardvark', 'apple', 'mix'])\n",
    "\n",
    "       \n",
    "  print\n",
    "  print 'sort_last'\n",
    "  test(sort_last([(1, 3), (3, 2), (2, 1)]),\n",
    "       [(2, 1), (3, 2), (1, 3)])\n",
    "  test(sort_last([(2, 3), (1, 2), (3, 1)]),\n",
    "       [(3, 1), (1, 2), (2, 3)])\n",
    "  test(sort_last([(1, 7), (1, 3), (3, 4, 5), (2, 2)]),\n",
    "       [(2, 2), (1, 3), (3, 4, 5), (1, 7)])\n",
    "\n",
    "\n",
    "if __name__ == '__main__':\n",
    "  main()"
   ]
  },
  {
   "cell_type": "code",
   "execution_count": 108,
   "metadata": {
    "collapsed": false
   },
   "outputs": [
    {
     "name": "stdout",
     "output_type": "stream",
     "text": [
      "remove_adjacent\n",
      " OK  got: [1, 2, 3] expected: [1, 2, 3]\n",
      " OK  got: [2, 3] expected: [2, 3]\n",
      " OK  got: [] expected: []\n",
      "\n",
      "linear_merge\n",
      " OK  got: ['aa', 'bb', 'cc', 'xx', 'zz'] expected: ['aa', 'bb', 'cc', 'xx', 'zz']\n",
      " OK  got: ['aa', 'bb', 'cc', 'xx', 'zz'] expected: ['aa', 'bb', 'cc', 'xx', 'zz']\n",
      " OK  got: ['aa', 'aa', 'aa', 'bb', 'bb'] expected: ['aa', 'aa', 'aa', 'bb', 'bb']\n"
     ]
    }
   ],
   "source": [
    "# D. Given a list of numbers, return a list where\n",
    "# all adjacent == elements have been reduced to a single element,\n",
    "# so [1, 2, 2, 3] returns [1, 2, 3]. You may create a new list or\n",
    "# modify the passed in list.\n",
    "def remove_adjacent(nums):\n",
    "    new = []\n",
    "    for num in nums:\n",
    "        if len(new) == 0 or num != new[-1]:\n",
    "            new.append(num)\n",
    "    return new        \n",
    "\n",
    "# E. Given two lists sorted in increasing order, create and return a merged\n",
    "# list of all the elements in sorted order. You may modify the passed in lists.\n",
    "# Ideally, the solution should work in \"linear\" time, making a single\n",
    "# pass of both lists.\n",
    "def linear_merge(list1, list2):\n",
    "    c= []\n",
    "    while len(list1) and len(list2):\n",
    "        if list1[0] < list2[0]:\n",
    "            c.append(list1.pop(0))\n",
    "        else:\n",
    "            c.append(list2.pop(0))\n",
    "    c.extend(list1)\n",
    "    c.extend(list2)\n",
    "    return c\n",
    "\n",
    "# Simple provided test() function used in main() to print\n",
    "# what each function returns vs. what it's supposed to return.\n",
    "def test(got, expected):\n",
    "  if got == expected:\n",
    "    prefix = ' OK '\n",
    "  else:\n",
    "    prefix = '  X '\n",
    "  print '%s got: %s expected: %s' % (prefix, repr(got), repr(expected))\n",
    "\n",
    "\n",
    "# Calls the above functions with interesting inputs.\n",
    "def main():\n",
    "  print 'remove_adjacent'\n",
    "  test(remove_adjacent([1, 2, 2, 3]), [1, 2, 3])\n",
    "  test(remove_adjacent([2, 2, 3, 3, 3]), [2, 3])\n",
    "  test(remove_adjacent([]), [])\n",
    "\n",
    "  print\n",
    "  print 'linear_merge'\n",
    "  test(linear_merge(['aa', 'xx', 'zz'], ['bb', 'cc']),\n",
    "       ['aa', 'bb', 'cc', 'xx', 'zz'])\n",
    "  test(linear_merge(['aa', 'xx'], ['bb', 'cc', 'zz']),\n",
    "       ['aa', 'bb', 'cc', 'xx', 'zz'])\n",
    "  test(linear_merge(['aa', 'aa'], ['aa', 'bb', 'bb']),\n",
    "       ['aa', 'aa', 'aa', 'bb', 'bb'])\n",
    "\n",
    "\n",
    "if __name__ == '__main__':\n",
    "  main()"
   ]
  },
  {
   "cell_type": "markdown",
   "metadata": {
    "collapsed": true
   },
   "source": [
    "# Regular Expressions"
   ]
  },
  {
   "cell_type": "code",
   "execution_count": 1,
   "metadata": {
    "collapsed": true
   },
   "outputs": [],
   "source": [
    "# Regular Expression are the most dense language and it is very powerful\n",
    "# tool for searching pattern inside the large text\n",
    "import sys\n",
    "import re"
   ]
  },
  {
   "cell_type": "code",
   "execution_count": 2,
   "metadata": {
    "collapsed": false
   },
   "outputs": [
    {
     "data": {
      "text/plain": [
       "<_sre.SRE_Match at 0x10449f578>"
      ]
     },
     "execution_count": 2,
     "metadata": {},
     "output_type": "execute_result"
    }
   ],
   "source": [
    "# match is the regular expression typical variable\n",
    "match = re.search ('iig', 'called piiig')\n",
    "match"
   ]
  },
  {
   "cell_type": "code",
   "execution_count": 3,
   "metadata": {
    "collapsed": false
   },
   "outputs": [
    {
     "data": {
      "text/plain": [
       "'iig'"
      ]
     },
     "execution_count": 3,
     "metadata": {},
     "output_type": "execute_result"
    }
   ],
   "source": [
    "# .group has numerous properties of the regular expression \n",
    "# search that was conducted now\n",
    "match.group()"
   ]
  },
  {
   "cell_type": "code",
   "execution_count": 4,
   "metadata": {
    "collapsed": true
   },
   "outputs": [],
   "source": [
    "match = re.search ('iigs', 'called piiig')\n",
    "match\n",
    "#match.group will throw an error if the match failed"
   ]
  },
  {
   "cell_type": "code",
   "execution_count": 5,
   "metadata": {
    "collapsed": true
   },
   "outputs": [],
   "source": [
    "# function to search and find a pattern\n",
    "def find(pat, text):\n",
    "    match = re.search(pat, text)\n",
    "    if match:\n",
    "        print match.group()\n",
    "    else:\n",
    "        print 'not found'"
   ]
  },
  {
   "cell_type": "code",
   "execution_count": 6,
   "metadata": {
    "collapsed": false
   },
   "outputs": [
    {
     "name": "stdout",
     "output_type": "stream",
     "text": [
      "iig\n"
     ]
    }
   ],
   "source": [
    "#calling the fucntion the search is going to left to right\n",
    "find('iig', 'called piiig')"
   ]
  },
  {
   "cell_type": "code",
   "execution_count": 7,
   "metadata": {
    "collapsed": false
   },
   "outputs": [
    {
     "name": "stdout",
     "output_type": "stream",
     "text": [
      "iiig\n"
     ]
    }
   ],
   "source": [
    "# Regular expression rules\n",
    "# .(dot) is any character\n",
    "# \\w word char\n",
    "# \\d digit\n",
    "# \\s whitespace\n",
    "# + means 1 or more\n",
    "# * means 0 or more\n",
    "find('...g', 'called piiig')"
   ]
  },
  {
   "cell_type": "code",
   "execution_count": 8,
   "metadata": {
    "collapsed": false
   },
   "outputs": [
    {
     "name": "stdout",
     "output_type": "stream",
     "text": [
      "not found\n"
     ]
    }
   ],
   "source": [
    "find('x..g', 'called piiig')"
   ]
  },
  {
   "cell_type": "code",
   "execution_count": 9,
   "metadata": {
    "collapsed": false
   },
   "outputs": [
    {
     "name": "stdout",
     "output_type": "stream",
     "text": [
      "iig\n"
     ]
    }
   ],
   "source": [
    "# once it finds the solution it will then stop\n",
    "find('..g', 'called piiig better: xygs')"
   ]
  },
  {
   "cell_type": "code",
   "execution_count": 10,
   "metadata": {
    "collapsed": false
   },
   "outputs": [
    {
     "name": "stdout",
     "output_type": "stream",
     "text": [
      "xygs\n"
     ]
    }
   ],
   "source": [
    "find('..gs', 'called piiig better: xygs')"
   ]
  },
  {
   "cell_type": "code",
   "execution_count": 11,
   "metadata": {
    "collapsed": false
   },
   "outputs": [
    {
     "name": "stdout",
     "output_type": "stream",
     "text": [
      "c.l\n"
     ]
    }
   ],
   "source": [
    "# r stands for raw string, it says do not any special processing \n",
    "# It fress us from thinking about backslash processing\n",
    "find(r'c\\.l', 'c.lled piiig')"
   ]
  },
  {
   "cell_type": "code",
   "execution_count": 12,
   "metadata": {
    "collapsed": false
   },
   "outputs": [
    {
     "name": "stdout",
     "output_type": "stream",
     "text": [
      ":ca_t\n"
     ]
    }
   ],
   "source": [
    "# \\w stands for searching word character and includes the _(underscore)\n",
    "# The difference between the \\w and . is that \\w looks for a to z, \n",
    "# 0 to 9 and _ where as the . looks for any character\n",
    "find(r':\\w\\w\\w\\w', 'blah:ca_t blah blah')"
   ]
  },
  {
   "cell_type": "code",
   "execution_count": 13,
   "metadata": {
    "collapsed": false
   },
   "outputs": [
    {
     "name": "stdout",
     "output_type": "stream",
     "text": [
      ":ca_9tt\n"
     ]
    }
   ],
   "source": [
    "find(r':\\w\\w\\w\\w\\w\\w', 'blah:ca_9tt blah blah')"
   ]
  },
  {
   "cell_type": "code",
   "execution_count": 14,
   "metadata": {
    "collapsed": false
   },
   "outputs": [
    {
     "name": "stdout",
     "output_type": "stream",
     "text": [
      "123\n"
     ]
    }
   ],
   "source": [
    "find(r'\\d\\d\\d', 'blah: 123xxx')"
   ]
  },
  {
   "cell_type": "code",
   "execution_count": 15,
   "metadata": {
    "collapsed": false
   },
   "outputs": [
    {
     "name": "stdout",
     "output_type": "stream",
     "text": [
      "1 2 3\n"
     ]
    }
   ],
   "source": [
    "find(r'\\d\\s\\d\\s\\d', '1 2 3')"
   ]
  },
  {
   "cell_type": "code",
   "execution_count": 16,
   "metadata": {
    "collapsed": false
   },
   "outputs": [
    {
     "name": "stdout",
     "output_type": "stream",
     "text": [
      "1   2   3\n"
     ]
    }
   ],
   "source": [
    "find(r'\\d\\s+\\d\\s+\\d', '1   2   3')"
   ]
  },
  {
   "cell_type": "code",
   "execution_count": 17,
   "metadata": {
    "collapsed": false
   },
   "outputs": [
    {
     "name": "stdout",
     "output_type": "stream",
     "text": [
      ":kitten\n"
     ]
    }
   ],
   "source": [
    "find(r':\\w+', 'blah blah :kitten blah blah')"
   ]
  },
  {
   "cell_type": "code",
   "execution_count": 18,
   "metadata": {
    "collapsed": false
   },
   "outputs": [
    {
     "name": "stdout",
     "output_type": "stream",
     "text": [
      ":kitten123\n"
     ]
    }
   ],
   "source": [
    "find(r':\\w+', 'blah blah :kitten123& blah blah')"
   ]
  },
  {
   "cell_type": "code",
   "execution_count": 19,
   "metadata": {
    "collapsed": false
   },
   "outputs": [
    {
     "name": "stdout",
     "output_type": "stream",
     "text": [
      ":kitten123& blah blah\n"
     ]
    }
   ],
   "source": [
    "find(r':.+', 'blah blah :kitten123& blah blah')"
   ]
  },
  {
   "cell_type": "code",
   "execution_count": 20,
   "metadata": {
    "collapsed": false
   },
   "outputs": [
    {
     "name": "stdout",
     "output_type": "stream",
     "text": [
      ":kitten123123\n"
     ]
    }
   ],
   "source": [
    "find(r':\\w+', 'blah blah :kitten123123& blah blah')"
   ]
  },
  {
   "cell_type": "code",
   "execution_count": 21,
   "metadata": {
    "collapsed": false
   },
   "outputs": [
    {
     "name": "stdout",
     "output_type": "stream",
     "text": [
      ":kitten123123&a=12&yaata\n"
     ]
    }
   ],
   "source": [
    "find(r':\\S+', 'blah blah :kitten123123&a=12&yaata blah blah')"
   ]
  },
  {
   "cell_type": "code",
   "execution_count": 22,
   "metadata": {
    "collapsed": false
   },
   "outputs": [
    {
     "name": "stdout",
     "output_type": "stream",
     "text": [
      "r@g\n"
     ]
    }
   ],
   "source": [
    "find(r'\\S@\\S', 'blah vis.r@gmail.com yatta @foo')"
   ]
  },
  {
   "cell_type": "code",
   "execution_count": 23,
   "metadata": {
    "collapsed": false
   },
   "outputs": [
    {
     "name": "stdout",
     "output_type": "stream",
     "text": [
      "vis.r@gmail.com\n"
     ]
    }
   ],
   "source": [
    "find(r'\\S+@\\S+', 'blah vis.r@gmail.com yatta @foo')"
   ]
  },
  {
   "cell_type": "code",
   "execution_count": 24,
   "metadata": {
    "collapsed": false
   },
   "outputs": [
    {
     "name": "stdout",
     "output_type": "stream",
     "text": [
      "r@gmail\n"
     ]
    }
   ],
   "source": [
    "find(r'\\w+@\\w+', 'blah vis.r@gmail.com yatta @foo')"
   ]
  },
  {
   "cell_type": "code",
   "execution_count": 25,
   "metadata": {
    "collapsed": false
   },
   "outputs": [
    {
     "name": "stdout",
     "output_type": "stream",
     "text": [
      "vis.r@gmail\n"
     ]
    }
   ],
   "source": [
    "# [] is used to donate a set of characters\n",
    "find(r'[\\w.]+@[\\w]+', 'blah vis.r@gmail.com yatta @foo')"
   ]
  },
  {
   "cell_type": "code",
   "execution_count": 26,
   "metadata": {
    "collapsed": false
   },
   "outputs": [
    {
     "name": "stdout",
     "output_type": "stream",
     "text": [
      "vis.r@gmail\n"
     ]
    }
   ],
   "source": [
    "# First cannot be a .\n",
    "find(r'\\w[\\w.]+@\\w+', 'blah .vis.r@gmail.com yatta @foo')"
   ]
  },
  {
   "cell_type": "code",
   "execution_count": 27,
   "metadata": {
    "collapsed": true
   },
   "outputs": [],
   "source": [
    "# Putting the parenthesis will indicate that these are the parts \n",
    "# that we care about\n",
    "# we are going to extract the username and the domain seperately\n",
    "m = re.search(r'([\\w.]+)@([\\w.]+)', 'blah vis.r@gmail.com yatta @foo')"
   ]
  },
  {
   "cell_type": "code",
   "execution_count": 28,
   "metadata": {
    "collapsed": false
   },
   "outputs": [
    {
     "data": {
      "text/plain": [
       "<_sre.SRE_Match at 0x1044774f8>"
      ]
     },
     "execution_count": 28,
     "metadata": {},
     "output_type": "execute_result"
    }
   ],
   "source": [
    "m"
   ]
  },
  {
   "cell_type": "code",
   "execution_count": 29,
   "metadata": {
    "collapsed": false
   },
   "outputs": [
    {
     "data": {
      "text/plain": [
       "'vis.r@gmail.com'"
      ]
     },
     "execution_count": 29,
     "metadata": {},
     "output_type": "execute_result"
    }
   ],
   "source": [
    "m.group()"
   ]
  },
  {
   "cell_type": "code",
   "execution_count": 30,
   "metadata": {
    "collapsed": false
   },
   "outputs": [
    {
     "data": {
      "text/plain": [
       "'vis.r'"
      ]
     },
     "execution_count": 30,
     "metadata": {},
     "output_type": "execute_result"
    }
   ],
   "source": [
    "m.group(1)"
   ]
  },
  {
   "cell_type": "code",
   "execution_count": 31,
   "metadata": {
    "collapsed": false
   },
   "outputs": [
    {
     "data": {
      "text/plain": [
       "'gmail.com'"
      ]
     },
     "execution_count": 31,
     "metadata": {},
     "output_type": "execute_result"
    }
   ],
   "source": [
    "m.group(2)"
   ]
  },
  {
   "cell_type": "code",
   "execution_count": 32,
   "metadata": {
    "collapsed": true
   },
   "outputs": [],
   "source": [
    "# find all function apart from match is also used in the \n",
    "# regular exoression. it simply finds more than the 1st match\n",
    "# it returns a list\n",
    "m = re.findall(r'[\\w.]+@[\\w.]+', 'blah vis.r@gmail.com yatta foo@bar')"
   ]
  },
  {
   "cell_type": "code",
   "execution_count": 33,
   "metadata": {
    "collapsed": false
   },
   "outputs": [
    {
     "data": {
      "text/plain": [
       "['vis.r@gmail.com', 'foo@bar']"
      ]
     },
     "execution_count": 33,
     "metadata": {},
     "output_type": "execute_result"
    }
   ],
   "source": [
    "m"
   ]
  },
  {
   "cell_type": "code",
   "execution_count": 34,
   "metadata": {
    "collapsed": false
   },
   "outputs": [
    {
     "data": {
      "text/plain": [
       "list"
      ]
     },
     "execution_count": 34,
     "metadata": {},
     "output_type": "execute_result"
    }
   ],
   "source": [
    "type(m)"
   ]
  },
  {
   "cell_type": "code",
   "execution_count": 35,
   "metadata": {
    "collapsed": false
   },
   "outputs": [
    {
     "data": {
      "text/plain": [
       "[('vis.r', 'gmail.com'), ('foo', 'bar')]"
      ]
     },
     "execution_count": 35,
     "metadata": {},
     "output_type": "execute_result"
    }
   ],
   "source": [
    "# putting the parentheses will return a tuple of length 2 with\n",
    "# username and domain address combination\n",
    "re.findall(r'([\\w.]+)@([\\w.]+)', 'blah vis.r@gmail.com yatta foo@bar')"
   ]
  },
  {
   "cell_type": "markdown",
   "metadata": {
    "collapsed": true
   },
   "source": [
    "# File system Interface & Modules"
   ]
  },
  {
   "cell_type": "code",
   "execution_count": 36,
   "metadata": {
    "collapsed": true
   },
   "outputs": [],
   "source": [
    "import os"
   ]
  },
  {
   "cell_type": "code",
   "execution_count": 37,
   "metadata": {
    "collapsed": false
   },
   "outputs": [
    {
     "name": "stdout",
     "output_type": "stream",
     "text": [
      "Help on built-in function listdir in module posix:\n",
      "\n",
      "listdir(...)\n",
      "    listdir(path) -> list_of_strings\n",
      "    \n",
      "    Return a list containing the names of the entries in the directory.\n",
      "    \n",
      "        path: path of directory to list\n",
      "    \n",
      "    The list is in arbitrary order.  It does not include the special\n",
      "    entries '.' and '..' even if they are present in the directory.\n",
      "\n"
     ]
    }
   ],
   "source": [
    "help(os.listdir)"
   ]
  },
  {
   "cell_type": "code",
   "execution_count": 1,
   "metadata": {
    "collapsed": false
   },
   "outputs": [],
   "source": [
    "# Lists all the files under a directory\n",
    "import sys\n",
    "import os\n",
    "def List(dir):\n",
    "    filenames = os.listdir(dir)\n",
    "    print filenames"
   ]
  },
  {
   "cell_type": "code",
   "execution_count": 2,
   "metadata": {
    "collapsed": false
   },
   "outputs": [
    {
     "name": "stdout",
     "output_type": "stream",
     "text": [
      "['.DS_Store', '.ipynb_checkpoints', 'babynames', 'basic', 'copyspecial', 'GooglePy Class.ipynb', 'hello.py', 'LICENSE.txt', 'logpuzzle', 'NOTICE.txt', 'Poem.txt', 'small.txt', 'test.py', 'util.py']\n"
     ]
    }
   ],
   "source": [
    "List('/Users/viswanathravindran/TrainMat/Python/PythonCodes/GooglePy')"
   ]
  },
  {
   "cell_type": "code",
   "execution_count": 3,
   "metadata": {
    "collapsed": true
   },
   "outputs": [],
   "source": [
    "# def to extract the complete path \n",
    "def List(dir):\n",
    "    filenames = os.listdir(dir)\n",
    "    for filename in filenames:\n",
    "        path = os.path.join(dir, filename)\n",
    "        print path\n",
    "        print os.path.abspath(path)"
   ]
  },
  {
   "cell_type": "code",
   "execution_count": 5,
   "metadata": {
    "collapsed": false
   },
   "outputs": [
    {
     "name": "stdout",
     "output_type": "stream",
     "text": [
      "/Users/viswanathravindran/TrainMat/Python/PythonCodes/.DS_Store\n",
      "/Users/viswanathravindran/TrainMat/Python/PythonCodes/.DS_Store\n",
      "/Users/viswanathravindran/TrainMat/Python/PythonCodes/DeepPrac\n",
      "/Users/viswanathravindran/TrainMat/Python/PythonCodes/DeepPrac\n",
      "/Users/viswanathravindran/TrainMat/Python/PythonCodes/GooglePy\n",
      "/Users/viswanathravindran/TrainMat/Python/PythonCodes/GooglePy\n",
      "/Users/viswanathravindran/TrainMat/Python/PythonCodes/OtherCodes\n",
      "/Users/viswanathravindran/TrainMat/Python/PythonCodes/OtherCodes\n",
      "/Users/viswanathravindran/TrainMat/Python/PythonCodes/PandaPrac\n",
      "/Users/viswanathravindran/TrainMat/Python/PythonCodes/PandaPrac\n",
      "/Users/viswanathravindran/TrainMat/Python/PythonCodes/ScikitPrac\n",
      "/Users/viswanathravindran/TrainMat/Python/PythonCodes/ScikitPrac\n"
     ]
    }
   ],
   "source": [
    "List('/Users/viswanathravindran/TrainMat/Python/PythonCodes/')"
   ]
  },
  {
   "cell_type": "code",
   "execution_count": 6,
   "metadata": {
    "collapsed": false
   },
   "outputs": [
    {
     "data": {
      "text/plain": [
       "['EX_CANTCREAT',\n",
       " 'EX_CONFIG',\n",
       " 'EX_DATAERR',\n",
       " 'EX_IOERR',\n",
       " 'EX_NOHOST',\n",
       " 'EX_NOINPUT',\n",
       " 'EX_NOPERM',\n",
       " 'EX_NOUSER',\n",
       " 'EX_OK',\n",
       " 'EX_OSERR',\n",
       " 'EX_OSFILE',\n",
       " 'EX_PROTOCOL',\n",
       " 'EX_SOFTWARE',\n",
       " 'EX_TEMPFAIL',\n",
       " 'EX_UNAVAILABLE',\n",
       " 'EX_USAGE',\n",
       " 'F_OK',\n",
       " 'NGROUPS_MAX',\n",
       " 'O_APPEND',\n",
       " 'O_ASYNC',\n",
       " 'O_CREAT',\n",
       " 'O_DIRECTORY',\n",
       " 'O_DSYNC',\n",
       " 'O_EXCL',\n",
       " 'O_EXLOCK',\n",
       " 'O_NDELAY',\n",
       " 'O_NOCTTY',\n",
       " 'O_NOFOLLOW',\n",
       " 'O_NONBLOCK',\n",
       " 'O_RDONLY',\n",
       " 'O_RDWR',\n",
       " 'O_SHLOCK',\n",
       " 'O_SYNC',\n",
       " 'O_TRUNC',\n",
       " 'O_WRONLY',\n",
       " 'P_NOWAIT',\n",
       " 'P_NOWAITO',\n",
       " 'P_WAIT',\n",
       " 'R_OK',\n",
       " 'SEEK_CUR',\n",
       " 'SEEK_END',\n",
       " 'SEEK_SET',\n",
       " 'TMP_MAX',\n",
       " 'UserDict',\n",
       " 'WCONTINUED',\n",
       " 'WCOREDUMP',\n",
       " 'WEXITSTATUS',\n",
       " 'WIFCONTINUED',\n",
       " 'WIFEXITED',\n",
       " 'WIFSIGNALED',\n",
       " 'WIFSTOPPED',\n",
       " 'WNOHANG',\n",
       " 'WSTOPSIG',\n",
       " 'WTERMSIG',\n",
       " 'WUNTRACED',\n",
       " 'W_OK',\n",
       " 'X_OK',\n",
       " '_Environ',\n",
       " '__all__',\n",
       " '__builtins__',\n",
       " '__doc__',\n",
       " '__file__',\n",
       " '__name__',\n",
       " '__package__',\n",
       " '_copy_reg',\n",
       " '_execvpe',\n",
       " '_exists',\n",
       " '_exit',\n",
       " '_get_exports_list',\n",
       " '_make_stat_result',\n",
       " '_make_statvfs_result',\n",
       " '_pickle_stat_result',\n",
       " '_pickle_statvfs_result',\n",
       " '_spawnvef',\n",
       " 'abort',\n",
       " 'access',\n",
       " 'altsep',\n",
       " 'chdir',\n",
       " 'chflags',\n",
       " 'chmod',\n",
       " 'chown',\n",
       " 'chroot',\n",
       " 'close',\n",
       " 'closerange',\n",
       " 'confstr',\n",
       " 'confstr_names',\n",
       " 'ctermid',\n",
       " 'curdir',\n",
       " 'defpath',\n",
       " 'devnull',\n",
       " 'dup',\n",
       " 'dup2',\n",
       " 'environ',\n",
       " 'errno',\n",
       " 'error',\n",
       " 'execl',\n",
       " 'execle',\n",
       " 'execlp',\n",
       " 'execlpe',\n",
       " 'execv',\n",
       " 'execve',\n",
       " 'execvp',\n",
       " 'execvpe',\n",
       " 'extsep',\n",
       " 'fchdir',\n",
       " 'fchmod',\n",
       " 'fchown',\n",
       " 'fdopen',\n",
       " 'fork',\n",
       " 'forkpty',\n",
       " 'fpathconf',\n",
       " 'fstat',\n",
       " 'fstatvfs',\n",
       " 'fsync',\n",
       " 'ftruncate',\n",
       " 'getcwd',\n",
       " 'getcwdu',\n",
       " 'getegid',\n",
       " 'getenv',\n",
       " 'geteuid',\n",
       " 'getgid',\n",
       " 'getgroups',\n",
       " 'getloadavg',\n",
       " 'getlogin',\n",
       " 'getpgid',\n",
       " 'getpgrp',\n",
       " 'getpid',\n",
       " 'getppid',\n",
       " 'getsid',\n",
       " 'getuid',\n",
       " 'initgroups',\n",
       " 'isatty',\n",
       " 'kill',\n",
       " 'killpg',\n",
       " 'lchflags',\n",
       " 'lchmod',\n",
       " 'lchown',\n",
       " 'linesep',\n",
       " 'link',\n",
       " 'listdir',\n",
       " 'lseek',\n",
       " 'lstat',\n",
       " 'major',\n",
       " 'makedev',\n",
       " 'makedirs',\n",
       " 'minor',\n",
       " 'mkdir',\n",
       " 'mkfifo',\n",
       " 'mknod',\n",
       " 'name',\n",
       " 'nice',\n",
       " 'open',\n",
       " 'openpty',\n",
       " 'pardir',\n",
       " 'path',\n",
       " 'pathconf',\n",
       " 'pathconf_names',\n",
       " 'pathsep',\n",
       " 'pipe',\n",
       " 'popen',\n",
       " 'popen2',\n",
       " 'popen3',\n",
       " 'popen4',\n",
       " 'putenv',\n",
       " 'read',\n",
       " 'readlink',\n",
       " 'remove',\n",
       " 'removedirs',\n",
       " 'rename',\n",
       " 'renames',\n",
       " 'rmdir',\n",
       " 'sep',\n",
       " 'setegid',\n",
       " 'seteuid',\n",
       " 'setgid',\n",
       " 'setgroups',\n",
       " 'setpgid',\n",
       " 'setpgrp',\n",
       " 'setregid',\n",
       " 'setreuid',\n",
       " 'setsid',\n",
       " 'setuid',\n",
       " 'spawnl',\n",
       " 'spawnle',\n",
       " 'spawnlp',\n",
       " 'spawnlpe',\n",
       " 'spawnv',\n",
       " 'spawnve',\n",
       " 'spawnvp',\n",
       " 'spawnvpe',\n",
       " 'stat',\n",
       " 'stat_float_times',\n",
       " 'stat_result',\n",
       " 'statvfs',\n",
       " 'statvfs_result',\n",
       " 'strerror',\n",
       " 'symlink',\n",
       " 'sys',\n",
       " 'sysconf',\n",
       " 'sysconf_names',\n",
       " 'system',\n",
       " 'tcgetpgrp',\n",
       " 'tcsetpgrp',\n",
       " 'tempnam',\n",
       " 'times',\n",
       " 'tmpfile',\n",
       " 'tmpnam',\n",
       " 'ttyname',\n",
       " 'umask',\n",
       " 'uname',\n",
       " 'unlink',\n",
       " 'unsetenv',\n",
       " 'urandom',\n",
       " 'utime',\n",
       " 'wait',\n",
       " 'wait3',\n",
       " 'wait4',\n",
       " 'waitpid',\n",
       " 'walk',\n",
       " 'write']"
      ]
     },
     "execution_count": 6,
     "metadata": {},
     "output_type": "execute_result"
    }
   ],
   "source": [
    "dir(os)"
   ]
  },
  {
   "cell_type": "code",
   "execution_count": 7,
   "metadata": {
    "collapsed": false
   },
   "outputs": [
    {
     "name": "stdout",
     "output_type": "stream",
     "text": [
      "Help on built-in function abort in module posix:\n",
      "\n",
      "abort(...)\n",
      "    abort() -> does not return!\n",
      "    \n",
      "    Abort the interpreter immediately.  This 'dumps core' or otherwise fails\n",
      "    in the hardest way possible on the hosting operating system.\n",
      "\n"
     ]
    }
   ],
   "source": [
    "help(os.abort)"
   ]
  },
  {
   "cell_type": "code",
   "execution_count": 8,
   "metadata": {
    "collapsed": false
   },
   "outputs": [
    {
     "name": "stdout",
     "output_type": "stream",
     "text": [
      "Help on built-in function access in module posix:\n",
      "\n",
      "access(...)\n",
      "    access(path, mode) -> True if granted, False otherwise\n",
      "    \n",
      "    Use the real uid/gid to test for access to a path.  Note that most\n",
      "    operations will use the effective uid/gid, therefore this routine can\n",
      "    be used in a suid/sgid environment to test if the invoking user has the\n",
      "    specified access to the path.  The mode argument can be F_OK to test\n",
      "    existence, or the inclusive-OR of R_OK, W_OK, and X_OK.\n",
      "\n"
     ]
    }
   ],
   "source": [
    "help(os.access)"
   ]
  },
  {
   "cell_type": "code",
   "execution_count": 49,
   "metadata": {
    "collapsed": false
   },
   "outputs": [
    {
     "data": {
      "text/plain": [
       "True"
      ]
     },
     "execution_count": 49,
     "metadata": {},
     "output_type": "execute_result"
    }
   ],
   "source": [
    "import os\n",
    "os.path.exists('/Users/viswanathravindran')"
   ]
  },
  {
   "cell_type": "code",
   "execution_count": 50,
   "metadata": {
    "collapsed": false
   },
   "outputs": [
    {
     "data": {
      "text/plain": [
       "False"
      ]
     },
     "execution_count": 50,
     "metadata": {},
     "output_type": "execute_result"
    }
   ],
   "source": [
    "os.path.exists('/Users/vicky')"
   ]
  },
  {
   "cell_type": "code",
   "execution_count": 51,
   "metadata": {
    "collapsed": true
   },
   "outputs": [],
   "source": [
    "os.mkdir('/Users/viswanathravindran/test')"
   ]
  },
  {
   "cell_type": "code",
   "execution_count": 52,
   "metadata": {
    "collapsed": false
   },
   "outputs": [
    {
     "name": "stdout",
     "output_type": "stream",
     "text": [
      "/Users/viswanathravindran/.anaconda\n",
      "/Users/viswanathravindran/.anaconda\n",
      "/Users/viswanathravindran/.bash_history\n",
      "/Users/viswanathravindran/.bash_history\n",
      "/Users/viswanathravindran/.bash_sessions\n",
      "/Users/viswanathravindran/.bash_sessions\n",
      "/Users/viswanathravindran/.cache\n",
      "/Users/viswanathravindran/.cache\n",
      "/Users/viswanathravindran/.CFUserTextEncoding\n",
      "/Users/viswanathravindran/.CFUserTextEncoding\n",
      "/Users/viswanathravindran/.config\n",
      "/Users/viswanathravindran/.config\n",
      "/Users/viswanathravindran/.continuum\n",
      "/Users/viswanathravindran/.continuum\n",
      "/Users/viswanathravindran/.dropbox\n",
      "/Users/viswanathravindran/.dropbox\n",
      "/Users/viswanathravindran/.DS_Store\n",
      "/Users/viswanathravindran/.DS_Store\n",
      "/Users/viswanathravindran/.flexlmrc\n",
      "/Users/viswanathravindran/.flexlmrc\n",
      "/Users/viswanathravindran/.gitconfig\n",
      "/Users/viswanathravindran/.gitconfig\n",
      "/Users/viswanathravindran/.idlerc\n",
      "/Users/viswanathravindran/.idlerc\n",
      "/Users/viswanathravindran/.ipynb_checkpoints\n",
      "/Users/viswanathravindran/.ipynb_checkpoints\n",
      "/Users/viswanathravindran/.ipython\n",
      "/Users/viswanathravindran/.ipython\n",
      "/Users/viswanathravindran/.jupyter\n",
      "/Users/viswanathravindran/.jupyter\n",
      "/Users/viswanathravindran/.kalite\n",
      "/Users/viswanathravindran/.kalite\n",
      "/Users/viswanathravindran/.matlab\n",
      "/Users/viswanathravindran/.matlab\n",
      "/Users/viswanathravindran/.matplotlib\n",
      "/Users/viswanathravindran/.matplotlib\n",
      "/Users/viswanathravindran/.octave_hist\n",
      "/Users/viswanathravindran/.octave_hist\n",
      "/Users/viswanathravindran/.profile\n",
      "/Users/viswanathravindran/.profile\n",
      "/Users/viswanathravindran/.profile-anaconda.bak\n",
      "/Users/viswanathravindran/.profile-anaconda.bak\n",
      "/Users/viswanathravindran/.profile.pysave\n",
      "/Users/viswanathravindran/.profile.pysave\n",
      "/Users/viswanathravindran/.profile.swp\n",
      "/Users/viswanathravindran/.profile.swp\n",
      "/Users/viswanathravindran/.python_history\n",
      "/Users/viswanathravindran/.python_history\n",
      "/Users/viswanathravindran/.QtWebEngineProcess\n",
      "/Users/viswanathravindran/.QtWebEngineProcess\n",
      "/Users/viswanathravindran/.R\n",
      "/Users/viswanathravindran/.R\n",
      "/Users/viswanathravindran/.Rapp.history\n",
      "/Users/viswanathravindran/.Rapp.history\n",
      "/Users/viswanathravindran/.Rhistory\n",
      "/Users/viswanathravindran/.Rhistory\n",
      "/Users/viswanathravindran/.rstudio-desktop\n",
      "/Users/viswanathravindran/.rstudio-desktop\n",
      "/Users/viswanathravindran/.Spyder\n",
      "/Users/viswanathravindran/.Spyder\n",
      "/Users/viswanathravindran/.spyder-py3\n",
      "/Users/viswanathravindran/.spyder-py3\n",
      "/Users/viswanathravindran/.ssh\n",
      "/Users/viswanathravindran/.ssh\n",
      "/Users/viswanathravindran/.subversion\n",
      "/Users/viswanathravindran/.subversion\n",
      "/Users/viswanathravindran/.Trash\n",
      "/Users/viswanathravindran/.Trash\n",
      "/Users/viswanathravindran/.viminfo\n",
      "/Users/viswanathravindran/.viminfo\n",
      "/Users/viswanathravindran/Applications\n",
      "/Users/viswanathravindran/Applications\n",
      "/Users/viswanathravindran/Breaking Bad\n",
      "/Users/viswanathravindran/Breaking Bad\n",
      "/Users/viswanathravindran/Creative Cloud Files\n",
      "/Users/viswanathravindran/Creative Cloud Files\n",
      "/Users/viswanathravindran/DataFiles\n",
      "/Users/viswanathravindran/DataFiles\n",
      "/Users/viswanathravindran/Desktop\n",
      "/Users/viswanathravindran/Desktop\n",
      "/Users/viswanathravindran/Documents\n",
      "/Users/viswanathravindran/Documents\n",
      "/Users/viswanathravindran/Downloads\n",
      "/Users/viswanathravindran/Downloads\n",
      "/Users/viswanathravindran/Dropbox\n",
      "/Users/viswanathravindran/Dropbox\n",
      "/Users/viswanathravindran/Library\n",
      "/Users/viswanathravindran/Library\n",
      "/Users/viswanathravindran/Movies\n",
      "/Users/viswanathravindran/Movies\n",
      "/Users/viswanathravindran/Music\n",
      "/Users/viswanathravindran/Music\n",
      "/Users/viswanathravindran/octave-workspace\n",
      "/Users/viswanathravindran/octave-workspace\n",
      "/Users/viswanathravindran/Pictures\n",
      "/Users/viswanathravindran/Pictures\n",
      "/Users/viswanathravindran/Public\n",
      "/Users/viswanathravindran/Public\n",
      "/Users/viswanathravindran/test\n",
      "/Users/viswanathravindran/test\n",
      "/Users/viswanathravindran/TrainMat\n",
      "/Users/viswanathravindran/TrainMat\n",
      "/Users/viswanathravindran/Untitled.ipynb\n",
      "/Users/viswanathravindran/Untitled.ipynb\n",
      "/Users/viswanathravindran/Untitled1.ipynb\n",
      "/Users/viswanathravindran/Untitled1.ipynb\n"
     ]
    }
   ],
   "source": [
    "List('/Users/viswanathravindran')"
   ]
  },
  {
   "cell_type": "code",
   "execution_count": 54,
   "metadata": {
    "collapsed": false
   },
   "outputs": [],
   "source": [
    "import shutil\n",
    "# shutil.copy(source, dest)"
   ]
  },
  {
   "cell_type": "code",
   "execution_count": 15,
   "metadata": {
    "collapsed": false
   },
   "outputs": [
    {
     "data": {
      "text/plain": [
       "['Error',\n",
       " 'ExecError',\n",
       " 'SpecialFileError',\n",
       " 'WindowsError',\n",
       " '_ARCHIVE_FORMATS',\n",
       " '__all__',\n",
       " '__builtins__',\n",
       " '__doc__',\n",
       " '__file__',\n",
       " '__name__',\n",
       " '__package__',\n",
       " '_basename',\n",
       " '_call_external_zip',\n",
       " '_destinsrc',\n",
       " '_get_gid',\n",
       " '_get_uid',\n",
       " '_make_tarball',\n",
       " '_make_zipfile',\n",
       " '_samefile',\n",
       " 'abspath',\n",
       " 'collections',\n",
       " 'copy',\n",
       " 'copy2',\n",
       " 'copyfile',\n",
       " 'copyfileobj',\n",
       " 'copymode',\n",
       " 'copystat',\n",
       " 'copytree',\n",
       " 'errno',\n",
       " 'fnmatch',\n",
       " 'get_archive_formats',\n",
       " 'getgrnam',\n",
       " 'getpwnam',\n",
       " 'ignore_patterns',\n",
       " 'make_archive',\n",
       " 'move',\n",
       " 'os',\n",
       " 'register_archive_format',\n",
       " 'rmtree',\n",
       " 'stat',\n",
       " 'sys',\n",
       " 'unregister_archive_format']"
      ]
     },
     "execution_count": 15,
     "metadata": {},
     "output_type": "execute_result"
    }
   ],
   "source": [
    "dir(shutil)"
   ]
  },
  {
   "cell_type": "code",
   "execution_count": 1,
   "metadata": {
    "collapsed": true
   },
   "outputs": [],
   "source": [
    "import commands"
   ]
  },
  {
   "cell_type": "code",
   "execution_count": 13,
   "metadata": {
    "collapsed": true
   },
   "outputs": [],
   "source": [
    "def List(dir):\n",
    "    cmd = 'ls -l ' + dir\n",
    "    (status, output) = commands.getstatusoutput(cmd)\n",
    "    print output"
   ]
  },
  {
   "cell_type": "code",
   "execution_count": 14,
   "metadata": {
    "collapsed": false
   },
   "outputs": [
    {
     "name": "stdout",
     "output_type": "stream",
     "text": [
      "total 216\n",
      "-rw-r--r--   1 viswanathravindran  staff  69725 Feb 28 21:08 GooglePy Class.ipynb\n",
      "-rw-r--r--@  1 viswanathravindran  staff  11358 Feb 19  2010 LICENSE.txt\n",
      "-rw-r--r--@  1 viswanathravindran  staff    111 Feb 19  2010 NOTICE.txt\n",
      "-rw-r--r--@  1 viswanathravindran  staff    741 Jan  4 09:06 Poem.txt\n",
      "drwxrwxrwx@ 15 viswanathravindran  staff    510 Feb 22 08:24 babynames\n",
      "drwxrwxrwx@ 18 viswanathravindran  staff    612 Feb 21 20:55 basic\n",
      "drwxrwxrwx@  7 viswanathravindran  staff    238 Feb 22 09:08 copyspecial\n",
      "-rwxrwxrwx@  1 viswanathravindran  staff    301 Jan  4 09:11 hello.py\n",
      "drwxrwxrwx@  6 viswanathravindran  staff    204 Mar 11  2010 logpuzzle\n",
      "-rw-r--r--@  1 viswanathravindran  staff    119 Jan 15 11:38 small.txt\n",
      "-rw-r--r--@  1 viswanathravindran  staff    427 Dec 29 09:04 test.py\n",
      "-rw-r--r--@  1 viswanathravindran  staff    255 Feb 28 20:49 util.py\n"
     ]
    }
   ],
   "source": [
    "List('/Users/viswanathravindran/TrainMat/Python/PythonCodes/GooglePy')"
   ]
  },
  {
   "cell_type": "code",
   "execution_count": 15,
   "metadata": {
    "collapsed": false
   },
   "outputs": [
    {
     "name": "stdout",
     "output_type": "stream",
     "text": [
      "Help on function getstatusoutput in module commands:\n",
      "\n",
      "getstatusoutput(cmd)\n",
      "    Return (status, output) of executing cmd in a shell.\n",
      "\n"
     ]
    }
   ],
   "source": [
    "help(commands.getstatusoutput)"
   ]
  },
  {
   "cell_type": "code",
   "execution_count": 17,
   "metadata": {
    "collapsed": false
   },
   "outputs": [
    {
     "name": "stdout",
     "output_type": "stream",
     "text": [
      "total 32\n",
      "drwx------   5 viswanathravindran  staff   170 Apr  1  2016 Applications\n",
      "drwxr-xr-x   8 viswanathravindran  staff   272 Sep 24 10:39 Breaking Bad\n",
      "drwxrwxr-x@  3 viswanathravindran  staff   102 Dec 28  2015 Creative Cloud Files\n",
      "drwxr-xr-x  17 viswanathravindran  staff   578 Feb 24 23:51 DataFiles\n",
      "drwx------@ 12 viswanathravindran  staff   408 Feb 26 07:50 Desktop\n",
      "drwx------@ 33 viswanathravindran  staff  1122 Dec 28 08:37 Documents\n",
      "drwx------+ 14 viswanathravindran  staff   476 Feb 28 07:59 Downloads\n",
      "drwx------@ 18 viswanathravindran  staff   612 Mar 22  2016 Dropbox\n",
      "drwx------@ 72 viswanathravindran  staff  2448 Jan 15 12:38 Library\n",
      "drwx------+  5 viswanathravindran  staff   170 Dec  1  2014 Movies\n",
      "drwx------+  9 viswanathravindran  staff   306 Jul  1  2015 Music\n",
      "drwx------+  8 viswanathravindran  staff   272 Feb 28 08:58 Pictures\n",
      "drwxr-xr-x+  6 viswanathravindran  staff   204 Dec 31  2014 Public\n",
      "drwxr-xr-x  14 viswanathravindran  staff   476 Dec 28 08:42 TrainMat\n",
      "-rw-r--r--   1 viswanathravindran  staff  7280 Jan 18 22:53 Untitled.ipynb\n",
      "-rw-r--r--   1 viswanathravindran  staff   867 Jan 19 09:01 Untitled1.ipynb\n",
      "drwxr-xr-x  11 viswanathravindran  staff   374 Feb 25 12:28 nltk_data\n",
      "-rw-r--r--   1 viswanathravindran  staff    11 Apr 17  2016 octave-workspace\n",
      "drwxr-xr-x   2 viswanathravindran  staff    68 Feb 22 08:55 test\n"
     ]
    }
   ],
   "source": [
    "List('/Users/viswanathravindran/')"
   ]
  },
  {
   "cell_type": "code",
   "execution_count": 23,
   "metadata": {
    "collapsed": false
   },
   "outputs": [],
   "source": [
    "import sys"
   ]
  },
  {
   "cell_type": "code",
   "execution_count": 25,
   "metadata": {
    "collapsed": false
   },
   "outputs": [],
   "source": [
    " def list(dir):\n",
    "        cmd =  'ls -l '+ dir\n",
    "        (status, output) = commands.getstatusoutput(cmd)\n",
    "        if status:\n",
    "            sys.stderr.write ('there was an error:' + output)\n",
    "            sys.exit\n",
    "        print output"
   ]
  },
  {
   "cell_type": "code",
   "execution_count": 26,
   "metadata": {
    "collapsed": false
   },
   "outputs": [
    {
     "name": "stdout",
     "output_type": "stream",
     "text": [
      "total 32\n",
      "drwx------   5 viswanathravindran  staff   170 Apr  1  2016 Applications\n",
      "drwxr-xr-x   8 viswanathravindran  staff   272 Sep 24 10:39 Breaking Bad\n",
      "drwxrwxr-x@  3 viswanathravindran  staff   102 Dec 28  2015 Creative Cloud Files\n",
      "drwxr-xr-x  17 viswanathravindran  staff   578 Feb 24 23:51 DataFiles\n",
      "drwx------@ 12 viswanathravindran  staff   408 Feb 26 07:50 Desktop\n",
      "drwx------@ 33 viswanathravindran  staff  1122 Dec 28 08:37 Documents\n",
      "drwx------+ 14 viswanathravindran  staff   476 Feb 28 07:59 Downloads\n",
      "drwx------@ 18 viswanathravindran  staff   612 Mar 22  2016 Dropbox\n",
      "drwx------@ 72 viswanathravindran  staff  2448 Jan 15 12:38 Library\n",
      "drwx------+  5 viswanathravindran  staff   170 Dec  1  2014 Movies\n",
      "drwx------+  9 viswanathravindran  staff   306 Jul  1  2015 Music\n",
      "drwx------+  8 viswanathravindran  staff   272 Feb 28 08:58 Pictures\n",
      "drwxr-xr-x+  6 viswanathravindran  staff   204 Dec 31  2014 Public\n",
      "drwxr-xr-x  14 viswanathravindran  staff   476 Dec 28 08:42 TrainMat\n",
      "-rw-r--r--   1 viswanathravindran  staff  7280 Jan 18 22:53 Untitled.ipynb\n",
      "-rw-r--r--   1 viswanathravindran  staff   867 Jan 19 09:01 Untitled1.ipynb\n",
      "drwxr-xr-x  11 viswanathravindran  staff   374 Feb 25 12:28 nltk_data\n",
      "-rw-r--r--   1 viswanathravindran  staff    11 Apr 17  2016 octave-workspace\n",
      "drwxr-xr-x   2 viswanathravindran  staff    68 Feb 22 08:55 test\n"
     ]
    }
   ],
   "source": [
    "list('/Users/viswanathravindran/')"
   ]
  },
  {
   "cell_type": "code",
   "execution_count": 27,
   "metadata": {
    "collapsed": false
   },
   "outputs": [
    {
     "name": "stdout",
     "output_type": "stream",
     "text": [
      "ls: /Users/viswnathravindran/: No such file or directory\n"
     ]
    },
    {
     "name": "stderr",
     "output_type": "stream",
     "text": [
      "there was an error:ls: /Users/viswnathravindran/: No such file or directory"
     ]
    }
   ],
   "source": [
    "list('/Users/viswnathravindran/')"
   ]
  },
  {
   "cell_type": "code",
   "execution_count": 28,
   "metadata": {
    "collapsed": true
   },
   "outputs": [],
   "source": [
    "import urllib"
   ]
  },
  {
   "cell_type": "code",
   "execution_count": 30,
   "metadata": {
    "collapsed": false
   },
   "outputs": [],
   "source": [
    "uf = urllib.urlopen('https://www.google.com')"
   ]
  },
  {
   "cell_type": "code",
   "execution_count": 31,
   "metadata": {
    "collapsed": false
   },
   "outputs": [
    {
     "name": "stdout",
     "output_type": "stream",
     "text": [
      "<addinfourl at 4368701920 whose fp = <socket._fileobject object at 0x104636850>>\n"
     ]
    }
   ],
   "source": [
    "print uf"
   ]
  },
  {
   "cell_type": "code",
   "execution_count": 32,
   "metadata": {
    "collapsed": false
   },
   "outputs": [
    {
     "data": {
      "text/plain": [
       "'<!doctype html><html itemscope=\"\" itemtype=\"http://schema.org/WebPage\" lang=\"en-IN\"><head><meta content=\"text/html; charset=UTF-8\" http-equiv=\"Content-Type\"><meta content=\"/images/branding/googleg/1x/googleg_standard_color_128dp.png\" itemprop=\"image\"><title>Google</title><script>(function(){window.google={kEI:\\'TqK1WJHTOcO10gSaq6SgBg\\',kEXPI:\\'1351828,1351903,1352241,1352465,1352467,1352624,1352995,3700248,3700347,3700383,4028875,4029815,4031109,4032678,4036527,4038012,4039268,4043492,4045840,4048347,4052811,4062666,4064904,4065787,4066195,4067924,4069772,4072364,4072776,4073405,4073726,4073915,4073959,4075963,4076096,4076999,4077776,4078438,4079081,4079105,4079894,4081038,4081165,4082572,4083476,4085628,4086011,4086071,4086699,4088341,4089003,4089183,4090352,4090550,4090797,4090806,4090893,4092308,4092475,4092479,4092897,4092934,4093121,4093238,4093499,4093599,4093623,4093948,4094251,4094544,4094730,4094767,4094839,4094878,4095381,4095907,4095967,4095997,4096323,4096472,4096742,4097082,4097153,4097204,4097866,4097922,4097929,4097998,4098699,4098733,4098740,4098752,4099667,4099809,4099810,4099881,4100409,4100685,4100728,4100817,4101121,4101225,8300272,8300507,8503585,8505259,8506340,8507381,8507420,8507920,8507940,8508043,8508229,8508395,8508624,8508931,8509037,8509178,8509243,8509373,8509871,8510056,8510171,8510177,10200083,10200096,19001698\\',authuser:0,kscs:\\'c9c918f0_24\\'};google.kHL=\\'en-IN\\';})();(function(){google.lc=[];google.li=0;google.getEI=function(a){for(var b;a&&(!a.getAttribute||!(b=a.getAttribute(\"eid\")));)a=a.parentNode;return b||google.kEI};google.getLEI=function(a){for(var b=null;a&&(!a.getAttribute||!(b=a.getAttribute(\"leid\")));)a=a.parentNode;return b};google.https=function(){return\"https:\"==window.location.protocol};google.ml=function(){return null};google.wl=function(a,b){try{google.ml(Error(a),!1,b)}catch(c){}};google.time=function(){return(new Date).getTime()};google.log=function(a,b,c,d,g){a=google.logUrl(a,b,c,d,g);if(\"\"!=a){b=new Image;var e=google.lc,f=google.li;e[f]=b;b.onerror=b.onload=b.onabort=function(){delete e[f]};window.google&&window.google.vel&&window.google.vel.lu&&window.google.vel.lu(a);b.src=a;google.li=f+1}};google.logUrl=function(a,b,c,d,g){var e=\"\",f=google.ls||\"\";c||-1!=b.search(\"&ei=\")||(e=\"&ei=\"+google.getEI(d),-1==b.search(\"&lei=\")&&(d=google.getLEI(d))&&(e+=\"&lei=\"+d));a=c||\"/\"+(g||\"gen_204\")+\"?atyp=i&ct=\"+a+\"&cad=\"+b+e+f+\"&zx=\"+google.time();/^http:/i.test(a)&&google.https()&&(google.ml(Error(\"a\"),!1,{src:a,glmm:1}),a=\"\");return a};google.y={};google.x=function(a,b){google.y[a.id]=[a,b];return!1};google.lq=[];google.load=function(a,b,c){google.lq.push([[a],b,c])};google.loadAll=function(a,b){google.lq.push([a,b])};}).call(this);var a=window.location,b=a.href.indexOf(\"#\");if(0<=b){var c=a.href.substring(b+1);/(^|&)q=/.test(c)&&-1==c.indexOf(\"#\")&&a.replace(\"/search?\"+c.replace(/(^|&)fp=[^&]*/g,\"\")+\"&cad=h\")};</script><style>#gbar,#guser{font-size:13px;padding-top:1px !important;}#gbar{height:22px}#guser{padding-bottom:7px !important;text-align:right}.gbh,.gbd{border-top:1px solid #c9d7f1;font-size:1px}.gbh{height:0;position:absolute;top:24px;width:100%}@media all{.gb1{height:22px;margin-right:.5em;vertical-align:top}#gbar{float:left}}a.gb1,a.gb4{text-decoration:underline !important}a.gb1,a.gb4{color:#00c !important}.gbi .gb4{color:#dd8e27 !important}.gbf .gb4{color:#900 !important}\\n</style><style>body,td,a,p,.h{font-family:arial,sans-serif}body{margin:0;overflow-y:scroll}#gog{padding:3px 8px 0}td{line-height:.8em}.gac_m td{line-height:17px}form{margin-bottom:20px}.h{color:#36c}.q{color:#00c}.ts td{padding:0}.ts{border-collapse:collapse}em{font-weight:bold;font-style:normal}.lst{height:25px;width:496px}.gsfi,.lst{font:18px arial,sans-serif}.gsfs{font:17px arial,sans-serif}.ds{display:inline-box;display:inline-block;margin:3px 0 4px;margin-left:4px}input{font-family:inherit}a.gb1,a.gb2,a.gb3,a.gb4{color:#11c !important}body{background:#fff;color:black}a{color:#11c;text-decoration:none}a:hover,a:active{text-decoration:underline}.fl a{color:#36c}a:visited{color:#551a8b}a.gb1,a.gb4{text-decoration:underline}a.gb3:hover{text-decoration:none}#ghead a.gb2:hover{color:#fff !important}.sblc{padding-top:5px}.sblc a{display:block;margin:2px 0;margin-left:13px;font-size:11px}.lsbb{background:#eee;border:solid 1px;border-color:#ccc #999 #999 #ccc;height:30px}.lsbb{display:block}.ftl,#fll a{display:inline-block;margin:0 12px}.lsb{background:url(/images/nav_logo229.png) 0 -261px repeat-x;border:none;color:#000;cursor:pointer;height:30px;margin:0;outline:0;font:15px arial,sans-serif;vertical-align:top}.lsb:active{background:#ccc}.lst:focus{outline:none}</style><script></script><link href=\"/images/branding/product/ico/googleg_lodp.ico\" rel=\"shortcut icon\"></head><body bgcolor=\"#fff\"><script>(function(){var src=\\'/images/nav_logo229.png\\';var iesg=false;document.body.onload = function(){window.n && window.n();if (document.images){new Image().src=src;}\\nif (!iesg){document.f&&document.f.q.focus();document.gbqf&&document.gbqf.q.focus();}\\n}\\n})();</script><div id=\"mngb\"> <div id=gbar><nobr><b class=gb1>Search</b> <a class=gb1 href=\"https://www.google.co.in/imghp?hl=en&tab=wi\">Images</a> <a class=gb1 href=\"https://maps.google.co.in/maps?hl=en&tab=wl\">Maps</a> <a class=gb1 href=\"https://play.google.com/?hl=en&tab=w8\">Play</a> <a class=gb1 href=\"https://www.youtube.com/?gl=IN&tab=w1\">YouTube</a> <a class=gb1 href=\"https://news.google.co.in/nwshp?hl=en&tab=wn\">News</a> <a class=gb1 href=\"https://mail.google.com/mail/?tab=wm\">Gmail</a> <a class=gb1 href=\"https://drive.google.com/?tab=wo\">Drive</a> <a class=gb1 style=\"text-decoration:none\" href=\"https://www.google.co.in/intl/en/options/\"><u>More</u> &raquo;</a></nobr></div><div id=guser width=100%><nobr><span id=gbn class=gbi></span><span id=gbf class=gbf></span><span id=gbe></span><a href=\"http://www.google.co.in/history/optout?hl=en\" class=gb4>Web History</a> | <a  href=\"/preferences?hl=en\" class=gb4>Settings</a> | <a target=_top id=gb_70 href=\"https://accounts.google.com/ServiceLogin?hl=en&passive=true&continue=https://www.google.co.in/%3Fgfe_rd%3Dcr%26ei%3DTqK1WL2NF4qO2ASCkZ74CQ\" class=gb4>Sign in</a></nobr></div><div class=gbh style=left:0></div><div class=gbh style=right:0></div> </div><center><br clear=\"all\" id=\"lgpd\"><div id=\"lga\"><div style=\"padding:28px 0 3px\"><div style=\"height:110px;width:276px;background:url(/images/branding/googlelogo/1x/googlelogo_white_background_color_272x92dp.png) no-repeat\" title=\"Google\" align=\"left\" id=\"hplogo\" onload=\"window.lol&&lol()\"><div style=\"color:#777;font-size:16px;font-weight:bold;position:relative;top:70px;left:218px\" nowrap=\"\">India</div></div></div><br></div><form action=\"/search\" name=\"f\"><table cellpadding=\"0\" cellspacing=\"0\"><tr valign=\"top\"><td width=\"25%\">&nbsp;</td><td align=\"center\" nowrap=\"\"><input name=\"ie\" value=\"ISO-8859-1\" type=\"hidden\"><input value=\"en-IN\" name=\"hl\" type=\"hidden\"><input name=\"source\" type=\"hidden\" value=\"hp\"><input name=\"biw\" type=\"hidden\"><input name=\"bih\" type=\"hidden\"><div class=\"ds\" style=\"height:32px;margin:4px 0\"><input style=\"color:#000;margin:0;padding:5px 8px 0 6px;vertical-align:top\" autocomplete=\"off\" class=\"lst\" value=\"\" title=\"Google Search\" maxlength=\"2048\" name=\"q\" size=\"57\"></div><br style=\"line-height:0\"><span class=\"ds\"><span class=\"lsbb\"><input class=\"lsb\" value=\"Google Search\" name=\"btnG\" type=\"submit\"></span></span><span class=\"ds\"><span class=\"lsbb\"><input class=\"lsb\" value=\"I\\'m Feeling Lucky\" name=\"btnI\" onclick=\"if(this.form.q.value)this.checked=1; else top.location=\\'/doodles/\\'\" type=\"submit\"></span></span></td><td class=\"fl sblc\" align=\"left\" nowrap=\"\" width=\"25%\"><a href=\"/advanced_search?hl=en-IN&amp;authuser=0\">Advanced search</a><a href=\"/language_tools?hl=en-IN&amp;authuser=0\">Language tools</a></td></tr></table><input id=\"gbv\" name=\"gbv\" type=\"hidden\" value=\"1\"></form><div id=\"gac_scont\"></div><div style=\"font-size:83%;min-height:3.5em\"><br><div id=\"als\"><style>#als{font-size:small;margin-bottom:24px}#_eEe{display:inline-block;line-height:28px;}#_eEe a{padding:0 3px;}._lEe{display:inline-block;margin:0 2px;white-space:nowrap}._PEe{display:inline-block;margin:0 2px}</style><div id=\"_eEe\">Google.co.in offered in: <a href=\"https://www.google.co.in/setprefs?sig=0_tZrhHHxnw2j0PywUMBgB2dhfaKs%3D&amp;hl=hi&amp;source=homepage\" data-ved=\"0ahUKEwiRsoSfmLPSAhXDmpQKHZoVCWQQ2ZgBCAU\">&#2361;&#2367;&#2344;&#2381;&#2342;&#2368;</a>  <a href=\"https://www.google.co.in/setprefs?sig=0_tZrhHHxnw2j0PywUMBgB2dhfaKs%3D&amp;hl=bn&amp;source=homepage\" data-ved=\"0ahUKEwiRsoSfmLPSAhXDmpQKHZoVCWQQ2ZgBCAY\">&#2476;&#2494;&#2434;&#2482;&#2494;</a>  <a href=\"https://www.google.co.in/setprefs?sig=0_tZrhHHxnw2j0PywUMBgB2dhfaKs%3D&amp;hl=te&amp;source=homepage\" data-ved=\"0ahUKEwiRsoSfmLPSAhXDmpQKHZoVCWQQ2ZgBCAc\">&#3108;&#3142;&#3122;&#3137;&#3095;&#3137;</a>  <a href=\"https://www.google.co.in/setprefs?sig=0_tZrhHHxnw2j0PywUMBgB2dhfaKs%3D&amp;hl=mr&amp;source=homepage\" data-ved=\"0ahUKEwiRsoSfmLPSAhXDmpQKHZoVCWQQ2ZgBCAg\">&#2350;&#2352;&#2366;&#2336;&#2368;</a>  <a href=\"https://www.google.co.in/setprefs?sig=0_tZrhHHxnw2j0PywUMBgB2dhfaKs%3D&amp;hl=ta&amp;source=homepage\" data-ved=\"0ahUKEwiRsoSfmLPSAhXDmpQKHZoVCWQQ2ZgBCAk\">&#2980;&#2990;&#3007;&#2996;&#3021;</a>  <a href=\"https://www.google.co.in/setprefs?sig=0_tZrhHHxnw2j0PywUMBgB2dhfaKs%3D&amp;hl=gu&amp;source=homepage\" data-ved=\"0ahUKEwiRsoSfmLPSAhXDmpQKHZoVCWQQ2ZgBCAo\">&#2711;&#2753;&#2716;&#2736;&#2750;&#2724;&#2752;</a>  <a href=\"https://www.google.co.in/setprefs?sig=0_tZrhHHxnw2j0PywUMBgB2dhfaKs%3D&amp;hl=kn&amp;source=homepage\" data-ved=\"0ahUKEwiRsoSfmLPSAhXDmpQKHZoVCWQQ2ZgBCAs\">&#3221;&#3240;&#3277;&#3240;&#3233;</a>  <a href=\"https://www.google.co.in/setprefs?sig=0_tZrhHHxnw2j0PywUMBgB2dhfaKs%3D&amp;hl=ml&amp;source=homepage\" data-ved=\"0ahUKEwiRsoSfmLPSAhXDmpQKHZoVCWQQ2ZgBCAw\">&#3374;&#3378;&#3375;&#3390;&#3379;&#3330;</a>  <a href=\"https://www.google.co.in/setprefs?sig=0_tZrhHHxnw2j0PywUMBgB2dhfaKs%3D&amp;hl=pa&amp;source=homepage\" data-ved=\"0ahUKEwiRsoSfmLPSAhXDmpQKHZoVCWQQ2ZgBCA0\">&#2602;&#2672;&#2588;&#2622;&#2604;&#2624;</a> </div></div></div><span id=\"footer\"><div style=\"font-size:10pt\"><div style=\"margin:19px auto;text-align:center\" id=\"fll\"><a href=\"/intl/en/ads/\">Advertising\\xa0Programs</a><a href=\"http://www.google.co.in/services/\">Business Solutions</a><a href=\"https://plus.google.com/104205742743787718296\" rel=\"publisher\">+Google</a><a href=\"/intl/en/about.html\">About Google</a><a href=\"https://www.google.co.in/setprefdomain?prefdom=US&amp;sig=__oiJx43cd8Qg88y9P6F5j8wJ0u5I%3D\" id=\"fehl\">Google.com</a></div></div><p style=\"color:#767676;font-size:8pt\">&copy; 2017 - <a href=\"/intl/en/policies/privacy/\">Privacy</a> - <a href=\"/intl/en/policies/terms/\">Terms</a></p></span></center><script>(function(){window.google.cdo={height:0,width:0};(function(){var a=window.innerWidth,b=window.innerHeight;if(!a||!b)var c=window.document,d=\"CSS1Compat\"==c.compatMode?c.documentElement:c.body,a=d.clientWidth,b=d.clientHeight;a&&b&&(a!=google.cdo.width||b!=google.cdo.height)&&google.log(\"\",\"\",\"/client_204?&atyp=i&biw=\"+a+\"&bih=\"+b+\"&ei=\"+google.kEI);}).call(this);})();</script><div id=\"xjsd\"></div><div id=\"xjsi\"><script>(function(){function c(b){window.setTimeout(function(){var a=document.createElement(\"script\");a.src=b;document.getElementById(\"xjsd\").appendChild(a)},0)}google.dljp=function(b,a){google.xjsu=b;c(a)};google.dlj=c;}).call(this);(function(){window.google.xjsrm=[];})();if(google.y)google.y.first=[];if(!google.xjs){window._=window._||{};window._._DumpException=function(e){throw e};if(google.timers&&google.timers.load.t){google.timers.load.t.xjsls=new Date().getTime();}google.dljp(\\'/xjs/_/js/k\\\\x3dxjs.hp.en_US.45XUE-SOg_g.O/m\\\\x3dsb_he,d/am\\\\x3dBg/rt\\\\x3dj/d\\\\x3d1/t\\\\x3dzcms/rs\\\\x3dACT90oFLgcdqX6AZjgmzUkRdlsaU63A4yQ\\',\\'/xjs/_/js/k\\\\x3dxjs.hp.en_US.45XUE-SOg_g.O/m\\\\x3dsb_he,d/am\\\\x3dBg/rt\\\\x3dj/d\\\\x3d1/t\\\\x3dzcms/rs\\\\x3dACT90oFLgcdqX6AZjgmzUkRdlsaU63A4yQ\\');google.xjs=1;}google.pmc={\"sb_he\":{\"agen\":true,\"cgen\":true,\"client\":\"heirloom-hp\",\"dh\":true,\"dhqt\":true,\"ds\":\"\",\"fl\":true,\"host\":\"google.co.in\",\"isbh\":28,\"jam\":0,\"jsonp\":true,\"msgs\":{\"cibl\":\"Clear Search\",\"dym\":\"Did you mean:\",\"lcky\":\"I\\\\u0026#39;m Feeling Lucky\",\"lml\":\"Learn more\",\"oskt\":\"Input tools\",\"psrc\":\"This search was removed from your \\\\u003Ca href=\\\\\"/history\\\\\"\\\\u003EWeb History\\\\u003C/a\\\\u003E\",\"psrl\":\"Remove\",\"sbit\":\"Search by image\",\"srch\":\"Google Search\"},\"nds\":true,\"ovr\":{},\"pq\":\"\",\"refpd\":true,\"rfs\":[],\"sbpl\":24,\"sbpr\":24,\"scd\":10,\"sce\":5,\"stok\":\"u4yGZ7WcOl5eIbRAzfK1QEAJhY8\"},\"d\":{},\"B0OV6w\":{}};google.y.first.push(function(){if(google.med){google.med(\\'init\\');google.initHistory();google.med(\\'history\\');}});if(google.j&&google.j.en&&google.j.xi){window.setTimeout(google.j.xi,0);}\\n</script></div></body></html>'"
      ]
     },
     "execution_count": 32,
     "metadata": {},
     "output_type": "execute_result"
    }
   ],
   "source": [
    "uf.read()"
   ]
  },
  {
   "cell_type": "code",
   "execution_count": 33,
   "metadata": {
    "collapsed": false
   },
   "outputs": [
    {
     "data": {
      "text/plain": [
       "('blah.gif', <httplib.HTTPMessage instance at 0x1046878c0>)"
      ]
     },
     "execution_count": 33,
     "metadata": {},
     "output_type": "execute_result"
    }
   ],
   "source": [
    "# Saves the image of today google gif image\n",
    "urllib.urlretrieve('http://google.com/intl/en_ALL/images/logo.gif', 'blah.gif')"
   ]
  },
  {
   "cell_type": "code",
   "execution_count": 34,
   "metadata": {
    "collapsed": true
   },
   "outputs": [],
   "source": [
    "# List comprehension in Python\n",
    "a = ['aaaa', 'c', 'fffffff']"
   ]
  },
  {
   "cell_type": "code",
   "execution_count": 35,
   "metadata": {
    "collapsed": false
   },
   "outputs": [
    {
     "data": {
      "text/plain": [
       "[4, 1, 7]"
      ]
     },
     "execution_count": 35,
     "metadata": {},
     "output_type": "execute_result"
    }
   ],
   "source": [
    "[len(s) for s in a]"
   ]
  },
  {
   "cell_type": "code",
   "execution_count": 36,
   "metadata": {
    "collapsed": false
   },
   "outputs": [
    {
     "data": {
      "text/plain": [
       "[1, 4, 9, 16, 25, 36, 49, 64, 81]"
      ]
     },
     "execution_count": 36,
     "metadata": {},
     "output_type": "execute_result"
    }
   ],
   "source": [
    "a = [1, 2, 3, 4, 5, 6, 7, 8, 9]\n",
    "[num*num for num in a]"
   ]
  },
  {
   "cell_type": "code",
   "execution_count": 37,
   "metadata": {
    "collapsed": false
   },
   "outputs": [
    {
     "data": {
      "text/plain": [
       "[9, 16, 25, 36, 49, 64, 81]"
      ]
     },
     "execution_count": 37,
     "metadata": {},
     "output_type": "execute_result"
    }
   ],
   "source": [
    "[num*num for num in a if num > 2]"
   ]
  },
  {
   "cell_type": "markdown",
   "metadata": {
    "collapsed": true
   },
   "source": [
    "# Creating exceptions"
   ]
  },
  {
   "cell_type": "code",
   "execution_count": 3,
   "metadata": {
    "collapsed": true
   },
   "outputs": [],
   "source": [
    "def cat(filename):\n",
    "    f = open(filename, 'r')\n",
    "    text = f.read()\n",
    "    print '--we are printing file from'+filename\n",
    "    print text"
   ]
  },
  {
   "cell_type": "code",
   "execution_count": 4,
   "metadata": {
    "collapsed": false
   },
   "outputs": [
    {
     "name": "stdout",
     "output_type": "stream",
     "text": [
      "--we are printing file from/Users/viswanathravindran/TrainMat/Python/PythonCodes/GooglePy/small.txt\n",
      "We are not what we should be\n",
      "We are not what we need to be\n",
      "But at least we are not what we used to be\n",
      "-- Football Coach\n"
     ]
    }
   ],
   "source": [
    "cat('/Users/viswanathravindran/TrainMat/Python/PythonCodes/GooglePy/small.txt')"
   ]
  },
  {
   "cell_type": "code",
   "execution_count": 7,
   "metadata": {
    "collapsed": false
   },
   "outputs": [
    {
     "name": "stdout",
     "output_type": "stream",
     "text": [
      "--we are printing file fromsmall.txt\n",
      "We are not what we should be\n",
      "We are not what we need to be\n",
      "But at least we are not what we used to be\n",
      "-- Football Coach\n"
     ]
    }
   ],
   "source": [
    "cat('small.txt')"
   ]
  },
  {
   "cell_type": "code",
   "execution_count": 8,
   "metadata": {
    "collapsed": true
   },
   "outputs": [],
   "source": [
    "def cat(filename):\n",
    "    try:\n",
    "        f = open(filename, 'r')\n",
    "        text = f.read()\n",
    "        print '--we are printing file from'+filename\n",
    "        print text\n",
    "    except IOError:\n",
    "        print 'Incorrect filenamr in argument'"
   ]
  },
  {
   "cell_type": "code",
   "execution_count": 9,
   "metadata": {
    "collapsed": false
   },
   "outputs": [
    {
     "name": "stdout",
     "output_type": "stream",
     "text": [
      "Incorrect filenamr in argument\n"
     ]
    }
   ],
   "source": [
    "cat('small1.txt')"
   ]
  },
  {
   "cell_type": "code",
   "execution_count": 10,
   "metadata": {
    "collapsed": true
   },
   "outputs": [],
   "source": [
    "# import an already written program in python\n",
    "import hello"
   ]
  },
  {
   "cell_type": "code",
   "execution_count": 11,
   "metadata": {
    "collapsed": false
   },
   "outputs": [
    {
     "data": {
      "text/plain": [
       "['Cat',\n",
       " '__builtins__',\n",
       " '__doc__',\n",
       " '__file__',\n",
       " '__name__',\n",
       " '__package__',\n",
       " 'main',\n",
       " 'sys']"
      ]
     },
     "execution_count": 11,
     "metadata": {},
     "output_type": "execute_result"
    }
   ],
   "source": [
    "# This will list down all the possible functions under the hello.py \n",
    "dir(hello)"
   ]
  },
  {
   "cell_type": "code",
   "execution_count": 12,
   "metadata": {
    "collapsed": false
   },
   "outputs": [
    {
     "name": "stdout",
     "output_type": "stream",
     "text": [
      "We are not what we should be\n",
      "We are not what we need to be\n",
      "But at least we are not what we used to be\n",
      "-- Football Coach\n"
     ]
    }
   ],
   "source": [
    "# we can try to call the cat function which print the file content\n",
    "# It introduces the cocept of sharing modules\n",
    "hello.Cat('small.txt')"
   ]
  },
  {
   "cell_type": "code",
   "execution_count": 13,
   "metadata": {
    "collapsed": true
   },
   "outputs": [],
   "source": [
    "import urllib2"
   ]
  },
  {
   "cell_type": "code",
   "execution_count": 14,
   "metadata": {
    "collapsed": false
   },
   "outputs": [
    {
     "data": {
      "text/plain": [
       "['AbstractBasicAuthHandler',\n",
       " 'AbstractDigestAuthHandler',\n",
       " 'AbstractHTTPHandler',\n",
       " 'BaseHandler',\n",
       " 'CacheFTPHandler',\n",
       " 'FTPHandler',\n",
       " 'FileHandler',\n",
       " 'HTTPBasicAuthHandler',\n",
       " 'HTTPCookieProcessor',\n",
       " 'HTTPDefaultErrorHandler',\n",
       " 'HTTPDigestAuthHandler',\n",
       " 'HTTPError',\n",
       " 'HTTPErrorProcessor',\n",
       " 'HTTPHandler',\n",
       " 'HTTPPasswordMgr',\n",
       " 'HTTPPasswordMgrWithDefaultRealm',\n",
       " 'HTTPRedirectHandler',\n",
       " 'HTTPSHandler',\n",
       " 'OpenerDirector',\n",
       " 'ProxyBasicAuthHandler',\n",
       " 'ProxyDigestAuthHandler',\n",
       " 'ProxyHandler',\n",
       " 'Request',\n",
       " 'StringIO',\n",
       " 'URLError',\n",
       " 'UnknownHandler',\n",
       " '__builtins__',\n",
       " '__doc__',\n",
       " '__file__',\n",
       " '__name__',\n",
       " '__package__',\n",
       " '__version__',\n",
       " '_cut_port_re',\n",
       " '_have_ssl',\n",
       " '_opener',\n",
       " '_parse_proxy',\n",
       " '_safe_gethostbyname',\n",
       " 'addinfourl',\n",
       " 'base64',\n",
       " 'bisect',\n",
       " 'build_opener',\n",
       " 'ftpwrapper',\n",
       " 'getproxies',\n",
       " 'hashlib',\n",
       " 'httplib',\n",
       " 'install_opener',\n",
       " 'localhost',\n",
       " 'mimetools',\n",
       " 'os',\n",
       " 'parse_http_list',\n",
       " 'parse_keqv_list',\n",
       " 'posixpath',\n",
       " 'proxy_bypass',\n",
       " 'quote',\n",
       " 'random',\n",
       " 'randombytes',\n",
       " 're',\n",
       " 'request_host',\n",
       " 'socket',\n",
       " 'splitattr',\n",
       " 'splithost',\n",
       " 'splitpasswd',\n",
       " 'splitport',\n",
       " 'splittag',\n",
       " 'splittype',\n",
       " 'splituser',\n",
       " 'splitvalue',\n",
       " 'ssl',\n",
       " 'sys',\n",
       " 'time',\n",
       " 'toBytes',\n",
       " 'unquote',\n",
       " 'unwrap',\n",
       " 'url2pathname',\n",
       " 'urlopen',\n",
       " 'urlparse',\n",
       " 'warnings']"
      ]
     },
     "execution_count": 14,
     "metadata": {},
     "output_type": "execute_result"
    }
   ],
   "source": [
    "dir(urllib2)"
   ]
  },
  {
   "cell_type": "markdown",
   "metadata": {
    "collapsed": false
   },
   "source": [
    "# List Comprehension"
   ]
  },
  {
   "cell_type": "code",
   "execution_count": 1,
   "metadata": {
    "collapsed": true
   },
   "outputs": [],
   "source": [
    "# these are used for creating lists on the fly\n",
    "a = ['aaaa', 'b', 'ccccc']"
   ]
  },
  {
   "cell_type": "code",
   "execution_count": 2,
   "metadata": {
    "collapsed": false
   },
   "outputs": [
    {
     "data": {
      "text/plain": [
       "[3, 3, 3]"
      ]
     },
     "execution_count": 2,
     "metadata": {},
     "output_type": "execute_result"
    }
   ],
   "source": [
    "[ len(a) for s in a ]"
   ]
  },
  {
   "cell_type": "code",
   "execution_count": 4,
   "metadata": {
    "collapsed": false
   },
   "outputs": [
    {
     "data": {
      "text/plain": [
       "['xyz__hello__.txt', 'zz__something__.jpg']"
      ]
     },
     "execution_count": 4,
     "metadata": {},
     "output_type": "execute_result"
    }
   ],
   "source": [
    "import os\n",
    "import re\n",
    "[  f   for f in os.listdir('/Users/viswanathravindran/TrainMat/Python/PythonCodes/GooglePy/copyspecial')  if re.search(r'__\\w+__', f)  ]"
   ]
  },
  {
   "cell_type": "code",
   "execution_count": null,
   "metadata": {
    "collapsed": true
   },
   "outputs": [],
   "source": []
  }
 ],
 "metadata": {
  "anaconda-cloud": {},
  "kernelspec": {
   "display_name": "Python [conda root]",
   "language": "python",
   "name": "conda-root-py"
  },
  "language_info": {
   "codemirror_mode": {
    "name": "ipython",
    "version": 2
   },
   "file_extension": ".py",
   "mimetype": "text/x-python",
   "name": "python",
   "nbconvert_exporter": "python",
   "pygments_lexer": "ipython2",
   "version": "2.7.12"
  }
 },
 "nbformat": 4,
 "nbformat_minor": 1
}
