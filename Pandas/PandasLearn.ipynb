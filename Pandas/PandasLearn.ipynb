{
 "cells": [
  {
   "cell_type": "code",
   "execution_count": 1,
   "metadata": {
    "collapsed": true
   },
   "outputs": [],
   "source": [
    "import numpy as np\n",
    "import pandas as pd"
   ]
  },
  {
   "cell_type": "code",
   "execution_count": 2,
   "metadata": {
    "collapsed": false
   },
   "outputs": [
    {
     "data": {
      "text/plain": [
       "0    0.706271\n",
       "1   -1.117333\n",
       "2   -0.053271\n",
       "3    0.316534\n",
       "4   -0.997328\n",
       "dtype: float64"
      ]
     },
     "execution_count": 2,
     "metadata": {},
     "output_type": "execute_result"
    }
   ],
   "source": [
    "pd.Series(np.random.randn(5))"
   ]
  },
  {
   "cell_type": "code",
   "execution_count": 3,
   "metadata": {
    "collapsed": false,
    "scrolled": true
   },
   "outputs": [
    {
     "data": {
      "text/plain": [
       "a   -1.125490\n",
       "b    0.854709\n",
       "c    0.476398\n",
       "d    0.657874\n",
       "e   -0.366096\n",
       "dtype: float64"
      ]
     },
     "execution_count": 3,
     "metadata": {},
     "output_type": "execute_result"
    }
   ],
   "source": [
    "pd.Series(np.random.randn(5), index=['a','b','c','d','e'])"
   ]
  },
  {
   "cell_type": "code",
   "execution_count": 4,
   "metadata": {
    "collapsed": true
   },
   "outputs": [],
   "source": [
    "a = {'a':1,'b':2,'c':3,'d':4}"
   ]
  },
  {
   "cell_type": "code",
   "execution_count": 5,
   "metadata": {
    "collapsed": false
   },
   "outputs": [
    {
     "data": {
      "text/plain": [
       "{'a': 1, 'b': 2, 'c': 3, 'd': 4}"
      ]
     },
     "execution_count": 5,
     "metadata": {},
     "output_type": "execute_result"
    }
   ],
   "source": [
    "a"
   ]
  },
  {
   "cell_type": "code",
   "execution_count": 6,
   "metadata": {
    "collapsed": false
   },
   "outputs": [
    {
     "data": {
      "text/plain": [
       "a    1\n",
       "b    2\n",
       "c    3\n",
       "d    4\n",
       "dtype: int64"
      ]
     },
     "execution_count": 6,
     "metadata": {},
     "output_type": "execute_result"
    }
   ],
   "source": [
    "pd.Series(a)"
   ]
  },
  {
   "cell_type": "code",
   "execution_count": 7,
   "metadata": {
    "collapsed": false
   },
   "outputs": [
    {
     "data": {
      "text/plain": [
       "a    5\n",
       "b    5\n",
       "c    5\n",
       "d    5\n",
       "e    5\n",
       "dtype: int64"
      ]
     },
     "execution_count": 7,
     "metadata": {},
     "output_type": "execute_result"
    }
   ],
   "source": [
    "pd.Series(5, index=['a','b','c','d','e'])"
   ]
  },
  {
   "cell_type": "code",
   "execution_count": 8,
   "metadata": {
    "collapsed": true
   },
   "outputs": [],
   "source": [
    "s = pd.Series(np.random.randn(5), index=['a','b','c','d','e'])"
   ]
  },
  {
   "cell_type": "code",
   "execution_count": 9,
   "metadata": {
    "collapsed": false
   },
   "outputs": [
    {
     "data": {
      "text/plain": [
       "a    0.079975\n",
       "b   -0.182391\n",
       "c   -0.897492\n",
       "d   -0.873592\n",
       "e   -1.184345\n",
       "dtype: float64"
      ]
     },
     "execution_count": 9,
     "metadata": {},
     "output_type": "execute_result"
    }
   ],
   "source": [
    "s"
   ]
  },
  {
   "cell_type": "code",
   "execution_count": 10,
   "metadata": {
    "collapsed": false
   },
   "outputs": [
    {
     "data": {
      "text/plain": [
       "0.079974832506847712"
      ]
     },
     "execution_count": 10,
     "metadata": {},
     "output_type": "execute_result"
    }
   ],
   "source": [
    "s[0]"
   ]
  },
  {
   "cell_type": "code",
   "execution_count": 11,
   "metadata": {
    "collapsed": false
   },
   "outputs": [
    {
     "data": {
      "text/plain": [
       "a    0.079975\n",
       "b   -0.182391\n",
       "c   -0.897492\n",
       "dtype: float64"
      ]
     },
     "execution_count": 11,
     "metadata": {},
     "output_type": "execute_result"
    }
   ],
   "source": [
    "s[:3]"
   ]
  },
  {
   "cell_type": "code",
   "execution_count": 12,
   "metadata": {
    "collapsed": false
   },
   "outputs": [
    {
     "data": {
      "text/plain": [
       "a    0.079975\n",
       "b   -0.182391\n",
       "dtype: float64"
      ]
     },
     "execution_count": 12,
     "metadata": {},
     "output_type": "execute_result"
    }
   ],
   "source": [
    "s[s>s.median()]"
   ]
  },
  {
   "cell_type": "code",
   "execution_count": 13,
   "metadata": {
    "collapsed": false
   },
   "outputs": [
    {
     "data": {
      "text/plain": [
       "-0.8735917666812979"
      ]
     },
     "execution_count": 13,
     "metadata": {},
     "output_type": "execute_result"
    }
   ],
   "source": [
    "s.median()"
   ]
  },
  {
   "cell_type": "code",
   "execution_count": 14,
   "metadata": {
    "collapsed": false
   },
   "outputs": [
    {
     "data": {
      "text/plain": [
       "e   -1.184345\n",
       "d   -0.873592\n",
       "b   -0.182391\n",
       "dtype: float64"
      ]
     },
     "execution_count": 14,
     "metadata": {},
     "output_type": "execute_result"
    }
   ],
   "source": [
    "s[[4,3,1]]"
   ]
  },
  {
   "cell_type": "code",
   "execution_count": 15,
   "metadata": {
    "collapsed": false
   },
   "outputs": [
    {
     "data": {
      "text/plain": [
       "a    1.083260\n",
       "b    0.833275\n",
       "c    0.407591\n",
       "d    0.417449\n",
       "e    0.305947\n",
       "dtype: float64"
      ]
     },
     "execution_count": 15,
     "metadata": {},
     "output_type": "execute_result"
    }
   ],
   "source": [
    "np.exp(s)"
   ]
  },
  {
   "cell_type": "code",
   "execution_count": 16,
   "metadata": {
    "collapsed": false
   },
   "outputs": [
    {
     "data": {
      "text/plain": [
       "a    0.079975\n",
       "b   -0.182391\n",
       "c   -0.897492\n",
       "d   -0.873592\n",
       "e   -1.184345\n",
       "dtype: float64"
      ]
     },
     "execution_count": 16,
     "metadata": {},
     "output_type": "execute_result"
    }
   ],
   "source": [
    "s"
   ]
  },
  {
   "cell_type": "code",
   "execution_count": 17,
   "metadata": {
    "collapsed": false
   },
   "outputs": [
    {
     "data": {
      "text/plain": [
       "0.079974832506847712"
      ]
     },
     "execution_count": 17,
     "metadata": {},
     "output_type": "execute_result"
    }
   ],
   "source": [
    "s['a']"
   ]
  },
  {
   "cell_type": "code",
   "execution_count": 18,
   "metadata": {
    "collapsed": true
   },
   "outputs": [],
   "source": [
    "s['e'] = 12"
   ]
  },
  {
   "cell_type": "code",
   "execution_count": 19,
   "metadata": {
    "collapsed": false
   },
   "outputs": [
    {
     "data": {
      "text/plain": [
       "a     0.079975\n",
       "b    -0.182391\n",
       "c    -0.897492\n",
       "d    -0.873592\n",
       "e    12.000000\n",
       "dtype: float64"
      ]
     },
     "execution_count": 19,
     "metadata": {},
     "output_type": "execute_result"
    }
   ],
   "source": [
    "s"
   ]
  },
  {
   "cell_type": "code",
   "execution_count": 20,
   "metadata": {
    "collapsed": false
   },
   "outputs": [
    {
     "data": {
      "text/plain": [
       "True"
      ]
     },
     "execution_count": 20,
     "metadata": {},
     "output_type": "execute_result"
    }
   ],
   "source": [
    "'d' in s"
   ]
  },
  {
   "cell_type": "code",
   "execution_count": 21,
   "metadata": {
    "collapsed": false
   },
   "outputs": [
    {
     "data": {
      "text/plain": [
       "-0.89749152616727723"
      ]
     },
     "execution_count": 21,
     "metadata": {},
     "output_type": "execute_result"
    }
   ],
   "source": [
    "s.get('c')"
   ]
  },
  {
   "cell_type": "code",
   "execution_count": 22,
   "metadata": {
    "collapsed": false
   },
   "outputs": [
    {
     "data": {
      "text/plain": [
       "a     0.079975\n",
       "b    -0.182391\n",
       "c    -0.897492\n",
       "d    -0.873592\n",
       "e    12.000000\n",
       "dtype: float64"
      ]
     },
     "execution_count": 22,
     "metadata": {},
     "output_type": "execute_result"
    }
   ],
   "source": [
    "s"
   ]
  },
  {
   "cell_type": "code",
   "execution_count": 23,
   "metadata": {
    "collapsed": false
   },
   "outputs": [
    {
     "data": {
      "text/plain": [
       "nan"
      ]
     },
     "execution_count": 23,
     "metadata": {},
     "output_type": "execute_result"
    }
   ],
   "source": [
    "s.get('f',np.nan)"
   ]
  },
  {
   "cell_type": "code",
   "execution_count": 24,
   "metadata": {
    "collapsed": false
   },
   "outputs": [
    {
     "data": {
      "text/plain": [
       "a     0.159950\n",
       "b    -0.364782\n",
       "c    -1.794983\n",
       "d    -1.747184\n",
       "e    24.000000\n",
       "dtype: float64"
      ]
     },
     "execution_count": 24,
     "metadata": {},
     "output_type": "execute_result"
    }
   ],
   "source": [
    "s+s"
   ]
  },
  {
   "cell_type": "code",
   "execution_count": 25,
   "metadata": {
    "collapsed": false
   },
   "outputs": [
    {
     "data": {
      "text/plain": [
       "a      0.799748\n",
       "b     -1.823911\n",
       "c     -8.974915\n",
       "d     -8.735918\n",
       "e    120.000000\n",
       "dtype: float64"
      ]
     },
     "execution_count": 25,
     "metadata": {},
     "output_type": "execute_result"
    }
   ],
   "source": [
    "s*10"
   ]
  },
  {
   "cell_type": "code",
   "execution_count": 26,
   "metadata": {
    "collapsed": false
   },
   "outputs": [
    {
     "data": {
      "text/plain": [
       "a         1.083260\n",
       "b         0.833275\n",
       "c         0.407591\n",
       "d         0.417449\n",
       "e    162754.791419\n",
       "dtype: float64"
      ]
     },
     "execution_count": 26,
     "metadata": {},
     "output_type": "execute_result"
    }
   ],
   "source": [
    "np.exp(s)"
   ]
  },
  {
   "cell_type": "code",
   "execution_count": 27,
   "metadata": {
    "collapsed": false
   },
   "outputs": [
    {
     "data": {
      "text/plain": [
       "a         NaN\n",
       "b   -0.364782\n",
       "c   -1.794983\n",
       "d   -1.747184\n",
       "e         NaN\n",
       "dtype: float64"
      ]
     },
     "execution_count": 27,
     "metadata": {},
     "output_type": "execute_result"
    }
   ],
   "source": [
    "s[1:]+s[:-1]"
   ]
  },
  {
   "cell_type": "code",
   "execution_count": 28,
   "metadata": {
    "collapsed": false
   },
   "outputs": [
    {
     "data": {
      "text/plain": [
       "b    -0.182391\n",
       "c    -0.897492\n",
       "d    -0.873592\n",
       "e    12.000000\n",
       "dtype: float64"
      ]
     },
     "execution_count": 28,
     "metadata": {},
     "output_type": "execute_result"
    }
   ],
   "source": [
    "s[1:]"
   ]
  },
  {
   "cell_type": "code",
   "execution_count": 29,
   "metadata": {
    "collapsed": false
   },
   "outputs": [
    {
     "data": {
      "text/plain": [
       "a    0.079975\n",
       "b   -0.182391\n",
       "c   -0.897492\n",
       "d   -0.873592\n",
       "dtype: float64"
      ]
     },
     "execution_count": 29,
     "metadata": {},
     "output_type": "execute_result"
    }
   ],
   "source": [
    "s[:-1]"
   ]
  },
  {
   "cell_type": "code",
   "execution_count": 30,
   "metadata": {
    "collapsed": true
   },
   "outputs": [],
   "source": [
    "del s"
   ]
  },
  {
   "cell_type": "code",
   "execution_count": 31,
   "metadata": {
    "collapsed": true
   },
   "outputs": [],
   "source": [
    "s=pd.Series([1,8,3,6,2], index=['a','b','c','d','e'])"
   ]
  },
  {
   "cell_type": "code",
   "execution_count": 32,
   "metadata": {
    "collapsed": false
   },
   "outputs": [
    {
     "data": {
      "text/plain": [
       "a    1\n",
       "b    8\n",
       "c    3\n",
       "d    6\n",
       "e    2\n",
       "dtype: int64"
      ]
     },
     "execution_count": 32,
     "metadata": {},
     "output_type": "execute_result"
    }
   ],
   "source": [
    "s"
   ]
  },
  {
   "cell_type": "code",
   "execution_count": 33,
   "metadata": {
    "collapsed": false
   },
   "outputs": [
    {
     "data": {
      "text/plain": [
       "b    10\n",
       "c     5\n",
       "d     8\n",
       "e     4\n",
       "dtype: int64"
      ]
     },
     "execution_count": 33,
     "metadata": {},
     "output_type": "execute_result"
    }
   ],
   "source": [
    "s[1:]+s[-1]"
   ]
  },
  {
   "cell_type": "code",
   "execution_count": 34,
   "metadata": {
    "collapsed": false
   },
   "outputs": [
    {
     "data": {
      "text/plain": [
       "a     NaN\n",
       "b    16.0\n",
       "c     6.0\n",
       "d    12.0\n",
       "e     NaN\n",
       "dtype: float64"
      ]
     },
     "execution_count": 34,
     "metadata": {},
     "output_type": "execute_result"
    }
   ],
   "source": [
    "s[1:]+s[:-1]"
   ]
  },
  {
   "cell_type": "code",
   "execution_count": 35,
   "metadata": {
    "collapsed": true
   },
   "outputs": [],
   "source": [
    "d = {'one': pd.Series([1,2,3], index=['a','b','c']), 'two': pd.Series([1,2,3,4], index=['a','b','c','d'])}"
   ]
  },
  {
   "cell_type": "code",
   "execution_count": 36,
   "metadata": {
    "collapsed": true
   },
   "outputs": [],
   "source": [
    "s = pd.Series((1,2,3,4), index=['a','b','c','d'])"
   ]
  },
  {
   "cell_type": "code",
   "execution_count": 37,
   "metadata": {
    "collapsed": false
   },
   "outputs": [
    {
     "data": {
      "text/plain": [
       "a    1\n",
       "b    2\n",
       "c    3\n",
       "d    4\n",
       "dtype: int64"
      ]
     },
     "execution_count": 37,
     "metadata": {},
     "output_type": "execute_result"
    }
   ],
   "source": [
    "s"
   ]
  },
  {
   "cell_type": "code",
   "execution_count": 38,
   "metadata": {
    "collapsed": false
   },
   "outputs": [
    {
     "data": {
      "text/plain": [
       "a    NaN\n",
       "b    4.0\n",
       "c    6.0\n",
       "d    NaN\n",
       "dtype: float64"
      ]
     },
     "execution_count": 38,
     "metadata": {},
     "output_type": "execute_result"
    }
   ],
   "source": [
    "s[1:]+s[:-1]"
   ]
  },
  {
   "cell_type": "code",
   "execution_count": 39,
   "metadata": {
    "collapsed": true
   },
   "outputs": [],
   "source": [
    "d = {'one' : pd.Series([1., 2., 3.], index=['a', 'b', 'c']),\n",
    "   ....:      'two' : pd.Series([1., 2., 3., 4.], index=['a', 'b', 'c', 'd'])}\n",
    "   ....: "
   ]
  },
  {
   "cell_type": "code",
   "execution_count": 40,
   "metadata": {
    "collapsed": false
   },
   "outputs": [
    {
     "data": {
      "text/plain": [
       "{'one': a    1.0\n",
       " b    2.0\n",
       " c    3.0\n",
       " dtype: float64, 'two': a    1.0\n",
       " b    2.0\n",
       " c    3.0\n",
       " d    4.0\n",
       " dtype: float64}"
      ]
     },
     "execution_count": 40,
     "metadata": {},
     "output_type": "execute_result"
    }
   ],
   "source": [
    "d"
   ]
  },
  {
   "cell_type": "code",
   "execution_count": 41,
   "metadata": {
    "collapsed": true
   },
   "outputs": [],
   "source": [
    "df =pd.DataFrame(d)"
   ]
  },
  {
   "cell_type": "code",
   "execution_count": 42,
   "metadata": {
    "collapsed": false
   },
   "outputs": [
    {
     "data": {
      "text/html": [
       "<div>\n",
       "<table border=\"1\" class=\"dataframe\">\n",
       "  <thead>\n",
       "    <tr style=\"text-align: right;\">\n",
       "      <th></th>\n",
       "      <th>one</th>\n",
       "      <th>two</th>\n",
       "    </tr>\n",
       "  </thead>\n",
       "  <tbody>\n",
       "    <tr>\n",
       "      <th>a</th>\n",
       "      <td>1.0</td>\n",
       "      <td>1.0</td>\n",
       "    </tr>\n",
       "    <tr>\n",
       "      <th>b</th>\n",
       "      <td>2.0</td>\n",
       "      <td>2.0</td>\n",
       "    </tr>\n",
       "    <tr>\n",
       "      <th>c</th>\n",
       "      <td>3.0</td>\n",
       "      <td>3.0</td>\n",
       "    </tr>\n",
       "    <tr>\n",
       "      <th>d</th>\n",
       "      <td>NaN</td>\n",
       "      <td>4.0</td>\n",
       "    </tr>\n",
       "  </tbody>\n",
       "</table>\n",
       "</div>"
      ],
      "text/plain": [
       "   one  two\n",
       "a  1.0  1.0\n",
       "b  2.0  2.0\n",
       "c  3.0  3.0\n",
       "d  NaN  4.0"
      ]
     },
     "execution_count": 42,
     "metadata": {},
     "output_type": "execute_result"
    }
   ],
   "source": [
    "df"
   ]
  },
  {
   "cell_type": "code",
   "execution_count": 43,
   "metadata": {
    "collapsed": false
   },
   "outputs": [
    {
     "data": {
      "text/html": [
       "<div>\n",
       "<table border=\"1\" class=\"dataframe\">\n",
       "  <thead>\n",
       "    <tr style=\"text-align: right;\">\n",
       "      <th></th>\n",
       "      <th>one</th>\n",
       "      <th>two</th>\n",
       "    </tr>\n",
       "  </thead>\n",
       "  <tbody>\n",
       "    <tr>\n",
       "      <th>d</th>\n",
       "      <td>NaN</td>\n",
       "      <td>4.0</td>\n",
       "    </tr>\n",
       "    <tr>\n",
       "      <th>b</th>\n",
       "      <td>2.0</td>\n",
       "      <td>2.0</td>\n",
       "    </tr>\n",
       "    <tr>\n",
       "      <th>a</th>\n",
       "      <td>1.0</td>\n",
       "      <td>1.0</td>\n",
       "    </tr>\n",
       "  </tbody>\n",
       "</table>\n",
       "</div>"
      ],
      "text/plain": [
       "   one  two\n",
       "d  NaN  4.0\n",
       "b  2.0  2.0\n",
       "a  1.0  1.0"
      ]
     },
     "execution_count": 43,
     "metadata": {},
     "output_type": "execute_result"
    }
   ],
   "source": [
    "pd.DataFrame(d, index=['d', 'b', 'a'])"
   ]
  },
  {
   "cell_type": "code",
   "execution_count": 46,
   "metadata": {
    "collapsed": false
   },
   "outputs": [
    {
     "data": {
      "text/html": [
       "<div>\n",
       "<table border=\"1\" class=\"dataframe\">\n",
       "  <thead>\n",
       "    <tr style=\"text-align: right;\">\n",
       "      <th></th>\n",
       "      <th>two</th>\n",
       "      <th>three</th>\n",
       "    </tr>\n",
       "  </thead>\n",
       "  <tbody>\n",
       "    <tr>\n",
       "      <th>d</th>\n",
       "      <td>4.0</td>\n",
       "      <td>NaN</td>\n",
       "    </tr>\n",
       "    <tr>\n",
       "      <th>b</th>\n",
       "      <td>2.0</td>\n",
       "      <td>NaN</td>\n",
       "    </tr>\n",
       "    <tr>\n",
       "      <th>a</th>\n",
       "      <td>1.0</td>\n",
       "      <td>NaN</td>\n",
       "    </tr>\n",
       "  </tbody>\n",
       "</table>\n",
       "</div>"
      ],
      "text/plain": [
       "   two three\n",
       "d  4.0   NaN\n",
       "b  2.0   NaN\n",
       "a  1.0   NaN"
      ]
     },
     "execution_count": 46,
     "metadata": {},
     "output_type": "execute_result"
    }
   ],
   "source": [
    "pd.DataFrame(d, index=['d', 'b', 'a'], columns=['two', 'three'])"
   ]
  },
  {
   "cell_type": "code",
   "execution_count": 47,
   "metadata": {
    "collapsed": false
   },
   "outputs": [
    {
     "data": {
      "text/plain": [
       "{'one': a    1.0\n",
       " b    2.0\n",
       " c    3.0\n",
       " dtype: float64, 'two': a    1.0\n",
       " b    2.0\n",
       " c    3.0\n",
       " d    4.0\n",
       " dtype: float64}"
      ]
     },
     "execution_count": 47,
     "metadata": {},
     "output_type": "execute_result"
    }
   ],
   "source": [
    "d"
   ]
  },
  {
   "cell_type": "code",
   "execution_count": 48,
   "metadata": {
    "collapsed": false
   },
   "outputs": [
    {
     "data": {
      "text/html": [
       "<div>\n",
       "<table border=\"1\" class=\"dataframe\">\n",
       "  <thead>\n",
       "    <tr style=\"text-align: right;\">\n",
       "      <th></th>\n",
       "      <th>one</th>\n",
       "      <th>two</th>\n",
       "    </tr>\n",
       "  </thead>\n",
       "  <tbody>\n",
       "    <tr>\n",
       "      <th>a</th>\n",
       "      <td>1.0</td>\n",
       "      <td>1.0</td>\n",
       "    </tr>\n",
       "    <tr>\n",
       "      <th>b</th>\n",
       "      <td>2.0</td>\n",
       "      <td>2.0</td>\n",
       "    </tr>\n",
       "    <tr>\n",
       "      <th>c</th>\n",
       "      <td>3.0</td>\n",
       "      <td>3.0</td>\n",
       "    </tr>\n",
       "    <tr>\n",
       "      <th>d</th>\n",
       "      <td>NaN</td>\n",
       "      <td>4.0</td>\n",
       "    </tr>\n",
       "  </tbody>\n",
       "</table>\n",
       "</div>"
      ],
      "text/plain": [
       "   one  two\n",
       "a  1.0  1.0\n",
       "b  2.0  2.0\n",
       "c  3.0  3.0\n",
       "d  NaN  4.0"
      ]
     },
     "execution_count": 48,
     "metadata": {},
     "output_type": "execute_result"
    }
   ],
   "source": [
    "pd.DataFrame(d)"
   ]
  },
  {
   "cell_type": "code",
   "execution_count": 24,
   "metadata": {
    "collapsed": false,
    "scrolled": true
   },
   "outputs": [
    {
     "data": {
      "image/png": "[encoded data removed]",
      "text/plain": [
       "<matplotlib.figure.Figure at 0x112bf1b90>"
      ]
     },
     "metadata": {},
     "output_type": "display_data"
    }
   ],
   "source": [
    "import matplotlib.pyplot as plt\n",
    "import numpy as np\n",
    "\n",
    "x = df['ApplicantIncome']\n",
    "hist, bins = np.histogram(x, bins=100)\n",
    "width = 1 * (bins[1] - bins[0])\n",
    "center = (bins[:-1] + bins[1:]) / 2\n",
    "plt.bar(center, hist, align='center', width=width)\n",
    "plt.show()"
   ]
  },
  {
   "cell_type": "markdown",
   "metadata": {},
   "source": [
    "# This is the begining of the Alfred Essa Series"
   ]
  },
  {
   "cell_type": "code",
   "execution_count": 49,
   "metadata": {
    "collapsed": true
   },
   "outputs": [],
   "source": [
    "import numpy as np\n",
    "import pandas as pd"
   ]
  },
  {
   "cell_type": "code",
   "execution_count": 50,
   "metadata": {
    "collapsed": true
   },
   "outputs": [],
   "source": [
    "s1=pd.Series([23,19,15,89,-5,9])"
   ]
  },
  {
   "cell_type": "code",
   "execution_count": 51,
   "metadata": {
    "collapsed": false
   },
   "outputs": [
    {
     "data": {
      "text/plain": [
       "0    23\n",
       "1    19\n",
       "2    15\n",
       "3    89\n",
       "4    -5\n",
       "5     9\n",
       "dtype: int64"
      ]
     },
     "execution_count": 51,
     "metadata": {},
     "output_type": "execute_result"
    }
   ],
   "source": [
    "s1"
   ]
  },
  {
   "cell_type": "code",
   "execution_count": 52,
   "metadata": {
    "collapsed": false
   },
   "outputs": [
    {
     "data": {
      "text/plain": [
       "pandas.core.series.Series"
      ]
     },
     "execution_count": 52,
     "metadata": {},
     "output_type": "execute_result"
    }
   ],
   "source": [
    "type(s1)"
   ]
  },
  {
   "cell_type": "code",
   "execution_count": 53,
   "metadata": {
    "collapsed": false
   },
   "outputs": [
    {
     "data": {
      "text/plain": [
       "array([23, 19, 15, 89, -5,  9])"
      ]
     },
     "execution_count": 53,
     "metadata": {},
     "output_type": "execute_result"
    }
   ],
   "source": [
    "s1.values"
   ]
  },
  {
   "cell_type": "code",
   "execution_count": 54,
   "metadata": {
    "collapsed": false
   },
   "outputs": [
    {
     "data": {
      "text/plain": [
       "numpy.ndarray"
      ]
     },
     "execution_count": 54,
     "metadata": {},
     "output_type": "execute_result"
    }
   ],
   "source": [
    "type(s1.values)"
   ]
  },
  {
   "cell_type": "code",
   "execution_count": 55,
   "metadata": {
    "collapsed": false
   },
   "outputs": [
    {
     "data": {
      "text/plain": [
       "RangeIndex(start=0, stop=6, step=1)"
      ]
     },
     "execution_count": 55,
     "metadata": {},
     "output_type": "execute_result"
    }
   ],
   "source": [
    "s1.index"
   ]
  },
  {
   "cell_type": "code",
   "execution_count": 56,
   "metadata": {
    "collapsed": false
   },
   "outputs": [
    {
     "data": {
      "text/plain": [
       "pandas.indexes.range.RangeIndex"
      ]
     },
     "execution_count": 56,
     "metadata": {},
     "output_type": "execute_result"
    }
   ],
   "source": [
    "type(s1.index)"
   ]
  },
  {
   "cell_type": "code",
   "execution_count": 57,
   "metadata": {
    "collapsed": false
   },
   "outputs": [
    {
     "data": {
      "text/plain": [
       "0    23\n",
       "1    19\n",
       "2    15\n",
       "3    89\n",
       "4    -5\n",
       "5     9\n",
       "dtype: int64"
      ]
     },
     "execution_count": 57,
     "metadata": {},
     "output_type": "execute_result"
    }
   ],
   "source": [
    "s1"
   ]
  },
  {
   "cell_type": "code",
   "execution_count": 58,
   "metadata": {
    "collapsed": true
   },
   "outputs": [],
   "source": [
    "data1=[33,19,15,89,11,-5,9]\n",
    "index1=['mon','tue','wed','thu','fri','sat','sun']"
   ]
  },
  {
   "cell_type": "code",
   "execution_count": 59,
   "metadata": {
    "collapsed": true
   },
   "outputs": [],
   "source": [
    "s2=pd.Series(data1, index=index1)"
   ]
  },
  {
   "cell_type": "code",
   "execution_count": 60,
   "metadata": {
    "collapsed": false
   },
   "outputs": [
    {
     "data": {
      "text/plain": [
       "mon    33\n",
       "tue    19\n",
       "wed    15\n",
       "thu    89\n",
       "fri    11\n",
       "sat    -5\n",
       "sun     9\n",
       "dtype: int64"
      ]
     },
     "execution_count": 60,
     "metadata": {},
     "output_type": "execute_result"
    }
   ],
   "source": [
    "s2"
   ]
  },
  {
   "cell_type": "code",
   "execution_count": 61,
   "metadata": {
    "collapsed": false
   },
   "outputs": [
    {
     "data": {
      "text/plain": [
       "Index([u'mon', u'tue', u'wed', u'thu', u'fri', u'sat', u'sun'], dtype='object')"
      ]
     },
     "execution_count": 61,
     "metadata": {},
     "output_type": "execute_result"
    }
   ],
   "source": [
    "s2.index"
   ]
  },
  {
   "cell_type": "code",
   "execution_count": 62,
   "metadata": {
    "collapsed": false
   },
   "outputs": [
    {
     "data": {
      "text/plain": [
       "numpy.ndarray"
      ]
     },
     "execution_count": 62,
     "metadata": {},
     "output_type": "execute_result"
    }
   ],
   "source": [
    "type(s2.values)"
   ]
  },
  {
   "cell_type": "code",
   "execution_count": 63,
   "metadata": {
    "collapsed": false
   },
   "outputs": [
    {
     "data": {
      "text/plain": [
       "pandas.indexes.base.Index"
      ]
     },
     "execution_count": 63,
     "metadata": {},
     "output_type": "execute_result"
    }
   ],
   "source": [
    "type(s2.index)"
   ]
  },
  {
   "cell_type": "code",
   "execution_count": 64,
   "metadata": {
    "collapsed": true
   },
   "outputs": [],
   "source": [
    "s2.name = 'Daily Temperatures'\n",
    "s2.index.name = 'weekday'"
   ]
  },
  {
   "cell_type": "code",
   "execution_count": 65,
   "metadata": {
    "collapsed": false
   },
   "outputs": [
    {
     "data": {
      "text/plain": [
       "weekday\n",
       "mon    33\n",
       "tue    19\n",
       "wed    15\n",
       "thu    89\n",
       "fri    11\n",
       "sat    -5\n",
       "sun     9\n",
       "Name: Daily Temperatures, dtype: int64"
      ]
     },
     "execution_count": 65,
     "metadata": {},
     "output_type": "execute_result"
    }
   ],
   "source": [
    "s2"
   ]
  },
  {
   "cell_type": "code",
   "execution_count": 66,
   "metadata": {
    "collapsed": true
   },
   "outputs": [],
   "source": [
    "data2= [33,19.3,15,89,11,-5,9]"
   ]
  },
  {
   "cell_type": "code",
   "execution_count": 67,
   "metadata": {
    "collapsed": true
   },
   "outputs": [],
   "source": [
    "s3 = pd.Series(data2, index = index1)"
   ]
  },
  {
   "cell_type": "code",
   "execution_count": 68,
   "metadata": {
    "collapsed": false
   },
   "outputs": [
    {
     "data": {
      "text/plain": [
       "mon    33.0\n",
       "tue    19.3\n",
       "wed    15.0\n",
       "thu    89.0\n",
       "fri    11.0\n",
       "sat    -5.0\n",
       "sun     9.0\n",
       "dtype: float64"
      ]
     },
     "execution_count": 68,
     "metadata": {},
     "output_type": "execute_result"
    }
   ],
   "source": [
    "s3"
   ]
  },
  {
   "cell_type": "code",
   "execution_count": 69,
   "metadata": {
    "collapsed": false
   },
   "outputs": [],
   "source": [
    "dict1 = {'Mon': 33, 'Tue': 19, 'Wed': 15, 'Thu': 89, 'Fri': 11, 'Sat': -5, 'Sun': 9}"
   ]
  },
  {
   "cell_type": "code",
   "execution_count": 70,
   "metadata": {
    "collapsed": false
   },
   "outputs": [],
   "source": [
    "s4 = pd.Series(dict1)"
   ]
  },
  {
   "cell_type": "code",
   "execution_count": 71,
   "metadata": {
    "collapsed": false
   },
   "outputs": [
    {
     "data": {
      "text/plain": [
       "Fri    11\n",
       "Mon    33\n",
       "Sat    -5\n",
       "Sun     9\n",
       "Thu    89\n",
       "Tue    19\n",
       "Wed    15\n",
       "dtype: int64"
      ]
     },
     "execution_count": 71,
     "metadata": {},
     "output_type": "execute_result"
    }
   ],
   "source": [
    "s4"
   ]
  },
  {
   "cell_type": "code",
   "execution_count": 72,
   "metadata": {
    "collapsed": false
   },
   "outputs": [
    {
     "data": {
      "text/plain": [
       "Fri     22\n",
       "Mon     66\n",
       "Sat    -10\n",
       "Sun     18\n",
       "Thu    178\n",
       "Tue     38\n",
       "Wed     30\n",
       "dtype: int64"
      ]
     },
     "execution_count": 72,
     "metadata": {},
     "output_type": "execute_result"
    }
   ],
   "source": [
    "#vector operations\n",
    "s4 *2"
   ]
  },
  {
   "cell_type": "code",
   "execution_count": 73,
   "metadata": {
    "collapsed": false
   },
   "outputs": [
    {
     "data": {
      "text/plain": [
       "Fri    2.397895\n",
       "Mon    3.496508\n",
       "Sat         NaN\n",
       "Sun    2.197225\n",
       "Thu    4.488636\n",
       "Tue    2.944439\n",
       "Wed    2.708050\n",
       "dtype: float64"
      ]
     },
     "execution_count": 73,
     "metadata": {},
     "output_type": "execute_result"
    }
   ],
   "source": [
    "np.log(s4)"
   ]
  },
  {
   "cell_type": "code",
   "execution_count": 74,
   "metadata": {
    "collapsed": false
   },
   "outputs": [
    {
     "data": {
      "text/plain": [
       "Thu    89\n",
       "Tue    19\n",
       "Wed    15\n",
       "dtype: int64"
      ]
     },
     "execution_count": 74,
     "metadata": {},
     "output_type": "execute_result"
    }
   ],
   "source": [
    "s4['Thu':'Wed']"
   ]
  },
  {
   "cell_type": "code",
   "execution_count": 75,
   "metadata": {
    "collapsed": false
   },
   "outputs": [
    {
     "data": {
      "text/plain": [
       "Sat    -5\n",
       "Sun     9\n",
       "Thu    89\n",
       "dtype: int64"
      ]
     },
     "execution_count": 75,
     "metadata": {},
     "output_type": "execute_result"
    }
   ],
   "source": [
    "s4[2:5]"
   ]
  },
  {
   "cell_type": "code",
   "execution_count": 76,
   "metadata": {
    "collapsed": false
   },
   "outputs": [
    {
     "data": {
      "text/plain": [
       "33"
      ]
     },
     "execution_count": 76,
     "metadata": {},
     "output_type": "execute_result"
    }
   ],
   "source": [
    "s4[1]"
   ]
  },
  {
   "cell_type": "code",
   "execution_count": 77,
   "metadata": {
    "collapsed": true
   },
   "outputs": [],
   "source": [
    "s4[1]=199"
   ]
  },
  {
   "cell_type": "code",
   "execution_count": 78,
   "metadata": {
    "collapsed": false
   },
   "outputs": [
    {
     "data": {
      "text/plain": [
       "Fri     11\n",
       "Mon    199\n",
       "Sat     -5\n",
       "Sun      9\n",
       "Thu     89\n",
       "Tue     19\n",
       "Wed     15\n",
       "dtype: int64"
      ]
     },
     "execution_count": 78,
     "metadata": {},
     "output_type": "execute_result"
    }
   ],
   "source": [
    "s4"
   ]
  },
  {
   "cell_type": "code",
   "execution_count": 79,
   "metadata": {
    "collapsed": false
   },
   "outputs": [
    {
     "data": {
      "text/plain": [
       "15.0"
      ]
     },
     "execution_count": 79,
     "metadata": {},
     "output_type": "execute_result"
    }
   ],
   "source": [
    "s4.median()"
   ]
  },
  {
   "cell_type": "code",
   "execution_count": 80,
   "metadata": {
    "collapsed": false
   },
   "outputs": [
    {
     "data": {
      "text/plain": [
       "199"
      ]
     },
     "execution_count": 80,
     "metadata": {},
     "output_type": "execute_result"
    }
   ],
   "source": [
    "s4.max()"
   ]
  },
  {
   "cell_type": "code",
   "execution_count": 81,
   "metadata": {
    "collapsed": false
   },
   "outputs": [
    {
     "data": {
      "text/plain": [
       "Fri     11\n",
       "Mon    210\n",
       "Sat    205\n",
       "Sun    214\n",
       "Thu    303\n",
       "Tue    322\n",
       "Wed    337\n",
       "dtype: int64"
      ]
     },
     "execution_count": 81,
     "metadata": {},
     "output_type": "execute_result"
    }
   ],
   "source": [
    "s4.cumsum()"
   ]
  },
  {
   "cell_type": "code",
   "execution_count": 82,
   "metadata": {
    "collapsed": false
   },
   "outputs": [
    {
     "name": "stdout",
     "output_type": "stream",
     "text": [
      "0 11\n",
      "1 199\n",
      "2 -5\n",
      "3 9\n",
      "4 89\n",
      "5 19\n",
      "6 15\n"
     ]
    }
   ],
   "source": [
    "for i,v in enumerate(s4):\n",
    "    print i, v"
   ]
  },
  {
   "cell_type": "code",
   "execution_count": 83,
   "metadata": {
    "collapsed": true
   },
   "outputs": [],
   "source": [
    "# List comprehension to create a new list\n",
    "new_list = [x**2 for x in s4]"
   ]
  },
  {
   "cell_type": "code",
   "execution_count": 84,
   "metadata": {
    "collapsed": false
   },
   "outputs": [
    {
     "data": {
      "text/plain": [
       "[121, 39601, 25, 81, 7921, 361, 225]"
      ]
     },
     "execution_count": 84,
     "metadata": {},
     "output_type": "execute_result"
    }
   ],
   "source": [
    "new_list"
   ]
  },
  {
   "cell_type": "code",
   "execution_count": 85,
   "metadata": {
    "collapsed": false
   },
   "outputs": [
    {
     "data": {
      "text/plain": [
       "True"
      ]
     },
     "execution_count": 85,
     "metadata": {},
     "output_type": "execute_result"
    }
   ],
   "source": [
    "'Sun' in s4"
   ]
  },
  {
   "cell_type": "code",
   "execution_count": 86,
   "metadata": {
    "collapsed": false
   },
   "outputs": [
    {
     "data": {
      "text/plain": [
       "19"
      ]
     },
     "execution_count": 86,
     "metadata": {},
     "output_type": "execute_result"
    }
   ],
   "source": [
    "s4['Tue']"
   ]
  },
  {
   "cell_type": "code",
   "execution_count": 87,
   "metadata": {
    "collapsed": true
   },
   "outputs": [],
   "source": [
    "s4['Tue'] = 200"
   ]
  },
  {
   "cell_type": "code",
   "execution_count": 88,
   "metadata": {
    "collapsed": false
   },
   "outputs": [
    {
     "data": {
      "text/plain": [
       "Fri     11\n",
       "Mon    199\n",
       "Sat     -5\n",
       "Sun      9\n",
       "Thu     89\n",
       "Tue    200\n",
       "Wed     15\n",
       "dtype: int64"
      ]
     },
     "execution_count": 88,
     "metadata": {},
     "output_type": "execute_result"
    }
   ],
   "source": [
    "s4"
   ]
  },
  {
   "cell_type": "code",
   "execution_count": 89,
   "metadata": {
    "collapsed": false
   },
   "outputs": [
    {
     "name": "stdout",
     "output_type": "stream",
     "text": [
      "Fri 11\n",
      "Mon 199\n",
      "Sat -5\n",
      "Sun 9\n",
      "Thu 89\n",
      "Tue 200\n",
      "Wed 15\n"
     ]
    }
   ],
   "source": [
    "for k, v in s4.iteritems():\n",
    "    print k, v"
   ]
  },
  {
   "cell_type": "code",
   "execution_count": 90,
   "metadata": {
    "collapsed": false
   },
   "outputs": [],
   "source": [
    "import datetime\n",
    "dt =  datetime.datetime(2013,12,1)\n",
    "end = datetime.datetime(2013,12,8)\n",
    "step = datetime.timedelta(days=1)\n",
    "dates = []"
   ]
  },
  {
   "cell_type": "code",
   "execution_count": 91,
   "metadata": {
    "collapsed": false
   },
   "outputs": [],
   "source": [
    "while dt < end:\n",
    "    dates.append(dt.strftime('%m-%d'))\n",
    "    dt += step"
   ]
  },
  {
   "cell_type": "code",
   "execution_count": 92,
   "metadata": {
    "collapsed": false
   },
   "outputs": [
    {
     "data": {
      "text/plain": [
       "['12-01', '12-02', '12-03', '12-04', '12-05', '12-06', '12-07']"
      ]
     },
     "execution_count": 92,
     "metadata": {},
     "output_type": "execute_result"
    }
   ],
   "source": [
    "dates"
   ]
  },
  {
   "cell_type": "code",
   "execution_count": 105,
   "metadata": {
    "collapsed": true
   },
   "outputs": [],
   "source": [
    "d = {'Date': dates, 'Tokyo': [15,19,15,11,9,8,13], 'Paris': [-2,2,5,7,9,-5,-3], 'Mumbai': [20,18,23,19,25,27,23]}"
   ]
  },
  {
   "cell_type": "code",
   "execution_count": 106,
   "metadata": {
    "collapsed": false
   },
   "outputs": [
    {
     "data": {
      "text/plain": [
       "{'Date': ['12-01', '12-02', '12-03', '12-04', '12-05', '12-06', '12-07'],\n",
       " 'Mumbai': [20, 18, 23, 19, 25, 27, 23],\n",
       " 'Paris': [-2, 2, 5, 7, 9, -5, -3],\n",
       " 'Tokyo': [15, 19, 15, 11, 9, 8, 13]}"
      ]
     },
     "execution_count": 106,
     "metadata": {},
     "output_type": "execute_result"
    }
   ],
   "source": [
    "d"
   ]
  },
  {
   "cell_type": "code",
   "execution_count": 107,
   "metadata": {
    "collapsed": false
   },
   "outputs": [],
   "source": [
    "temps = pd.DataFrame(d)"
   ]
  },
  {
   "cell_type": "code",
   "execution_count": 108,
   "metadata": {
    "collapsed": false
   },
   "outputs": [
    {
     "data": {
      "text/html": [
       "<div>\n",
       "<table border=\"1\" class=\"dataframe\">\n",
       "  <thead>\n",
       "    <tr style=\"text-align: right;\">\n",
       "      <th></th>\n",
       "      <th>Date</th>\n",
       "      <th>Mumbai</th>\n",
       "      <th>Paris</th>\n",
       "      <th>Tokyo</th>\n",
       "    </tr>\n",
       "  </thead>\n",
       "  <tbody>\n",
       "    <tr>\n",
       "      <th>0</th>\n",
       "      <td>12-01</td>\n",
       "      <td>20</td>\n",
       "      <td>-2</td>\n",
       "      <td>15</td>\n",
       "    </tr>\n",
       "    <tr>\n",
       "      <th>1</th>\n",
       "      <td>12-02</td>\n",
       "      <td>18</td>\n",
       "      <td>2</td>\n",
       "      <td>19</td>\n",
       "    </tr>\n",
       "    <tr>\n",
       "      <th>2</th>\n",
       "      <td>12-03</td>\n",
       "      <td>23</td>\n",
       "      <td>5</td>\n",
       "      <td>15</td>\n",
       "    </tr>\n",
       "    <tr>\n",
       "      <th>3</th>\n",
       "      <td>12-04</td>\n",
       "      <td>19</td>\n",
       "      <td>7</td>\n",
       "      <td>11</td>\n",
       "    </tr>\n",
       "    <tr>\n",
       "      <th>4</th>\n",
       "      <td>12-05</td>\n",
       "      <td>25</td>\n",
       "      <td>9</td>\n",
       "      <td>9</td>\n",
       "    </tr>\n",
       "    <tr>\n",
       "      <th>5</th>\n",
       "      <td>12-06</td>\n",
       "      <td>27</td>\n",
       "      <td>-5</td>\n",
       "      <td>8</td>\n",
       "    </tr>\n",
       "    <tr>\n",
       "      <th>6</th>\n",
       "      <td>12-07</td>\n",
       "      <td>23</td>\n",
       "      <td>-3</td>\n",
       "      <td>13</td>\n",
       "    </tr>\n",
       "  </tbody>\n",
       "</table>\n",
       "</div>"
      ],
      "text/plain": [
       "    Date  Mumbai  Paris  Tokyo\n",
       "0  12-01      20     -2     15\n",
       "1  12-02      18      2     19\n",
       "2  12-03      23      5     15\n",
       "3  12-04      19      7     11\n",
       "4  12-05      25      9      9\n",
       "5  12-06      27     -5      8\n",
       "6  12-07      23     -3     13"
      ]
     },
     "execution_count": 108,
     "metadata": {},
     "output_type": "execute_result"
    }
   ],
   "source": [
    "temps"
   ]
  },
  {
   "cell_type": "code",
   "execution_count": 109,
   "metadata": {
    "collapsed": false
   },
   "outputs": [
    {
     "name": "stdout",
     "output_type": "stream",
     "text": [
      "0    20\n",
      "1    18\n",
      "2    23\n",
      "3    19\n",
      "4    25\n",
      "5    27\n",
      "6    23\n",
      "Name: Mumbai, dtype: int64\n"
     ]
    }
   ],
   "source": [
    "print temps.Mumbai"
   ]
  },
  {
   "cell_type": "code",
   "execution_count": 110,
   "metadata": {
    "collapsed": false
   },
   "outputs": [
    {
     "data": {
      "text/plain": [
       "0    20\n",
       "1    18\n",
       "2    23\n",
       "3    19\n",
       "4    25\n",
       "5    27\n",
       "6    23\n",
       "Name: Mumbai, dtype: int64"
      ]
     },
     "execution_count": 110,
     "metadata": {},
     "output_type": "execute_result"
    }
   ],
   "source": [
    "ntemp = temps['Mumbai']\n",
    "ntemp"
   ]
  },
  {
   "cell_type": "code",
   "execution_count": 111,
   "metadata": {
    "collapsed": false
   },
   "outputs": [],
   "source": [
    "temps=temps.set_index('Date')"
   ]
  },
  {
   "cell_type": "code",
   "execution_count": 112,
   "metadata": {
    "collapsed": false
   },
   "outputs": [
    {
     "data": {
      "text/html": [
       "<div>\n",
       "<table border=\"1\" class=\"dataframe\">\n",
       "  <thead>\n",
       "    <tr style=\"text-align: right;\">\n",
       "      <th></th>\n",
       "      <th>Mumbai</th>\n",
       "      <th>Paris</th>\n",
       "      <th>Tokyo</th>\n",
       "    </tr>\n",
       "    <tr>\n",
       "      <th>Date</th>\n",
       "      <th></th>\n",
       "      <th></th>\n",
       "      <th></th>\n",
       "    </tr>\n",
       "  </thead>\n",
       "  <tbody>\n",
       "    <tr>\n",
       "      <th>12-01</th>\n",
       "      <td>20</td>\n",
       "      <td>-2</td>\n",
       "      <td>15</td>\n",
       "    </tr>\n",
       "    <tr>\n",
       "      <th>12-02</th>\n",
       "      <td>18</td>\n",
       "      <td>2</td>\n",
       "      <td>19</td>\n",
       "    </tr>\n",
       "    <tr>\n",
       "      <th>12-03</th>\n",
       "      <td>23</td>\n",
       "      <td>5</td>\n",
       "      <td>15</td>\n",
       "    </tr>\n",
       "    <tr>\n",
       "      <th>12-04</th>\n",
       "      <td>19</td>\n",
       "      <td>7</td>\n",
       "      <td>11</td>\n",
       "    </tr>\n",
       "    <tr>\n",
       "      <th>12-05</th>\n",
       "      <td>25</td>\n",
       "      <td>9</td>\n",
       "      <td>9</td>\n",
       "    </tr>\n",
       "    <tr>\n",
       "      <th>12-06</th>\n",
       "      <td>27</td>\n",
       "      <td>-5</td>\n",
       "      <td>8</td>\n",
       "    </tr>\n",
       "    <tr>\n",
       "      <th>12-07</th>\n",
       "      <td>23</td>\n",
       "      <td>-3</td>\n",
       "      <td>13</td>\n",
       "    </tr>\n",
       "  </tbody>\n",
       "</table>\n",
       "</div>"
      ],
      "text/plain": [
       "       Mumbai  Paris  Tokyo\n",
       "Date                       \n",
       "12-01      20     -2     15\n",
       "12-02      18      2     19\n",
       "12-03      23      5     15\n",
       "12-04      19      7     11\n",
       "12-05      25      9      9\n",
       "12-06      27     -5      8\n",
       "12-07      23     -3     13"
      ]
     },
     "execution_count": 112,
     "metadata": {},
     "output_type": "execute_result"
    }
   ],
   "source": [
    "temps"
   ]
  },
  {
   "cell_type": "code",
   "execution_count": 113,
   "metadata": {
    "collapsed": false
   },
   "outputs": [
    {
     "name": "stdout",
     "output_type": "stream",
     "text": [
      "12-06\n",
      "12-06\n",
      "27\n",
      "18\n",
      "22.1428571429\n"
     ]
    }
   ],
   "source": [
    "print(temps[\"Mumbai\"].idxmax())\n",
    "print(temps[\"Mumbai\"].idxmax())\n",
    "print(temps[\"Mumbai\"].max())\n",
    "print(temps[\"Mumbai\"].min())\n",
    "print(temps[\"Mumbai\"].mean())"
   ]
  },
  {
   "cell_type": "code",
   "execution_count": 114,
   "metadata": {
    "collapsed": true
   },
   "outputs": [],
   "source": [
    "def Cityperf(City):\n",
    "    City = City\n",
    "    print(\"For the City\", City)\n",
    "    print(\"The Max temperature was reported on\", temps[City].idxmax())\n",
    "    print(\"The Min temperature was reported on\", temps[City].idxmin())\n",
    "    print(\"The Mean temperature for the time available is\", temps[City].mean())"
   ]
  },
  {
   "cell_type": "code",
   "execution_count": 115,
   "metadata": {
    "collapsed": false
   },
   "outputs": [
    {
     "name": "stdout",
     "output_type": "stream",
     "text": [
      "('For the City', 'Paris')\n",
      "('The Max temperature was reported on', '12-05')\n",
      "('The Min temperature was reported on', '12-06')\n",
      "('The Mean temperature for the time available is', 1.8571428571428572)\n"
     ]
    }
   ],
   "source": [
    "Cityperf(\"Paris\")"
   ]
  },
  {
   "cell_type": "code",
   "execution_count": 116,
   "metadata": {
    "collapsed": false
   },
   "outputs": [],
   "source": [
    "titanic = pd.read_csv(\"/Users/viswanathravindran/DataFiles/Titanic.csv\")"
   ]
  },
  {
   "cell_type": "code",
   "execution_count": 117,
   "metadata": {
    "collapsed": false
   },
   "outputs": [
    {
     "data": {
      "text/html": [
       "<div>\n",
       "<table border=\"1\" class=\"dataframe\">\n",
       "  <thead>\n",
       "    <tr style=\"text-align: right;\">\n",
       "      <th></th>\n",
       "      <th>PassengerId</th>\n",
       "      <th>Survived</th>\n",
       "      <th>Pclass</th>\n",
       "      <th>Name</th>\n",
       "      <th>Sex</th>\n",
       "      <th>Age</th>\n",
       "      <th>SibSp</th>\n",
       "      <th>Parch</th>\n",
       "      <th>Ticket</th>\n",
       "      <th>Fare</th>\n",
       "      <th>Cabin</th>\n",
       "      <th>Embarked</th>\n",
       "    </tr>\n",
       "  </thead>\n",
       "  <tbody>\n",
       "    <tr>\n",
       "      <th>0</th>\n",
       "      <td>1</td>\n",
       "      <td>0</td>\n",
       "      <td>3</td>\n",
       "      <td>Braund, Mr. Owen Harris</td>\n",
       "      <td>male</td>\n",
       "      <td>22.0</td>\n",
       "      <td>1</td>\n",
       "      <td>0</td>\n",
       "      <td>A/5 21171</td>\n",
       "      <td>7.2500</td>\n",
       "      <td>NaN</td>\n",
       "      <td>S</td>\n",
       "    </tr>\n",
       "    <tr>\n",
       "      <th>1</th>\n",
       "      <td>2</td>\n",
       "      <td>1</td>\n",
       "      <td>1</td>\n",
       "      <td>Cumings, Mrs. John Bradley (Florence Briggs Th...</td>\n",
       "      <td>female</td>\n",
       "      <td>38.0</td>\n",
       "      <td>1</td>\n",
       "      <td>0</td>\n",
       "      <td>PC 17599</td>\n",
       "      <td>71.2833</td>\n",
       "      <td>C85</td>\n",
       "      <td>C</td>\n",
       "    </tr>\n",
       "    <tr>\n",
       "      <th>2</th>\n",
       "      <td>3</td>\n",
       "      <td>1</td>\n",
       "      <td>3</td>\n",
       "      <td>Heikkinen, Miss. Laina</td>\n",
       "      <td>female</td>\n",
       "      <td>26.0</td>\n",
       "      <td>0</td>\n",
       "      <td>0</td>\n",
       "      <td>STON/O2. 3101282</td>\n",
       "      <td>7.9250</td>\n",
       "      <td>NaN</td>\n",
       "      <td>S</td>\n",
       "    </tr>\n",
       "    <tr>\n",
       "      <th>3</th>\n",
       "      <td>4</td>\n",
       "      <td>1</td>\n",
       "      <td>1</td>\n",
       "      <td>Futrelle, Mrs. Jacques Heath (Lily May Peel)</td>\n",
       "      <td>female</td>\n",
       "      <td>35.0</td>\n",
       "      <td>1</td>\n",
       "      <td>0</td>\n",
       "      <td>113803</td>\n",
       "      <td>53.1000</td>\n",
       "      <td>C123</td>\n",
       "      <td>S</td>\n",
       "    </tr>\n",
       "    <tr>\n",
       "      <th>4</th>\n",
       "      <td>5</td>\n",
       "      <td>0</td>\n",
       "      <td>3</td>\n",
       "      <td>Allen, Mr. William Henry</td>\n",
       "      <td>male</td>\n",
       "      <td>35.0</td>\n",
       "      <td>0</td>\n",
       "      <td>0</td>\n",
       "      <td>373450</td>\n",
       "      <td>8.0500</td>\n",
       "      <td>NaN</td>\n",
       "      <td>S</td>\n",
       "    </tr>\n",
       "    <tr>\n",
       "      <th>5</th>\n",
       "      <td>6</td>\n",
       "      <td>0</td>\n",
       "      <td>3</td>\n",
       "      <td>Moran, Mr. James</td>\n",
       "      <td>male</td>\n",
       "      <td>NaN</td>\n",
       "      <td>0</td>\n",
       "      <td>0</td>\n",
       "      <td>330877</td>\n",
       "      <td>8.4583</td>\n",
       "      <td>NaN</td>\n",
       "      <td>Q</td>\n",
       "    </tr>\n",
       "    <tr>\n",
       "      <th>6</th>\n",
       "      <td>7</td>\n",
       "      <td>0</td>\n",
       "      <td>1</td>\n",
       "      <td>McCarthy, Mr. Timothy J</td>\n",
       "      <td>male</td>\n",
       "      <td>54.0</td>\n",
       "      <td>0</td>\n",
       "      <td>0</td>\n",
       "      <td>17463</td>\n",
       "      <td>51.8625</td>\n",
       "      <td>E46</td>\n",
       "      <td>S</td>\n",
       "    </tr>\n",
       "    <tr>\n",
       "      <th>7</th>\n",
       "      <td>8</td>\n",
       "      <td>0</td>\n",
       "      <td>3</td>\n",
       "      <td>Palsson, Master. Gosta Leonard</td>\n",
       "      <td>male</td>\n",
       "      <td>2.0</td>\n",
       "      <td>3</td>\n",
       "      <td>1</td>\n",
       "      <td>349909</td>\n",
       "      <td>21.0750</td>\n",
       "      <td>NaN</td>\n",
       "      <td>S</td>\n",
       "    </tr>\n",
       "    <tr>\n",
       "      <th>8</th>\n",
       "      <td>9</td>\n",
       "      <td>1</td>\n",
       "      <td>3</td>\n",
       "      <td>Johnson, Mrs. Oscar W (Elisabeth Vilhelmina Berg)</td>\n",
       "      <td>female</td>\n",
       "      <td>27.0</td>\n",
       "      <td>0</td>\n",
       "      <td>2</td>\n",
       "      <td>347742</td>\n",
       "      <td>11.1333</td>\n",
       "      <td>NaN</td>\n",
       "      <td>S</td>\n",
       "    </tr>\n",
       "    <tr>\n",
       "      <th>9</th>\n",
       "      <td>10</td>\n",
       "      <td>1</td>\n",
       "      <td>2</td>\n",
       "      <td>Nasser, Mrs. Nicholas (Adele Achem)</td>\n",
       "      <td>female</td>\n",
       "      <td>14.0</td>\n",
       "      <td>1</td>\n",
       "      <td>0</td>\n",
       "      <td>237736</td>\n",
       "      <td>30.0708</td>\n",
       "      <td>NaN</td>\n",
       "      <td>C</td>\n",
       "    </tr>\n",
       "    <tr>\n",
       "      <th>10</th>\n",
       "      <td>11</td>\n",
       "      <td>1</td>\n",
       "      <td>3</td>\n",
       "      <td>Sandstrom, Miss. Marguerite Rut</td>\n",
       "      <td>female</td>\n",
       "      <td>4.0</td>\n",
       "      <td>1</td>\n",
       "      <td>1</td>\n",
       "      <td>PP 9549</td>\n",
       "      <td>16.7000</td>\n",
       "      <td>G6</td>\n",
       "      <td>S</td>\n",
       "    </tr>\n",
       "    <tr>\n",
       "      <th>11</th>\n",
       "      <td>12</td>\n",
       "      <td>1</td>\n",
       "      <td>1</td>\n",
       "      <td>Bonnell, Miss. Elizabeth</td>\n",
       "      <td>female</td>\n",
       "      <td>58.0</td>\n",
       "      <td>0</td>\n",
       "      <td>0</td>\n",
       "      <td>113783</td>\n",
       "      <td>26.5500</td>\n",
       "      <td>C103</td>\n",
       "      <td>S</td>\n",
       "    </tr>\n",
       "    <tr>\n",
       "      <th>12</th>\n",
       "      <td>13</td>\n",
       "      <td>0</td>\n",
       "      <td>3</td>\n",
       "      <td>Saundercock, Mr. William Henry</td>\n",
       "      <td>male</td>\n",
       "      <td>20.0</td>\n",
       "      <td>0</td>\n",
       "      <td>0</td>\n",
       "      <td>A/5. 2151</td>\n",
       "      <td>8.0500</td>\n",
       "      <td>NaN</td>\n",
       "      <td>S</td>\n",
       "    </tr>\n",
       "    <tr>\n",
       "      <th>13</th>\n",
       "      <td>14</td>\n",
       "      <td>0</td>\n",
       "      <td>3</td>\n",
       "      <td>Andersson, Mr. Anders Johan</td>\n",
       "      <td>male</td>\n",
       "      <td>39.0</td>\n",
       "      <td>1</td>\n",
       "      <td>5</td>\n",
       "      <td>347082</td>\n",
       "      <td>31.2750</td>\n",
       "      <td>NaN</td>\n",
       "      <td>S</td>\n",
       "    </tr>\n",
       "    <tr>\n",
       "      <th>14</th>\n",
       "      <td>15</td>\n",
       "      <td>0</td>\n",
       "      <td>3</td>\n",
       "      <td>Vestrom, Miss. Hulda Amanda Adolfina</td>\n",
       "      <td>female</td>\n",
       "      <td>14.0</td>\n",
       "      <td>0</td>\n",
       "      <td>0</td>\n",
       "      <td>350406</td>\n",
       "      <td>7.8542</td>\n",
       "      <td>NaN</td>\n",
       "      <td>S</td>\n",
       "    </tr>\n",
       "    <tr>\n",
       "      <th>15</th>\n",
       "      <td>16</td>\n",
       "      <td>1</td>\n",
       "      <td>2</td>\n",
       "      <td>Hewlett, Mrs. (Mary D Kingcome)</td>\n",
       "      <td>female</td>\n",
       "      <td>55.0</td>\n",
       "      <td>0</td>\n",
       "      <td>0</td>\n",
       "      <td>248706</td>\n",
       "      <td>16.0000</td>\n",
       "      <td>NaN</td>\n",
       "      <td>S</td>\n",
       "    </tr>\n",
       "    <tr>\n",
       "      <th>16</th>\n",
       "      <td>17</td>\n",
       "      <td>0</td>\n",
       "      <td>3</td>\n",
       "      <td>Rice, Master. Eugene</td>\n",
       "      <td>male</td>\n",
       "      <td>2.0</td>\n",
       "      <td>4</td>\n",
       "      <td>1</td>\n",
       "      <td>382652</td>\n",
       "      <td>29.1250</td>\n",
       "      <td>NaN</td>\n",
       "      <td>Q</td>\n",
       "    </tr>\n",
       "    <tr>\n",
       "      <th>17</th>\n",
       "      <td>18</td>\n",
       "      <td>1</td>\n",
       "      <td>2</td>\n",
       "      <td>Williams, Mr. Charles Eugene</td>\n",
       "      <td>male</td>\n",
       "      <td>NaN</td>\n",
       "      <td>0</td>\n",
       "      <td>0</td>\n",
       "      <td>244373</td>\n",
       "      <td>13.0000</td>\n",
       "      <td>NaN</td>\n",
       "      <td>S</td>\n",
       "    </tr>\n",
       "    <tr>\n",
       "      <th>18</th>\n",
       "      <td>19</td>\n",
       "      <td>0</td>\n",
       "      <td>3</td>\n",
       "      <td>Vander Planke, Mrs. Julius (Emelia Maria Vande...</td>\n",
       "      <td>female</td>\n",
       "      <td>31.0</td>\n",
       "      <td>1</td>\n",
       "      <td>0</td>\n",
       "      <td>345763</td>\n",
       "      <td>18.0000</td>\n",
       "      <td>NaN</td>\n",
       "      <td>S</td>\n",
       "    </tr>\n",
       "    <tr>\n",
       "      <th>19</th>\n",
       "      <td>20</td>\n",
       "      <td>1</td>\n",
       "      <td>3</td>\n",
       "      <td>Masselmani, Mrs. Fatima</td>\n",
       "      <td>female</td>\n",
       "      <td>NaN</td>\n",
       "      <td>0</td>\n",
       "      <td>0</td>\n",
       "      <td>2649</td>\n",
       "      <td>7.2250</td>\n",
       "      <td>NaN</td>\n",
       "      <td>C</td>\n",
       "    </tr>\n",
       "    <tr>\n",
       "      <th>20</th>\n",
       "      <td>21</td>\n",
       "      <td>0</td>\n",
       "      <td>2</td>\n",
       "      <td>Fynney, Mr. Joseph J</td>\n",
       "      <td>male</td>\n",
       "      <td>35.0</td>\n",
       "      <td>0</td>\n",
       "      <td>0</td>\n",
       "      <td>239865</td>\n",
       "      <td>26.0000</td>\n",
       "      <td>NaN</td>\n",
       "      <td>S</td>\n",
       "    </tr>\n",
       "    <tr>\n",
       "      <th>21</th>\n",
       "      <td>22</td>\n",
       "      <td>1</td>\n",
       "      <td>2</td>\n",
       "      <td>Beesley, Mr. Lawrence</td>\n",
       "      <td>male</td>\n",
       "      <td>34.0</td>\n",
       "      <td>0</td>\n",
       "      <td>0</td>\n",
       "      <td>248698</td>\n",
       "      <td>13.0000</td>\n",
       "      <td>D56</td>\n",
       "      <td>S</td>\n",
       "    </tr>\n",
       "    <tr>\n",
       "      <th>22</th>\n",
       "      <td>23</td>\n",
       "      <td>1</td>\n",
       "      <td>3</td>\n",
       "      <td>McGowan, Miss. Anna \"Annie\"</td>\n",
       "      <td>female</td>\n",
       "      <td>15.0</td>\n",
       "      <td>0</td>\n",
       "      <td>0</td>\n",
       "      <td>330923</td>\n",
       "      <td>8.0292</td>\n",
       "      <td>NaN</td>\n",
       "      <td>Q</td>\n",
       "    </tr>\n",
       "    <tr>\n",
       "      <th>23</th>\n",
       "      <td>24</td>\n",
       "      <td>1</td>\n",
       "      <td>1</td>\n",
       "      <td>Sloper, Mr. William Thompson</td>\n",
       "      <td>male</td>\n",
       "      <td>28.0</td>\n",
       "      <td>0</td>\n",
       "      <td>0</td>\n",
       "      <td>113788</td>\n",
       "      <td>35.5000</td>\n",
       "      <td>A6</td>\n",
       "      <td>S</td>\n",
       "    </tr>\n",
       "    <tr>\n",
       "      <th>24</th>\n",
       "      <td>25</td>\n",
       "      <td>0</td>\n",
       "      <td>3</td>\n",
       "      <td>Palsson, Miss. Torborg Danira</td>\n",
       "      <td>female</td>\n",
       "      <td>8.0</td>\n",
       "      <td>3</td>\n",
       "      <td>1</td>\n",
       "      <td>349909</td>\n",
       "      <td>21.0750</td>\n",
       "      <td>NaN</td>\n",
       "      <td>S</td>\n",
       "    </tr>\n",
       "    <tr>\n",
       "      <th>25</th>\n",
       "      <td>26</td>\n",
       "      <td>1</td>\n",
       "      <td>3</td>\n",
       "      <td>Asplund, Mrs. Carl Oscar (Selma Augusta Emilia...</td>\n",
       "      <td>female</td>\n",
       "      <td>38.0</td>\n",
       "      <td>1</td>\n",
       "      <td>5</td>\n",
       "      <td>347077</td>\n",
       "      <td>31.3875</td>\n",
       "      <td>NaN</td>\n",
       "      <td>S</td>\n",
       "    </tr>\n",
       "    <tr>\n",
       "      <th>26</th>\n",
       "      <td>27</td>\n",
       "      <td>0</td>\n",
       "      <td>3</td>\n",
       "      <td>Emir, Mr. Farred Chehab</td>\n",
       "      <td>male</td>\n",
       "      <td>NaN</td>\n",
       "      <td>0</td>\n",
       "      <td>0</td>\n",
       "      <td>2631</td>\n",
       "      <td>7.2250</td>\n",
       "      <td>NaN</td>\n",
       "      <td>C</td>\n",
       "    </tr>\n",
       "    <tr>\n",
       "      <th>27</th>\n",
       "      <td>28</td>\n",
       "      <td>0</td>\n",
       "      <td>1</td>\n",
       "      <td>Fortune, Mr. Charles Alexander</td>\n",
       "      <td>male</td>\n",
       "      <td>19.0</td>\n",
       "      <td>3</td>\n",
       "      <td>2</td>\n",
       "      <td>19950</td>\n",
       "      <td>263.0000</td>\n",
       "      <td>C23 C25 C27</td>\n",
       "      <td>S</td>\n",
       "    </tr>\n",
       "    <tr>\n",
       "      <th>28</th>\n",
       "      <td>29</td>\n",
       "      <td>1</td>\n",
       "      <td>3</td>\n",
       "      <td>O'Dwyer, Miss. Ellen \"Nellie\"</td>\n",
       "      <td>female</td>\n",
       "      <td>NaN</td>\n",
       "      <td>0</td>\n",
       "      <td>0</td>\n",
       "      <td>330959</td>\n",
       "      <td>7.8792</td>\n",
       "      <td>NaN</td>\n",
       "      <td>Q</td>\n",
       "    </tr>\n",
       "    <tr>\n",
       "      <th>29</th>\n",
       "      <td>30</td>\n",
       "      <td>0</td>\n",
       "      <td>3</td>\n",
       "      <td>Todoroff, Mr. Lalio</td>\n",
       "      <td>male</td>\n",
       "      <td>NaN</td>\n",
       "      <td>0</td>\n",
       "      <td>0</td>\n",
       "      <td>349216</td>\n",
       "      <td>7.8958</td>\n",
       "      <td>NaN</td>\n",
       "      <td>S</td>\n",
       "    </tr>\n",
       "    <tr>\n",
       "      <th>...</th>\n",
       "      <td>...</td>\n",
       "      <td>...</td>\n",
       "      <td>...</td>\n",
       "      <td>...</td>\n",
       "      <td>...</td>\n",
       "      <td>...</td>\n",
       "      <td>...</td>\n",
       "      <td>...</td>\n",
       "      <td>...</td>\n",
       "      <td>...</td>\n",
       "      <td>...</td>\n",
       "      <td>...</td>\n",
       "    </tr>\n",
       "    <tr>\n",
       "      <th>861</th>\n",
       "      <td>862</td>\n",
       "      <td>0</td>\n",
       "      <td>2</td>\n",
       "      <td>Giles, Mr. Frederick Edward</td>\n",
       "      <td>male</td>\n",
       "      <td>21.0</td>\n",
       "      <td>1</td>\n",
       "      <td>0</td>\n",
       "      <td>28134</td>\n",
       "      <td>11.5000</td>\n",
       "      <td>NaN</td>\n",
       "      <td>S</td>\n",
       "    </tr>\n",
       "    <tr>\n",
       "      <th>862</th>\n",
       "      <td>863</td>\n",
       "      <td>1</td>\n",
       "      <td>1</td>\n",
       "      <td>Swift, Mrs. Frederick Joel (Margaret Welles Ba...</td>\n",
       "      <td>female</td>\n",
       "      <td>48.0</td>\n",
       "      <td>0</td>\n",
       "      <td>0</td>\n",
       "      <td>17466</td>\n",
       "      <td>25.9292</td>\n",
       "      <td>D17</td>\n",
       "      <td>S</td>\n",
       "    </tr>\n",
       "    <tr>\n",
       "      <th>863</th>\n",
       "      <td>864</td>\n",
       "      <td>0</td>\n",
       "      <td>3</td>\n",
       "      <td>Sage, Miss. Dorothy Edith \"Dolly\"</td>\n",
       "      <td>female</td>\n",
       "      <td>NaN</td>\n",
       "      <td>8</td>\n",
       "      <td>2</td>\n",
       "      <td>CA. 2343</td>\n",
       "      <td>69.5500</td>\n",
       "      <td>NaN</td>\n",
       "      <td>S</td>\n",
       "    </tr>\n",
       "    <tr>\n",
       "      <th>864</th>\n",
       "      <td>865</td>\n",
       "      <td>0</td>\n",
       "      <td>2</td>\n",
       "      <td>Gill, Mr. John William</td>\n",
       "      <td>male</td>\n",
       "      <td>24.0</td>\n",
       "      <td>0</td>\n",
       "      <td>0</td>\n",
       "      <td>233866</td>\n",
       "      <td>13.0000</td>\n",
       "      <td>NaN</td>\n",
       "      <td>S</td>\n",
       "    </tr>\n",
       "    <tr>\n",
       "      <th>865</th>\n",
       "      <td>866</td>\n",
       "      <td>1</td>\n",
       "      <td>2</td>\n",
       "      <td>Bystrom, Mrs. (Karolina)</td>\n",
       "      <td>female</td>\n",
       "      <td>42.0</td>\n",
       "      <td>0</td>\n",
       "      <td>0</td>\n",
       "      <td>236852</td>\n",
       "      <td>13.0000</td>\n",
       "      <td>NaN</td>\n",
       "      <td>S</td>\n",
       "    </tr>\n",
       "    <tr>\n",
       "      <th>866</th>\n",
       "      <td>867</td>\n",
       "      <td>1</td>\n",
       "      <td>2</td>\n",
       "      <td>Duran y More, Miss. Asuncion</td>\n",
       "      <td>female</td>\n",
       "      <td>27.0</td>\n",
       "      <td>1</td>\n",
       "      <td>0</td>\n",
       "      <td>SC/PARIS 2149</td>\n",
       "      <td>13.8583</td>\n",
       "      <td>NaN</td>\n",
       "      <td>C</td>\n",
       "    </tr>\n",
       "    <tr>\n",
       "      <th>867</th>\n",
       "      <td>868</td>\n",
       "      <td>0</td>\n",
       "      <td>1</td>\n",
       "      <td>Roebling, Mr. Washington Augustus II</td>\n",
       "      <td>male</td>\n",
       "      <td>31.0</td>\n",
       "      <td>0</td>\n",
       "      <td>0</td>\n",
       "      <td>PC 17590</td>\n",
       "      <td>50.4958</td>\n",
       "      <td>A24</td>\n",
       "      <td>S</td>\n",
       "    </tr>\n",
       "    <tr>\n",
       "      <th>868</th>\n",
       "      <td>869</td>\n",
       "      <td>0</td>\n",
       "      <td>3</td>\n",
       "      <td>van Melkebeke, Mr. Philemon</td>\n",
       "      <td>male</td>\n",
       "      <td>NaN</td>\n",
       "      <td>0</td>\n",
       "      <td>0</td>\n",
       "      <td>345777</td>\n",
       "      <td>9.5000</td>\n",
       "      <td>NaN</td>\n",
       "      <td>S</td>\n",
       "    </tr>\n",
       "    <tr>\n",
       "      <th>869</th>\n",
       "      <td>870</td>\n",
       "      <td>1</td>\n",
       "      <td>3</td>\n",
       "      <td>Johnson, Master. Harold Theodor</td>\n",
       "      <td>male</td>\n",
       "      <td>4.0</td>\n",
       "      <td>1</td>\n",
       "      <td>1</td>\n",
       "      <td>347742</td>\n",
       "      <td>11.1333</td>\n",
       "      <td>NaN</td>\n",
       "      <td>S</td>\n",
       "    </tr>\n",
       "    <tr>\n",
       "      <th>870</th>\n",
       "      <td>871</td>\n",
       "      <td>0</td>\n",
       "      <td>3</td>\n",
       "      <td>Balkic, Mr. Cerin</td>\n",
       "      <td>male</td>\n",
       "      <td>26.0</td>\n",
       "      <td>0</td>\n",
       "      <td>0</td>\n",
       "      <td>349248</td>\n",
       "      <td>7.8958</td>\n",
       "      <td>NaN</td>\n",
       "      <td>S</td>\n",
       "    </tr>\n",
       "    <tr>\n",
       "      <th>871</th>\n",
       "      <td>872</td>\n",
       "      <td>1</td>\n",
       "      <td>1</td>\n",
       "      <td>Beckwith, Mrs. Richard Leonard (Sallie Monypeny)</td>\n",
       "      <td>female</td>\n",
       "      <td>47.0</td>\n",
       "      <td>1</td>\n",
       "      <td>1</td>\n",
       "      <td>11751</td>\n",
       "      <td>52.5542</td>\n",
       "      <td>D35</td>\n",
       "      <td>S</td>\n",
       "    </tr>\n",
       "    <tr>\n",
       "      <th>872</th>\n",
       "      <td>873</td>\n",
       "      <td>0</td>\n",
       "      <td>1</td>\n",
       "      <td>Carlsson, Mr. Frans Olof</td>\n",
       "      <td>male</td>\n",
       "      <td>33.0</td>\n",
       "      <td>0</td>\n",
       "      <td>0</td>\n",
       "      <td>695</td>\n",
       "      <td>5.0000</td>\n",
       "      <td>B51 B53 B55</td>\n",
       "      <td>S</td>\n",
       "    </tr>\n",
       "    <tr>\n",
       "      <th>873</th>\n",
       "      <td>874</td>\n",
       "      <td>0</td>\n",
       "      <td>3</td>\n",
       "      <td>Vander Cruyssen, Mr. Victor</td>\n",
       "      <td>male</td>\n",
       "      <td>47.0</td>\n",
       "      <td>0</td>\n",
       "      <td>0</td>\n",
       "      <td>345765</td>\n",
       "      <td>9.0000</td>\n",
       "      <td>NaN</td>\n",
       "      <td>S</td>\n",
       "    </tr>\n",
       "    <tr>\n",
       "      <th>874</th>\n",
       "      <td>875</td>\n",
       "      <td>1</td>\n",
       "      <td>2</td>\n",
       "      <td>Abelson, Mrs. Samuel (Hannah Wizosky)</td>\n",
       "      <td>female</td>\n",
       "      <td>28.0</td>\n",
       "      <td>1</td>\n",
       "      <td>0</td>\n",
       "      <td>P/PP 3381</td>\n",
       "      <td>24.0000</td>\n",
       "      <td>NaN</td>\n",
       "      <td>C</td>\n",
       "    </tr>\n",
       "    <tr>\n",
       "      <th>875</th>\n",
       "      <td>876</td>\n",
       "      <td>1</td>\n",
       "      <td>3</td>\n",
       "      <td>Najib, Miss. Adele Kiamie \"Jane\"</td>\n",
       "      <td>female</td>\n",
       "      <td>15.0</td>\n",
       "      <td>0</td>\n",
       "      <td>0</td>\n",
       "      <td>2667</td>\n",
       "      <td>7.2250</td>\n",
       "      <td>NaN</td>\n",
       "      <td>C</td>\n",
       "    </tr>\n",
       "    <tr>\n",
       "      <th>876</th>\n",
       "      <td>877</td>\n",
       "      <td>0</td>\n",
       "      <td>3</td>\n",
       "      <td>Gustafsson, Mr. Alfred Ossian</td>\n",
       "      <td>male</td>\n",
       "      <td>20.0</td>\n",
       "      <td>0</td>\n",
       "      <td>0</td>\n",
       "      <td>7534</td>\n",
       "      <td>9.8458</td>\n",
       "      <td>NaN</td>\n",
       "      <td>S</td>\n",
       "    </tr>\n",
       "    <tr>\n",
       "      <th>877</th>\n",
       "      <td>878</td>\n",
       "      <td>0</td>\n",
       "      <td>3</td>\n",
       "      <td>Petroff, Mr. Nedelio</td>\n",
       "      <td>male</td>\n",
       "      <td>19.0</td>\n",
       "      <td>0</td>\n",
       "      <td>0</td>\n",
       "      <td>349212</td>\n",
       "      <td>7.8958</td>\n",
       "      <td>NaN</td>\n",
       "      <td>S</td>\n",
       "    </tr>\n",
       "    <tr>\n",
       "      <th>878</th>\n",
       "      <td>879</td>\n",
       "      <td>0</td>\n",
       "      <td>3</td>\n",
       "      <td>Laleff, Mr. Kristo</td>\n",
       "      <td>male</td>\n",
       "      <td>NaN</td>\n",
       "      <td>0</td>\n",
       "      <td>0</td>\n",
       "      <td>349217</td>\n",
       "      <td>7.8958</td>\n",
       "      <td>NaN</td>\n",
       "      <td>S</td>\n",
       "    </tr>\n",
       "    <tr>\n",
       "      <th>879</th>\n",
       "      <td>880</td>\n",
       "      <td>1</td>\n",
       "      <td>1</td>\n",
       "      <td>Potter, Mrs. Thomas Jr (Lily Alexenia Wilson)</td>\n",
       "      <td>female</td>\n",
       "      <td>56.0</td>\n",
       "      <td>0</td>\n",
       "      <td>1</td>\n",
       "      <td>11767</td>\n",
       "      <td>83.1583</td>\n",
       "      <td>C50</td>\n",
       "      <td>C</td>\n",
       "    </tr>\n",
       "    <tr>\n",
       "      <th>880</th>\n",
       "      <td>881</td>\n",
       "      <td>1</td>\n",
       "      <td>2</td>\n",
       "      <td>Shelley, Mrs. William (Imanita Parrish Hall)</td>\n",
       "      <td>female</td>\n",
       "      <td>25.0</td>\n",
       "      <td>0</td>\n",
       "      <td>1</td>\n",
       "      <td>230433</td>\n",
       "      <td>26.0000</td>\n",
       "      <td>NaN</td>\n",
       "      <td>S</td>\n",
       "    </tr>\n",
       "    <tr>\n",
       "      <th>881</th>\n",
       "      <td>882</td>\n",
       "      <td>0</td>\n",
       "      <td>3</td>\n",
       "      <td>Markun, Mr. Johann</td>\n",
       "      <td>male</td>\n",
       "      <td>33.0</td>\n",
       "      <td>0</td>\n",
       "      <td>0</td>\n",
       "      <td>349257</td>\n",
       "      <td>7.8958</td>\n",
       "      <td>NaN</td>\n",
       "      <td>S</td>\n",
       "    </tr>\n",
       "    <tr>\n",
       "      <th>882</th>\n",
       "      <td>883</td>\n",
       "      <td>0</td>\n",
       "      <td>3</td>\n",
       "      <td>Dahlberg, Miss. Gerda Ulrika</td>\n",
       "      <td>female</td>\n",
       "      <td>22.0</td>\n",
       "      <td>0</td>\n",
       "      <td>0</td>\n",
       "      <td>7552</td>\n",
       "      <td>10.5167</td>\n",
       "      <td>NaN</td>\n",
       "      <td>S</td>\n",
       "    </tr>\n",
       "    <tr>\n",
       "      <th>883</th>\n",
       "      <td>884</td>\n",
       "      <td>0</td>\n",
       "      <td>2</td>\n",
       "      <td>Banfield, Mr. Frederick James</td>\n",
       "      <td>male</td>\n",
       "      <td>28.0</td>\n",
       "      <td>0</td>\n",
       "      <td>0</td>\n",
       "      <td>C.A./SOTON 34068</td>\n",
       "      <td>10.5000</td>\n",
       "      <td>NaN</td>\n",
       "      <td>S</td>\n",
       "    </tr>\n",
       "    <tr>\n",
       "      <th>884</th>\n",
       "      <td>885</td>\n",
       "      <td>0</td>\n",
       "      <td>3</td>\n",
       "      <td>Sutehall, Mr. Henry Jr</td>\n",
       "      <td>male</td>\n",
       "      <td>25.0</td>\n",
       "      <td>0</td>\n",
       "      <td>0</td>\n",
       "      <td>SOTON/OQ 392076</td>\n",
       "      <td>7.0500</td>\n",
       "      <td>NaN</td>\n",
       "      <td>S</td>\n",
       "    </tr>\n",
       "    <tr>\n",
       "      <th>885</th>\n",
       "      <td>886</td>\n",
       "      <td>0</td>\n",
       "      <td>3</td>\n",
       "      <td>Rice, Mrs. William (Margaret Norton)</td>\n",
       "      <td>female</td>\n",
       "      <td>39.0</td>\n",
       "      <td>0</td>\n",
       "      <td>5</td>\n",
       "      <td>382652</td>\n",
       "      <td>29.1250</td>\n",
       "      <td>NaN</td>\n",
       "      <td>Q</td>\n",
       "    </tr>\n",
       "    <tr>\n",
       "      <th>886</th>\n",
       "      <td>887</td>\n",
       "      <td>0</td>\n",
       "      <td>2</td>\n",
       "      <td>Montvila, Rev. Juozas</td>\n",
       "      <td>male</td>\n",
       "      <td>27.0</td>\n",
       "      <td>0</td>\n",
       "      <td>0</td>\n",
       "      <td>211536</td>\n",
       "      <td>13.0000</td>\n",
       "      <td>NaN</td>\n",
       "      <td>S</td>\n",
       "    </tr>\n",
       "    <tr>\n",
       "      <th>887</th>\n",
       "      <td>888</td>\n",
       "      <td>1</td>\n",
       "      <td>1</td>\n",
       "      <td>Graham, Miss. Margaret Edith</td>\n",
       "      <td>female</td>\n",
       "      <td>19.0</td>\n",
       "      <td>0</td>\n",
       "      <td>0</td>\n",
       "      <td>112053</td>\n",
       "      <td>30.0000</td>\n",
       "      <td>B42</td>\n",
       "      <td>S</td>\n",
       "    </tr>\n",
       "    <tr>\n",
       "      <th>888</th>\n",
       "      <td>889</td>\n",
       "      <td>0</td>\n",
       "      <td>3</td>\n",
       "      <td>Johnston, Miss. Catherine Helen \"Carrie\"</td>\n",
       "      <td>female</td>\n",
       "      <td>NaN</td>\n",
       "      <td>1</td>\n",
       "      <td>2</td>\n",
       "      <td>W./C. 6607</td>\n",
       "      <td>23.4500</td>\n",
       "      <td>NaN</td>\n",
       "      <td>S</td>\n",
       "    </tr>\n",
       "    <tr>\n",
       "      <th>889</th>\n",
       "      <td>890</td>\n",
       "      <td>1</td>\n",
       "      <td>1</td>\n",
       "      <td>Behr, Mr. Karl Howell</td>\n",
       "      <td>male</td>\n",
       "      <td>26.0</td>\n",
       "      <td>0</td>\n",
       "      <td>0</td>\n",
       "      <td>111369</td>\n",
       "      <td>30.0000</td>\n",
       "      <td>C148</td>\n",
       "      <td>C</td>\n",
       "    </tr>\n",
       "    <tr>\n",
       "      <th>890</th>\n",
       "      <td>891</td>\n",
       "      <td>0</td>\n",
       "      <td>3</td>\n",
       "      <td>Dooley, Mr. Patrick</td>\n",
       "      <td>male</td>\n",
       "      <td>32.0</td>\n",
       "      <td>0</td>\n",
       "      <td>0</td>\n",
       "      <td>370376</td>\n",
       "      <td>7.7500</td>\n",
       "      <td>NaN</td>\n",
       "      <td>Q</td>\n",
       "    </tr>\n",
       "  </tbody>\n",
       "</table>\n",
       "<p>891 rows × 12 columns</p>\n",
       "</div>"
      ],
      "text/plain": [
       "     PassengerId  Survived  Pclass  \\\n",
       "0              1         0       3   \n",
       "1              2         1       1   \n",
       "2              3         1       3   \n",
       "3              4         1       1   \n",
       "4              5         0       3   \n",
       "5              6         0       3   \n",
       "6              7         0       1   \n",
       "7              8         0       3   \n",
       "8              9         1       3   \n",
       "9             10         1       2   \n",
       "10            11         1       3   \n",
       "11            12         1       1   \n",
       "12            13         0       3   \n",
       "13            14         0       3   \n",
       "14            15         0       3   \n",
       "15            16         1       2   \n",
       "16            17         0       3   \n",
       "17            18         1       2   \n",
       "18            19         0       3   \n",
       "19            20         1       3   \n",
       "20            21         0       2   \n",
       "21            22         1       2   \n",
       "22            23         1       3   \n",
       "23            24         1       1   \n",
       "24            25         0       3   \n",
       "25            26         1       3   \n",
       "26            27         0       3   \n",
       "27            28         0       1   \n",
       "28            29         1       3   \n",
       "29            30         0       3   \n",
       "..           ...       ...     ...   \n",
       "861          862         0       2   \n",
       "862          863         1       1   \n",
       "863          864         0       3   \n",
       "864          865         0       2   \n",
       "865          866         1       2   \n",
       "866          867         1       2   \n",
       "867          868         0       1   \n",
       "868          869         0       3   \n",
       "869          870         1       3   \n",
       "870          871         0       3   \n",
       "871          872         1       1   \n",
       "872          873         0       1   \n",
       "873          874         0       3   \n",
       "874          875         1       2   \n",
       "875          876         1       3   \n",
       "876          877         0       3   \n",
       "877          878         0       3   \n",
       "878          879         0       3   \n",
       "879          880         1       1   \n",
       "880          881         1       2   \n",
       "881          882         0       3   \n",
       "882          883         0       3   \n",
       "883          884         0       2   \n",
       "884          885         0       3   \n",
       "885          886         0       3   \n",
       "886          887         0       2   \n",
       "887          888         1       1   \n",
       "888          889         0       3   \n",
       "889          890         1       1   \n",
       "890          891         0       3   \n",
       "\n",
       "                                                  Name     Sex   Age  SibSp  \\\n",
       "0                              Braund, Mr. Owen Harris    male  22.0      1   \n",
       "1    Cumings, Mrs. John Bradley (Florence Briggs Th...  female  38.0      1   \n",
       "2                               Heikkinen, Miss. Laina  female  26.0      0   \n",
       "3         Futrelle, Mrs. Jacques Heath (Lily May Peel)  female  35.0      1   \n",
       "4                             Allen, Mr. William Henry    male  35.0      0   \n",
       "5                                     Moran, Mr. James    male   NaN      0   \n",
       "6                              McCarthy, Mr. Timothy J    male  54.0      0   \n",
       "7                       Palsson, Master. Gosta Leonard    male   2.0      3   \n",
       "8    Johnson, Mrs. Oscar W (Elisabeth Vilhelmina Berg)  female  27.0      0   \n",
       "9                  Nasser, Mrs. Nicholas (Adele Achem)  female  14.0      1   \n",
       "10                     Sandstrom, Miss. Marguerite Rut  female   4.0      1   \n",
       "11                            Bonnell, Miss. Elizabeth  female  58.0      0   \n",
       "12                      Saundercock, Mr. William Henry    male  20.0      0   \n",
       "13                         Andersson, Mr. Anders Johan    male  39.0      1   \n",
       "14                Vestrom, Miss. Hulda Amanda Adolfina  female  14.0      0   \n",
       "15                    Hewlett, Mrs. (Mary D Kingcome)   female  55.0      0   \n",
       "16                                Rice, Master. Eugene    male   2.0      4   \n",
       "17                        Williams, Mr. Charles Eugene    male   NaN      0   \n",
       "18   Vander Planke, Mrs. Julius (Emelia Maria Vande...  female  31.0      1   \n",
       "19                             Masselmani, Mrs. Fatima  female   NaN      0   \n",
       "20                                Fynney, Mr. Joseph J    male  35.0      0   \n",
       "21                               Beesley, Mr. Lawrence    male  34.0      0   \n",
       "22                         McGowan, Miss. Anna \"Annie\"  female  15.0      0   \n",
       "23                        Sloper, Mr. William Thompson    male  28.0      0   \n",
       "24                       Palsson, Miss. Torborg Danira  female   8.0      3   \n",
       "25   Asplund, Mrs. Carl Oscar (Selma Augusta Emilia...  female  38.0      1   \n",
       "26                             Emir, Mr. Farred Chehab    male   NaN      0   \n",
       "27                      Fortune, Mr. Charles Alexander    male  19.0      3   \n",
       "28                       O'Dwyer, Miss. Ellen \"Nellie\"  female   NaN      0   \n",
       "29                                 Todoroff, Mr. Lalio    male   NaN      0   \n",
       "..                                                 ...     ...   ...    ...   \n",
       "861                        Giles, Mr. Frederick Edward    male  21.0      1   \n",
       "862  Swift, Mrs. Frederick Joel (Margaret Welles Ba...  female  48.0      0   \n",
       "863                  Sage, Miss. Dorothy Edith \"Dolly\"  female   NaN      8   \n",
       "864                             Gill, Mr. John William    male  24.0      0   \n",
       "865                           Bystrom, Mrs. (Karolina)  female  42.0      0   \n",
       "866                       Duran y More, Miss. Asuncion  female  27.0      1   \n",
       "867               Roebling, Mr. Washington Augustus II    male  31.0      0   \n",
       "868                        van Melkebeke, Mr. Philemon    male   NaN      0   \n",
       "869                    Johnson, Master. Harold Theodor    male   4.0      1   \n",
       "870                                  Balkic, Mr. Cerin    male  26.0      0   \n",
       "871   Beckwith, Mrs. Richard Leonard (Sallie Monypeny)  female  47.0      1   \n",
       "872                           Carlsson, Mr. Frans Olof    male  33.0      0   \n",
       "873                        Vander Cruyssen, Mr. Victor    male  47.0      0   \n",
       "874              Abelson, Mrs. Samuel (Hannah Wizosky)  female  28.0      1   \n",
       "875                   Najib, Miss. Adele Kiamie \"Jane\"  female  15.0      0   \n",
       "876                      Gustafsson, Mr. Alfred Ossian    male  20.0      0   \n",
       "877                               Petroff, Mr. Nedelio    male  19.0      0   \n",
       "878                                 Laleff, Mr. Kristo    male   NaN      0   \n",
       "879      Potter, Mrs. Thomas Jr (Lily Alexenia Wilson)  female  56.0      0   \n",
       "880       Shelley, Mrs. William (Imanita Parrish Hall)  female  25.0      0   \n",
       "881                                 Markun, Mr. Johann    male  33.0      0   \n",
       "882                       Dahlberg, Miss. Gerda Ulrika  female  22.0      0   \n",
       "883                      Banfield, Mr. Frederick James    male  28.0      0   \n",
       "884                             Sutehall, Mr. Henry Jr    male  25.0      0   \n",
       "885               Rice, Mrs. William (Margaret Norton)  female  39.0      0   \n",
       "886                              Montvila, Rev. Juozas    male  27.0      0   \n",
       "887                       Graham, Miss. Margaret Edith  female  19.0      0   \n",
       "888           Johnston, Miss. Catherine Helen \"Carrie\"  female   NaN      1   \n",
       "889                              Behr, Mr. Karl Howell    male  26.0      0   \n",
       "890                                Dooley, Mr. Patrick    male  32.0      0   \n",
       "\n",
       "     Parch            Ticket      Fare        Cabin Embarked  \n",
       "0        0         A/5 21171    7.2500          NaN        S  \n",
       "1        0          PC 17599   71.2833          C85        C  \n",
       "2        0  STON/O2. 3101282    7.9250          NaN        S  \n",
       "3        0            113803   53.1000         C123        S  \n",
       "4        0            373450    8.0500          NaN        S  \n",
       "5        0            330877    8.4583          NaN        Q  \n",
       "6        0             17463   51.8625          E46        S  \n",
       "7        1            349909   21.0750          NaN        S  \n",
       "8        2            347742   11.1333          NaN        S  \n",
       "9        0            237736   30.0708          NaN        C  \n",
       "10       1           PP 9549   16.7000           G6        S  \n",
       "11       0            113783   26.5500         C103        S  \n",
       "12       0         A/5. 2151    8.0500          NaN        S  \n",
       "13       5            347082   31.2750          NaN        S  \n",
       "14       0            350406    7.8542          NaN        S  \n",
       "15       0            248706   16.0000          NaN        S  \n",
       "16       1            382652   29.1250          NaN        Q  \n",
       "17       0            244373   13.0000          NaN        S  \n",
       "18       0            345763   18.0000          NaN        S  \n",
       "19       0              2649    7.2250          NaN        C  \n",
       "20       0            239865   26.0000          NaN        S  \n",
       "21       0            248698   13.0000          D56        S  \n",
       "22       0            330923    8.0292          NaN        Q  \n",
       "23       0            113788   35.5000           A6        S  \n",
       "24       1            349909   21.0750          NaN        S  \n",
       "25       5            347077   31.3875          NaN        S  \n",
       "26       0              2631    7.2250          NaN        C  \n",
       "27       2             19950  263.0000  C23 C25 C27        S  \n",
       "28       0            330959    7.8792          NaN        Q  \n",
       "29       0            349216    7.8958          NaN        S  \n",
       "..     ...               ...       ...          ...      ...  \n",
       "861      0             28134   11.5000          NaN        S  \n",
       "862      0             17466   25.9292          D17        S  \n",
       "863      2          CA. 2343   69.5500          NaN        S  \n",
       "864      0            233866   13.0000          NaN        S  \n",
       "865      0            236852   13.0000          NaN        S  \n",
       "866      0     SC/PARIS 2149   13.8583          NaN        C  \n",
       "867      0          PC 17590   50.4958          A24        S  \n",
       "868      0            345777    9.5000          NaN        S  \n",
       "869      1            347742   11.1333          NaN        S  \n",
       "870      0            349248    7.8958          NaN        S  \n",
       "871      1             11751   52.5542          D35        S  \n",
       "872      0               695    5.0000  B51 B53 B55        S  \n",
       "873      0            345765    9.0000          NaN        S  \n",
       "874      0         P/PP 3381   24.0000          NaN        C  \n",
       "875      0              2667    7.2250          NaN        C  \n",
       "876      0              7534    9.8458          NaN        S  \n",
       "877      0            349212    7.8958          NaN        S  \n",
       "878      0            349217    7.8958          NaN        S  \n",
       "879      1             11767   83.1583          C50        C  \n",
       "880      1            230433   26.0000          NaN        S  \n",
       "881      0            349257    7.8958          NaN        S  \n",
       "882      0              7552   10.5167          NaN        S  \n",
       "883      0  C.A./SOTON 34068   10.5000          NaN        S  \n",
       "884      0   SOTON/OQ 392076    7.0500          NaN        S  \n",
       "885      5            382652   29.1250          NaN        Q  \n",
       "886      0            211536   13.0000          NaN        S  \n",
       "887      0            112053   30.0000          B42        S  \n",
       "888      2        W./C. 6607   23.4500          NaN        S  \n",
       "889      0            111369   30.0000         C148        C  \n",
       "890      0            370376    7.7500          NaN        Q  \n",
       "\n",
       "[891 rows x 12 columns]"
      ]
     },
     "execution_count": 117,
     "metadata": {},
     "output_type": "execute_result"
    }
   ],
   "source": [
    "titanic"
   ]
  },
  {
   "cell_type": "code",
   "execution_count": 118,
   "metadata": {
    "collapsed": false,
    "scrolled": true
   },
   "outputs": [
    {
     "data": {
      "text/html": [
       "<div>\n",
       "<table border=\"1\" class=\"dataframe\">\n",
       "  <thead>\n",
       "    <tr style=\"text-align: right;\">\n",
       "      <th></th>\n",
       "      <th>PassengerId</th>\n",
       "      <th>Survived</th>\n",
       "      <th>Pclass</th>\n",
       "      <th>Name</th>\n",
       "      <th>Sex</th>\n",
       "      <th>Age</th>\n",
       "      <th>SibSp</th>\n",
       "      <th>Parch</th>\n",
       "      <th>Ticket</th>\n",
       "      <th>Fare</th>\n",
       "      <th>Cabin</th>\n",
       "      <th>Embarked</th>\n",
       "    </tr>\n",
       "  </thead>\n",
       "  <tbody>\n",
       "    <tr>\n",
       "      <th>0</th>\n",
       "      <td>1</td>\n",
       "      <td>0</td>\n",
       "      <td>3</td>\n",
       "      <td>Braund, Mr. Owen Harris</td>\n",
       "      <td>male</td>\n",
       "      <td>22.0</td>\n",
       "      <td>1</td>\n",
       "      <td>0</td>\n",
       "      <td>A/5 21171</td>\n",
       "      <td>7.2500</td>\n",
       "      <td>NaN</td>\n",
       "      <td>S</td>\n",
       "    </tr>\n",
       "    <tr>\n",
       "      <th>1</th>\n",
       "      <td>2</td>\n",
       "      <td>1</td>\n",
       "      <td>1</td>\n",
       "      <td>Cumings, Mrs. John Bradley (Florence Briggs Th...</td>\n",
       "      <td>female</td>\n",
       "      <td>38.0</td>\n",
       "      <td>1</td>\n",
       "      <td>0</td>\n",
       "      <td>PC 17599</td>\n",
       "      <td>71.2833</td>\n",
       "      <td>C85</td>\n",
       "      <td>C</td>\n",
       "    </tr>\n",
       "  </tbody>\n",
       "</table>\n",
       "</div>"
      ],
      "text/plain": [
       "   PassengerId  Survived  Pclass  \\\n",
       "0            1         0       3   \n",
       "1            2         1       1   \n",
       "\n",
       "                                                Name     Sex   Age  SibSp  \\\n",
       "0                            Braund, Mr. Owen Harris    male  22.0      1   \n",
       "1  Cumings, Mrs. John Bradley (Florence Briggs Th...  female  38.0      1   \n",
       "\n",
       "   Parch     Ticket     Fare Cabin Embarked  \n",
       "0      0  A/5 21171   7.2500   NaN        S  \n",
       "1      0   PC 17599  71.2833   C85        C  "
      ]
     },
     "execution_count": 118,
     "metadata": {},
     "output_type": "execute_result"
    }
   ],
   "source": [
    "titanic.head(2)"
   ]
  },
  {
   "cell_type": "code",
   "execution_count": 119,
   "metadata": {
    "collapsed": false
   },
   "outputs": [
    {
     "data": {
      "text/plain": [
       "male      577\n",
       "female    314\n",
       "Name: Sex, dtype: int64"
      ]
     },
     "execution_count": 119,
     "metadata": {},
     "output_type": "execute_result"
    }
   ],
   "source": [
    "titanic.Sex.value_counts()"
   ]
  },
  {
   "cell_type": "code",
   "execution_count": 120,
   "metadata": {
    "collapsed": false
   },
   "outputs": [
    {
     "data": {
      "text/plain": [
       "0    549\n",
       "1    342\n",
       "Name: Survived, dtype: int64"
      ]
     },
     "execution_count": 120,
     "metadata": {},
     "output_type": "execute_result"
    }
   ],
   "source": [
    "titanic.Survived.value_counts()"
   ]
  },
  {
   "cell_type": "code",
   "execution_count": 121,
   "metadata": {
    "collapsed": true
   },
   "outputs": [],
   "source": [
    "sexgroup = titanic.groupby('Sex')"
   ]
  },
  {
   "cell_type": "code",
   "execution_count": 125,
   "metadata": {
    "collapsed": false
   },
   "outputs": [],
   "source": [
    "# Who had a better survival chance\n",
    "# Which class of passengers had a better chance of survival"
   ]
  },
  {
   "cell_type": "code",
   "execution_count": 126,
   "metadata": {
    "collapsed": false
   },
   "outputs": [],
   "source": [
    "medals=pd.read_csv(\"/Users/viswanathravindran/DataFiles/olympicmedals.csv\")"
   ]
  },
  {
   "cell_type": "code",
   "execution_count": 127,
   "metadata": {
    "collapsed": false
   },
   "outputs": [
    {
     "data": {
      "text/html": [
       "<div>\n",
       "<table border=\"1\" class=\"dataframe\">\n",
       "  <thead>\n",
       "    <tr style=\"text-align: right;\">\n",
       "      <th></th>\n",
       "      <th>City</th>\n",
       "      <th>Edition</th>\n",
       "      <th>Sport</th>\n",
       "      <th>Discipline</th>\n",
       "      <th>Athlete</th>\n",
       "      <th>NOC</th>\n",
       "      <th>Gender</th>\n",
       "      <th>Event</th>\n",
       "      <th>Event_gender</th>\n",
       "      <th>Medal</th>\n",
       "    </tr>\n",
       "  </thead>\n",
       "  <tbody>\n",
       "    <tr>\n",
       "      <th>0</th>\n",
       "      <td>Athens</td>\n",
       "      <td>1896</td>\n",
       "      <td>Aquatics</td>\n",
       "      <td>Swimming</td>\n",
       "      <td>HAJOS, Alfred</td>\n",
       "      <td>HUN</td>\n",
       "      <td>Men</td>\n",
       "      <td>100m freestyle</td>\n",
       "      <td>M</td>\n",
       "      <td>Gold</td>\n",
       "    </tr>\n",
       "    <tr>\n",
       "      <th>1</th>\n",
       "      <td>Athens</td>\n",
       "      <td>1896</td>\n",
       "      <td>Aquatics</td>\n",
       "      <td>Swimming</td>\n",
       "      <td>HERSCHMANN, Otto</td>\n",
       "      <td>AUT</td>\n",
       "      <td>Men</td>\n",
       "      <td>100m freestyle</td>\n",
       "      <td>M</td>\n",
       "      <td>Silver</td>\n",
       "    </tr>\n",
       "  </tbody>\n",
       "</table>\n",
       "</div>"
      ],
      "text/plain": [
       "     City  Edition     Sport Discipline           Athlete  NOC Gender  \\\n",
       "0  Athens     1896  Aquatics   Swimming     HAJOS, Alfred  HUN    Men   \n",
       "1  Athens     1896  Aquatics   Swimming  HERSCHMANN, Otto  AUT    Men   \n",
       "\n",
       "            Event Event_gender   Medal  \n",
       "0  100m freestyle            M    Gold  \n",
       "1  100m freestyle            M  Silver  "
      ]
     },
     "execution_count": 127,
     "metadata": {},
     "output_type": "execute_result"
    }
   ],
   "source": [
    "medals.head(2)"
   ]
  },
  {
   "cell_type": "code",
   "execution_count": 72,
   "metadata": {
    "collapsed": false
   },
   "outputs": [
    {
     "data": {
      "text/plain": [
       "Men      21721\n",
       "Women     7495\n",
       "Name: Gender, dtype: int64"
      ]
     },
     "execution_count": 72,
     "metadata": {},
     "output_type": "execute_result"
    }
   ],
   "source": [
    "medals.Gender.value_counts()"
   ]
  },
  {
   "cell_type": "code",
   "execution_count": 129,
   "metadata": {
    "collapsed": false
   },
   "outputs": [
    {
     "data": {
      "text/plain": [
       "USA    0.148378\n",
       "URS    0.070133\n",
       "GBR    0.054559\n",
       "FRA    0.044975\n",
       "ITA    0.042032\n",
       "GER    0.041450\n",
       "AUS    0.036795\n",
       "HUN    0.036042\n",
       "SWE    0.034947\n",
       "GDR    0.028238\n",
       "NED    0.026766\n",
       "JPN    0.024096\n",
       "CHN    0.023241\n",
       "RUS    0.021837\n",
       "ROU    0.021358\n",
       "CAN    0.020263\n",
       "NOR    0.018380\n",
       "POL    0.017080\n",
       "DEN    0.016806\n",
       "FRG    0.016772\n",
       "KOR    0.015950\n",
       "FIN    0.015437\n",
       "YUG    0.014889\n",
       "BEL    0.013965\n",
       "CUB    0.013520\n",
       "ESP    0.012904\n",
       "SUI    0.012870\n",
       "BRA    0.012733\n",
       "BUL    0.011329\n",
       "TCH    0.011261\n",
       "         ...   \n",
       "TAN    0.000068\n",
       "SUR    0.000068\n",
       "SRI    0.000068\n",
       "TJK    0.000068\n",
       "ZAM    0.000068\n",
       "MOZ    0.000068\n",
       "QAT    0.000068\n",
       "ECU    0.000068\n",
       "LUX    0.000068\n",
       "KSA    0.000068\n",
       "NIG    0.000034\n",
       "GUY    0.000034\n",
       "KUW    0.000034\n",
       "DJI    0.000034\n",
       "ISV    0.000034\n",
       "BDI    0.000034\n",
       "AHO    0.000034\n",
       "AFG    0.000034\n",
       "BER    0.000034\n",
       "TOG    0.000034\n",
       "BAR    0.000034\n",
       "ERI    0.000034\n",
       "CIV    0.000034\n",
       "IRQ    0.000034\n",
       "MKD    0.000034\n",
       "SEN    0.000034\n",
       "TGA    0.000034\n",
       "UAE    0.000034\n",
       "MRI    0.000034\n",
       "SUD    0.000034\n",
       "Name: NOC, dtype: float64"
      ]
     },
     "execution_count": 129,
     "metadata": {},
     "output_type": "execute_result"
    }
   ],
   "source": [
    "# Signature: medals.NOC.value_counts(normalize=False, sort=True, \n",
    "# ascending=False, bins=None, dropna=True)\n",
    "medals.NOC.value_counts(normalize =  True, sort=True, ascending=False)"
   ]
  },
  {
   "cell_type": "code",
   "execution_count": 131,
   "metadata": {
    "collapsed": false
   },
   "outputs": [
    {
     "data": {
      "text/plain": [
       "Gold      0.337144\n",
       "Bronze    0.331633\n",
       "Silver    0.331223\n",
       "Name: Medal, dtype: float64"
      ]
     },
     "execution_count": 131,
     "metadata": {},
     "output_type": "execute_result"
    }
   ],
   "source": [
    "medals.Medal.value_counts(normalize =  True, dropna = True)"
   ]
  },
  {
   "cell_type": "code",
   "execution_count": 74,
   "metadata": {
    "collapsed": false
   },
   "outputs": [
    {
     "data": {
      "text/plain": [
       "Aquatics             3828\n",
       "Athletics            3448\n",
       "Rowing               2523\n",
       "Gymnastics           2214\n",
       "Fencing              1547\n",
       "Football             1387\n",
       "Hockey               1325\n",
       "Wrestling            1140\n",
       "Shooting             1105\n",
       "Sailing              1061\n",
       "Cycling              1025\n",
       "Canoe / Kayak        1002\n",
       "Basketball            940\n",
       "Volleyball            910\n",
       "Equestrian            894\n",
       "Handball              886\n",
       "Boxing                842\n",
       "Weightlifting         548\n",
       "Judo                  435\n",
       "Baseball              335\n",
       "Archery               305\n",
       "Tennis                272\n",
       "Rugby                 192\n",
       "Softball              180\n",
       "Modern Pentathlon     174\n",
       "Badminton             120\n",
       "Table Tennis          120\n",
       "Tug of War             94\n",
       "Taekwondo              80\n",
       "Polo                   66\n",
       "Lacrosse               59\n",
       "Golf                   30\n",
       "Skating                27\n",
       "Ice Hockey             27\n",
       "Cricket                24\n",
       "Triathlon              18\n",
       "Rackets                10\n",
       "Croquet                 8\n",
       "Water Motorsports       5\n",
       "Basque Pelota           4\n",
       "Roque                   3\n",
       "Jeu de paume            3\n",
       "Name: Sport, dtype: int64"
      ]
     },
     "execution_count": 74,
     "metadata": {},
     "output_type": "execute_result"
    }
   ],
   "source": [
    "medals.Sport.value_counts()"
   ]
  },
  {
   "cell_type": "code",
   "execution_count": 133,
   "metadata": {
    "collapsed": false
   },
   "outputs": [],
   "source": [
    "# pd.read_csv(filepath_or_buffer, sep=',', delimiter=None, \n",
    "# header='infer', names=None, index_col=None, usecols=None, \n",
    "# squeeze=False, prefix=None, mangle_dupe_cols=True, dtype=None, \n",
    "# engine=None, converters=None, true_values=None, false_values=None,\n",
    "# skipinitialspace=False, skiprows=None, skipfooter=None, \n",
    "# nrows=None, na_values=None, keep_default_na=True, na_filter=True, \n",
    "# verbose=False, skip_blank_lines=True, parse_dates=False, \n",
    "# infer_datetime_format=False, keep_date_col=False, date_parser=None,\n",
    "# dayfirst=False, iterator=False, chunksize=None, \n",
    "# compression='infer', thousands=None, decimal='.', \n",
    "# lineterminator=None, quotechar='\"', quoting=0, escapechar=None, \n",
    "# comment=None, encoding=None, dialect=None, tupleize_cols=False, \n",
    "# error_bad_lines=True, warn_bad_lines=True, skip_footer=0, \n",
    "# doublequote=True, delim_whitespace=False, as_recarray=False, \n",
    "# compact_ints=False, use_unsigned=False, low_memory=True, \n",
    "# buffer_lines=None, memory_map=False, float_precision=None)\n",
    "mlb = pd.read_csv(\"/Users/viswanathravindran/DataFiles/mlbsalaries.csv\")"
   ]
  },
  {
   "cell_type": "code",
   "execution_count": 134,
   "metadata": {
    "collapsed": false
   },
   "outputs": [
    {
     "data": {
      "text/html": [
       "<div>\n",
       "<table border=\"1\" class=\"dataframe\">\n",
       "  <thead>\n",
       "    <tr style=\"text-align: right;\">\n",
       "      <th></th>\n",
       "      <th>Year</th>\n",
       "      <th>Player</th>\n",
       "      <th>Salary</th>\n",
       "      <th>Position</th>\n",
       "      <th>Team</th>\n",
       "    </tr>\n",
       "  </thead>\n",
       "  <tbody>\n",
       "    <tr>\n",
       "      <th>0</th>\n",
       "      <td>1988</td>\n",
       "      <td>Mike Witt</td>\n",
       "      <td>1400000</td>\n",
       "      <td>Pitcher</td>\n",
       "      <td>Los Angeles Angels</td>\n",
       "    </tr>\n",
       "    <tr>\n",
       "      <th>1</th>\n",
       "      <td>1988</td>\n",
       "      <td>George Hendrick</td>\n",
       "      <td>989333</td>\n",
       "      <td>Outfielder</td>\n",
       "      <td>Los Angeles Angels</td>\n",
       "    </tr>\n",
       "    <tr>\n",
       "      <th>2</th>\n",
       "      <td>1988</td>\n",
       "      <td>Chili Davis</td>\n",
       "      <td>950000</td>\n",
       "      <td>Outfielder</td>\n",
       "      <td>Los Angeles Angels</td>\n",
       "    </tr>\n",
       "    <tr>\n",
       "      <th>3</th>\n",
       "      <td>1988</td>\n",
       "      <td>Brian Downing</td>\n",
       "      <td>900000</td>\n",
       "      <td>Designated Hitter</td>\n",
       "      <td>Los Angeles Angels</td>\n",
       "    </tr>\n",
       "    <tr>\n",
       "      <th>4</th>\n",
       "      <td>1988</td>\n",
       "      <td>Bob Boone</td>\n",
       "      <td>883000</td>\n",
       "      <td>Catcher</td>\n",
       "      <td>Los Angeles Angels</td>\n",
       "    </tr>\n",
       "  </tbody>\n",
       "</table>\n",
       "</div>"
      ],
      "text/plain": [
       "   Year           Player   Salary           Position                Team\n",
       "0  1988        Mike Witt  1400000            Pitcher  Los Angeles Angels\n",
       "1  1988  George Hendrick   989333         Outfielder  Los Angeles Angels\n",
       "2  1988      Chili Davis   950000         Outfielder  Los Angeles Angels\n",
       "3  1988    Brian Downing   900000  Designated Hitter  Los Angeles Angels\n",
       "4  1988        Bob Boone   883000            Catcher  Los Angeles Angels"
      ]
     },
     "execution_count": 134,
     "metadata": {},
     "output_type": "execute_result"
    }
   ],
   "source": [
    "mlb.head()"
   ]
  },
  {
   "cell_type": "code",
   "execution_count": 135,
   "metadata": {
    "collapsed": false
   },
   "outputs": [
    {
     "data": {
      "text/html": [
       "<div>\n",
       "<table border=\"1\" class=\"dataframe\">\n",
       "  <thead>\n",
       "    <tr style=\"text-align: right;\">\n",
       "      <th></th>\n",
       "      <th>Year</th>\n",
       "      <th>Player</th>\n",
       "      <th>Salary</th>\n",
       "      <th>Position</th>\n",
       "      <th>Team</th>\n",
       "    </tr>\n",
       "  </thead>\n",
       "  <tbody>\n",
       "    <tr>\n",
       "      <th>19538</th>\n",
       "      <td>2011</td>\n",
       "      <td>Gustavo Molina</td>\n",
       "      <td>455000</td>\n",
       "      <td>Catcher</td>\n",
       "      <td>New York Yankees</td>\n",
       "    </tr>\n",
       "    <tr>\n",
       "      <th>19539</th>\n",
       "      <td>2011</td>\n",
       "      <td>Ivan Nova</td>\n",
       "      <td>432900</td>\n",
       "      <td>Pitcher</td>\n",
       "      <td>New York Yankees</td>\n",
       "    </tr>\n",
       "    <tr>\n",
       "      <th>19540</th>\n",
       "      <td>2011</td>\n",
       "      <td>Colin Curtis</td>\n",
       "      <td>420400</td>\n",
       "      <td>Outfielder</td>\n",
       "      <td>New York Yankees</td>\n",
       "    </tr>\n",
       "    <tr>\n",
       "      <th>19541</th>\n",
       "      <td>2011</td>\n",
       "      <td>Eduardo Nunez</td>\n",
       "      <td>419300</td>\n",
       "      <td>Shortstop</td>\n",
       "      <td>New York Yankees</td>\n",
       "    </tr>\n",
       "    <tr>\n",
       "      <th>19542</th>\n",
       "      <td>2011</td>\n",
       "      <td>Reegie Corona</td>\n",
       "      <td>414000</td>\n",
       "      <td>Second Baseman</td>\n",
       "      <td>New York Yankees</td>\n",
       "    </tr>\n",
       "  </tbody>\n",
       "</table>\n",
       "</div>"
      ],
      "text/plain": [
       "       Year          Player  Salary        Position              Team\n",
       "19538  2011  Gustavo Molina  455000         Catcher  New York Yankees\n",
       "19539  2011       Ivan Nova  432900         Pitcher  New York Yankees\n",
       "19540  2011    Colin Curtis  420400      Outfielder  New York Yankees\n",
       "19541  2011   Eduardo Nunez  419300       Shortstop  New York Yankees\n",
       "19542  2011   Reegie Corona  414000  Second Baseman  New York Yankees"
      ]
     },
     "execution_count": 135,
     "metadata": {},
     "output_type": "execute_result"
    }
   ],
   "source": [
    "mlb.tail()"
   ]
  },
  {
   "cell_type": "code",
   "execution_count": 136,
   "metadata": {
    "collapsed": false
   },
   "outputs": [
    {
     "data": {
      "text/plain": [
       "Pitcher              9160\n",
       "Outfielder           3785\n",
       "Catcher              1664\n",
       "Shortstop            1331\n",
       "Second Baseman       1216\n",
       "Third Baseman        1139\n",
       "First Baseman        1118\n",
       "Designated Hitter     109\n",
       "Infielder              21\n",
       "Name: Position, dtype: int64"
      ]
     },
     "execution_count": 136,
     "metadata": {},
     "output_type": "execute_result"
    }
   ],
   "source": [
    "mlb.Position.value_counts()"
   ]
  },
  {
   "cell_type": "code",
   "execution_count": 137,
   "metadata": {
    "collapsed": false
   },
   "outputs": [],
   "source": [
    "# Extracting a subset of the dataset using the filetring method\n",
    "year2010 = mlb[mlb.Year==2010]"
   ]
  },
  {
   "cell_type": "code",
   "execution_count": 138,
   "metadata": {
    "collapsed": false
   },
   "outputs": [
    {
     "data": {
      "text/html": [
       "<div>\n",
       "<table border=\"1\" class=\"dataframe\">\n",
       "  <thead>\n",
       "    <tr style=\"text-align: right;\">\n",
       "      <th></th>\n",
       "      <th>Year</th>\n",
       "      <th>Player</th>\n",
       "      <th>Salary</th>\n",
       "      <th>Position</th>\n",
       "      <th>Team</th>\n",
       "    </tr>\n",
       "  </thead>\n",
       "  <tbody>\n",
       "    <tr>\n",
       "      <th>17872</th>\n",
       "      <td>2010</td>\n",
       "      <td>Torii Hunter</td>\n",
       "      <td>18500000</td>\n",
       "      <td>Outfielder</td>\n",
       "      <td>Los Angeles Angels</td>\n",
       "    </tr>\n",
       "    <tr>\n",
       "      <th>17873</th>\n",
       "      <td>2010</td>\n",
       "      <td>Bobby Abreu</td>\n",
       "      <td>9000000</td>\n",
       "      <td>Outfielder</td>\n",
       "      <td>Los Angeles Angels</td>\n",
       "    </tr>\n",
       "    <tr>\n",
       "      <th>17874</th>\n",
       "      <td>2010</td>\n",
       "      <td>Brian Fuentes</td>\n",
       "      <td>9000000</td>\n",
       "      <td>Pitcher</td>\n",
       "      <td>Los Angeles Angels</td>\n",
       "    </tr>\n",
       "    <tr>\n",
       "      <th>17875</th>\n",
       "      <td>2010</td>\n",
       "      <td>Scott Kazmir</td>\n",
       "      <td>8000000</td>\n",
       "      <td>Pitcher</td>\n",
       "      <td>Los Angeles Angels</td>\n",
       "    </tr>\n",
       "    <tr>\n",
       "      <th>17876</th>\n",
       "      <td>2010</td>\n",
       "      <td>Joel Pineiro</td>\n",
       "      <td>8000000</td>\n",
       "      <td>Pitcher</td>\n",
       "      <td>Los Angeles Angels</td>\n",
       "    </tr>\n",
       "  </tbody>\n",
       "</table>\n",
       "</div>"
      ],
      "text/plain": [
       "       Year         Player    Salary    Position                Team\n",
       "17872  2010   Torii Hunter  18500000  Outfielder  Los Angeles Angels\n",
       "17873  2010    Bobby Abreu   9000000  Outfielder  Los Angeles Angels\n",
       "17874  2010  Brian Fuentes   9000000     Pitcher  Los Angeles Angels\n",
       "17875  2010   Scott Kazmir   8000000     Pitcher  Los Angeles Angels\n",
       "17876  2010   Joel Pineiro   8000000     Pitcher  Los Angeles Angels"
      ]
     },
     "execution_count": 138,
     "metadata": {},
     "output_type": "execute_result"
    }
   ],
   "source": [
    "year2010.head()"
   ]
  },
  {
   "cell_type": "code",
   "execution_count": 139,
   "metadata": {
    "collapsed": true
   },
   "outputs": [],
   "source": [
    "# changing the index to another column\n",
    "year2010 = year2010.set_index('Player')"
   ]
  },
  {
   "cell_type": "code",
   "execution_count": 140,
   "metadata": {
    "collapsed": false
   },
   "outputs": [
    {
     "data": {
      "text/html": [
       "<div>\n",
       "<table border=\"1\" class=\"dataframe\">\n",
       "  <thead>\n",
       "    <tr style=\"text-align: right;\">\n",
       "      <th></th>\n",
       "      <th>Year</th>\n",
       "      <th>Salary</th>\n",
       "      <th>Position</th>\n",
       "      <th>Team</th>\n",
       "    </tr>\n",
       "    <tr>\n",
       "      <th>Player</th>\n",
       "      <th></th>\n",
       "      <th></th>\n",
       "      <th></th>\n",
       "      <th></th>\n",
       "    </tr>\n",
       "  </thead>\n",
       "  <tbody>\n",
       "    <tr>\n",
       "      <th>Torii Hunter</th>\n",
       "      <td>2010</td>\n",
       "      <td>18500000</td>\n",
       "      <td>Outfielder</td>\n",
       "      <td>Los Angeles Angels</td>\n",
       "    </tr>\n",
       "    <tr>\n",
       "      <th>Bobby Abreu</th>\n",
       "      <td>2010</td>\n",
       "      <td>9000000</td>\n",
       "      <td>Outfielder</td>\n",
       "      <td>Los Angeles Angels</td>\n",
       "    </tr>\n",
       "    <tr>\n",
       "      <th>Brian Fuentes</th>\n",
       "      <td>2010</td>\n",
       "      <td>9000000</td>\n",
       "      <td>Pitcher</td>\n",
       "      <td>Los Angeles Angels</td>\n",
       "    </tr>\n",
       "    <tr>\n",
       "      <th>Scott Kazmir</th>\n",
       "      <td>2010</td>\n",
       "      <td>8000000</td>\n",
       "      <td>Pitcher</td>\n",
       "      <td>Los Angeles Angels</td>\n",
       "    </tr>\n",
       "    <tr>\n",
       "      <th>Joel Pineiro</th>\n",
       "      <td>2010</td>\n",
       "      <td>8000000</td>\n",
       "      <td>Pitcher</td>\n",
       "      <td>Los Angeles Angels</td>\n",
       "    </tr>\n",
       "  </tbody>\n",
       "</table>\n",
       "</div>"
      ],
      "text/plain": [
       "               Year    Salary    Position                Team\n",
       "Player                                                       \n",
       "Torii Hunter   2010  18500000  Outfielder  Los Angeles Angels\n",
       "Bobby Abreu    2010   9000000  Outfielder  Los Angeles Angels\n",
       "Brian Fuentes  2010   9000000     Pitcher  Los Angeles Angels\n",
       "Scott Kazmir   2010   8000000     Pitcher  Los Angeles Angels\n",
       "Joel Pineiro   2010   8000000     Pitcher  Los Angeles Angels"
      ]
     },
     "execution_count": 140,
     "metadata": {},
     "output_type": "execute_result"
    }
   ],
   "source": [
    "year2010.head()"
   ]
  },
  {
   "cell_type": "code",
   "execution_count": 141,
   "metadata": {
    "collapsed": false
   },
   "outputs": [
    {
     "data": {
      "text/html": [
       "<div>\n",
       "<table border=\"1\" class=\"dataframe\">\n",
       "  <thead>\n",
       "    <tr style=\"text-align: right;\">\n",
       "      <th></th>\n",
       "      <th>Year</th>\n",
       "      <th>Salary</th>\n",
       "      <th>Position</th>\n",
       "      <th>Team</th>\n",
       "    </tr>\n",
       "    <tr>\n",
       "      <th>Player</th>\n",
       "      <th></th>\n",
       "      <th></th>\n",
       "      <th></th>\n",
       "      <th></th>\n",
       "    </tr>\n",
       "  </thead>\n",
       "  <tbody>\n",
       "    <tr>\n",
       "      <th>A.J. Burnett</th>\n",
       "      <td>2010</td>\n",
       "      <td>16500000</td>\n",
       "      <td>Pitcher</td>\n",
       "      <td>New York Yankees</td>\n",
       "    </tr>\n",
       "    <tr>\n",
       "      <th>A.J. Pierzynski</th>\n",
       "      <td>2010</td>\n",
       "      <td>6750000</td>\n",
       "      <td>Catcher</td>\n",
       "      <td>Chicago White Sox</td>\n",
       "    </tr>\n",
       "    <tr>\n",
       "      <th>Aaron Cook</th>\n",
       "      <td>2010</td>\n",
       "      <td>9625000</td>\n",
       "      <td>Pitcher</td>\n",
       "      <td>Colorado Rockies</td>\n",
       "    </tr>\n",
       "    <tr>\n",
       "      <th>Aaron Harang</th>\n",
       "      <td>2010</td>\n",
       "      <td>12500000</td>\n",
       "      <td>Pitcher</td>\n",
       "      <td>Cincinnati Reds</td>\n",
       "    </tr>\n",
       "    <tr>\n",
       "      <th>Aaron Heilman</th>\n",
       "      <td>2010</td>\n",
       "      <td>2150000</td>\n",
       "      <td>Pitcher</td>\n",
       "      <td>Arizona Diamondbacks</td>\n",
       "    </tr>\n",
       "  </tbody>\n",
       "</table>\n",
       "</div>"
      ],
      "text/plain": [
       "                 Year    Salary Position                  Team\n",
       "Player                                                        \n",
       "A.J. Burnett     2010  16500000  Pitcher      New York Yankees\n",
       "A.J. Pierzynski  2010   6750000  Catcher     Chicago White Sox\n",
       "Aaron Cook       2010   9625000  Pitcher      Colorado Rockies\n",
       "Aaron Harang     2010  12500000  Pitcher       Cincinnati Reds\n",
       "Aaron Heilman    2010   2150000  Pitcher  Arizona Diamondbacks"
      ]
     },
     "execution_count": 141,
     "metadata": {},
     "output_type": "execute_result"
    }
   ],
   "source": [
    "# Sorting the dataset by row label (index)\n",
    "# year2010.sort_index(axis=0, level=None, ascending=True, \n",
    "# inplace=False, kind='quicksort', na_position='last', \n",
    "# sort_remaining=True, by=None)\n",
    "year2010.sort_index().head()"
   ]
  },
  {
   "cell_type": "code",
   "execution_count": 145,
   "metadata": {
    "collapsed": false
   },
   "outputs": [
    {
     "data": {
      "text/html": [
       "<div>\n",
       "<table border=\"1\" class=\"dataframe\">\n",
       "  <thead>\n",
       "    <tr style=\"text-align: right;\">\n",
       "      <th></th>\n",
       "      <th>Year</th>\n",
       "      <th>Salary</th>\n",
       "      <th>Position</th>\n",
       "      <th>Team</th>\n",
       "    </tr>\n",
       "    <tr>\n",
       "      <th>Player</th>\n",
       "      <th></th>\n",
       "      <th></th>\n",
       "      <th></th>\n",
       "      <th></th>\n",
       "    </tr>\n",
       "  </thead>\n",
       "  <tbody>\n",
       "    <tr>\n",
       "      <th>Alex Rodriguez</th>\n",
       "      <td>2010</td>\n",
       "      <td>33000000</td>\n",
       "      <td>Third Baseman</td>\n",
       "      <td>New York Yankees</td>\n",
       "    </tr>\n",
       "    <tr>\n",
       "      <th>CC Sabathia</th>\n",
       "      <td>2010</td>\n",
       "      <td>24285714</td>\n",
       "      <td>Pitcher</td>\n",
       "      <td>New York Yankees</td>\n",
       "    </tr>\n",
       "    <tr>\n",
       "      <th>Derek Jeter</th>\n",
       "      <td>2010</td>\n",
       "      <td>22600000</td>\n",
       "      <td>Shortstop</td>\n",
       "      <td>New York Yankees</td>\n",
       "    </tr>\n",
       "    <tr>\n",
       "      <th>Mark Teixeira</th>\n",
       "      <td>2010</td>\n",
       "      <td>20625000</td>\n",
       "      <td>First Baseman</td>\n",
       "      <td>New York Yankees</td>\n",
       "    </tr>\n",
       "    <tr>\n",
       "      <th>Johan Santana</th>\n",
       "      <td>2010</td>\n",
       "      <td>20144707</td>\n",
       "      <td>Pitcher</td>\n",
       "      <td>New York Mets</td>\n",
       "    </tr>\n",
       "  </tbody>\n",
       "</table>\n",
       "</div>"
      ],
      "text/plain": [
       "                Year    Salary       Position              Team\n",
       "Player                                                         \n",
       "Alex Rodriguez  2010  33000000  Third Baseman  New York Yankees\n",
       "CC Sabathia     2010  24285714        Pitcher  New York Yankees\n",
       "Derek Jeter     2010  22600000      Shortstop  New York Yankees\n",
       "Mark Teixeira   2010  20625000  First Baseman  New York Yankees\n",
       "Johan Santana   2010  20144707        Pitcher     New York Mets"
      ]
     },
     "execution_count": 145,
     "metadata": {},
     "output_type": "execute_result"
    }
   ],
   "source": [
    "# Sorting the dataset by values\n",
    "# year2010.sort_values(by, axis=0, ascending=True, \n",
    "# inplace=False, kind='quicksort', na_position='last')\n",
    "year2010.sort_values(by = 'Salary', ascending = False).head(5)"
   ]
  },
  {
   "cell_type": "code",
   "execution_count": 152,
   "metadata": {
    "collapsed": false,
    "scrolled": true
   },
   "outputs": [
    {
     "data": {
      "text/html": [
       "<div>\n",
       "<table border=\"1\" class=\"dataframe\">\n",
       "  <thead>\n",
       "    <tr style=\"text-align: right;\">\n",
       "      <th></th>\n",
       "      <th>Position</th>\n",
       "      <th>Salary</th>\n",
       "      <th>Team</th>\n",
       "      <th>Year</th>\n",
       "    </tr>\n",
       "    <tr>\n",
       "      <th>Player</th>\n",
       "      <th></th>\n",
       "      <th></th>\n",
       "      <th></th>\n",
       "      <th></th>\n",
       "    </tr>\n",
       "  </thead>\n",
       "  <tbody>\n",
       "    <tr>\n",
       "      <th>Alex Rodriguez</th>\n",
       "      <td>Third Baseman</td>\n",
       "      <td>33000000</td>\n",
       "      <td>New York Yankees</td>\n",
       "      <td>2010</td>\n",
       "    </tr>\n",
       "    <tr>\n",
       "      <th>CC Sabathia</th>\n",
       "      <td>Pitcher</td>\n",
       "      <td>24285714</td>\n",
       "      <td>New York Yankees</td>\n",
       "      <td>2010</td>\n",
       "    </tr>\n",
       "    <tr>\n",
       "      <th>Derek Jeter</th>\n",
       "      <td>Shortstop</td>\n",
       "      <td>22600000</td>\n",
       "      <td>New York Yankees</td>\n",
       "      <td>2010</td>\n",
       "    </tr>\n",
       "    <tr>\n",
       "      <th>Mark Teixeira</th>\n",
       "      <td>First Baseman</td>\n",
       "      <td>20625000</td>\n",
       "      <td>New York Yankees</td>\n",
       "      <td>2010</td>\n",
       "    </tr>\n",
       "    <tr>\n",
       "      <th>Johan Santana</th>\n",
       "      <td>Pitcher</td>\n",
       "      <td>20144707</td>\n",
       "      <td>New York Mets</td>\n",
       "      <td>2010</td>\n",
       "    </tr>\n",
       "  </tbody>\n",
       "</table>\n",
       "</div>"
      ],
      "text/plain": [
       "                     Position    Salary              Team  Year\n",
       "Player                                                         \n",
       "Alex Rodriguez  Third Baseman  33000000  New York Yankees  2010\n",
       "CC Sabathia           Pitcher  24285714  New York Yankees  2010\n",
       "Derek Jeter         Shortstop  22600000  New York Yankees  2010\n",
       "Mark Teixeira   First Baseman  20625000  New York Yankees  2010\n",
       "Johan Santana         Pitcher  20144707     New York Mets  2010"
      ]
     },
     "execution_count": 152,
     "metadata": {},
     "output_type": "execute_result"
    }
   ],
   "source": [
    "# this sort the dataframe by the column names but \n",
    "# not the value within the column\n",
    "year2010.sort_index(axis=1).head()"
   ]
  },
  {
   "cell_type": "code",
   "execution_count": 153,
   "metadata": {
    "collapsed": false
   },
   "outputs": [
    {
     "data": {
      "text/html": [
       "<div>\n",
       "<table border=\"1\" class=\"dataframe\">\n",
       "  <thead>\n",
       "    <tr style=\"text-align: right;\">\n",
       "      <th></th>\n",
       "      <th>Year</th>\n",
       "      <th>Team</th>\n",
       "      <th>Salary</th>\n",
       "      <th>Position</th>\n",
       "    </tr>\n",
       "    <tr>\n",
       "      <th>Player</th>\n",
       "      <th></th>\n",
       "      <th></th>\n",
       "      <th></th>\n",
       "      <th></th>\n",
       "    </tr>\n",
       "  </thead>\n",
       "  <tbody>\n",
       "    <tr>\n",
       "      <th>Alex Rodriguez</th>\n",
       "      <td>2010</td>\n",
       "      <td>New York Yankees</td>\n",
       "      <td>33000000</td>\n",
       "      <td>Third Baseman</td>\n",
       "    </tr>\n",
       "    <tr>\n",
       "      <th>CC Sabathia</th>\n",
       "      <td>2010</td>\n",
       "      <td>New York Yankees</td>\n",
       "      <td>24285714</td>\n",
       "      <td>Pitcher</td>\n",
       "    </tr>\n",
       "    <tr>\n",
       "      <th>Derek Jeter</th>\n",
       "      <td>2010</td>\n",
       "      <td>New York Yankees</td>\n",
       "      <td>22600000</td>\n",
       "      <td>Shortstop</td>\n",
       "    </tr>\n",
       "    <tr>\n",
       "      <th>Mark Teixeira</th>\n",
       "      <td>2010</td>\n",
       "      <td>New York Yankees</td>\n",
       "      <td>20625000</td>\n",
       "      <td>First Baseman</td>\n",
       "    </tr>\n",
       "    <tr>\n",
       "      <th>Johan Santana</th>\n",
       "      <td>2010</td>\n",
       "      <td>New York Mets</td>\n",
       "      <td>20144707</td>\n",
       "      <td>Pitcher</td>\n",
       "    </tr>\n",
       "  </tbody>\n",
       "</table>\n",
       "</div>"
      ],
      "text/plain": [
       "                Year              Team    Salary       Position\n",
       "Player                                                         \n",
       "Alex Rodriguez  2010  New York Yankees  33000000  Third Baseman\n",
       "CC Sabathia     2010  New York Yankees  24285714        Pitcher\n",
       "Derek Jeter     2010  New York Yankees  22600000      Shortstop\n",
       "Mark Teixeira   2010  New York Yankees  20625000  First Baseman\n",
       "Johan Santana   2010     New York Mets  20144707        Pitcher"
      ]
     },
     "execution_count": 153,
     "metadata": {},
     "output_type": "execute_result"
    }
   ],
   "source": [
    "# this sort the dataframe by the column names but \n",
    "# not the value within the column\n",
    "year2010.sort_index(axis=1, ascending = False).head()"
   ]
  },
  {
   "cell_type": "code",
   "execution_count": 155,
   "metadata": {
    "collapsed": false
   },
   "outputs": [
    {
     "data": {
      "text/html": [
       "<div>\n",
       "<table border=\"1\" class=\"dataframe\">\n",
       "  <thead>\n",
       "    <tr style=\"text-align: right;\">\n",
       "      <th></th>\n",
       "      <th>Year</th>\n",
       "      <th>Salary</th>\n",
       "      <th>Position</th>\n",
       "      <th>Team</th>\n",
       "    </tr>\n",
       "    <tr>\n",
       "      <th>Player</th>\n",
       "      <th></th>\n",
       "      <th></th>\n",
       "      <th></th>\n",
       "      <th></th>\n",
       "    </tr>\n",
       "  </thead>\n",
       "  <tbody>\n",
       "    <tr>\n",
       "      <th>Alex Rodriguez</th>\n",
       "      <td>2010</td>\n",
       "      <td>33000000</td>\n",
       "      <td>Third Baseman</td>\n",
       "      <td>New York Yankees</td>\n",
       "    </tr>\n",
       "    <tr>\n",
       "      <th>CC Sabathia</th>\n",
       "      <td>2010</td>\n",
       "      <td>24285714</td>\n",
       "      <td>Pitcher</td>\n",
       "      <td>New York Yankees</td>\n",
       "    </tr>\n",
       "    <tr>\n",
       "      <th>Derek Jeter</th>\n",
       "      <td>2010</td>\n",
       "      <td>22600000</td>\n",
       "      <td>Shortstop</td>\n",
       "      <td>New York Yankees</td>\n",
       "    </tr>\n",
       "    <tr>\n",
       "      <th>Mark Teixeira</th>\n",
       "      <td>2010</td>\n",
       "      <td>20625000</td>\n",
       "      <td>First Baseman</td>\n",
       "      <td>New York Yankees</td>\n",
       "    </tr>\n",
       "    <tr>\n",
       "      <th>Johan Santana</th>\n",
       "      <td>2010</td>\n",
       "      <td>20144707</td>\n",
       "      <td>Pitcher</td>\n",
       "      <td>New York Mets</td>\n",
       "    </tr>\n",
       "  </tbody>\n",
       "</table>\n",
       "</div>"
      ],
      "text/plain": [
       "                Year    Salary       Position              Team\n",
       "Player                                                         \n",
       "Alex Rodriguez  2010  33000000  Third Baseman  New York Yankees\n",
       "CC Sabathia     2010  24285714        Pitcher  New York Yankees\n",
       "Derek Jeter     2010  22600000      Shortstop  New York Yankees\n",
       "Mark Teixeira   2010  20625000  First Baseman  New York Yankees\n",
       "Johan Santana   2010  20144707        Pitcher     New York Mets"
      ]
     },
     "execution_count": 155,
     "metadata": {},
     "output_type": "execute_result"
    }
   ],
   "source": [
    "year2010.sort_values(ascending=False, by=['Salary']).head()"
   ]
  },
  {
   "cell_type": "code",
   "execution_count": 156,
   "metadata": {
    "collapsed": false
   },
   "outputs": [],
   "source": [
    "sorted_yr2010=year2010.sort_values(ascending=False, by = ['Salary'])"
   ]
  },
  {
   "cell_type": "code",
   "execution_count": 157,
   "metadata": {
    "collapsed": false
   },
   "outputs": [
    {
     "data": {
      "text/html": [
       "<div>\n",
       "<table border=\"1\" class=\"dataframe\">\n",
       "  <thead>\n",
       "    <tr style=\"text-align: right;\">\n",
       "      <th></th>\n",
       "      <th>Year</th>\n",
       "      <th>Salary</th>\n",
       "      <th>Position</th>\n",
       "      <th>Team</th>\n",
       "    </tr>\n",
       "    <tr>\n",
       "      <th>Player</th>\n",
       "      <th></th>\n",
       "      <th></th>\n",
       "      <th></th>\n",
       "      <th></th>\n",
       "    </tr>\n",
       "  </thead>\n",
       "  <tbody>\n",
       "    <tr>\n",
       "      <th>Alex Rodriguez</th>\n",
       "      <td>2010</td>\n",
       "      <td>33000000</td>\n",
       "      <td>Third Baseman</td>\n",
       "      <td>New York Yankees</td>\n",
       "    </tr>\n",
       "    <tr>\n",
       "      <th>CC Sabathia</th>\n",
       "      <td>2010</td>\n",
       "      <td>24285714</td>\n",
       "      <td>Pitcher</td>\n",
       "      <td>New York Yankees</td>\n",
       "    </tr>\n",
       "    <tr>\n",
       "      <th>Derek Jeter</th>\n",
       "      <td>2010</td>\n",
       "      <td>22600000</td>\n",
       "      <td>Shortstop</td>\n",
       "      <td>New York Yankees</td>\n",
       "    </tr>\n",
       "    <tr>\n",
       "      <th>Mark Teixeira</th>\n",
       "      <td>2010</td>\n",
       "      <td>20625000</td>\n",
       "      <td>First Baseman</td>\n",
       "      <td>New York Yankees</td>\n",
       "    </tr>\n",
       "    <tr>\n",
       "      <th>Johan Santana</th>\n",
       "      <td>2010</td>\n",
       "      <td>20144707</td>\n",
       "      <td>Pitcher</td>\n",
       "      <td>New York Mets</td>\n",
       "    </tr>\n",
       "  </tbody>\n",
       "</table>\n",
       "</div>"
      ],
      "text/plain": [
       "                Year    Salary       Position              Team\n",
       "Player                                                         \n",
       "Alex Rodriguez  2010  33000000  Third Baseman  New York Yankees\n",
       "CC Sabathia     2010  24285714        Pitcher  New York Yankees\n",
       "Derek Jeter     2010  22600000      Shortstop  New York Yankees\n",
       "Mark Teixeira   2010  20625000  First Baseman  New York Yankees\n",
       "Johan Santana   2010  20144707        Pitcher     New York Mets"
      ]
     },
     "execution_count": 157,
     "metadata": {},
     "output_type": "execute_result"
    }
   ],
   "source": [
    "sorted_yr2010.head()"
   ]
  },
  {
   "cell_type": "code",
   "execution_count": 159,
   "metadata": {
    "collapsed": false
   },
   "outputs": [
    {
     "data": {
      "text/html": [
       "<div>\n",
       "<table border=\"1\" class=\"dataframe\">\n",
       "  <thead>\n",
       "    <tr style=\"text-align: right;\">\n",
       "      <th></th>\n",
       "      <th>Year</th>\n",
       "      <th>Salary</th>\n",
       "      <th>Position</th>\n",
       "      <th>Team</th>\n",
       "    </tr>\n",
       "    <tr>\n",
       "      <th>Player</th>\n",
       "      <th></th>\n",
       "      <th></th>\n",
       "      <th></th>\n",
       "      <th></th>\n",
       "    </tr>\n",
       "  </thead>\n",
       "  <tbody>\n",
       "    <tr>\n",
       "      <th>Alex Rodriguez</th>\n",
       "      <td>2010</td>\n",
       "      <td>33000000</td>\n",
       "      <td>Third Baseman</td>\n",
       "      <td>New York Yankees</td>\n",
       "    </tr>\n",
       "    <tr>\n",
       "      <th>CC Sabathia</th>\n",
       "      <td>2010</td>\n",
       "      <td>24285714</td>\n",
       "      <td>Pitcher</td>\n",
       "      <td>New York Yankees</td>\n",
       "    </tr>\n",
       "    <tr>\n",
       "      <th>Derek Jeter</th>\n",
       "      <td>2010</td>\n",
       "      <td>22600000</td>\n",
       "      <td>Shortstop</td>\n",
       "      <td>New York Yankees</td>\n",
       "    </tr>\n",
       "    <tr>\n",
       "      <th>Mark Teixeira</th>\n",
       "      <td>2010</td>\n",
       "      <td>20625000</td>\n",
       "      <td>First Baseman</td>\n",
       "      <td>New York Yankees</td>\n",
       "    </tr>\n",
       "    <tr>\n",
       "      <th>Johan Santana</th>\n",
       "      <td>2010</td>\n",
       "      <td>20144707</td>\n",
       "      <td>Pitcher</td>\n",
       "      <td>New York Mets</td>\n",
       "    </tr>\n",
       "    <tr>\n",
       "      <th>Miguel Cabrera</th>\n",
       "      <td>2010</td>\n",
       "      <td>20000000</td>\n",
       "      <td>First Baseman</td>\n",
       "      <td>Detroit Tigers</td>\n",
       "    </tr>\n",
       "    <tr>\n",
       "      <th>Carlos Beltran</th>\n",
       "      <td>2010</td>\n",
       "      <td>19401569</td>\n",
       "      <td>Outfielder</td>\n",
       "      <td>New York Mets</td>\n",
       "    </tr>\n",
       "    <tr>\n",
       "      <th>Alfonso Soriano</th>\n",
       "      <td>2010</td>\n",
       "      <td>19000000</td>\n",
       "      <td>Outfielder</td>\n",
       "      <td>Chicago Cubs</td>\n",
       "    </tr>\n",
       "    <tr>\n",
       "      <th>Carlos Lee</th>\n",
       "      <td>2010</td>\n",
       "      <td>19000000</td>\n",
       "      <td>Outfielder</td>\n",
       "      <td>Houston Astros</td>\n",
       "    </tr>\n",
       "    <tr>\n",
       "      <th>Ryan Howard</th>\n",
       "      <td>2010</td>\n",
       "      <td>19000000</td>\n",
       "      <td>First Baseman</td>\n",
       "      <td>Philadelphia Phillies</td>\n",
       "    </tr>\n",
       "  </tbody>\n",
       "</table>\n",
       "</div>"
      ],
      "text/plain": [
       "                 Year    Salary       Position                   Team\n",
       "Player                                                               \n",
       "Alex Rodriguez   2010  33000000  Third Baseman       New York Yankees\n",
       "CC Sabathia      2010  24285714        Pitcher       New York Yankees\n",
       "Derek Jeter      2010  22600000      Shortstop       New York Yankees\n",
       "Mark Teixeira    2010  20625000  First Baseman       New York Yankees\n",
       "Johan Santana    2010  20144707        Pitcher          New York Mets\n",
       "Miguel Cabrera   2010  20000000  First Baseman         Detroit Tigers\n",
       "Carlos Beltran   2010  19401569     Outfielder          New York Mets\n",
       "Alfonso Soriano  2010  19000000     Outfielder           Chicago Cubs\n",
       "Carlos Lee       2010  19000000     Outfielder         Houston Astros\n",
       "Ryan Howard      2010  19000000  First Baseman  Philadelphia Phillies"
      ]
     },
     "execution_count": 159,
     "metadata": {},
     "output_type": "execute_result"
    }
   ],
   "source": [
    "year2010.sort_values(ascending=[False,True], by=['Salary','Team']).head(10)"
   ]
  },
  {
   "cell_type": "code",
   "execution_count": 160,
   "metadata": {
    "collapsed": false
   },
   "outputs": [],
   "source": [
    "top10=year2010.Salary.sort_values(ascending=False)"
   ]
  },
  {
   "cell_type": "code",
   "execution_count": 161,
   "metadata": {
    "collapsed": false
   },
   "outputs": [
    {
     "data": {
      "text/plain": [
       "pandas.core.series.Series"
      ]
     },
     "execution_count": 161,
     "metadata": {},
     "output_type": "execute_result"
    }
   ],
   "source": [
    "type(top10)"
   ]
  },
  {
   "cell_type": "code",
   "execution_count": 162,
   "metadata": {
    "collapsed": false
   },
   "outputs": [
    {
     "data": {
      "image/png": "[encoded data removed]",
      "text/plain": [
       "<matplotlib.figure.Figure at 0x10431a950>"
      ]
     },
     "metadata": {},
     "output_type": "display_data"
    }
   ],
   "source": [
    "import matplotlib.pyplot as plt\n",
    "plt.figure()\n",
    "top10.plot(label='Salaries')\n",
    "plt.xticks(rotation='vertical')\n",
    "plt.legend()\n",
    "plt.show()"
   ]
  },
  {
   "cell_type": "code",
   "execution_count": 163,
   "metadata": {
    "collapsed": true
   },
   "outputs": [],
   "source": [
    "import seaborn as sns\n",
    "LARGE_FIGSIZE = (12, 8)\n",
    "from ipywidgets import interact\n",
    "sns.set_palette(\"deep\", desat = .6)\n",
    "sns.set_context(rc={\"figure.figsize\":(12,8)})"
   ]
  },
  {
   "cell_type": "code",
   "execution_count": 164,
   "metadata": {
    "collapsed": false
   },
   "outputs": [
    {
     "data": {
      "image/png": "[encoded data removed]",
      "text/plain": [
       "<matplotlib.figure.Figure at 0x1169e2710>"
      ]
     },
     "metadata": {},
     "output_type": "display_data"
    }
   ],
   "source": [
    "sns.tsplot(data=top10)\n",
    "plt.show()"
   ]
  },
  {
   "cell_type": "code",
   "execution_count": 165,
   "metadata": {
    "collapsed": false
   },
   "outputs": [
    {
     "data": {
      "text/html": [
       "<div>\n",
       "<table border=\"1\" class=\"dataframe\">\n",
       "  <thead>\n",
       "    <tr style=\"text-align: right;\">\n",
       "      <th></th>\n",
       "      <th>Year</th>\n",
       "      <th>Player</th>\n",
       "      <th>Salary</th>\n",
       "      <th>Position</th>\n",
       "      <th>Team</th>\n",
       "    </tr>\n",
       "  </thead>\n",
       "  <tbody>\n",
       "    <tr>\n",
       "      <th>0</th>\n",
       "      <td>1988</td>\n",
       "      <td>Mike Witt</td>\n",
       "      <td>1400000</td>\n",
       "      <td>Pitcher</td>\n",
       "      <td>Los Angeles Angels</td>\n",
       "    </tr>\n",
       "    <tr>\n",
       "      <th>1</th>\n",
       "      <td>1988</td>\n",
       "      <td>George Hendrick</td>\n",
       "      <td>989333</td>\n",
       "      <td>Outfielder</td>\n",
       "      <td>Los Angeles Angels</td>\n",
       "    </tr>\n",
       "  </tbody>\n",
       "</table>\n",
       "</div>"
      ],
      "text/plain": [
       "   Year           Player   Salary    Position                Team\n",
       "0  1988        Mike Witt  1400000     Pitcher  Los Angeles Angels\n",
       "1  1988  George Hendrick   989333  Outfielder  Los Angeles Angels"
      ]
     },
     "execution_count": 165,
     "metadata": {},
     "output_type": "execute_result"
    }
   ],
   "source": [
    "mlb.head(2)"
   ]
  },
  {
   "cell_type": "code",
   "execution_count": 166,
   "metadata": {
    "collapsed": false
   },
   "outputs": [
    {
     "data": {
      "text/plain": [
       "Year        19543\n",
       "Player      19543\n",
       "Salary      19543\n",
       "Position    19543\n",
       "Team        19543\n",
       "dtype: int64"
      ]
     },
     "execution_count": 166,
     "metadata": {},
     "output_type": "execute_result"
    }
   ],
   "source": [
    "# Counting the number of values in each column\n",
    "mlb.count()"
   ]
  },
  {
   "cell_type": "code",
   "execution_count": 167,
   "metadata": {
    "collapsed": true
   },
   "outputs": [],
   "source": [
    "# Creating a goup of things similar to the group by operation in SQL\n",
    "# group by operation has 3 steps which are splitting, analyzing\n",
    "# and combining to a dataframe, series\n",
    "grouped = mlb.groupby('Year')"
   ]
  },
  {
   "cell_type": "code",
   "execution_count": 170,
   "metadata": {
    "collapsed": false
   },
   "outputs": [
    {
     "data": {
      "text/plain": [
       "pandas.core.groupby.DataFrameGroupBy"
      ]
     },
     "execution_count": 170,
     "metadata": {},
     "output_type": "execute_result"
    }
   ],
   "source": [
    "# the grouped object that is created after applying the groupby\n",
    "# operation is not a dataframe object by a object which is \n",
    "# group of dataframe instead it is represented as a dictionary \n",
    "# like structure\n",
    "type(grouped)"
   ]
  },
  {
   "cell_type": "code",
   "execution_count": 171,
   "metadata": {
    "collapsed": false
   },
   "outputs": [
    {
     "name": "stdout",
     "output_type": "stream",
     "text": [
      "1988\n",
      "     Year               Player   Salary           Position                Team\n",
      "0    1988            Mike Witt  1400000            Pitcher  Los Angeles Angels\n",
      "1    1988      George Hendrick   989333         Outfielder  Los Angeles Angels\n",
      "2    1988          Chili Davis   950000         Outfielder  Los Angeles Angels\n",
      "3    1988        Brian Downing   900000  Designated Hitter  Los Angeles Angels\n",
      "4    1988            Bob Boone   883000            Catcher  Los Angeles Angels\n",
      "5    1988           Johnny Ray   857000     Second Baseman  Los Angeles Angels\n",
      "6    1988            Dan Petry   785000            Pitcher  Los Angeles Angels\n",
      "7    1988        Butch Wynegar   733333            Catcher  Los Angeles Angels\n",
      "8    1988       Dick Schofield   552222          Shortstop  Los Angeles Angels\n",
      "9    1988          Greg Minton   525000            Pitcher  Los Angeles Angels\n",
      "10   1988    Tony Rafael Armas   425000         Outfielder  Los Angeles Angels\n",
      "11   1988         Wally Joyner   340000      First Baseman  Los Angeles Angels\n",
      "12   1988       Kirk McCaskill   262000            Pitcher  Los Angeles Angels\n",
      "13   1988          Jack Howell   200000      Third Baseman  Los Angeles Angels\n",
      "14   1988          Devon White   185000         Outfielder  Los Angeles Angels\n",
      "15   1988        Willie Fraser   125000            Pitcher  Los Angeles Angels\n",
      "16   1988        Mark McLemore   122500     Second Baseman  Los Angeles Angels\n",
      "17   1988         Chuck Finley   111000            Pitcher  Los Angeles Angels\n",
      "18   1988       Darrell Miller   107500            Catcher  Los Angeles Angels\n",
      "19   1988         Jack Lazorko    97000            Pitcher  Los Angeles Angels\n",
      "20   1988         Stew Cliburn    70000            Pitcher  Los Angeles Angels\n",
      "21   1988          Thad Bosley    62500         Outfielder  Los Angeles Angels\n",
      "22   1988          Terry Clark    62500            Pitcher  Los Angeles Angels\n",
      "23   1988      Sherman Corbett    62500            Pitcher  Los Angeles Angels\n",
      "24   1988           Jim Eppard    62500         Outfielder  Los Angeles Angels\n",
      "25   1988         Bryan Harvey    62500            Pitcher  Los Angeles Angels\n",
      "26   1988           Nolan Ryan  1200000            Pitcher      Houston Astros\n",
      "27   1988           Dave Smith  1100000            Pitcher      Houston Astros\n",
      "28   1988          Bob Knepper  1025000            Pitcher      Houston Astros\n",
      "29   1988           Terry Puhl   950000         Outfielder      Houston Astros\n",
      "..    ...                  ...      ...                ...                 ...\n",
      "656  1988          Kelly Paris    62500      First Baseman   Chicago White Sox\n",
      "657  1988         Melido Perez    62500            Pitcher   Chicago White Sox\n",
      "658  1988      Steve Rosenberg    62500            Pitcher   Chicago White Sox\n",
      "659  1988           Jack Clark  2000000         Outfielder    New York Yankees\n",
      "660  1988        Don Mattingly  2000000      First Baseman    New York Yankees\n",
      "661  1988        Dave Winfield  1983652         Outfielder    New York Yankees\n",
      "662  1988     Rickey Henderson  1770000         Outfielder    New York Yankees\n",
      "663  1988        Dave Righetti  1300000            Pitcher    New York Yankees\n",
      "664  1988       Richard Dotson   900000            Pitcher    New York Yankees\n",
      "665  1988          Rick Rhoden   900000            Pitcher    New York Yankees\n",
      "666  1988      Willie Randolph   875000     Second Baseman    New York Yankees\n",
      "667  1988           Ron Guidry   825000            Pitcher    New York Yankees\n",
      "668  1988      John Candelaria   700000            Pitcher    New York Yankees\n",
      "669  1988            Gary Ward   625000         Outfielder    New York Yankees\n",
      "670  1988          Don Slaught   531500            Catcher    New York Yankees\n",
      "671  1988      Mike Pagliarulo   500000      Third Baseman    New York Yankees\n",
      "672  1988  Claudell Washington   480000         Outfielder    New York Yankees\n",
      "673  1988           Tommy John   475000            Pitcher    New York Yankees\n",
      "674  1988       Charles Hudson   450000            Pitcher    New York Yankees\n",
      "675  1988       Rafael Santana   425000          Shortstop    New York Yankees\n",
      "676  1988           Ken Phelps   410000      First Baseman    New York Yankees\n",
      "677  1988       Wayne Tolleson   410000     Second Baseman    New York Yankees\n",
      "678  1988          Luis Aguayo   375000      Third Baseman    New York Yankees\n",
      "679  1988           Neil Allen   250000            Pitcher    New York Yankees\n",
      "680  1988        Bobby Meacham   212500          Shortstop    New York Yankees\n",
      "681  1988        Dale Mohorcic   157500            Pitcher    New York Yankees\n",
      "682  1988        Steve Shields   110000            Pitcher    New York Yankees\n",
      "683  1988         Joel Skinner   110000            Catcher    New York Yankees\n",
      "684  1988        Roberto Kelly    67000         Outfielder    New York Yankees\n",
      "685  1988            Al Leiter    67000            Pitcher    New York Yankees\n",
      "\n",
      "[686 rows x 5 columns]\n",
      "1989\n",
      "      Year               Player   Salary        Position                Team\n",
      "686   1989            Mike Witt  1400000         Pitcher  Los Angeles Angels\n",
      "687   1989          Chili Davis  1275000      Outfielder  Los Angeles Angels\n",
      "688   1989        Brian Downing  1250000      Outfielder  Los Angeles Angels\n",
      "689   1989        Bert Blyleven  1225000         Pitcher  Los Angeles Angels\n",
      "690   1989        Lance Parrish  1000000         Catcher  Los Angeles Angels\n",
      "691   1989  Claudell Washington   975000      Outfielder  Los Angeles Angels\n",
      "692   1989         Wally Joyner   920000   First Baseman  Los Angeles Angels\n",
      "693   1989       Dick Schofield   908333       Shortstop  Los Angeles Angels\n",
      "694   1989           Johnny Ray   850000  Second Baseman  Los Angeles Angels\n",
      "695   1989            Dan Petry   785000         Pitcher  Los Angeles Angels\n",
      "696   1989          Greg Minton   630000         Pitcher  Los Angeles Angels\n",
      "697   1989          Jack Howell   465000   Third Baseman  Los Angeles Angels\n",
      "698   1989    Tony Rafael Armas   425000      Outfielder  Los Angeles Angels\n",
      "699   1989       Kirk McCaskill   400000         Pitcher  Los Angeles Angels\n",
      "700   1989       Bill Schroeder   372500         Catcher  Los Angeles Angels\n",
      "701   1989          Devon White   320000      Outfielder  Los Angeles Angels\n",
      "702   1989        Willie Fraser   200000         Pitcher  Los Angeles Angels\n",
      "703   1989          Bob McClure   200000         Pitcher  Los Angeles Angels\n",
      "704   1989         Chuck Finley   180000         Pitcher  Los Angeles Angels\n",
      "705   1989         Bryan Harvey   170000         Pitcher  Los Angeles Angels\n",
      "706   1989        Glenn Hoffman   160000  Second Baseman  Los Angeles Angels\n",
      "707   1989        Mark McLemore   155000  Second Baseman  Los Angeles Angels\n",
      "708   1989           Jim Eppard    91000      Outfielder  Los Angeles Angels\n",
      "709   1989          Terry Clark    85000         Pitcher  Los Angeles Angels\n",
      "710   1989           Jim Abbott    68000         Pitcher  Los Angeles Angels\n",
      "711   1989        Kent Anderson    68000       Shortstop  Los Angeles Angels\n",
      "712   1989       Dante Bichette    68000      Outfielder  Los Angeles Angels\n",
      "713   1989       Vance Lovelace    68000         Pitcher  Los Angeles Angels\n",
      "714   1989           Mike Scott  1300000         Pitcher      Houston Astros\n",
      "715   1989           Jim Clancy  1150000         Pitcher      Houston Astros\n",
      "...    ...                  ...      ...             ...                 ...\n",
      "1366  1989     Rickey Henderson  2120000      Outfielder    New York Yankees\n",
      "1367  1989        Dave Winfield  1958652      Outfielder    New York Yankees\n",
      "1368  1989        Dave Righetti  1450000         Pitcher    New York Yankees\n",
      "1369  1989            Steve Sax  1150000  Second Baseman    New York Yankees\n",
      "1370  1989         Andy Hawkins   933333         Pitcher    New York Yankees\n",
      "1371  1989       Richard Dotson   900000         Pitcher    New York Yankees\n",
      "1372  1989             Mel Hall   875000      Outfielder    New York Yankees\n",
      "1373  1989         Dave Lapoint   825000         Pitcher    New York Yankees\n",
      "1374  1989        Steve Balboni   800000   First Baseman    New York Yankees\n",
      "1375  1989      John Candelaria   800000         Pitcher    New York Yankees\n",
      "1376  1989            Gary Ward   675000      Outfielder    New York Yankees\n",
      "1377  1989           Ken Phelps   655000   First Baseman    New York Yankees\n",
      "1378  1989          Don Slaught   650000         Catcher    New York Yankees\n",
      "1379  1989      Mike Pagliarulo   575000   Third Baseman    New York Yankees\n",
      "1380  1989           Ron Guidry   500000         Pitcher    New York Yankees\n",
      "1381  1989           Tommy John   500000         Pitcher    New York Yankees\n",
      "1382  1989       Rafael Santana   500000       Shortstop    New York Yankees\n",
      "1383  1989      Lance McCullers   460000         Pitcher    New York Yankees\n",
      "1384  1989         Tom Brookens   450000   Third Baseman    New York Yankees\n",
      "1385  1989       Wayne Tolleson   410000       Shortstop    New York Yankees\n",
      "1386  1989          Jamie Quirk   250000         Catcher    New York Yankees\n",
      "1387  1989        Dale Mohorcic   210000         Pitcher    New York Yankees\n",
      "1388  1989       Lee Guetterman   137500         Pitcher    New York Yankees\n",
      "1389  1989           Bob Brower   120000      Outfielder    New York Yankees\n",
      "1390  1989       Stan Jefferson    90000      Outfielder    New York Yankees\n",
      "1391  1989        Roberto Kelly    80000      Outfielder    New York Yankees\n",
      "1392  1989            Al Leiter    80000         Pitcher    New York Yankees\n",
      "1393  1989        Randy Velarde    72500       Shortstop    New York Yankees\n",
      "1394  1989      Alvaro Espinoza    68000       Shortstop    New York Yankees\n",
      "1395  1989      Bernie Williams    68000      Outfielder    New York Yankees\n",
      "\n",
      "[710 rows x 5 columns]\n",
      "1990\n",
      "      Year               Player   Salary        Position                Team\n",
      "1396  1990        Lance Parrish  1916667         Catcher  Los Angeles Angels\n",
      "1397  1990        Mark Langston  1800000         Pitcher  Los Angeles Angels\n",
      "1398  1990         Wally Joyner  1750000   First Baseman  Los Angeles Angels\n",
      "1399  1990          Chili Davis  1375000      Outfielder  Los Angeles Angels\n",
      "1400  1990            Mike Witt  1300000         Pitcher  Los Angeles Angels\n",
      "1401  1990        Brian Downing  1250000      Outfielder  Los Angeles Angels\n",
      "1402  1990        Bert Blyleven  1175000         Pitcher  Los Angeles Angels\n",
      "1403  1990           Johnny Ray  1125000  Second Baseman  Los Angeles Angels\n",
      "1404  1990       Dick Schofield   983333       Shortstop  Los Angeles Angels\n",
      "1405  1990       Kirk McCaskill   967500         Pitcher  Los Angeles Angels\n",
      "1406  1990          Greg Minton   850000         Pitcher  Los Angeles Angels\n",
      "1407  1990          Bob McClure   825000         Pitcher  Los Angeles Angels\n",
      "1408  1990         Chuck Finley   725000         Pitcher  Los Angeles Angels\n",
      "1409  1990  Claudell Washington   675000      Outfielder  Los Angeles Angels\n",
      "1410  1990          Jack Howell   652500   Third Baseman  Los Angeles Angels\n",
      "1411  1990          Devon White   580000      Outfielder  Los Angeles Angels\n",
      "1412  1990        Mike Smithson   480000         Pitcher  Los Angeles Angels\n",
      "1413  1990         Scott Bailes   425000         Pitcher  Los Angeles Angels\n",
      "1414  1990        Willie Fraser   410000         Pitcher  Los Angeles Angels\n",
      "1415  1990       Bill Schroeder   407500         Catcher  Los Angeles Angels\n",
      "1416  1990         Bryan Harvey   332500         Pitcher  Los Angeles Angels\n",
      "1417  1990          Max Venable   200000      Outfielder  Los Angeles Angels\n",
      "1418  1990           Jim Abbott   185000         Pitcher  Los Angeles Angels\n",
      "1419  1990        Mark McLemore   175000  Second Baseman  Los Angeles Angels\n",
      "1420  1990        Kent Anderson   105000       Shortstop  Los Angeles Angels\n",
      "1421  1990       Dante Bichette   100000      Outfielder  Los Angeles Angels\n",
      "1422  1990      Sherman Corbett   100000         Pitcher  Los Angeles Angels\n",
      "1423  1990       Gary DiSarcina   100000       Shortstop  Los Angeles Angels\n",
      "1424  1990             Mike Erb   100000         Pitcher  Los Angeles Angels\n",
      "1425  1990         Mike Fetters   100000         Pitcher  Los Angeles Angels\n",
      "...    ...                  ...      ...             ...                 ...\n",
      "2338  1990       Jesse Barfield  1233333      Outfielder    New York Yankees\n",
      "2339  1990         Andy Hawkins  1133333         Pitcher    New York Yankees\n",
      "2340  1990             Mel Hall  1100000      Outfielder    New York Yankees\n",
      "2341  1990            Steve Sax   950000  Second Baseman    New York Yankees\n",
      "2342  1990     Jeff D. Robinson   925000         Pitcher    New York Yankees\n",
      "2343  1990        Steve Balboni   900000   First Baseman    New York Yankees\n",
      "2344  1990         Dave Lapoint   850000         Pitcher    New York Yankees\n",
      "2345  1990            Tim Leary   825000         Pitcher    New York Yankees\n",
      "2346  1990      Lance McCullers   650000         Pitcher    New York Yankees\n",
      "2347  1990          Rick Cerone   600000         Catcher    New York Yankees\n",
      "2348  1990        Damaso Garcia   500000  Second Baseman    New York Yankees\n",
      "2349  1990       Lee Guetterman   465000         Pitcher    New York Yankees\n",
      "2350  1990           Eric Plunk   450000         Pitcher    New York Yankees\n",
      "2351  1990       Wayne Tolleson   425000       Shortstop    New York Yankees\n",
      "2352  1990         Greg Cadaret   265000         Pitcher    New York Yankees\n",
      "2353  1990        Roberto Kelly   265000      Outfielder    New York Yankees\n",
      "2354  1990      Alvaro Espinoza   255000       Shortstop    New York Yankees\n",
      "2355  1990           Chuck Cary   200000         Pitcher    New York Yankees\n",
      "2356  1990         Luis Polonia   200000      Outfielder    New York Yankees\n",
      "2357  1990          Jimmy Jones   190000         Pitcher    New York Yankees\n",
      "2358  1990            Bob Geren   160000         Catcher    New York Yankees\n",
      "2359  1990          Clay Parker   150000         Pitcher    New York Yankees\n",
      "2360  1990        Randy Velarde   136500  Second Baseman    New York Yankees\n",
      "2361  1990         Fred Toliver   135000         Pitcher    New York Yankees\n",
      "2362  1990         Mike Blowers   107000   Third Baseman    New York Yankees\n",
      "2363  1990        Brian Dorsett   107000         Catcher    New York Yankees\n",
      "2364  1990          Dave Eiland   103500         Pitcher    New York Yankees\n",
      "2365  1990           Van Snider   102000      Outfielder    New York Yankees\n",
      "2366  1990           Alan Mills   100000         Pitcher    New York Yankees\n",
      "2367  1990         Willie Smith   100000         Pitcher    New York Yankees\n",
      "\n",
      "[972 rows x 5 columns]\n",
      "1991\n",
      "      Year             Player   Salary        Position                Team\n",
      "2368  1991      Mark Langston  3550000         Pitcher  Los Angeles Angels\n",
      "2369  1991      Dave Winfield  3300000      Outfielder  Los Angeles Angels\n",
      "2370  1991        Gary Gaetti  2700000   Third Baseman  Los Angeles Angels\n",
      "2371  1991       Chuck Finley  2500000         Pitcher  Los Angeles Angels\n",
      "2372  1991      Lance Parrish  2416667         Catcher  Los Angeles Angels\n",
      "2373  1991       Wally Joyner  2100000   First Baseman  Los Angeles Angels\n",
      "2374  1991     Kirk McCaskill  2100000         Pitcher  Los Angeles Angels\n",
      "2375  1991      Bert Blyleven  2000000         Pitcher  Los Angeles Angels\n",
      "2376  1991        Dave Parker  1600000      Outfielder  Los Angeles Angels\n",
      "2377  1991     Dick Schofield  1483334       Shortstop  Los Angeles Angels\n",
      "2378  1991       Bryan Harvey  1040000         Pitcher  Los Angeles Angels\n",
      "2379  1991   Jeff D. Robinson  1000000         Pitcher  Los Angeles Angels\n",
      "2380  1991       Luis Polonia   770000      Outfielder  Los Angeles Angels\n",
      "2381  1991        Bob McClure   700000         Pitcher  Los Angeles Angels\n",
      "2382  1991        Jack Howell   652500   Third Baseman  Los Angeles Angels\n",
      "2383  1991      Mark Eichhorn   625000         Pitcher  Los Angeles Angels\n",
      "2384  1991        Donnie Hill   500000  Second Baseman  Los Angeles Angels\n",
      "2385  1991       Scott Bailes   425000         Pitcher  Los Angeles Angels\n",
      "2386  1991        Max Venable   425000      Outfielder  Los Angeles Angels\n",
      "2387  1991     Dave Gallagher   357500      Outfielder  Los Angeles Angels\n",
      "2388  1991         Jim Abbott   312500         Pitcher  Los Angeles Angels\n",
      "2389  1991       Junior Felix   310000      Outfielder  Los Angeles Angels\n",
      "2390  1991    Floyd Bannister   250000         Pitcher  Los Angeles Angels\n",
      "2391  1991       Mike Fetters   120000         Pitcher  Los Angeles Angels\n",
      "2392  1991         John Orton   120000         Catcher  Los Angeles Angels\n",
      "2393  1991          Luis Sojo   110000  Second Baseman  Los Angeles Angels\n",
      "2394  1991         Bobby Rose   107500  Second Baseman  Los Angeles Angels\n",
      "2395  1991        Cliff Young   105000         Pitcher  Los Angeles Angels\n",
      "2396  1991        Scott Lewis   102500         Pitcher  Los Angeles Angels\n",
      "2397  1991         Mike Scott  2412500         Pitcher      Houston Astros\n",
      "...    ...                ...      ...             ...                 ...\n",
      "3058  1991       Kevin Garner   100000   First Baseman   Chicago White Sox\n",
      "3059  1991  Roberto Hernandez   100000         Pitcher   Chicago White Sox\n",
      "3060  1991      Warren Newson   100000      Outfielder   Chicago White Sox\n",
      "3061  1991      Don Mattingly  3420000   First Baseman    New York Yankees\n",
      "3062  1991          Mike Witt  2416667         Pitcher    New York Yankees\n",
      "3063  1991         Steve Farr  2400000         Pitcher    New York Yankees\n",
      "3064  1991      Pascual Perez  2133333         Pitcher    New York Yankees\n",
      "3065  1991    Scott Sanderson  2125000         Pitcher    New York Yankees\n",
      "3066  1991          Tim Leary  1975000         Pitcher    New York Yankees\n",
      "3067  1991     Jesse Barfield  1966667      Outfielder    New York Yankees\n",
      "3068  1991          Steve Sax  1633334  Second Baseman    New York Yankees\n",
      "3069  1991       Andy Hawkins  1533334         Pitcher    New York Yankees\n",
      "3070  1991           Mel Hall  1100000      Outfielder    New York Yankees\n",
      "3071  1991     Lee Guetterman  1050000         Pitcher    New York Yankees\n",
      "3072  1991         Eric Plunk   950000         Pitcher    New York Yankees\n",
      "3073  1991      Roberto Kelly   900000      Outfielder    New York Yankees\n",
      "3074  1991         Matt Nokes   887500         Catcher    New York Yankees\n",
      "3075  1991       Greg Cadaret   620000         Pitcher    New York Yankees\n",
      "3076  1991    Alvaro Espinoza   610000       Shortstop    New York Yankees\n",
      "3077  1991         Chuck Cary   570000         Pitcher    New York Yankees\n",
      "3078  1991         Kevin Maas   250000   First Baseman    New York Yankees\n",
      "3079  1991          Bob Geren   230000         Catcher    New York Yankees\n",
      "3080  1991       Pat Sheridan   200000      Outfielder    New York Yankees\n",
      "3081  1991      Randy Velarde   145000  Second Baseman    New York Yankees\n",
      "3082  1991        Jim Leyritz   135000         Catcher    New York Yankees\n",
      "3083  1991       Mike Blowers   130000   Third Baseman    New York Yankees\n",
      "3084  1991    Hensley Meulens   120000      Outfielder    New York Yankees\n",
      "3085  1991        Dave Eiland   110000         Pitcher    New York Yankees\n",
      "3086  1991        John Habyan   105000         Pitcher    New York Yankees\n",
      "3087  1991      Torey Lovullo   100000   Third Baseman    New York Yankees\n",
      "\n",
      "[720 rows x 5 columns]\n",
      "1992\n",
      "      Year             Player   Salary        Position                Team\n",
      "3088  1992       Chuck Finley  4375000         Pitcher  Los Angeles Angels\n",
      "3089  1992      Mark Langston  3550000         Pitcher  Los Angeles Angels\n",
      "3090  1992       Bryan Harvey  3125000         Pitcher  Los Angeles Angels\n",
      "3091  1992        Gary Gaetti  2700000   Third Baseman  Los Angeles Angels\n",
      "3092  1992      Lance Parrish  2416667         Catcher  Los Angeles Angels\n",
      "3093  1992       Hubie Brooks  2316687      Outfielder  Los Angeles Angels\n",
      "3094  1992          Von Hayes  2200000      Outfielder  Los Angeles Angels\n",
      "3095  1992         Jim Abbott  1850000         Pitcher  Los Angeles Angels\n",
      "3096  1992      Mark Eichhorn  1750000         Pitcher  Los Angeles Angels\n",
      "3097  1992       Luis Polonia  1650000      Outfielder  Los Angeles Angels\n",
      "3098  1992     Dick Schofield  1500000       Shortstop  Los Angeles Angels\n",
      "3099  1992         Chuck Crim  1100000         Pitcher  Los Angeles Angels\n",
      "3100  1992       Don Robinson   900000         Pitcher  Los Angeles Angels\n",
      "3101  1992        Alvin Davis   800000   First Baseman  Los Angeles Angels\n",
      "3102  1992       Scott Bailes   600000         Pitcher  Los Angeles Angels\n",
      "3103  1992       Junior Felix   590000      Outfielder  Los Angeles Angels\n",
      "3104  1992    Mike Fitzgerald   350000         Catcher  Los Angeles Angels\n",
      "3105  1992      Rene Gonzales   225000   Third Baseman  Los Angeles Angels\n",
      "3106  1992        John Morris   200000      Outfielder  Los Angeles Angels\n",
      "3107  1992          Luis Sojo   180000  Second Baseman  Los Angeles Angels\n",
      "3108  1992        Ron Tingley   170000         Catcher  Los Angeles Angels\n",
      "3109  1992         John Orton   130000         Catcher  Los Angeles Angels\n",
      "3110  1992        Lee Stevens   130000   First Baseman  Los Angeles Angels\n",
      "3111  1992      Chris Beasley   125000         Pitcher  Los Angeles Angels\n",
      "3112  1992          Joe Grahe   125000         Pitcher  Los Angeles Angels\n",
      "3113  1992         Bobby Rose   125000  Second Baseman  Los Angeles Angels\n",
      "3114  1992        Scott Lewis   120000         Pitcher  Los Angeles Angels\n",
      "3115  1992     Gary DiSarcina   117500       Shortstop  Los Angeles Angels\n",
      "3116  1992        Chad Curtis   109000      Outfielder  Los Angeles Angels\n",
      "3117  1992       Ken Caminiti  1500000   Third Baseman      Houston Astros\n",
      "...    ...                ...      ...             ...                 ...\n",
      "3811  1992      Don Mattingly  3620000   First Baseman    New York Yankees\n",
      "3812  1992          Mike Witt  2916667         Pitcher    New York Yankees\n",
      "3813  1992         Matt Nokes  2500000         Catcher    New York Yankees\n",
      "3814  1992         Steve Farr  2400000         Pitcher    New York Yankees\n",
      "3815  1992          Tim Leary  2175000         Pitcher    New York Yankees\n",
      "3816  1992     Jesse Barfield  2166667      Outfielder    New York Yankees\n",
      "3817  1992      Roberto Kelly  2150000      Outfielder    New York Yankees\n",
      "3818  1992    Scott Sanderson  2125000         Pitcher    New York Yankees\n",
      "3819  1992       Mike Gallego  1950000  Second Baseman    New York Yankees\n",
      "3820  1992     Lee Guetterman  1600000         Pitcher    New York Yankees\n",
      "3821  1992       Greg Cadaret  1190000         Pitcher    New York Yankees\n",
      "3822  1992       Melido Perez  1165000         Pitcher    New York Yankees\n",
      "3823  1992           Mel Hall  1100000      Outfielder    New York Yankees\n",
      "3824  1992         Steve Howe   600000         Pitcher    New York Yankees\n",
      "3825  1992        John Habyan   500000         Pitcher    New York Yankees\n",
      "3826  1992      Randy Velarde   360000  Second Baseman    New York Yankees\n",
      "3827  1992      Charlie Hayes   280000   Third Baseman    New York Yankees\n",
      "3828  1992         Kevin Maas   255000   First Baseman    New York Yankees\n",
      "3829  1992         Dion James   250000      Outfielder    New York Yankees\n",
      "3830  1992          Pat Kelly   147500  Second Baseman    New York Yankees\n",
      "3831  1992       Mike Stanley   145000         Catcher    New York Yankees\n",
      "3832  1992    Hensley Meulens   132500   Third Baseman    New York Yankees\n",
      "3833  1992        Jim Leyritz   126500         Catcher    New York Yankees\n",
      "3834  1992    Rich Monteleone   125000         Pitcher    New York Yankees\n",
      "3835  1992    Bernie Williams   125000      Outfielder    New York Yankees\n",
      "3836  1992  Scott Kamieniecki   120000         Pitcher    New York Yankees\n",
      "3837  1992       Jeff Johnson   115000         Pitcher    New York Yankees\n",
      "3838  1992         John Ramos   109000         Catcher    New York Yankees\n",
      "3839  1992       Willie Smith   109000         Pitcher    New York Yankees\n",
      "3840  1992   Andy Stankiewicz   109000  Second Baseman    New York Yankees\n",
      "\n",
      "[753 rows x 5 columns]\n",
      "1993\n",
      "      Year             Player   Salary        Position                Team\n",
      "3841  1993       Chuck Finley  5375000         Pitcher  Los Angeles Angels\n",
      "3842  1993       Kelly Gruber  4333334   Third Baseman  Los Angeles Angels\n",
      "3843  1993      Mark Langston  3550000         Pitcher  Los Angeles Angels\n",
      "3844  1993        Gary Gaetti  3000000   Third Baseman  Los Angeles Angels\n",
      "3845  1993       Luis Polonia  2475000      Outfielder  Los Angeles Angels\n",
      "3846  1993        Chili Davis  1750000      Outfielder  Los Angeles Angels\n",
      "3847  1993         Chuck Crim  1100000         Pitcher  Los Angeles Angels\n",
      "3848  1993      Rene Gonzales   600000   Third Baseman  Los Angeles Angels\n",
      "3849  1993        Stan Javier   600000      Outfielder  Los Angeles Angels\n",
      "3850  1993         Steve Frey   525000         Pitcher  Los Angeles Angels\n",
      "3851  1993         Greg Myers   525000         Catcher  Los Angeles Angels\n",
      "3852  1993    Scott Sanderson   500000         Pitcher  Los Angeles Angels\n",
      "3853  1993      Jerome Walton   450000      Outfielder  Los Angeles Angels\n",
      "3854  1993     Gary DiSarcina   265000       Shortstop  Los Angeles Angels\n",
      "3855  1993        Ron Tingley   262500         Catcher  Los Angeles Angels\n",
      "3856  1993          Joe Grahe   230000         Pitcher  Los Angeles Angels\n",
      "3857  1993        Chad Curtis   220000      Outfielder  Los Angeles Angels\n",
      "3858  1993       John Farrell   200000         Pitcher  Los Angeles Angels\n",
      "3859  1993       Julio Valera   190000         Pitcher  Los Angeles Angels\n",
      "3860  1993         John Orton   160000         Catcher  Los Angeles Angels\n",
      "3861  1993        Scott Lewis   140000         Pitcher  Los Angeles Angels\n",
      "3862  1993      Jerry Nielsen   115000         Pitcher  Los Angeles Angels\n",
      "3863  1993         Tim Salmon   115000      Outfielder  Los Angeles Angels\n",
      "3864  1993      Damion Easley   112500  Second Baseman  Los Angeles Angels\n",
      "3865  1993          J.T. Snow   110000   First Baseman  Los Angeles Angels\n",
      "3866  1993      Mark Holzemer   109000         Pitcher  Los Angeles Angels\n",
      "3867  1993      Torey Lovullo   109000  Second Baseman  Los Angeles Angels\n",
      "3868  1993     Ty Van Burkleo   109000      Outfielder  Los Angeles Angels\n",
      "3869  1993        Doug Drabek  4250000         Pitcher      Houston Astros\n",
      "3870  1993      Greg Swindell  3750000         Pitcher      Houston Astros\n",
      "...    ...                ...      ...             ...                 ...\n",
      "4597  1993      Rodney Bolton   109000         Pitcher   Chicago White Sox\n",
      "4598  1993    Danny Tartabull  5050000      Outfielder    New York Yankees\n",
      "4599  1993          Jimmy Key  4750000         Pitcher    New York Yankees\n",
      "4600  1993       Paul O'Neill  3833333      Outfielder    New York Yankees\n",
      "4601  1993      Don Mattingly  3820000   First Baseman    New York Yankees\n",
      "4602  1993         Wade Boggs  2900000   Third Baseman    New York Yankees\n",
      "4603  1993         Matt Nokes  2500000         Catcher    New York Yankees\n",
      "4604  1993       Melido Perez  2450000         Pitcher    New York Yankees\n",
      "4605  1993         Jim Abbott  2350000         Pitcher    New York Yankees\n",
      "4606  1993         Spike Owen  2250000       Shortstop    New York Yankees\n",
      "4607  1993          Mike Witt  2166667         Pitcher    New York Yankees\n",
      "4608  1993         Steve Howe  2100000         Pitcher    New York Yankees\n",
      "4609  1993       Mike Gallego  1575000       Shortstop    New York Yankees\n",
      "4610  1993         Steve Farr  1500000         Pitcher    New York Yankees\n",
      "4611  1993      Randy Velarde  1050000       Shortstop    New York Yankees\n",
      "4612  1993        John Habyan   600000         Pitcher    New York Yankees\n",
      "4613  1993       Mike Stanley   325000         Catcher    New York Yankees\n",
      "4614  1993         Kevin Maas   255000   First Baseman    New York Yankees\n",
      "4615  1993        Neal Heaton   250000         Pitcher    New York Yankees\n",
      "4616  1993    Rich Monteleone   250000         Pitcher    New York Yankees\n",
      "4617  1993          Pat Kelly   160000  Second Baseman    New York Yankees\n",
      "4618  1993        Jim Leyritz   152000         Catcher    New York Yankees\n",
      "4619  1993  Scott Kamieniecki   150000         Pitcher    New York Yankees\n",
      "4620  1993    Bernie Williams   150000      Outfielder    New York Yankees\n",
      "4621  1993   Andy Stankiewicz   138000  Second Baseman    New York Yankees\n",
      "4622  1993       Jeff Johnson   125000         Pitcher    New York Yankees\n",
      "4623  1993      Sam Militello   118000         Pitcher    New York Yankees\n",
      "4624  1993        Bob Wickman   116000         Pitcher    New York Yankees\n",
      "4625  1993     Mike Humphreys   112000         Pitcher    New York Yankees\n",
      "4626  1993    Gerald Williams   109000      Outfielder    New York Yankees\n",
      "\n",
      "[786 rows x 5 columns]\n",
      "1994\n",
      "      Year              Player   Salary        Position                Team\n",
      "4627  1994        Chuck Finley  3875000         Pitcher  Los Angeles Angels\n",
      "4628  1994       Mark Langston  3550000         Pitcher  Los Angeles Angels\n",
      "4629  1994         Chili Davis  2400000      Outfielder  Los Angeles Angels\n",
      "4630  1994         Joe Magrane  1500000         Pitcher  Los Angeles Angels\n",
      "4631  1994          Spike Owen  1250000       Shortstop  Los Angeles Angels\n",
      "4632  1994          Bo Jackson  1000000      Outfielder  Los Angeles Angels\n",
      "4633  1994           Joe Grahe   925000         Pitcher  Los Angeles Angels\n",
      "4634  1994          Greg Myers   700000         Catcher  Los Angeles Angels\n",
      "4635  1994        Dwight Smith   700000      Outfielder  Los Angeles Angels\n",
      "4636  1994         Chad Curtis   600000      Outfielder  Los Angeles Angels\n",
      "4637  1994          Tim Salmon   600000      Outfielder  Los Angeles Angels\n",
      "4638  1994      Gary DiSarcina   400000       Shortstop  Los Angeles Angels\n",
      "4639  1994         John Dopson   400000         Pitcher  Los Angeles Angels\n",
      "4640  1994      Craig Lefferts   400000         Pitcher  Los Angeles Angels\n",
      "4641  1994       Bob Patterson   400000         Pitcher  Los Angeles Angels\n",
      "4642  1994         Mark Leiter   300000         Pitcher  Los Angeles Angels\n",
      "4643  1994          Rex Hudler   275000  Second Baseman  Los Angeles Angels\n",
      "4644  1994     Harold Reynolds   230000  Second Baseman  Los Angeles Angels\n",
      "4645  1994         Bill Sampen   225000         Pitcher  Los Angeles Angels\n",
      "4646  1994       Damion Easley   170000       Shortstop  Los Angeles Angels\n",
      "4647  1994         Scott Lewis   155000         Pitcher  Los Angeles Angels\n",
      "4648  1994        Mike Butcher   150000         Pitcher  Los Angeles Angels\n",
      "4649  1994       Eduardo Perez   135000   First Baseman  Los Angeles Angels\n",
      "4650  1994        Chris Turner   125000         Catcher  Los Angeles Angels\n",
      "4651  1994         Jim Edmonds   117500      Outfielder  Los Angeles Angels\n",
      "4652  1994       Phil Leftwich   109000         Pitcher  Los Angeles Angels\n",
      "4653  1994         Doug Drabek  4250000         Pitcher      Houston Astros\n",
      "4654  1994       Greg Swindell  3750000         Pitcher      Houston Astros\n",
      "4655  1994        Craig Biggio  3350000  Second Baseman      Houston Astros\n",
      "4656  1994       Pete Harnisch  3205000         Pitcher      Houston Astros\n",
      "...    ...                 ...      ...             ...                 ...\n",
      "5345  1994          Jason Bere   160000         Pitcher   Chicago White Sox\n",
      "5346  1994        Jeff Schwarz   150000         Pitcher   Chicago White Sox\n",
      "5347  1994            Joe Hall   109000      Outfielder   Chicago White Sox\n",
      "5348  1994     Mike Lavalliere   109000         Catcher   Chicago White Sox\n",
      "5349  1994           Jimmy Key  5250000         Pitcher    New York Yankees\n",
      "5350  1994     Danny Tartabull  4550000      Outfielder    New York Yankees\n",
      "5351  1994       Don Mattingly  4020000   First Baseman    New York Yankees\n",
      "5352  1994        Paul O'Neill  3833334      Outfielder    New York Yankees\n",
      "5353  1994        Melido Perez  3450000         Pitcher    New York Yankees\n",
      "5354  1994    Terry Mulholland  3350000         Pitcher    New York Yankees\n",
      "5355  1994          Wade Boggs  3100000   Third Baseman    New York Yankees\n",
      "5356  1994          Jim Abbott  2775000         Pitcher    New York Yankees\n",
      "5357  1994          Matt Nokes  2500000         Catcher    New York Yankees\n",
      "5358  1994          Steve Howe  1900000         Pitcher    New York Yankees\n",
      "5359  1994        Mike Gallego  1575000       Shortstop    New York Yankees\n",
      "5360  1994    Xavier Hernandez  1525000         Pitcher    New York Yankees\n",
      "5361  1994        Luis Polonia  1500000      Outfielder    New York Yankees\n",
      "5362  1994       Randy Velarde  1125000       Shortstop    New York Yankees\n",
      "5363  1994           Pat Kelly   810000  Second Baseman    New York Yankees\n",
      "5364  1994         Jim Leyritz   742500         Catcher    New York Yankees\n",
      "5365  1994        Mike Stanley   512500         Catcher    New York Yankees\n",
      "5366  1994           Donn Pall   500000         Pitcher    New York Yankees\n",
      "5367  1994        Daryl Boston   400000      Outfielder    New York Yankees\n",
      "5368  1994         Paul Gibson   250000         Pitcher    New York Yankees\n",
      "5369  1994        Jeff Reardon   250000         Pitcher    New York Yankees\n",
      "5370  1994   Scott Kamieniecki   235000         Pitcher    New York Yankees\n",
      "5371  1994     Bernie Williams   225000      Outfielder    New York Yankees\n",
      "5372  1994         Bob Wickman   180000         Pitcher    New York Yankees\n",
      "5373  1994     Gerald Williams   115000      Outfielder    New York Yankees\n",
      "5374  1994  Sterling Hitchcock   112000         Pitcher    New York Yankees\n",
      "\n",
      "[748 rows x 5 columns]\n",
      "1995\n",
      "      Year                Player   Salary           Position  \\\n",
      "5375  1995         Mark Langston  5000000            Pitcher   \n",
      "5376  1995          Chuck Finley  4875000            Pitcher   \n",
      "5377  1995         Tony Phillips  4366667         Outfielder   \n",
      "5378  1995           Chili Davis  3800000  Designated Hitter   \n",
      "5379  1995            Spike Owen  3500000          Shortstop   \n",
      "5380  1995             Lee Smith  1900000            Pitcher   \n",
      "5381  1995        Gary DiSarcina   900000          Shortstop   \n",
      "5382  1995            Tim Salmon   900000         Outfielder   \n",
      "5383  1995            Greg Myers   800000            Catcher   \n",
      "5384  1995            Rex Hudler   300000     Second Baseman   \n",
      "5385  1995         Bob Patterson   225000            Pitcher   \n",
      "5386  1995          Shawn Boskie   200000            Pitcher   \n",
      "5387  1995       Scott Sanderson   200000            Pitcher   \n",
      "5388  1995             J.T. Snow   200000      First Baseman   \n",
      "5389  1995         Damion Easley   170000     Second Baseman   \n",
      "5390  1995         Andy Allanson   150000            Catcher   \n",
      "5391  1995         Mike Bielecki   150000            Pitcher   \n",
      "5392  1995          Mike Butcher   150000            Pitcher   \n",
      "5393  1995    Carlos A. Martinez   150000      First Baseman   \n",
      "5394  1995         Phil Leftwich   135000            Pitcher   \n",
      "5395  1995  Brian James Anderson   120000            Pitcher   \n",
      "5396  1995         Russ Springer   120000            Pitcher   \n",
      "5397  1995           Jim Edmonds   117500         Outfielder   \n",
      "5398  1995       Garret Anderson   109000         Outfielder   \n",
      "5399  1995        Jorge Fabregas   109000            Catcher   \n",
      "5400  1995            Mike James   109000            Pitcher   \n",
      "5401  1995      Orlando Palmeiro   109000         Outfielder   \n",
      "5402  1995         Troy Percival   109000            Pitcher   \n",
      "5403  1995          Jeff Bagwell  6875000      First Baseman   \n",
      "5404  1995           Doug Drabek  5000000            Pitcher   \n",
      "...    ...                   ...      ...                ...   \n",
      "6150  1995         Jack McDowell  5400000            Pitcher   \n",
      "6151  1995       Danny Tartabull  5300000         Outfielder   \n",
      "6152  1995             Jimmy Key  4873700            Pitcher   \n",
      "6153  1995            Wade Boggs  4624316      Third Baseman   \n",
      "6154  1995         Don Mattingly  4420000      First Baseman   \n",
      "6155  1995          Melido Perez  3450000            Pitcher   \n",
      "6156  1995        John Wetteland  3375000            Pitcher   \n",
      "6157  1995          Paul O'Neill  2800000         Outfielder   \n",
      "6158  1995            Steve Howe  2300000            Pitcher   \n",
      "6159  1995        Tony Fernandez  1500000          Shortstop   \n",
      "6160  1995          Luis Polonia  1500000         Outfielder   \n",
      "6161  1995           Jim Leyritz  1350000            Catcher   \n",
      "6162  1995             Pat Kelly  1085000     Second Baseman   \n",
      "6163  1995     Scott Kamieniecki  1000000            Pitcher   \n",
      "6164  1995          Mike Stanley   562000            Catcher   \n",
      "6165  1995        Scott Bankhead   500000            Pitcher   \n",
      "6166  1995       Bernie Williams   400000         Outfielder   \n",
      "6167  1995         Randy Velarde   350000          Shortstop   \n",
      "6168  1995            Dion James   300000         Outfielder   \n",
      "6169  1995         Rob MacDonald   260000            Pitcher   \n",
      "6170  1995           Bob Wickman   220000            Pitcher   \n",
      "6171  1995     Josias Manzanillo   175000            Pitcher   \n",
      "6172  1995    Sterling Hitchcock   125000            Pitcher   \n",
      "6173  1995       Gerald Williams   125000         Outfielder   \n",
      "6174  1995        Dave Silvestri   116000          Shortstop   \n",
      "6175  1995           Joe Ausanio   110000            Pitcher   \n",
      "6176  1995      Brian Boehringer   109000            Pitcher   \n",
      "6177  1995            Russ Davis   109000      Third Baseman   \n",
      "6178  1995         Andy Pettitte   109000            Pitcher   \n",
      "6179  1995        Mariano Rivera   109000            Pitcher   \n",
      "\n",
      "                    Team  \n",
      "5375  Los Angeles Angels  \n",
      "5376  Los Angeles Angels  \n",
      "5377  Los Angeles Angels  \n",
      "5378  Los Angeles Angels  \n",
      "5379  Los Angeles Angels  \n",
      "5380  Los Angeles Angels  \n",
      "5381  Los Angeles Angels  \n",
      "5382  Los Angeles Angels  \n",
      "5383  Los Angeles Angels  \n",
      "5384  Los Angeles Angels  \n",
      "5385  Los Angeles Angels  \n",
      "5386  Los Angeles Angels  \n",
      "5387  Los Angeles Angels  \n",
      "5388  Los Angeles Angels  \n",
      "5389  Los Angeles Angels  \n",
      "5390  Los Angeles Angels  \n",
      "5391  Los Angeles Angels  \n",
      "5392  Los Angeles Angels  \n",
      "5393  Los Angeles Angels  \n",
      "5394  Los Angeles Angels  \n",
      "5395  Los Angeles Angels  \n",
      "5396  Los Angeles Angels  \n",
      "5397  Los Angeles Angels  \n",
      "5398  Los Angeles Angels  \n",
      "5399  Los Angeles Angels  \n",
      "5400  Los Angeles Angels  \n",
      "5401  Los Angeles Angels  \n",
      "5402  Los Angeles Angels  \n",
      "5403      Houston Astros  \n",
      "5404      Houston Astros  \n",
      "...                  ...  \n",
      "6150    New York Yankees  \n",
      "6151    New York Yankees  \n",
      "6152    New York Yankees  \n",
      "6153    New York Yankees  \n",
      "6154    New York Yankees  \n",
      "6155    New York Yankees  \n",
      "6156    New York Yankees  \n",
      "6157    New York Yankees  \n",
      "6158    New York Yankees  \n",
      "6159    New York Yankees  \n",
      "6160    New York Yankees  \n",
      "6161    New York Yankees  \n",
      "6162    New York Yankees  \n",
      "6163    New York Yankees  \n",
      "6164    New York Yankees  \n",
      "6165    New York Yankees  \n",
      "6166    New York Yankees  \n",
      "6167    New York Yankees  \n",
      "6168    New York Yankees  \n",
      "6169    New York Yankees  \n",
      "6170    New York Yankees  \n",
      "6171    New York Yankees  \n",
      "6172    New York Yankees  \n",
      "6173    New York Yankees  \n",
      "6174    New York Yankees  \n",
      "6175    New York Yankees  \n",
      "6176    New York Yankees  \n",
      "6177    New York Yankees  \n",
      "6178    New York Yankees  \n",
      "6179    New York Yankees  \n",
      "\n",
      "[805 rows x 5 columns]\n",
      "1996\n",
      "      Year             Player   Salary           Position                Team\n",
      "6180  1996      Mark Langston  5000000            Pitcher  Los Angeles Angels\n",
      "6181  1996        Chili Davis  3800000  Designated Hitter  Los Angeles Angels\n",
      "6182  1996       Chuck Finley  3000000            Pitcher  Los Angeles Angels\n",
      "6183  1996         Tim Salmon  2500000         Outfielder  Los Angeles Angels\n",
      "6184  1996         Jim Abbott  2200000            Pitcher  Los Angeles Angels\n",
      "6185  1996          Lee Smith  2100000            Pitcher  Los Angeles Angels\n",
      "6186  1996     Gary DiSarcina  1600000          Shortstop  Los Angeles Angels\n",
      "6187  1996      Randy Velarde   800000          Shortstop  Los Angeles Angels\n",
      "6188  1996          J.T. Snow   700000      First Baseman  Los Angeles Angels\n",
      "6189  1996        Jim Edmonds   550000         Outfielder  Los Angeles Angels\n",
      "6190  1996       Bryan Harvey   500000            Pitcher  Los Angeles Angels\n",
      "6191  1996        Tim Wallach   400000      Third Baseman  Los Angeles Angels\n",
      "6192  1996      Troy Percival   330000            Pitcher  Los Angeles Angels\n",
      "6193  1996      Damion Easley   305000     Second Baseman  Los Angeles Angels\n",
      "6194  1996        Jack Howell   300000      Third Baseman  Los Angeles Angels\n",
      "6195  1996         Rex Hudler   300000     Second Baseman  Los Angeles Angels\n",
      "6196  1996    Garret Anderson   250000         Outfielder  Los Angeles Angels\n",
      "6197  1996     Dick Schofield   250000          Shortstop  Los Angeles Angels\n",
      "6198  1996        Don Slaught   250000            Catcher  Los Angeles Angels\n",
      "6199  1996    Steve Ontiveros   225000            Pitcher  Los Angeles Angels\n",
      "6200  1996       Mike Aldrete   200000      First Baseman  Los Angeles Angels\n",
      "6201  1996       Shawn Boskie   200000            Pitcher  Los Angeles Angels\n",
      "6202  1996    Scott Sanderson   200000            Pitcher  Los Angeles Angels\n",
      "6203  1996     Jorge Fabregas   175000            Catcher  Los Angeles Angels\n",
      "6204  1996      Mark Eichhorn   160000            Pitcher  Los Angeles Angels\n",
      "6205  1996         Mike James   150000            Pitcher  Los Angeles Angels\n",
      "6206  1996      Mark Holzemer   117500            Pitcher  Los Angeles Angels\n",
      "6207  1996      Ken Edenfield   112000            Pitcher  Los Angeles Angels\n",
      "6208  1996       George Arias   109000      Third Baseman  Los Angeles Angels\n",
      "6209  1996      Tim Harkrider   109000          Shortstop  Los Angeles Angels\n",
      "...    ...                ...      ...                ...                 ...\n",
      "6918  1996       Chris Snopek   125000      Third Baseman   Chicago White Sox\n",
      "6919  1996       Ruben Sierra  6200000  Designated Hitter    New York Yankees\n",
      "6920  1996       Paul O'Neill  5300000         Outfielder    New York Yankees\n",
      "6921  1996       Kenny Rogers  5000000            Pitcher    New York Yankees\n",
      "6922  1996         David Cone  4666666            Pitcher    New York Yankees\n",
      "6923  1996       Melido Perez  4650000            Pitcher    New York Yankees\n",
      "6924  1996     John Wetteland  4000000            Pitcher    New York Yankees\n",
      "6925  1996    Bernie Williams  3000000         Outfielder    New York Yankees\n",
      "6926  1996      Tino Martinez  2300000      First Baseman    New York Yankees\n",
      "6927  1996        Joe Girardi  2250000            Catcher    New York Yankees\n",
      "6928  1996         Wade Boggs  2000000      Third Baseman    New York Yankees\n",
      "6929  1996          Jimmy Key  1750000            Pitcher    New York Yankees\n",
      "6930  1996     Tony Fernandez  1500000          Shortstop    New York Yankees\n",
      "6931  1996     Tim Raines Sr.  1450000         Outfielder    New York Yankees\n",
      "6932  1996        Jim Leyritz  1330579            Catcher    New York Yankees\n",
      "6933  1996  Scott Kamieniecki  1100000            Pitcher    New York Yankees\n",
      "6934  1996          Pat Kelly   900000     Second Baseman    New York Yankees\n",
      "6935  1996        Jeff Nelson   860000            Pitcher    New York Yankees\n",
      "6936  1996      Dwight Gooden   850000            Pitcher    New York Yankees\n",
      "6937  1996        Bob Wickman   800000            Pitcher    New York Yankees\n",
      "6938  1996     Mariano Duncan   725000     Second Baseman    New York Yankees\n",
      "6939  1996         Steve Howe   500000            Pitcher    New York Yankees\n",
      "6940  1996    Gerald Williams   200000         Outfielder    New York Yankees\n",
      "6941  1996      Andy Pettitte   150000            Pitcher    New York Yankees\n",
      "6942  1996     Mariano Rivera   131125            Pitcher    New York Yankees\n",
      "6943  1996        Derek Jeter   120000          Shortstop    New York Yankees\n",
      "6944  1996    Robert Eenhoorn   119000          Shortstop    New York Yankees\n",
      "6945  1996        Mark Hutton   119000            Pitcher    New York Yankees\n",
      "6946  1996           Andy Fox   109000     Second Baseman    New York Yankees\n",
      "6947  1996          Matt Luke   109000         Outfielder    New York Yankees\n",
      "\n",
      "[768 rows x 5 columns]\n",
      "1997\n",
      "      Year               Player   Salary        Position                Team\n",
      "6948  1997         Chuck Finley  4000000         Pitcher  Los Angeles Angels\n",
      "6949  1997        Mark Langston  4000000         Pitcher  Los Angeles Angels\n",
      "6950  1997           Tim Salmon  3500000      Outfielder  Los Angeles Angels\n",
      "6951  1997       Gary DiSarcina  2600000       Shortstop  Los Angeles Angels\n",
      "6952  1997          Jim Edmonds  2100000      Outfielder  Los Angeles Angels\n",
      "6953  1997         Dave Hollins  1900000   Third Baseman  Los Angeles Angels\n",
      "6954  1997          Jim Leyritz  1686672         Catcher  Los Angeles Angels\n",
      "6955  1997         Mark Gubicza  1600000         Pitcher  Los Angeles Angels\n",
      "6956  1997         Allen Watson  1200000         Pitcher  Los Angeles Angels\n",
      "6957  1997        Chuck McElroy   817000         Pitcher  Los Angeles Angels\n",
      "6958  1997        Randy Velarde   800000  Second Baseman  Los Angeles Angels\n",
      "6959  1997         Eddie Murray   750000   First Baseman  Los Angeles Angels\n",
      "6960  1997        Troy Percival   550000         Pitcher  Los Angeles Angels\n",
      "6961  1997      Garret Anderson   500000      Outfielder  Los Angeles Angels\n",
      "6962  1997        Craig Grebeck   400000       Shortstop  Los Angeles Angels\n",
      "6963  1997          Jack Howell   400000   Third Baseman  Los Angeles Angels\n",
      "6964  1997          Luis Alicea   350000  Second Baseman  Los Angeles Angels\n",
      "6965  1997  Shigetoshi Hasegawa   300000         Pitcher  Los Angeles Angels\n",
      "6966  1997           Mike James   280000         Pitcher  Los Angeles Angels\n",
      "6967  1997       Jorge Fabregas   270000         Catcher  Los Angeles Angels\n",
      "6968  1997      Dennis Springer   180000         Pitcher  Los Angeles Angels\n",
      "6969  1997         Darin Erstad   175000      Outfielder  Los Angeles Angels\n",
      "6970  1997           Mike Holtz   160000         Pitcher  Los Angeles Angels\n",
      "6971  1997     Orlando Palmeiro   160000      Outfielder  Los Angeles Angels\n",
      "6972  1997        Jason Dickson   157000         Pitcher  Los Angeles Angels\n",
      "6973  1997           Pep Harris   155000         Pitcher  Los Angeles Angels\n",
      "6974  1997         Chris Turner   155000         Catcher  Los Angeles Angels\n",
      "6975  1997      Steve Ontiveros   154000         Pitcher  Los Angeles Angels\n",
      "6976  1997          Todd Greene   153000         Catcher  Los Angeles Angels\n",
      "6977  1997         Jeff Bagwell  8015000   First Baseman      Houston Astros\n",
      "...    ...                  ...      ...             ...                 ...\n",
      "7691  1997     Michael Bertotti   160000         Pitcher   Chicago White Sox\n",
      "7692  1997          Alan Levine   157500         Pitcher   Chicago White Sox\n",
      "7693  1997      Carlos Castillo   150000         Pitcher   Chicago White Sox\n",
      "7694  1997        Cecil Fielder  9237500   First Baseman    New York Yankees\n",
      "7695  1997           David Cone  6666667         Pitcher    New York Yankees\n",
      "7696  1997         Paul O'Neill  5450000      Outfielder    New York Yankees\n",
      "7697  1997      Bernie Williams  5250000      Outfielder    New York Yankees\n",
      "7698  1997         Kenny Rogers  5000000         Pitcher    New York Yankees\n",
      "7699  1997        Tino Martinez  4300000   First Baseman    New York Yankees\n",
      "7700  1997          David Wells  3166666         Pitcher    New York Yankees\n",
      "7701  1997       Tim Raines Sr.  2353644      Outfielder    New York Yankees\n",
      "7702  1997          Joe Girardi  2250000         Catcher    New York Yankees\n",
      "7703  1997           Wade Boggs  2000000   Third Baseman    New York Yankees\n",
      "7704  1997        Dwight Gooden  2000000         Pitcher    New York Yankees\n",
      "7705  1997         Mike Stanton  1616000         Pitcher    New York Yankees\n",
      "7706  1997        Charlie Hayes  1500000   Third Baseman    New York Yankees\n",
      "7707  1997            Pat Kelly  1100000  Second Baseman    New York Yankees\n",
      "7708  1997          Mark Whiten  1000000      Outfielder    New York Yankees\n",
      "7709  1997          Jeff Nelson   990000         Pitcher    New York Yankees\n",
      "7710  1997         Graeme Lloyd   765000         Pitcher    New York Yankees\n",
      "7711  1997       Mariano Duncan   750000  Second Baseman    New York Yankees\n",
      "7712  1997    Darryl Strawberry   750000      Outfielder    New York Yankees\n",
      "7713  1997        Andy Pettitte   600000         Pitcher    New York Yankees\n",
      "7714  1997       Mariano Rivera   550000         Pitcher    New York Yankees\n",
      "7715  1997          Derek Jeter   540000       Shortstop    New York Yankees\n",
      "7716  1997       David Weathers   435000         Pitcher    New York Yankees\n",
      "7717  1997            Luis Sojo   400000       Shortstop    New York Yankees\n",
      "7718  1997     Brian Boehringer   161100         Pitcher    New York Yankees\n",
      "7719  1997         Ruben Rivera   158800      Outfielder    New York Yankees\n",
      "7720  1997         Jorge Posada   158500         Catcher    New York Yankees\n",
      "\n",
      "[773 rows x 5 columns]\n",
      "1998\n",
      "      Year               Player   Salary        Position                Team\n",
      "7721  1998         Chuck Finley  5000000         Pitcher  Los Angeles Angels\n",
      "7722  1998             Ken Hill  5000000         Pitcher  Los Angeles Angels\n",
      "7723  1998           Tim Salmon  5000000      Outfielder  Los Angeles Angels\n",
      "7724  1998         Allen Watson  2900000         Pitcher  Los Angeles Angels\n",
      "7725  1998          Jim Edmonds  2800000      Outfielder  Los Angeles Angels\n",
      "7726  1998        Cecil Fielder  2800000   First Baseman  Los Angeles Angels\n",
      "7727  1998       Gary DiSarcina  2700000       Shortstop  Los Angeles Angels\n",
      "7728  1998         Dave Hollins  1900000   Third Baseman  Los Angeles Angels\n",
      "7729  1998      Garret Anderson  1400000      Outfielder  Los Angeles Angels\n",
      "7730  1998        Omar Olivares  1150000         Pitcher  Los Angeles Angels\n",
      "7731  1998        Jack McDowell  1000000         Pitcher  Los Angeles Angels\n",
      "7732  1998        Troy Percival   950000         Pitcher  Los Angeles Angels\n",
      "7733  1998        Randy Velarde   850000  Second Baseman  Los Angeles Angels\n",
      "7734  1998           Mike James   700000         Pitcher  Los Angeles Angels\n",
      "7735  1998         Darin Erstad   500000   First Baseman  Los Angeles Angels\n",
      "7736  1998         Matt Walbeck   475000         Catcher  Los Angeles Angels\n",
      "7737  1998      Norberto Martin   425000       Shortstop  Los Angeles Angels\n",
      "7738  1998         Rich Delucia   400000         Pitcher  Los Angeles Angels\n",
      "7739  1998  Shigetoshi Hasegawa   325000         Pitcher  Los Angeles Angels\n",
      "7740  1998        Jason Dickson   295000         Pitcher  Los Angeles Angels\n",
      "7741  1998           Pep Harris   226500         Pitcher  Los Angeles Angels\n",
      "7742  1998           Mike Holtz   226500         Pitcher  Los Angeles Angels\n",
      "7743  1998        Damon Mashore   210000      Outfielder  Los Angeles Angels\n",
      "7744  1998           Phil Nevin   210000   Third Baseman  Los Angeles Angels\n",
      "7745  1998          Todd Greene   200000         Catcher  Los Angeles Angels\n",
      "7746  1998      Robert Eenhoorn   182500       Shortstop  Los Angeles Angels\n",
      "7747  1998        Carlos Garcia   182500  Second Baseman  Los Angeles Angels\n",
      "7748  1998   Angelo Encarnacion   180000         Catcher  Los Angeles Angels\n",
      "7749  1998        Frank Bollick   178000   Third Baseman  Los Angeles Angels\n",
      "7750  1998      Chris Pritchett   171000   First Baseman  Los Angeles Angels\n",
      "...    ...                  ...      ...             ...                 ...\n",
      "8537  1998      Magglio Ordonez   175000      Outfielder   Chicago White Sox\n",
      "8538  1998          Mike Caruso   170000       Shortstop   Chicago White Sox\n",
      "8539  1998          Lou Frazier   170000      Outfielder   Chicago White Sox\n",
      "8540  1998           Todd Rizzo   170000         Pitcher   Chicago White Sox\n",
      "8541  1998      Bernie Williams  8250000      Outfielder    New York Yankees\n",
      "8542  1998           David Cone  6666667         Pitcher    New York Yankees\n",
      "8543  1998      Chuck Knoblauch  6000000  Second Baseman    New York Yankees\n",
      "8544  1998         Paul O'Neill  5450000      Outfielder    New York Yankees\n",
      "8545  1998        Tino Martinez  4300000   First Baseman    New York Yankees\n",
      "8546  1998          David Wells  4166666         Pitcher    New York Yankees\n",
      "8547  1998          Chili Davis  4033333      Outfielder    New York Yankees\n",
      "8548  1998        Andy Pettitte  3750000         Pitcher    New York Yankees\n",
      "8549  1998         Hideki Irabu  2925000         Pitcher    New York Yankees\n",
      "8550  1998          Joe Girardi  2850000         Catcher    New York Yankees\n",
      "8551  1998        Scott Brosius  2500000   Third Baseman    New York Yankees\n",
      "8552  1998         Mike Stanton  1916000         Pitcher    New York Yankees\n",
      "8553  1998          Jeff Nelson  1766666         Pitcher    New York Yankees\n",
      "8554  1998        Darren Holmes  1066666         Pitcher    New York Yankees\n",
      "8555  1998          Chad Curtis   900000      Outfielder    New York Yankees\n",
      "8556  1998       Tim Raines Sr.   900000      Outfielder    New York Yankees\n",
      "8557  1998         Graeme Lloyd   875000         Pitcher    New York Yankees\n",
      "8558  1998            Luis Sojo   800000  Second Baseman    New York Yankees\n",
      "8559  1998           Dale Sveum   800000   Third Baseman    New York Yankees\n",
      "8560  1998          Derek Jeter   750000       Shortstop    New York Yankees\n",
      "8561  1998       Mariano Rivera   750000         Pitcher    New York Yankees\n",
      "8562  1998    Darryl Strawberry   750000      Outfielder    New York Yankees\n",
      "8563  1998         Willie Banks   290000         Pitcher    New York Yankees\n",
      "8564  1998       Ramiro Mendoza   275000         Pitcher    New York Yankees\n",
      "8565  1998         Jorge Posada   250000         Catcher    New York Yankees\n",
      "8566  1998           Homer Bush   178900  Second Baseman    New York Yankees\n",
      "\n",
      "[846 rows x 5 columns]\n",
      "1999\n",
      "      Year               Player   Salary           Position  \\\n",
      "8567  1999            Mo Vaughn  7166666      First Baseman   \n",
      "8568  1999         Chuck Finley  5800000            Pitcher   \n",
      "8569  1999             Ken Hill  5500000            Pitcher   \n",
      "8570  1999           Tim Salmon  5500000         Outfielder   \n",
      "8571  1999          Tim Belcher  4650000            Pitcher   \n",
      "8572  1999          Jim Edmonds  3550000         Outfielder   \n",
      "8573  1999       Gary DiSarcina  3125000          Shortstop   \n",
      "8574  1999      Garret Anderson  2200000         Outfielder   \n",
      "8575  1999        Troy Percival  1975000            Pitcher   \n",
      "8576  1999         Steve Sparks  1387500            Pitcher   \n",
      "8577  1999  Shigetoshi Hasegawa   900000            Pitcher   \n",
      "8578  1999       Mark Petkovsek   850000            Pitcher   \n",
      "8579  1999         Matt Walbeck   825000            Catcher   \n",
      "8580  1999           Mike James   805000            Pitcher   \n",
      "8581  1999         Darin Erstad   800000      First Baseman   \n",
      "8582  1999        Mike Magnante   775000            Pitcher   \n",
      "8583  1999        Jason Dickson   375000            Pitcher   \n",
      "8584  1999           Pep Harris   305000            Pitcher   \n",
      "8585  1999           Mike Holtz   290000            Pitcher   \n",
      "8586  1999           Jeff Huson   280000     Second Baseman   \n",
      "8587  1999     Orlando Palmeiro   276000         Outfielder   \n",
      "8588  1999            Matt Luke   250000         Outfielder   \n",
      "8589  1999          Andy Sheets   230000          Shortstop   \n",
      "8590  1999          Todd Greene   225000            Catcher   \n",
      "8591  1999      Jarrod Washburn   217500            Pitcher   \n",
      "8592  1999      Justin Baughman   215000          Shortstop   \n",
      "8593  1999           Troy Glaus   212500      Third Baseman   \n",
      "8594  1999          Alan Levine   208000            Pitcher   \n",
      "8595  1999       Mike Colangelo   200000         Outfielder   \n",
      "8596  1999      Trent Dumington   200000          Shortstop   \n",
      "...    ...                  ...      ...                ...   \n",
      "9456  1999        Brian Simmons   200000         Outfielder   \n",
      "9457  1999      Chris Singleton   200000         Outfielder   \n",
      "9458  1999      Bernie Williams  9857143         Outfielder   \n",
      "9459  1999           David Cone  9500000            Pitcher   \n",
      "9460  1999        Roger Clemens  8250000            Pitcher   \n",
      "9461  1999         Paul O'Neill  6250000         Outfielder   \n",
      "9462  1999      Chuck Knoblauch  6000000     Second Baseman   \n",
      "9463  1999        Andy Pettitte  5950000            Pitcher   \n",
      "9464  1999        Scott Brosius  5250000      Third Baseman   \n",
      "9465  1999          Derek Jeter  5000000          Shortstop   \n",
      "9466  1999          Chili Davis  4333333  Designated Hitter   \n",
      "9467  1999        Tino Martinez  4300000      First Baseman   \n",
      "9468  1999       Mariano Rivera  4250000            Pitcher   \n",
      "9469  1999          Joe Girardi  3400000            Catcher   \n",
      "9470  1999         Hideki Irabu  3125000            Pitcher   \n",
      "9471  1999         Mike Stanton  2016667            Pitcher   \n",
      "9472  1999          Chad Curtis  2000000         Outfielder   \n",
      "9473  1999          Jim Leyritz  1900000            Catcher   \n",
      "9474  1999    Orlando Hernandez  1850000            Pitcher   \n",
      "9475  1999          Jeff Nelson  1816666            Pitcher   \n",
      "9476  1999            Luis Sojo   800000     Second Baseman   \n",
      "9477  1999       Ramiro Mendoza   375000            Pitcher   \n",
      "9478  1999       Jason Grimsley   350000            Pitcher   \n",
      "9479  1999         Jorge Posada   350000            Catcher   \n",
      "9480  1999        Shane Spencer   204050         Outfielder   \n",
      "9481  1999          Ricky Ledee   202850         Outfielder   \n",
      "9482  1999     Vidal Candelaria   200000            Catcher   \n",
      "9483  1999       Casey Degroote   200000          Shortstop   \n",
      "9484  1999      Mike Jerzembeck   200000            Pitcher   \n",
      "9485  1999         Allen Watson   200000            Pitcher   \n",
      "\n",
      "                    Team  \n",
      "8567  Los Angeles Angels  \n",
      "8568  Los Angeles Angels  \n",
      "8569  Los Angeles Angels  \n",
      "8570  Los Angeles Angels  \n",
      "8571  Los Angeles Angels  \n",
      "8572  Los Angeles Angels  \n",
      "8573  Los Angeles Angels  \n",
      "8574  Los Angeles Angels  \n",
      "8575  Los Angeles Angels  \n",
      "8576  Los Angeles Angels  \n",
      "8577  Los Angeles Angels  \n",
      "8578  Los Angeles Angels  \n",
      "8579  Los Angeles Angels  \n",
      "8580  Los Angeles Angels  \n",
      "8581  Los Angeles Angels  \n",
      "8582  Los Angeles Angels  \n",
      "8583  Los Angeles Angels  \n",
      "8584  Los Angeles Angels  \n",
      "8585  Los Angeles Angels  \n",
      "8586  Los Angeles Angels  \n",
      "8587  Los Angeles Angels  \n",
      "8588  Los Angeles Angels  \n",
      "8589  Los Angeles Angels  \n",
      "8590  Los Angeles Angels  \n",
      "8591  Los Angeles Angels  \n",
      "8592  Los Angeles Angels  \n",
      "8593  Los Angeles Angels  \n",
      "8594  Los Angeles Angels  \n",
      "8595  Los Angeles Angels  \n",
      "8596  Los Angeles Angels  \n",
      "...                  ...  \n",
      "9456   Chicago White Sox  \n",
      "9457   Chicago White Sox  \n",
      "9458    New York Yankees  \n",
      "9459    New York Yankees  \n",
      "9460    New York Yankees  \n",
      "9461    New York Yankees  \n",
      "9462    New York Yankees  \n",
      "9463    New York Yankees  \n",
      "9464    New York Yankees  \n",
      "9465    New York Yankees  \n",
      "9466    New York Yankees  \n",
      "9467    New York Yankees  \n",
      "9468    New York Yankees  \n",
      "9469    New York Yankees  \n",
      "9470    New York Yankees  \n",
      "9471    New York Yankees  \n",
      "9472    New York Yankees  \n",
      "9473    New York Yankees  \n",
      "9474    New York Yankees  \n",
      "9475    New York Yankees  \n",
      "9476    New York Yankees  \n",
      "9477    New York Yankees  \n",
      "9478    New York Yankees  \n",
      "9479    New York Yankees  \n",
      "9480    New York Yankees  \n",
      "9481    New York Yankees  \n",
      "9482    New York Yankees  \n",
      "9483    New York Yankees  \n",
      "9484    New York Yankees  \n",
      "9485    New York Yankees  \n",
      "\n",
      "[919 rows x 5 columns]\n",
      "2000\n",
      "       Year               Player    Salary        Position                Team\n",
      "9486   2000            Mo Vaughn  11166667   First Baseman  Los Angeles Angels\n",
      "9487   2000           Tim Salmon   6000000      Outfielder  Los Angeles Angels\n",
      "9488   2000             Ken Hill   5600000         Pitcher  Los Angeles Angels\n",
      "9489   2000          Tim Belcher   4600000         Pitcher  Los Angeles Angels\n",
      "9490   2000     Kent Bottenfield   4000000         Pitcher  Los Angeles Angels\n",
      "9491   2000      Garret Anderson   3250000      Outfielder  Los Angeles Angels\n",
      "9492   2000       Gary DiSarcina   3225000       Shortstop  Los Angeles Angels\n",
      "9493   2000         Darin Erstad   2500000      Outfielder  Los Angeles Angels\n",
      "9494   2000        Troy Percival   2350000         Pitcher  Los Angeles Angels\n",
      "9495   2000       Mark Petkovsek   1512500         Pitcher  Los Angeles Angels\n",
      "9496   2000         Matt Walbeck    925000         Catcher  Los Angeles Angels\n",
      "9497   2000  Shigetoshi Hasegawa    900000         Pitcher  Los Angeles Angels\n",
      "9498   2000         Kent Mercker    850000         Pitcher  Los Angeles Angels\n",
      "9499   2000        Scott Spiezio    600000  Second Baseman  Los Angeles Angels\n",
      "9500   2000     Orlando Palmeiro    550000      Outfielder  Los Angeles Angels\n",
      "9501   2000        Jason Dickson    375000         Pitcher  Los Angeles Angels\n",
      "9502   2000           Troy Glaus    275000   Third Baseman  Los Angeles Angels\n",
      "9503   2000          Alan Levine    275000         Pitcher  Los Angeles Angels\n",
      "9504   2000            Benji Gil    225000       Shortstop  Los Angeles Angels\n",
      "9505   2000      Jarrod Washburn    225000         Pitcher  Los Angeles Angels\n",
      "9506   2000      Edgard Clemente    215000      Outfielder  Los Angeles Angels\n",
      "9507   2000          Mike Fyhrie    210000         Pitcher  Los Angeles Angels\n",
      "9508   2000        Bengie Molina    210000         Catcher  Los Angeles Angels\n",
      "9509   2000    Scott Schoeneweis    210000         Pitcher  Los Angeles Angels\n",
      "9510   2000          Ramon Ortiz    207500         Pitcher  Los Angeles Angels\n",
      "9511   2000             Lou Pote    207500         Pitcher  Los Angeles Angels\n",
      "9512   2000         Adam Kennedy    202500  Second Baseman  Los Angeles Angels\n",
      "9513   2000       Mike Colangelo    200000      Outfielder  Los Angeles Angels\n",
      "9514   2000          Tom Turnbow    200000         Pitcher  Los Angeles Angels\n",
      "9515   2000         Craig Biggio   6750000  Second Baseman      Houston Astros\n",
      "...     ...                  ...       ...             ...                 ...\n",
      "10299  2000            Josh Paul    200000         Catcher   Chicago White Sox\n",
      "10300  2000         Kelly Wunsch    200000         Pitcher   Chicago White Sox\n",
      "10301  2000      Bernie Williams  12357143      Outfielder    New York Yankees\n",
      "10302  2000           David Cone  12000000         Pitcher    New York Yankees\n",
      "10303  2000          Derek Jeter  10000000       Shortstop    New York Yankees\n",
      "10304  2000         Paul O'Neill   7250000      Outfielder    New York Yankees\n",
      "10305  2000       Mariano Rivera   7250000         Pitcher    New York Yankees\n",
      "10306  2000        Andy Pettitte   7000000         Pitcher    New York Yankees\n",
      "10307  2000        Roger Clemens   6350000         Pitcher    New York Yankees\n",
      "10308  2000      Chuck Knoblauch   6000000  Second Baseman    New York Yankees\n",
      "10309  2000        Scott Brosius   5250000   Third Baseman    New York Yankees\n",
      "10310  2000        Tino Martinez   4800000   First Baseman    New York Yankees\n",
      "10311  2000         Mike Stanton   2400000         Pitcher    New York Yankees\n",
      "10312  2000    Orlando Hernandez   1950000         Pitcher    New York Yankees\n",
      "10313  2000          Jeff Nelson   1916667         Pitcher    New York Yankees\n",
      "10314  2000       Ramiro Mendoza   1400000         Pitcher    New York Yankees\n",
      "10315  2000         Allen Watson   1300000         Pitcher    New York Yankees\n",
      "10316  2000         Jorge Posada   1250000         Catcher    New York Yankees\n",
      "10317  2000          Jim Leyritz   1000000         Catcher    New York Yankees\n",
      "10318  2000        Roberto Kelly    800000      Outfielder    New York Yankees\n",
      "10319  2000       Jason Grimsley    750000         Pitcher    New York Yankees\n",
      "10320  2000         Stan Spencer    250000      Outfielder    New York Yankees\n",
      "10321  2000          Ricky Ledee    240000      Outfielder    New York Yankees\n",
      "10322  2000       Wilson Delgado    213000   Third Baseman    New York Yankees\n",
      "10323  2000       Clay Bellinger    206650   Third Baseman    New York Yankees\n",
      "10324  2000           Todd Erdos    203800         Pitcher    New York Yankees\n",
      "10325  2000            Ted Lilly    201000         Pitcher    New York Yankees\n",
      "10326  2000   Luis De Los Santos    200000         Pitcher    New York Yankees\n",
      "10327  2000     D'Angelo Jimenez    200000       Shortstop    New York Yankees\n",
      "10328  2000         Nick Johnson    200000   First Baseman    New York Yankees\n",
      "\n",
      "[843 rows x 5 columns]\n",
      "2001\n",
      "       Year               Player    Salary        Position                Team\n",
      "10329  2001            Mo Vaughn  13166668   First Baseman  Los Angeles Angels\n",
      "10330  2001           Tim Salmon   6500000      Outfielder  Los Angeles Angels\n",
      "10331  2001      Garret Anderson   4500000      Outfielder  Los Angeles Angels\n",
      "10332  2001         Darin Erstad   3450000      Outfielder  Los Angeles Angels\n",
      "10333  2001        Troy Percival   3400000         Pitcher  Los Angeles Angels\n",
      "10334  2001        Ismael Valdez   2500000         Pitcher  Los Angeles Angels\n",
      "10335  2001             Pat Rapp   2000000         Pitcher  Los Angeles Angels\n",
      "10336  2001  Shigetoshi Hasegawa   1500000         Pitcher  Los Angeles Angels\n",
      "10337  2001       Glenallen Hill   1500000      Outfielder  Los Angeles Angels\n",
      "10338  2001           Troy Glaus   1250000   Third Baseman  Los Angeles Angels\n",
      "10339  2001        Scott Spiezio   1125000  Second Baseman  Los Angeles Angels\n",
      "10340  2001     Orlando Palmeiro    900000      Outfielder  Los Angeles Angels\n",
      "10341  2001          Alan Levine    715000         Pitcher  Los Angeles Angels\n",
      "10342  2001           Mike Holtz    705000         Pitcher  Los Angeles Angels\n",
      "10343  2001       Jorge Fabregas    500000         Catcher  Los Angeles Angels\n",
      "10344  2001            Benji Gil    350000       Shortstop  Los Angeles Angels\n",
      "10345  2001        Bengie Molina    350000         Catcher  Los Angeles Angels\n",
      "10346  2001       Gary DiSarcina    320000       Shortstop  Los Angeles Angels\n",
      "10347  2001         Adam Kennedy    280000  Second Baseman  Los Angeles Angels\n",
      "10348  2001    Scott Schoeneweis    275000         Pitcher  Los Angeles Angels\n",
      "10349  2001        Kimera Bartee    270000      Outfielder  Los Angeles Angels\n",
      "10350  2001      Jarrod Washburn    270000         Pitcher  Los Angeles Angels\n",
      "10351  2001          Ramon Ortiz    250000         Pitcher  Los Angeles Angels\n",
      "10352  2001          Jose Nieves    232000       Shortstop  Los Angeles Angels\n",
      "10353  2001             Lou Pote    215000         Pitcher  Los Angeles Angels\n",
      "10354  2001            Matt Wise    207500         Pitcher  Los Angeles Angels\n",
      "10355  2001            Ben Weber    203500         Pitcher  Los Angeles Angels\n",
      "10356  2001         Shawn Wooten    200500         Catcher  Los Angeles Angels\n",
      "10357  2001       David Eckstein    200000  Second Baseman  Los Angeles Angels\n",
      "10358  2001         Rendy Espina    200000         Pitcher  Los Angeles Angels\n",
      "...     ...                  ...       ...             ...                 ...\n",
      "11156  2001      Bernie Williams  12357143      Outfielder    New York Yankees\n",
      "11157  2001        Roger Clemens  10300000         Pitcher    New York Yankees\n",
      "11158  2001         Mike Mussina  10000000         Pitcher    New York Yankees\n",
      "11159  2001       Mariano Rivera   9150000         Pitcher    New York Yankees\n",
      "11160  2001        David Justice   7800000      Outfielder    New York Yankees\n",
      "11161  2001         Paul O'Neill   7250000      Outfielder    New York Yankees\n",
      "11162  2001        Andy Pettitte   7000000         Pitcher    New York Yankees\n",
      "11163  2001        Tino Martinez   6300000   First Baseman    New York Yankees\n",
      "11164  2001      Chuck Knoblauch   6000000      Outfielder    New York Yankees\n",
      "11165  2001        Scott Brosius   5250000   Third Baseman    New York Yankees\n",
      "11166  2001         Jorge Posada   4050000         Catcher    New York Yankees\n",
      "11167  2001         Mike Stanton   2450000         Pitcher    New York Yankees\n",
      "11168  2001    Orlando Hernandez   2050000         Pitcher    New York Yankees\n",
      "11169  2001         Allen Watson   1700000         Pitcher    New York Yankees\n",
      "11170  2001       Ramiro Mendoza   1600000         Pitcher    New York Yankees\n",
      "11171  2001      Henry Rodriguez   1500000      Outfielder    New York Yankees\n",
      "11172  2001           Joe Oliver   1100000         Catcher    New York Yankees\n",
      "11173  2001      Alfonso Soriano    630000  Second Baseman    New York Yankees\n",
      "11174  2001            Luis Sojo    500000  Second Baseman    New York Yankees\n",
      "11175  2001     Brian Boehringer    350000         Pitcher    New York Yankees\n",
      "11176  2001         Stan Spencer    320000      Outfielder    New York Yankees\n",
      "11177  2001        Todd Williams    320000         Pitcher    New York Yankees\n",
      "11178  2001      Carlos Almanzar    270000         Pitcher    New York Yankees\n",
      "11179  2001       Clay Bellinger    230000   Third Baseman    New York Yankees\n",
      "11180  2001    Darrell Einertson    206000         Pitcher    New York Yankees\n",
      "11181  2001      Michael Coleman    204000      Outfielder    New York Yankees\n",
      "11182  2001         Randy Choate    200000         Pitcher    New York Yankees\n",
      "11183  2001     D'Angelo Jimenez    200000       Shortstop    New York Yankees\n",
      "11184  2001     Christian Parker    200000         Pitcher    New York Yankees\n",
      "11185  2001         Scott Seabol    200000   Third Baseman    New York Yankees\n",
      "\n",
      "[857 rows x 5 columns]\n",
      "2002\n",
      "       Year              Player    Salary           Position  \\\n",
      "11186  2002          Tim Salmon   9650000         Outfielder   \n",
      "11187  2002        Kevin Appier   9500000            Pitcher   \n",
      "11188  2002          Aaron Sele   7166667            Pitcher   \n",
      "11189  2002        Darin Erstad   6250000         Outfielder   \n",
      "11190  2002       Troy Percival   5250000            Pitcher   \n",
      "11191  2002     Garret Anderson   5000000         Outfielder   \n",
      "11192  2002        Brad Fullmer   4000000  Designated Hitter   \n",
      "11193  2002          Troy Glaus   4000000      Third Baseman   \n",
      "11194  2002       Scott Spiezio   2275000      First Baseman   \n",
      "11195  2002         Alan Levine   1325000            Pitcher   \n",
      "11196  2002         Dennis Cook   1250000            Pitcher   \n",
      "11197  2002    Orlando Palmeiro   1000000         Outfielder   \n",
      "11198  2002         Ramon Ortiz    575000            Pitcher   \n",
      "11199  2002      Jorge Fabregas    500000            Catcher   \n",
      "11200  2002           Benji Gil    400000            Catcher   \n",
      "11201  2002        Adam Kennedy    375000     Second Baseman   \n",
      "11202  2002       Bengie Molina    350000            Catcher   \n",
      "11203  2002     Jarrod Washburn    350000            Pitcher   \n",
      "11204  2002   Scott Schoeneweis    325000            Pitcher   \n",
      "11205  2002          Donne Wall    300000            Pitcher   \n",
      "11206  2002      David Eckstein    280000          Shortstop   \n",
      "11207  2002            Lou Pote    255000            Pitcher   \n",
      "11208  2002        Shawn Wooten    250000            Catcher   \n",
      "11209  2002         Jose Nieves    240000          Shortstop   \n",
      "11210  2002           Ben Weber    240000            Pitcher   \n",
      "11211  2002        Jeff DaVanon    207500         Outfielder   \n",
      "11212  2002    Mark Lukasiewicz    207500            Pitcher   \n",
      "11213  2002         Steve Green    200000            Pitcher   \n",
      "11214  2002        Jeff Bagwell  11000000      First Baseman   \n",
      "11215  2002        Craig Biggio   8750000     Second Baseman   \n",
      "...     ...                 ...       ...                ...   \n",
      "12005  2002           Jon Rauch    200000            Pitcher   \n",
      "12006  2002         Derek Jeter  14600000          Shortstop   \n",
      "12007  2002     Bernie Williams  12357143         Outfielder   \n",
      "12008  2002        Mike Mussina  11000000            Pitcher   \n",
      "12009  2002        Jason Giambi  10428571      First Baseman   \n",
      "12010  2002       Roger Clemens  10300000            Pitcher   \n",
      "12011  2002       Andy Pettitte   9500000            Pitcher   \n",
      "12012  2002      Mariano Rivera   9450000            Pitcher   \n",
      "12013  2002       Robin Ventura   8500000      Third Baseman   \n",
      "12014  2002        Jorge Posada   7000000            Catcher   \n",
      "12015  2002  Sterling Hitchcock   4936719            Pitcher   \n",
      "12016  2002       Rondell White   4500000         Outfielder   \n",
      "12017  2002        Steve Karsay   4000000            Pitcher   \n",
      "12018  2002   Orlando Hernandez   3200000            Pitcher   \n",
      "12019  2002      Ramiro Mendoza   2600000            Pitcher   \n",
      "12020  2002        Mike Stanton   2500000            Pitcher   \n",
      "12021  2002         David Wells   2250000            Pitcher   \n",
      "12022  2002     Gerald Williams   2000000         Outfielder   \n",
      "12023  2002     John Vander Wal   1850000         Outfielder   \n",
      "12024  2002       Shane Spencer    885000         Outfielder   \n",
      "12025  2002          Ron Coomer    750000      Third Baseman   \n",
      "12026  2002      Enrique Wilson    720000     Second Baseman   \n",
      "12027  2002    Alberto Castillo    650000            Catcher   \n",
      "12028  2002     Alfonso Soriano    630000     Second Baseman   \n",
      "12029  2002           Ted Lilly    237150            Pitcher   \n",
      "12030  2002        Randy Choate    223350            Pitcher   \n",
      "12031  2002        Nick Johnson    220650  Designated Hitter   \n",
      "12032  2002    Christian Parker    218600            Pitcher   \n",
      "12033  2002       Randy Keisler    211400            Pitcher   \n",
      "12034  2002         Jay Tessmer    210000            Pitcher   \n",
      "\n",
      "                     Team  \n",
      "11186  Los Angeles Angels  \n",
      "11187  Los Angeles Angels  \n",
      "11188  Los Angeles Angels  \n",
      "11189  Los Angeles Angels  \n",
      "11190  Los Angeles Angels  \n",
      "11191  Los Angeles Angels  \n",
      "11192  Los Angeles Angels  \n",
      "11193  Los Angeles Angels  \n",
      "11194  Los Angeles Angels  \n",
      "11195  Los Angeles Angels  \n",
      "11196  Los Angeles Angels  \n",
      "11197  Los Angeles Angels  \n",
      "11198  Los Angeles Angels  \n",
      "11199  Los Angeles Angels  \n",
      "11200  Los Angeles Angels  \n",
      "11201  Los Angeles Angels  \n",
      "11202  Los Angeles Angels  \n",
      "11203  Los Angeles Angels  \n",
      "11204  Los Angeles Angels  \n",
      "11205  Los Angeles Angels  \n",
      "11206  Los Angeles Angels  \n",
      "11207  Los Angeles Angels  \n",
      "11208  Los Angeles Angels  \n",
      "11209  Los Angeles Angels  \n",
      "11210  Los Angeles Angels  \n",
      "11211  Los Angeles Angels  \n",
      "11212  Los Angeles Angels  \n",
      "11213  Los Angeles Angels  \n",
      "11214      Houston Astros  \n",
      "11215      Houston Astros  \n",
      "...                   ...  \n",
      "12005   Chicago White Sox  \n",
      "12006    New York Yankees  \n",
      "12007    New York Yankees  \n",
      "12008    New York Yankees  \n",
      "12009    New York Yankees  \n",
      "12010    New York Yankees  \n",
      "12011    New York Yankees  \n",
      "12012    New York Yankees  \n",
      "12013    New York Yankees  \n",
      "12014    New York Yankees  \n",
      "12015    New York Yankees  \n",
      "12016    New York Yankees  \n",
      "12017    New York Yankees  \n",
      "12018    New York Yankees  \n",
      "12019    New York Yankees  \n",
      "12020    New York Yankees  \n",
      "12021    New York Yankees  \n",
      "12022    New York Yankees  \n",
      "12023    New York Yankees  \n",
      "12024    New York Yankees  \n",
      "12025    New York Yankees  \n",
      "12026    New York Yankees  \n",
      "12027    New York Yankees  \n",
      "12028    New York Yankees  \n",
      "12029    New York Yankees  \n",
      "12030    New York Yankees  \n",
      "12031    New York Yankees  \n",
      "12032    New York Yankees  \n",
      "12033    New York Yankees  \n",
      "12034    New York Yankees  \n",
      "\n",
      "[849 rows x 5 columns]\n",
      "2003\n",
      "       Year               Player    Salary        Position                Team\n",
      "12035  2003         Kevin Appier  11500000         Pitcher  Los Angeles Angels\n",
      "12036  2003           Tim Salmon   9900000      Outfielder  Los Angeles Angels\n",
      "12037  2003           Aaron Sele   8166667         Pitcher  Los Angeles Angels\n",
      "12038  2003        Troy Percival   7833333         Pitcher  Los Angeles Angels\n",
      "12039  2003         Darin Erstad   7250000      Outfielder  Los Angeles Angels\n",
      "12040  2003           Troy Glaus   7250000   Third Baseman  Los Angeles Angels\n",
      "12041  2003      Garret Anderson   5350000      Outfielder  Los Angeles Angels\n",
      "12042  2003        Scott Spiezio   4250000   First Baseman  Los Angeles Angels\n",
      "12043  2003      Jarrod Washburn   3875000         Pitcher  Los Angeles Angels\n",
      "12044  2003         Adam Kennedy   2270000  Second Baseman  Los Angeles Angels\n",
      "12045  2003          Ramon Ortiz   2266667         Pitcher  Los Angeles Angels\n",
      "12046  2003        Bengie Molina   1425000         Catcher  Los Angeles Angels\n",
      "12047  2003    Scott Schoeneweis   1425000         Pitcher  Los Angeles Angels\n",
      "12048  2003         Brad Fullmer   1000000   First Baseman  Los Angeles Angels\n",
      "12049  2003           Eric Owens    925000      Outfielder  Los Angeles Angels\n",
      "12050  2003            Benji Gil    725000       Shortstop  Los Angeles Angels\n",
      "12051  2003       David Eckstein    425000       Shortstop  Los Angeles Angels\n",
      "12052  2003            Ben Weber    375000         Pitcher  Los Angeles Angels\n",
      "12053  2003         Shawn Wooten    337500         Catcher  Los Angeles Angels\n",
      "12054  2003     Brendan Donnelly    325000         Pitcher  Los Angeles Angels\n",
      "12055  2003          Jose Molina    320000         Catcher  Los Angeles Angels\n",
      "12056  2003          John Lackey    315000         Pitcher  Los Angeles Angels\n",
      "12057  2003  Francisco Rodriguez    312500         Pitcher  Los Angeles Angels\n",
      "12058  2003         Scot Shields    305000         Pitcher  Los Angeles Angels\n",
      "12059  2003      Mickey Callaway    302500         Pitcher  Los Angeles Angels\n",
      "12060  2003            Matt Wise    302500         Pitcher  Los Angeles Angels\n",
      "12061  2003        Julio Ramirez    300000      Outfielder  Los Angeles Angels\n",
      "12062  2003         Jeff Bagwell  13000000   First Baseman      Houston Astros\n",
      "12063  2003         Craig Biggio   9750000      Outfielder      Houston Astros\n",
      "12064  2003      Richard Hidalgo   8500000      Outfielder      Houston Astros\n",
      "...     ...                  ...       ...             ...                 ...\n",
      "12831  2003         Miguel Olivo    300000         Catcher   Chicago White Sox\n",
      "12832  2003         Josh Stewart    300000         Pitcher   Chicago White Sox\n",
      "12833  2003          Derek Jeter  15600000       Shortstop    New York Yankees\n",
      "12834  2003         Raul Mondesi  13000000      Outfielder    New York Yankees\n",
      "12835  2003      Bernie Williams  12357143      Outfielder    New York Yankees\n",
      "12836  2003         Mike Mussina  12000000         Pitcher    New York Yankees\n",
      "12837  2003        Andy Pettitte  11500000         Pitcher    New York Yankees\n",
      "12838  2003         Jason Giambi  11428571   First Baseman    New York Yankees\n",
      "12839  2003       Mariano Rivera  10500000         Pitcher    New York Yankees\n",
      "12840  2003        Roger Clemens  10100000         Pitcher    New York Yankees\n",
      "12841  2003         Jorge Posada   8000000         Catcher    New York Yankees\n",
      "12842  2003   Sterling Hitchcock   6000000         Pitcher    New York Yankees\n",
      "12843  2003        Hideki Matsui   6000000      Outfielder    New York Yankees\n",
      "12844  2003       Jose Contreras   5500000         Pitcher    New York Yankees\n",
      "12845  2003         Steve Karsay   5000000         Pitcher    New York Yankees\n",
      "12846  2003        Robin Ventura   5000000   Third Baseman    New York Yankees\n",
      "12847  2003          Jeff Weaver   4150000         Pitcher    New York Yankees\n",
      "12848  2003          David Wells   3250000         Pitcher    New York Yankees\n",
      "12849  2003       Bubba Trammell   2500000      Outfielder    New York Yankees\n",
      "12850  2003        Antonio Osuna   2400000         Pitcher    New York Yankees\n",
      "12851  2003        Chris Hammond   2200000         Pitcher    New York Yankees\n",
      "12852  2003           Todd Zeile   1500000   Third Baseman    New York Yankees\n",
      "12853  2003         Juan Acevedo    900000         Pitcher    New York Yankees\n",
      "12854  2003      Alfonso Soriano    800000  Second Baseman    New York Yankees\n",
      "12855  2003        John Flaherty    750000         Catcher    New York Yankees\n",
      "12856  2003       Enrique Wilson    700000       Shortstop    New York Yankees\n",
      "12857  2003           Jon Lieber    550000         Pitcher    New York Yankees\n",
      "12858  2003         Chris Latham    400000      Outfielder    New York Yankees\n",
      "12859  2003         Nick Johnson    364100   First Baseman    New York Yankees\n",
      "12860  2003       Jason Anderson    300000         Pitcher    New York Yankees\n",
      "\n",
      "[826 rows x 5 columns]\n",
      "2004\n",
      "       Year               Player    Salary           Position  \\\n",
      "12861  2004        Bartolo Colon  11000000            Pitcher   \n",
      "12862  2004    Vladimir Guerrero  11000000         Outfielder   \n",
      "12863  2004           Troy Glaus   9900000      Third Baseman   \n",
      "12864  2004           Tim Salmon   9900000  Designated Hitter   \n",
      "12865  2004           Aaron Sele   8666667            Pitcher   \n",
      "12866  2004        Troy Percival   7833333            Pitcher   \n",
      "12867  2004         Darin Erstad   7750000      First Baseman   \n",
      "12868  2004      Garret Anderson   6200000         Outfielder   \n",
      "12869  2004       Kelvim Escobar   5750000            Pitcher   \n",
      "12870  2004      Jarrod Washburn   5450000            Pitcher   \n",
      "12871  2004          Ramon Ortiz   3266667            Pitcher   \n",
      "12872  2004         Adam Kennedy   2500000     Second Baseman   \n",
      "12873  2004         Jose Guillen   2200000         Outfielder   \n",
      "12874  2004       David Eckstein   2150000          Shortstop   \n",
      "12875  2004        Bengie Molina   2025000            Catcher   \n",
      "12876  2004            Ben Weber    900000            Pitcher   \n",
      "12877  2004         Shane Halter    575000          Shortstop   \n",
      "12878  2004         Jeff DaVanon    375000         Outfielder   \n",
      "12879  2004     Brendan Donnelly    375000            Pitcher   \n",
      "12880  2004          John Lackey    375000            Pitcher   \n",
      "12881  2004  Francisco Rodriguez    375000            Pitcher   \n",
      "12882  2004         Scot Shields    375000            Pitcher   \n",
      "12883  2004          Jose Molina    335000            Catcher   \n",
      "12884  2004            Josh Paul    335000            Catcher   \n",
      "12885  2004        Chone Figgins    320000          Shortstop   \n",
      "12886  2004          Kevin Gregg    301500            Pitcher   \n",
      "12887  2004           Greg Jones    301500            Pitcher   \n",
      "12888  2004         Jeff Bagwell  16000000      First Baseman   \n",
      "12889  2004      Richard Hidalgo  12500000         Outfielder   \n",
      "12890  2004            Jeff Kent  10000000     Second Baseman   \n",
      "...     ...                  ...       ...                ...   \n",
      "13664  2004           Neal Cotts    301000            Pitcher   \n",
      "13665  2004       Alex Rodriguez  22000000      Third Baseman   \n",
      "13666  2004          Derek Jeter  18600000          Shortstop   \n",
      "13667  2004         Mike Mussina  16000000            Pitcher   \n",
      "13668  2004       Kevin J. Brown  15714286            Pitcher   \n",
      "13669  2004       Gary Sheffield  13000000         Outfielder   \n",
      "13670  2004         Jason Giambi  12428571      First Baseman   \n",
      "13671  2004      Bernie Williams  12357143         Outfielder   \n",
      "13672  2004       Mariano Rivera  10890000            Pitcher   \n",
      "13673  2004         Jorge Posada   9000000            Catcher   \n",
      "13674  2004       Javier Vazquez   9000000            Pitcher   \n",
      "13675  2004       Jose Contreras   8500000            Pitcher   \n",
      "13676  2004        Hideki Matsui   7000000         Outfielder   \n",
      "13677  2004         Steve Karsay   6000000            Pitcher   \n",
      "13678  2004           Tom Gordon   3500000            Pitcher   \n",
      "13679  2004         Kenny Lofton   3100000         Outfielder   \n",
      "13680  2004       Paul Quantrill   3000000            Pitcher   \n",
      "13681  2004           Jon Lieber   2700000            Pitcher   \n",
      "13682  2004           Travis Lee   2000000      First Baseman   \n",
      "13683  2004           Gabe White   1925000            Pitcher   \n",
      "13684  2004        Felix Heredia   1800000            Pitcher   \n",
      "13685  2004         Ruben Sierra   1000000         Outfielder   \n",
      "13686  2004         Miguel Cairo    900000     Second Baseman   \n",
      "13687  2004        John Flaherty    775000            Catcher   \n",
      "13688  2004           Tony Clark    750000      First Baseman   \n",
      "13689  2004       Enrique Wilson    700000          Shortstop   \n",
      "13690  2004    Orlando Hernandez    500000            Pitcher   \n",
      "13691  2004      Donovan Osborne    450000            Pitcher   \n",
      "13692  2004       Jorge De Paula    302550            Pitcher   \n",
      "13693  2004         Bubba Crosby    301400         Outfielder   \n",
      "\n",
      "                     Team  \n",
      "12861  Los Angeles Angels  \n",
      "12862  Los Angeles Angels  \n",
      "12863  Los Angeles Angels  \n",
      "12864  Los Angeles Angels  \n",
      "12865  Los Angeles Angels  \n",
      "12866  Los Angeles Angels  \n",
      "12867  Los Angeles Angels  \n",
      "12868  Los Angeles Angels  \n",
      "12869  Los Angeles Angels  \n",
      "12870  Los Angeles Angels  \n",
      "12871  Los Angeles Angels  \n",
      "12872  Los Angeles Angels  \n",
      "12873  Los Angeles Angels  \n",
      "12874  Los Angeles Angels  \n",
      "12875  Los Angeles Angels  \n",
      "12876  Los Angeles Angels  \n",
      "12877  Los Angeles Angels  \n",
      "12878  Los Angeles Angels  \n",
      "12879  Los Angeles Angels  \n",
      "12880  Los Angeles Angels  \n",
      "12881  Los Angeles Angels  \n",
      "12882  Los Angeles Angels  \n",
      "12883  Los Angeles Angels  \n",
      "12884  Los Angeles Angels  \n",
      "12885  Los Angeles Angels  \n",
      "12886  Los Angeles Angels  \n",
      "12887  Los Angeles Angels  \n",
      "12888      Houston Astros  \n",
      "12889      Houston Astros  \n",
      "12890      Houston Astros  \n",
      "...                   ...  \n",
      "13664   Chicago White Sox  \n",
      "13665    New York Yankees  \n",
      "13666    New York Yankees  \n",
      "13667    New York Yankees  \n",
      "13668    New York Yankees  \n",
      "13669    New York Yankees  \n",
      "13670    New York Yankees  \n",
      "13671    New York Yankees  \n",
      "13672    New York Yankees  \n",
      "13673    New York Yankees  \n",
      "13674    New York Yankees  \n",
      "13675    New York Yankees  \n",
      "13676    New York Yankees  \n",
      "13677    New York Yankees  \n",
      "13678    New York Yankees  \n",
      "13679    New York Yankees  \n",
      "13680    New York Yankees  \n",
      "13681    New York Yankees  \n",
      "13682    New York Yankees  \n",
      "13683    New York Yankees  \n",
      "13684    New York Yankees  \n",
      "13685    New York Yankees  \n",
      "13686    New York Yankees  \n",
      "13687    New York Yankees  \n",
      "13688    New York Yankees  \n",
      "13689    New York Yankees  \n",
      "13690    New York Yankees  \n",
      "13691    New York Yankees  \n",
      "13692    New York Yankees  \n",
      "13693    New York Yankees  \n",
      "\n",
      "[833 rows x 5 columns]\n",
      "2005\n",
      "       Year               Player    Salary        Position                Team\n",
      "13694  2005    Vladimir Guerrero  12500000      Outfielder  Los Angeles Angels\n",
      "13695  2005        Bartolo Colon  10000000         Pitcher  Los Angeles Angels\n",
      "13696  2005      Garret Anderson   9600000      Outfielder  Los Angeles Angels\n",
      "13697  2005         Darin Erstad   8250000   First Baseman  Los Angeles Angels\n",
      "13698  2005      Jarrod Washburn   6500000         Pitcher  Los Angeles Angels\n",
      "13699  2005       Kelvim Escobar   6250000         Pitcher  Los Angeles Angels\n",
      "13700  2005      Orlando Cabrera   6000000       Shortstop  Los Angeles Angels\n",
      "13701  2005         Steve Finley   6000000      Outfielder  Los Angeles Angels\n",
      "13702  2005            Paul Byrd   5000000         Pitcher  Los Angeles Angels\n",
      "13703  2005         Matt Hensley   3175000         Pitcher  Los Angeles Angels\n",
      "13704  2005         Adam Kennedy   3000000  Second Baseman  Los Angeles Angels\n",
      "13705  2005        Bengie Molina   3000000         Catcher  Los Angeles Angels\n",
      "13706  2005          Esteban Yan   1000000         Pitcher  Los Angeles Angels\n",
      "13707  2005         Jeff DaVanon    925000      Outfielder  Los Angeles Angels\n",
      "13708  2005         Scot Shields    925000         Pitcher  Los Angeles Angels\n",
      "13709  2005          Jose Molina    725000         Catcher  Los Angeles Angels\n",
      "13710  2005          Lou Merloni    500000  Second Baseman  Los Angeles Angels\n",
      "13711  2005            Josh Paul    450000         Catcher  Los Angeles Angels\n",
      "13712  2005          John Lackey    440000         Pitcher  Los Angeles Angels\n",
      "13713  2005  Francisco Rodriguez    440000         Pitcher  Los Angeles Angels\n",
      "13714  2005     Brendan Donnelly    420000         Pitcher  Los Angeles Angels\n",
      "13715  2005        Chone Figgins    390000  Second Baseman  Los Angeles Angels\n",
      "13716  2005          Juan Rivera    390000      Outfielder  Los Angeles Angels\n",
      "13717  2005          Kevin Gregg    360000         Pitcher  Los Angeles Angels\n",
      "13718  2005         Robb Quinlan    360000   Third Baseman  Los Angeles Angels\n",
      "13719  2005           Bret Prinz    342322         Pitcher  Los Angeles Angels\n",
      "13720  2005       Maicer Izturis    317000       Shortstop  Los Angeles Angels\n",
      "13721  2005           Jake Woods    316000         Pitcher  Los Angeles Angels\n",
      "13722  2005         Jeff Bagwell  18000000   First Baseman      Houston Astros\n",
      "13723  2005        Roger Clemens  18000000         Pitcher      Houston Astros\n",
      "...     ...                  ...       ...             ...                 ...\n",
      "14495  2005           Ross Gload    335000   First Baseman   Chicago White Sox\n",
      "14496  2005           Neal Cotts    330000         Pitcher   Chicago White Sox\n",
      "14497  2005          Pablo Ozuna    330000  Second Baseman   Chicago White Sox\n",
      "14498  2005           Felix Diaz    318000         Pitcher   Chicago White Sox\n",
      "14499  2005       Alex Rodriguez  26000000   Third Baseman    New York Yankees\n",
      "14500  2005          Derek Jeter  19600000       Shortstop    New York Yankees\n",
      "14501  2005         Mike Mussina  19000000         Pitcher    New York Yankees\n",
      "14502  2005        Randy Johnson  16000000         Pitcher    New York Yankees\n",
      "14503  2005       Kevin J. Brown  15714286         Pitcher    New York Yankees\n",
      "14504  2005         Jason Giambi  13428571   First Baseman    New York Yankees\n",
      "14505  2005       Gary Sheffield  13000000      Outfielder    New York Yankees\n",
      "14506  2005      Bernie Williams  12357143      Outfielder    New York Yankees\n",
      "14507  2005         Jorge Posada  11000000         Catcher    New York Yankees\n",
      "14508  2005       Mariano Rivera  10500000         Pitcher    New York Yankees\n",
      "14509  2005          Carl Pavano   9000000         Pitcher    New York Yankees\n",
      "14510  2005        Hideki Matsui   8000000      Outfielder    New York Yankees\n",
      "14511  2005         Steve Karsay   6000000         Pitcher    New York Yankees\n",
      "14512  2005         Jaret Wright   5666667         Pitcher    New York Yankees\n",
      "14513  2005         Mike Stanton   4000000         Pitcher    New York Yankees\n",
      "14514  2005           Tom Gordon   3750000         Pitcher    New York Yankees\n",
      "14515  2005      Felix Rodriguez   3150000         Pitcher    New York Yankees\n",
      "14516  2005       Paul Quantrill   3000000         Pitcher    New York Yankees\n",
      "14517  2005        Tino Martinez   2750000   First Baseman    New York Yankees\n",
      "14518  2005          Tony Womack   2000000  Second Baseman    New York Yankees\n",
      "14519  2005         Ruben Sierra   1500000      Outfielder    New York Yankees\n",
      "14520  2005       Tanyon Sturtze    850000         Pitcher    New York Yankees\n",
      "14521  2005        John Flaherty    800000         Catcher    New York Yankees\n",
      "14522  2005          Rey Sanchez    600000  Second Baseman    New York Yankees\n",
      "14523  2005         Bubba Crosby    322950      Outfielder    New York Yankees\n",
      "14524  2005        Andy Phillips    317200  Second Baseman    New York Yankees\n",
      "\n",
      "[831 rows x 5 columns]\n",
      "2006\n",
      "       Year                 Player    Salary        Position  \\\n",
      "14525  2006          Bartolo Colon  14000000         Pitcher   \n",
      "14526  2006      Vladimir Guerrero  13500000      Outfielder   \n",
      "14527  2006        Garret Anderson  10600000      Outfielder   \n",
      "14528  2006           Darin Erstad   8750000   First Baseman   \n",
      "14529  2006            Jeff Weaver   8325000         Pitcher   \n",
      "14530  2006        Edgardo Alfonzo   8000000   Third Baseman   \n",
      "14531  2006        Orlando Cabrera   7500000       Shortstop   \n",
      "14532  2006         Kelvim Escobar   6750000         Pitcher   \n",
      "14533  2006    Francisco Rodriguez   3775000         Pitcher   \n",
      "14534  2006           Adam Kennedy   3350000  Second Baseman   \n",
      "14535  2006            John Lackey   3340000         Pitcher   \n",
      "14536  2006        Hector Carrasco   2600000         Pitcher   \n",
      "14537  2006          Chone Figgins   2250000   Third Baseman   \n",
      "14538  2006            J.C. Romero   2200000         Pitcher   \n",
      "14539  2006           Scot Shields   2100000         Pitcher   \n",
      "14540  2006            Juan Rivera   1250000      Outfielder   \n",
      "14541  2006            Esteban Yan   1250000         Pitcher   \n",
      "14542  2006       Brendan Donnelly    950000         Pitcher   \n",
      "14543  2006            Jose Molina    850000         Catcher   \n",
      "14544  2006             Tim Salmon    400000      Outfielder   \n",
      "14545  2006           Robb Quinlan    365000   Third Baseman   \n",
      "14546  2006         Maicer Izturis    350000       Shortstop   \n",
      "14547  2006          Ervin Santana    350000         Pitcher   \n",
      "14548  2006         Casey Kotchman    340000   First Baseman   \n",
      "14549  2006            Jeff Mathis    327000         Catcher   \n",
      "14550  2006           Jeff Bagwell  19369019   First Baseman   \n",
      "14551  2006          Andy Pettitte  16428416         Pitcher   \n",
      "14552  2006          Lance Berkman  14500000   First Baseman   \n",
      "14553  2006             Roy Oswalt  11000000         Pitcher   \n",
      "14554  2006           Craig Biggio   4000000  Second Baseman   \n",
      "...     ...                    ...       ...             ...   \n",
      "15318  2006  Brian Nikoli Anderson    330000      Outfielder   \n",
      "15319  2006            Boone Logan    327000         Pitcher   \n",
      "15320  2006         Alex Rodriguez  21680727   Third Baseman   \n",
      "15321  2006            Derek Jeter  20600000       Shortstop   \n",
      "15322  2006           Jason Giambi  20428571   First Baseman   \n",
      "15323  2006           Mike Mussina  19000000         Pitcher   \n",
      "15324  2006          Randy Johnson  15661427         Pitcher   \n",
      "15325  2006           Johnny Damon  13000000      Outfielder   \n",
      "15326  2006          Hideki Matsui  13000000      Outfielder   \n",
      "15327  2006           Jorge Posada  12000000         Catcher   \n",
      "15328  2006         Gary Sheffield  10756171      Outfielder   \n",
      "15329  2006         Mariano Rivera  10500000         Pitcher   \n",
      "15330  2006            Carl Pavano   8000000         Pitcher   \n",
      "15331  2006           Jaret Wright   7666667         Pitcher   \n",
      "15332  2006        Kyle Farnsworth   5416666         Pitcher   \n",
      "15333  2006           Shawn Chacon   3600000         Pitcher   \n",
      "15334  2006            Ron Villone   2250000         Pitcher   \n",
      "15335  2006          Octavio Dotel   2000000         Pitcher   \n",
      "15336  2006         Tanyon Sturtze   1500000         Pitcher   \n",
      "15337  2006        Bernie Williams   1500000      Outfielder   \n",
      "15338  2006            Aaron Small   1200000         Pitcher   \n",
      "15339  2006             Mike Myers   1150000         Pitcher   \n",
      "15340  2006           Miguel Cairo   1000000  Second Baseman   \n",
      "15341  2006         Kelly Stinnett    650000         Catcher   \n",
      "15342  2006          Robinson Cano    381000  Second Baseman   \n",
      "15343  2006           Bubba Crosby    354250      Outfielder   \n",
      "15344  2006        Chien-Ming Wang    353175         Pitcher   \n",
      "15345  2006          Scott Proctor    352675         Pitcher   \n",
      "15346  2006          Andy Phillips    333150   First Baseman   \n",
      "15347  2006             Wil Nieves    328600         Catcher   \n",
      "\n",
      "                     Team  \n",
      "14525  Los Angeles Angels  \n",
      "14526  Los Angeles Angels  \n",
      "14527  Los Angeles Angels  \n",
      "14528  Los Angeles Angels  \n",
      "14529  Los Angeles Angels  \n",
      "14530  Los Angeles Angels  \n",
      "14531  Los Angeles Angels  \n",
      "14532  Los Angeles Angels  \n",
      "14533  Los Angeles Angels  \n",
      "14534  Los Angeles Angels  \n",
      "14535  Los Angeles Angels  \n",
      "14536  Los Angeles Angels  \n",
      "14537  Los Angeles Angels  \n",
      "14538  Los Angeles Angels  \n",
      "14539  Los Angeles Angels  \n",
      "14540  Los Angeles Angels  \n",
      "14541  Los Angeles Angels  \n",
      "14542  Los Angeles Angels  \n",
      "14543  Los Angeles Angels  \n",
      "14544  Los Angeles Angels  \n",
      "14545  Los Angeles Angels  \n",
      "14546  Los Angeles Angels  \n",
      "14547  Los Angeles Angels  \n",
      "14548  Los Angeles Angels  \n",
      "14549  Los Angeles Angels  \n",
      "14550      Houston Astros  \n",
      "14551      Houston Astros  \n",
      "14552      Houston Astros  \n",
      "14553      Houston Astros  \n",
      "14554      Houston Astros  \n",
      "...                   ...  \n",
      "15318   Chicago White Sox  \n",
      "15319   Chicago White Sox  \n",
      "15320    New York Yankees  \n",
      "15321    New York Yankees  \n",
      "15322    New York Yankees  \n",
      "15323    New York Yankees  \n",
      "15324    New York Yankees  \n",
      "15325    New York Yankees  \n",
      "15326    New York Yankees  \n",
      "15327    New York Yankees  \n",
      "15328    New York Yankees  \n",
      "15329    New York Yankees  \n",
      "15330    New York Yankees  \n",
      "15331    New York Yankees  \n",
      "15332    New York Yankees  \n",
      "15333    New York Yankees  \n",
      "15334    New York Yankees  \n",
      "15335    New York Yankees  \n",
      "15336    New York Yankees  \n",
      "15337    New York Yankees  \n",
      "15338    New York Yankees  \n",
      "15339    New York Yankees  \n",
      "15340    New York Yankees  \n",
      "15341    New York Yankees  \n",
      "15342    New York Yankees  \n",
      "15343    New York Yankees  \n",
      "15344    New York Yankees  \n",
      "15345    New York Yankees  \n",
      "15346    New York Yankees  \n",
      "15347    New York Yankees  \n",
      "\n",
      "[823 rows x 5 columns]\n",
      "2007\n",
      "       Year               Player    Salary           Position  \\\n",
      "15348  2007        Bartolo Colon  16000000            Pitcher   \n",
      "15349  2007    Vladimir Guerrero  14500000         Outfielder   \n",
      "15350  2007      Garret Anderson  11600000         Outfielder   \n",
      "15351  2007       Kelvim Escobar   9000000            Pitcher   \n",
      "15352  2007      Orlando Cabrera   8500000          Shortstop   \n",
      "15353  2007  Francisco Rodriguez   7000000            Pitcher   \n",
      "15354  2007        Gary Matthews   6400000         Outfielder   \n",
      "15355  2007     Shea Hillenbrand   6000000      First Baseman   \n",
      "15356  2007          John Lackey   5833333            Pitcher   \n",
      "15357  2007        Justin Speier   3750000            Pitcher   \n",
      "15358  2007        Chone Figgins   3500000      Third Baseman   \n",
      "15359  2007         Scot Shields   3400000            Pitcher   \n",
      "15360  2007      Hector Carrasco   3000000            Pitcher   \n",
      "15361  2007          Juan Rivera   2025000         Outfielder   \n",
      "15362  2007        Darren Oliver   1500000            Pitcher   \n",
      "15363  2007          Jose Molina   1350000            Catcher   \n",
      "15364  2007         Robb Quinlan    800000      First Baseman   \n",
      "15365  2007       Maicer Izturis    440000          Shortstop   \n",
      "15366  2007        Ervin Santana    425000            Pitcher   \n",
      "15367  2007       Howie Kendrick    395000     Second Baseman   \n",
      "15368  2007          Mike Napoli    395000            Catcher   \n",
      "15369  2007         Jered Weaver    385000            Pitcher   \n",
      "15370  2007          Erick Aybar    382500      Third Baseman   \n",
      "15371  2007       Casey Kotchman    382500      First Baseman   \n",
      "15372  2007     Dallas McPherson    382500      First Baseman   \n",
      "15373  2007         Tommy Murphy    382500         Outfielder   \n",
      "15374  2007       Reggie Willits    382500         Outfielder   \n",
      "15375  2007       Dustin Moseley    380500            Pitcher   \n",
      "15376  2007      Chris Bootcheck    380000            Pitcher   \n",
      "15377  2007         Joe Saunders    380000            Pitcher   \n",
      "...     ...                  ...       ...                ...   \n",
      "16166  2007       Gustavo Molina    380000            Catcher   \n",
      "16167  2007         Jason Giambi  23428571  Designated Hitter   \n",
      "16168  2007       Alex Rodriguez  22708525      Third Baseman   \n",
      "16169  2007          Derek Jeter  21600000          Shortstop   \n",
      "16170  2007        Andy Pettitte  16000000            Pitcher   \n",
      "16171  2007          Bobby Abreu  15000000         Outfielder   \n",
      "16172  2007         Johnny Damon  13000000         Outfielder   \n",
      "16173  2007        Hideki Matsui  13000000         Outfielder   \n",
      "16174  2007         Jorge Posada  12000000            Catcher   \n",
      "16175  2007         Mike Mussina  11070423            Pitcher   \n",
      "16176  2007       Mariano Rivera  10500000            Pitcher   \n",
      "16177  2007          Carl Pavano  10000000            Pitcher   \n",
      "16178  2007      Kyle Farnsworth   5666667            Pitcher   \n",
      "16179  2007            Kei Igawa   4000000            Pitcher   \n",
      "16180  2007        Luis Vizcaino   3000000            Pitcher   \n",
      "16181  2007    Doug Mientkiewicz   1500000      First Baseman   \n",
      "16182  2007           Mike Myers   1250000            Pitcher   \n",
      "16183  2007         Miguel Cairo    750000     Second Baseman   \n",
      "16184  2007          Josh Phelps    600000      First Baseman   \n",
      "16185  2007        Robinson Cano    490800     Second Baseman   \n",
      "16186  2007      Chien-Ming Wang    489500            Pitcher   \n",
      "16187  2007        Scott Proctor    455923            Pitcher   \n",
      "16188  2007        Melky Cabrera    432400         Outfielder   \n",
      "16189  2007         Brian Bruney    395545            Pitcher   \n",
      "16190  2007     Jeffrey Karstens    389495            Pitcher   \n",
      "16191  2007       Darrell Rasner    384523            Pitcher   \n",
      "16192  2007          Enger Veras    382475            Pitcher   \n",
      "16193  2007           Wil Nieves    382150            Catcher   \n",
      "16194  2007            Sean Henn    382048            Pitcher   \n",
      "16195  2007     Humberto Sanchez    380000            Pitcher   \n",
      "\n",
      "                     Team  \n",
      "15348  Los Angeles Angels  \n",
      "15349  Los Angeles Angels  \n",
      "15350  Los Angeles Angels  \n",
      "15351  Los Angeles Angels  \n",
      "15352  Los Angeles Angels  \n",
      "15353  Los Angeles Angels  \n",
      "15354  Los Angeles Angels  \n",
      "15355  Los Angeles Angels  \n",
      "15356  Los Angeles Angels  \n",
      "15357  Los Angeles Angels  \n",
      "15358  Los Angeles Angels  \n",
      "15359  Los Angeles Angels  \n",
      "15360  Los Angeles Angels  \n",
      "15361  Los Angeles Angels  \n",
      "15362  Los Angeles Angels  \n",
      "15363  Los Angeles Angels  \n",
      "15364  Los Angeles Angels  \n",
      "15365  Los Angeles Angels  \n",
      "15366  Los Angeles Angels  \n",
      "15367  Los Angeles Angels  \n",
      "15368  Los Angeles Angels  \n",
      "15369  Los Angeles Angels  \n",
      "15370  Los Angeles Angels  \n",
      "15371  Los Angeles Angels  \n",
      "15372  Los Angeles Angels  \n",
      "15373  Los Angeles Angels  \n",
      "15374  Los Angeles Angels  \n",
      "15375  Los Angeles Angels  \n",
      "15376  Los Angeles Angels  \n",
      "15377  Los Angeles Angels  \n",
      "...                   ...  \n",
      "16166   Chicago White Sox  \n",
      "16167    New York Yankees  \n",
      "16168    New York Yankees  \n",
      "16169    New York Yankees  \n",
      "16170    New York Yankees  \n",
      "16171    New York Yankees  \n",
      "16172    New York Yankees  \n",
      "16173    New York Yankees  \n",
      "16174    New York Yankees  \n",
      "16175    New York Yankees  \n",
      "16176    New York Yankees  \n",
      "16177    New York Yankees  \n",
      "16178    New York Yankees  \n",
      "16179    New York Yankees  \n",
      "16180    New York Yankees  \n",
      "16181    New York Yankees  \n",
      "16182    New York Yankees  \n",
      "16183    New York Yankees  \n",
      "16184    New York Yankees  \n",
      "16185    New York Yankees  \n",
      "16186    New York Yankees  \n",
      "16187    New York Yankees  \n",
      "16188    New York Yankees  \n",
      "16189    New York Yankees  \n",
      "16190    New York Yankees  \n",
      "16191    New York Yankees  \n",
      "16192    New York Yankees  \n",
      "16193    New York Yankees  \n",
      "16194    New York Yankees  \n",
      "16195    New York Yankees  \n",
      "\n",
      "[848 rows x 5 columns]\n",
      "2008\n",
      "       Year               Player    Salary           Position  \\\n",
      "16196  2008         Torii Hunter  16500000         Outfielder   \n",
      "16197  2008    Vladimir Guerrero  15500000         Outfielder   \n",
      "16198  2008      Garret Anderson  12600000         Outfielder   \n",
      "16199  2008          Jon Garland  12000000            Pitcher   \n",
      "16200  2008  Francisco Rodriguez  10000000            Pitcher   \n",
      "16201  2008       Kelvim Escobar   9500000            Pitcher   \n",
      "16202  2008        Gary Matthews   9400000         Outfielder   \n",
      "16203  2008          John Lackey   7333333            Pitcher   \n",
      "16204  2008        Chone Figgins   4750000      Third Baseman   \n",
      "16205  2008         Scot Shields   4250000            Pitcher   \n",
      "16206  2008        Justin Speier   4250000            Pitcher   \n",
      "16207  2008          Juan Rivera   2025000         Outfielder   \n",
      "16208  2008        Darren Oliver   2000000            Pitcher   \n",
      "16209  2008       Casey Kotchman   1450000      First Baseman   \n",
      "16210  2008       Maicer Izturis   1200000          Shortstop   \n",
      "16211  2008         Robb Quinlan   1050000      First Baseman   \n",
      "16212  2008         Jered Weaver    435000            Pitcher   \n",
      "16213  2008       Howie Kendrick    432500     Second Baseman   \n",
      "16214  2008       Reggie Willits    432500         Outfielder   \n",
      "16215  2008          Mike Napoli    425000            Catcher   \n",
      "16216  2008         Joe Saunders    425000            Pitcher   \n",
      "16217  2008       Dustin Moseley    420000            Pitcher   \n",
      "16218  2008        Ervin Santana    420000            Pitcher   \n",
      "16219  2008          Erick Aybar    415000          Shortstop   \n",
      "16220  2008      Chris Bootcheck    415000            Pitcher   \n",
      "16221  2008          Jeff Mathis    415000            Catcher   \n",
      "16222  2008         Jason Bulger    392000            Pitcher   \n",
      "16223  2008     Rich G. Thompson    391000            Pitcher   \n",
      "16224  2008         Darren O'Day    390000            Pitcher   \n",
      "16225  2008        Miguel Tejada  14811414          Shortstop   \n",
      "...     ...                  ...       ...                ...   \n",
      "17024  2008         Jason Giambi  23428571  Designated Hitter   \n",
      "17025  2008          Derek Jeter  21600000          Shortstop   \n",
      "17026  2008          Bobby Abreu  16000000         Outfielder   \n",
      "17027  2008        Andy Pettitte  16000000            Pitcher   \n",
      "17028  2008       Mariano Rivera  15000000            Pitcher   \n",
      "17029  2008         Jorge Posada  13100000            Catcher   \n",
      "17030  2008         Johnny Damon  13000000         Outfielder   \n",
      "17031  2008        Hideki Matsui  13000000         Outfielder   \n",
      "17032  2008         Mike Mussina  11071029            Pitcher   \n",
      "17033  2008          Carl Pavano  11000000            Pitcher   \n",
      "17034  2008      Kyle Farnsworth   5916666            Pitcher   \n",
      "17035  2008      Chien-Ming Wang   4000000            Pitcher   \n",
      "17036  2008       LaTroy Hawkins   3750000            Pitcher   \n",
      "17037  2008        Robinson Cano   3000000     Second Baseman   \n",
      "17038  2008          Jose Molina   1875000            Catcher   \n",
      "17039  2008       Morgan Ensberg   1750000      Third Baseman   \n",
      "17040  2008      Andrew Brackman   1184788            Pitcher   \n",
      "17041  2008       Wilson Betemit   1165000      Third Baseman   \n",
      "17042  2008         Brian Bruney    725000            Pitcher   \n",
      "17043  2008         Billy Traber    500000            Pitcher   \n",
      "17044  2008        Melky Cabrera    461200         Outfielder   \n",
      "17045  2008          Phil Hughes    406350            Pitcher   \n",
      "17046  2008       Shelley Duncan    398300  Designated Hitter   \n",
      "17047  2008            Sean Henn    397448            Pitcher   \n",
      "17048  2008          Ian Kennedy    394275            Pitcher   \n",
      "17049  2008     Jeffrey Karstens    393300            Pitcher   \n",
      "17050  2008       Jon Albaladejo    393225            Pitcher   \n",
      "17051  2008       Ross Ohlendorf    391425            Pitcher   \n",
      "17052  2008     Joba Chamberlain    390000            Pitcher   \n",
      "17053  2008     Humberto Sanchez    390000            Pitcher   \n",
      "\n",
      "                     Team  \n",
      "16196  Los Angeles Angels  \n",
      "16197  Los Angeles Angels  \n",
      "16198  Los Angeles Angels  \n",
      "16199  Los Angeles Angels  \n",
      "16200  Los Angeles Angels  \n",
      "16201  Los Angeles Angels  \n",
      "16202  Los Angeles Angels  \n",
      "16203  Los Angeles Angels  \n",
      "16204  Los Angeles Angels  \n",
      "16205  Los Angeles Angels  \n",
      "16206  Los Angeles Angels  \n",
      "16207  Los Angeles Angels  \n",
      "16208  Los Angeles Angels  \n",
      "16209  Los Angeles Angels  \n",
      "16210  Los Angeles Angels  \n",
      "16211  Los Angeles Angels  \n",
      "16212  Los Angeles Angels  \n",
      "16213  Los Angeles Angels  \n",
      "16214  Los Angeles Angels  \n",
      "16215  Los Angeles Angels  \n",
      "16216  Los Angeles Angels  \n",
      "16217  Los Angeles Angels  \n",
      "16218  Los Angeles Angels  \n",
      "16219  Los Angeles Angels  \n",
      "16220  Los Angeles Angels  \n",
      "16221  Los Angeles Angels  \n",
      "16222  Los Angeles Angels  \n",
      "16223  Los Angeles Angels  \n",
      "16224  Los Angeles Angels  \n",
      "16225      Houston Astros  \n",
      "...                   ...  \n",
      "17024    New York Yankees  \n",
      "17025    New York Yankees  \n",
      "17026    New York Yankees  \n",
      "17027    New York Yankees  \n",
      "17028    New York Yankees  \n",
      "17029    New York Yankees  \n",
      "17030    New York Yankees  \n",
      "17031    New York Yankees  \n",
      "17032    New York Yankees  \n",
      "17033    New York Yankees  \n",
      "17034    New York Yankees  \n",
      "17035    New York Yankees  \n",
      "17036    New York Yankees  \n",
      "17037    New York Yankees  \n",
      "17038    New York Yankees  \n",
      "17039    New York Yankees  \n",
      "17040    New York Yankees  \n",
      "17041    New York Yankees  \n",
      "17042    New York Yankees  \n",
      "17043    New York Yankees  \n",
      "17044    New York Yankees  \n",
      "17045    New York Yankees  \n",
      "17046    New York Yankees  \n",
      "17047    New York Yankees  \n",
      "17048    New York Yankees  \n",
      "17049    New York Yankees  \n",
      "17050    New York Yankees  \n",
      "17051    New York Yankees  \n",
      "17052    New York Yankees  \n",
      "17053    New York Yankees  \n",
      "\n",
      "[858 rows x 5 columns]\n",
      "2009\n",
      "       Year             Player    Salary        Position                Team\n",
      "17054  2009       Torii Hunter  18000000      Outfielder  Los Angeles Angels\n",
      "17055  2009  Vladimir Guerrero  15000000      Outfielder  Los Angeles Angels\n",
      "17056  2009      Gary Matthews  10400000      Outfielder  Los Angeles Angels\n",
      "17057  2009     Kelvim Escobar  10000000         Pitcher  Los Angeles Angels\n",
      "17058  2009        John Lackey  10000000         Pitcher  Los Angeles Angels\n",
      "17059  2009      Brian Fuentes   8500000         Pitcher  Los Angeles Angels\n",
      "17060  2009      Chone Figgins   5775000   Third Baseman  Los Angeles Angels\n",
      "17061  2009        Bobby Abreu   5000000      Outfielder  Los Angeles Angels\n",
      "17062  2009       Scot Shields   5000000         Pitcher  Los Angeles Angels\n",
      "17063  2009      Justin Speier   4750000         Pitcher  Los Angeles Angels\n",
      "17064  2009      Ervin Santana   3800000         Pitcher  Los Angeles Angels\n",
      "17065  2009      Darren Oliver   3665000         Pitcher  Los Angeles Angels\n",
      "17066  2009        Juan Rivera   3250000      Outfielder  Los Angeles Angels\n",
      "17067  2009        Mike Napoli   2000000         Catcher  Los Angeles Angels\n",
      "17068  2009     Maicer Izturis   1600000       Shortstop  Los Angeles Angels\n",
      "17069  2009    Kendrys Morales   1100000   First Baseman  Los Angeles Angels\n",
      "17070  2009       Robb Quinlan   1100000   First Baseman  Los Angeles Angels\n",
      "17071  2009       Joe Saunders    475000         Pitcher  Los Angeles Angels\n",
      "17072  2009     Howie Kendrick    465000  Second Baseman  Los Angeles Angels\n",
      "17073  2009       Jered Weaver    465000         Pitcher  Los Angeles Angels\n",
      "17074  2009        Erick Aybar    460000       Shortstop  Los Angeles Angels\n",
      "17075  2009        Jeff Mathis    450000         Catcher  Los Angeles Angels\n",
      "17076  2009     Dustin Moseley    435000         Pitcher  Los Angeles Angels\n",
      "17077  2009     Jose Arredondo    410000         Pitcher  Los Angeles Angels\n",
      "17078  2009         Shane Loux    405000         Pitcher  Los Angeles Angels\n",
      "17079  2009       Jason Bulger    403000         Pitcher  Los Angeles Angels\n",
      "17080  2009       Kevin Jepsen    401000         Pitcher  Los Angeles Angels\n",
      "17081  2009      Nick Adenhart    400000         Pitcher  Los Angeles Angels\n",
      "17082  2009         Carlos Lee  19000000      Outfielder      Houston Astros\n",
      "17083  2009      Miguel Tejada  14811414       Shortstop      Houston Astros\n",
      "...     ...                ...       ...             ...                 ...\n",
      "17842  2009    Clayton Richard    405000         Pitcher   Chicago White Sox\n",
      "17843  2009  Brent Lillibridge    402500       Shortstop   Chicago White Sox\n",
      "17844  2009         Chris Getz    401000  Second Baseman   Chicago White Sox\n",
      "17845  2009         Jayson Nix    400000  Second Baseman   Chicago White Sox\n",
      "17846  2009     Alex Rodriguez  33000000   Third Baseman    New York Yankees\n",
      "17847  2009        Derek Jeter  21600000       Shortstop    New York Yankees\n",
      "17848  2009      Mark Teixeira  20625000   First Baseman    New York Yankees\n",
      "17849  2009       A.J. Burnett  16500000         Pitcher    New York Yankees\n",
      "17850  2009        CC Sabathia  15285714         Pitcher    New York Yankees\n",
      "17851  2009     Mariano Rivera  15000000         Pitcher    New York Yankees\n",
      "17852  2009       Jorge Posada  13100000         Catcher    New York Yankees\n",
      "17853  2009       Johnny Damon  13000000      Outfielder    New York Yankees\n",
      "17854  2009      Hideki Matsui  13000000      Outfielder    New York Yankees\n",
      "17855  2009        Xavier Nady   6550000      Outfielder    New York Yankees\n",
      "17856  2009      Robinson Cano   6000000  Second Baseman    New York Yankees\n",
      "17857  2009      Andy Pettitte   5500000         Pitcher    New York Yankees\n",
      "17858  2009       Nick Swisher   5400000      Outfielder    New York Yankees\n",
      "17859  2009    Chien-Ming Wang   5000000         Pitcher    New York Yankees\n",
      "17860  2009       Damaso Marte   3750000         Pitcher    New York Yankees\n",
      "17861  2009        Jose Molina   2125000         Catcher    New York Yankees\n",
      "17862  2009      Melky Cabrera   1400000      Outfielder    New York Yankees\n",
      "17863  2009       Brian Bruney   1250000         Pitcher    New York Yankees\n",
      "17864  2009        Cody Ransom    455100   Third Baseman    New York Yankees\n",
      "17865  2009         Jose Veras    432975         Pitcher    New York Yankees\n",
      "17866  2009   Joba Chamberlain    432575         Pitcher    New York Yankees\n",
      "17867  2009      Edwar Ramirez    422450         Pitcher    New York Yankees\n",
      "17868  2009      Brett Gardner    414000      Outfielder    New York Yankees\n",
      "17869  2009          Phil Coke    403300         Pitcher    New York Yankees\n",
      "17870  2009     Jon Albaladejo    403075         Pitcher    New York Yankees\n",
      "17871  2009        Ramiro Pena    400000       Infielder    New York Yankees\n",
      "\n",
      "[818 rows x 5 columns]\n",
      "2010\n",
      "       Year              Player    Salary        Position                Team\n",
      "17872  2010        Torii Hunter  18500000      Outfielder  Los Angeles Angels\n",
      "17873  2010         Bobby Abreu   9000000      Outfielder  Los Angeles Angels\n",
      "17874  2010       Brian Fuentes   9000000         Pitcher  Los Angeles Angels\n",
      "17875  2010        Scott Kazmir   8000000         Pitcher  Los Angeles Angels\n",
      "17876  2010        Joel Pineiro   8000000         Pitcher  Los Angeles Angels\n",
      "17877  2010       Hideki Matsui   6000000      Outfielder  Los Angeles Angels\n",
      "17878  2010       Ervin Santana   6000000         Pitcher  Los Angeles Angels\n",
      "17879  2010     Fernando Rodney   5500000         Pitcher  Los Angeles Angels\n",
      "17880  2010        Scot Shields   5350000         Pitcher  Los Angeles Angels\n",
      "17881  2010        Jered Weaver   4265000         Pitcher  Los Angeles Angels\n",
      "17882  2010         Juan Rivera   4250000      Outfielder  Los Angeles Angels\n",
      "17883  2010        Joe Saunders   3700000         Pitcher  Los Angeles Angels\n",
      "17884  2010         Mike Napoli   3600000         Catcher  Los Angeles Angels\n",
      "17885  2010      Maicer Izturis   2766666       Shortstop  Los Angeles Angels\n",
      "17886  2010         Erick Aybar   2050000       Shortstop  Los Angeles Angels\n",
      "17887  2010      Howie Kendrick   1750000  Second Baseman  Los Angeles Angels\n",
      "17888  2010         Jeff Mathis   1300000         Catcher  Los Angeles Angels\n",
      "17889  2010     Kendrys Morales   1200000   First Baseman  Los Angeles Angels\n",
      "17890  2010      Reggie Willits    625000      Outfielder  Los Angeles Angels\n",
      "17891  2010        Brian Stokes    435000         Pitcher  Los Angeles Angels\n",
      "17892  2010          Jon Palmer    420000         Pitcher  Los Angeles Angels\n",
      "17893  2010        Jason Bulger    418000         Pitcher  Los Angeles Angels\n",
      "17894  2010        Kevin Jepsen    415000         Pitcher  Los Angeles Angels\n",
      "17895  2010        Brandan Wood    410000       Shortstop  Los Angeles Angels\n",
      "17896  2010         Terry Evans    405000      Outfielder  Los Angeles Angels\n",
      "17897  2010          Ryan Budde    402200         Catcher  Los Angeles Angels\n",
      "17898  2010       Robert Wilson    402000         Catcher  Los Angeles Angels\n",
      "17899  2010      Anthony Ortega    400000         Pitcher  Los Angeles Angels\n",
      "17900  2010        Chris Pettit    400000      Outfielder  Los Angeles Angels\n",
      "17901  2010          Carlos Lee  19000000      Outfielder      Houston Astros\n",
      "...     ...                 ...       ...             ...                 ...\n",
      "18670  2010      Gordon Beckham    445000  Second Baseman   Chicago White Sox\n",
      "18671  2010          Jayson Nix    420000  Second Baseman   Chicago White Sox\n",
      "18672  2010    Randall Williams    415000         Pitcher   Chicago White Sox\n",
      "18673  2010          Donny Lucy    400000         Catcher   Chicago White Sox\n",
      "18674  2010       Sergio Santos    400000         Pitcher   Chicago White Sox\n",
      "18675  2010      Alex Rodriguez  33000000   Third Baseman    New York Yankees\n",
      "18676  2010         CC Sabathia  24285714         Pitcher    New York Yankees\n",
      "18677  2010         Derek Jeter  22600000       Shortstop    New York Yankees\n",
      "18678  2010       Mark Teixeira  20625000   First Baseman    New York Yankees\n",
      "18679  2010        A.J. Burnett  16500000         Pitcher    New York Yankees\n",
      "18680  2010      Mariano Rivera  15000000         Pitcher    New York Yankees\n",
      "18681  2010        Jorge Posada  13100000         Catcher    New York Yankees\n",
      "18682  2010       Andy Pettitte  11750000         Pitcher    New York Yankees\n",
      "18683  2010      Javier Vazquez  11500000         Pitcher    New York Yankees\n",
      "18684  2010       Robinson Cano   9000000  Second Baseman    New York Yankees\n",
      "18685  2010        Nick Swisher   6850000      Outfielder    New York Yankees\n",
      "18686  2010   Curtis Granderson   5500000      Outfielder    New York Yankees\n",
      "18687  2010        Nick Johnson   5500000   First Baseman    New York Yankees\n",
      "18688  2010        Damaso Marte   4000000         Pitcher    New York Yankees\n",
      "18689  2010        Chan Ho Park   1200000         Pitcher    New York Yankees\n",
      "18690  2010          Randy Winn   1100000      Outfielder    New York Yankees\n",
      "18691  2010       Marcus Thames    900000      Outfielder    New York Yankees\n",
      "18692  2010        Sergio Mitre    850000         Pitcher    New York Yankees\n",
      "18693  2010    Joba Chamberlain    487975         Pitcher    New York Yankees\n",
      "18694  2010       Brett Gardner    452500      Outfielder    New York Yankees\n",
      "18695  2010         Phil Hughes    447000         Pitcher    New York Yankees\n",
      "18696  2010      Alfredo Aceves    435650         Pitcher    New York Yankees\n",
      "18697  2010     David Robertson    426650         Pitcher    New York Yankees\n",
      "18698  2010         Ramiro Pena    412100       Infielder    New York Yankees\n",
      "18699  2010  Francisco Cervelli    410800         Catcher    New York Yankees\n",
      "\n",
      "[828 rows x 5 columns]\n",
      "2011\n",
      "       Year              Player    Salary        Position                Team\n",
      "18700  2011        Vernon Wells  26187500      Outfielder  Los Angeles Angels\n",
      "18701  2011        Torii Hunter  18500000      Outfielder  Los Angeles Angels\n",
      "18702  2011           Dan Haren  12750000         Pitcher  Los Angeles Angels\n",
      "18703  2011        Scott Kazmir  12000000         Pitcher  Los Angeles Angels\n",
      "18704  2011         Bobby Abreu   9000000      Outfielder  Los Angeles Angels\n",
      "18705  2011        Joel Pineiro   8000000         Pitcher  Los Angeles Angels\n",
      "18706  2011       Ervin Santana   8000000         Pitcher  Los Angeles Angels\n",
      "18707  2011        Jered Weaver   7365000         Pitcher  Los Angeles Angels\n",
      "18708  2011     Fernando Rodney   5500000         Pitcher  Los Angeles Angels\n",
      "18709  2011         Scott Downs   5000000         Pitcher  Los Angeles Angels\n",
      "18710  2011  Hisanori Takahashi   3800000         Pitcher  Los Angeles Angels\n",
      "18711  2011      Howie Kendrick   3300000  Second Baseman  Los Angeles Angels\n",
      "18712  2011      Maicer Izturis   3266666  Second Baseman  Los Angeles Angels\n",
      "18713  2011         Erick Aybar   3000000       Shortstop  Los Angeles Angels\n",
      "18714  2011     Kendrys Morales   2975000   First Baseman  Los Angeles Angels\n",
      "18715  2011    Alberto Callaspo   2000000   First Baseman  Los Angeles Angels\n",
      "18716  2011         Jeff Mathis   1700000         Catcher  Los Angeles Angels\n",
      "18717  2011      Reggie Willits    775000      Outfielder  Los Angeles Angels\n",
      "18718  2011        Kevin Jepsen    435000         Pitcher  Los Angeles Angels\n",
      "18719  2011        Jason Bulger    423000         Pitcher  Los Angeles Angels\n",
      "18720  2011        Brandon Wood    420000   Third Baseman  Los Angeles Angels\n",
      "18721  2011       Rich Thompson    418000         Pitcher  Los Angeles Angels\n",
      "18722  2011        Bobby Wilson    416000         Catcher  Los Angeles Angels\n",
      "18723  2011       Peter Bourjos    414000      Outfielder  Los Angeles Angels\n",
      "18724  2011      Bobby Cassevah    414000         Pitcher  Los Angeles Angels\n",
      "18725  2011         Hank Conger    414000         Catcher  Los Angeles Angels\n",
      "18726  2011        Michael Kohn    414000         Pitcher  Los Angeles Angels\n",
      "18727  2011        Chris Pettit    414000      Outfielder  Los Angeles Angels\n",
      "18728  2011     Freddy Sandoval    414000   Third Baseman  Los Angeles Angels\n",
      "18729  2011         Mark Trumbo    414000   First Baseman  Los Angeles Angels\n",
      "...     ...                 ...       ...             ...                 ...\n",
      "19513  2011      Alex Rodriguez  32000000   Third Baseman    New York Yankees\n",
      "19514  2011         CC Sabathia  24285714         Pitcher    New York Yankees\n",
      "19515  2011       Mark Teixeira  23125000   First Baseman    New York Yankees\n",
      "19516  2011        A.J. Burnett  16500000         Pitcher    New York Yankees\n",
      "19517  2011      Mariano Rivera  14911700         Pitcher    New York Yankees\n",
      "19518  2011         Derek Jeter  14729364       Shortstop    New York Yankees\n",
      "19519  2011        Jorge Posada  13100000         Catcher    New York Yankees\n",
      "19520  2011       Robinson Cano  10000000  Second Baseman    New York Yankees\n",
      "19521  2011      Rafael Soriano  10000000         Pitcher    New York Yankees\n",
      "19522  2011        Nick Swisher   9100000      Outfielder    New York Yankees\n",
      "19523  2011   Curtis Granderson   8250000      Outfielder    New York Yankees\n",
      "19524  2011        Damaso Marte   4000000         Pitcher    New York Yankees\n",
      "19525  2011      Russell Martin   4000000         Catcher    New York Yankees\n",
      "19526  2011     Pedro Feliciano   3750000         Pitcher    New York Yankees\n",
      "19527  2011         Phil Hughes   2700000         Pitcher    New York Yankees\n",
      "19528  2011         Eric Chavez   1500000   Third Baseman    New York Yankees\n",
      "19529  2011       Freddy Garcia   1500000         Pitcher    New York Yankees\n",
      "19530  2011        Andruw Jones   1500000      Outfielder    New York Yankees\n",
      "19531  2011    Joba Chamberlain   1400000         Pitcher    New York Yankees\n",
      "19532  2011         Boone Logan   1200000         Pitcher    New York Yankees\n",
      "19533  2011       Bartolo Colon    900000         Pitcher    New York Yankees\n",
      "19534  2011          Luis Ayala    650000         Pitcher    New York Yankees\n",
      "19535  2011       Brett Gardner    529500      Outfielder    New York Yankees\n",
      "19536  2011     David Robertson    460450         Pitcher    New York Yankees\n",
      "19537  2011  Francisco Cervelli    455700         Catcher    New York Yankees\n",
      "19538  2011      Gustavo Molina    455000         Catcher    New York Yankees\n",
      "19539  2011           Ivan Nova    432900         Pitcher    New York Yankees\n",
      "19540  2011        Colin Curtis    420400      Outfielder    New York Yankees\n",
      "19541  2011       Eduardo Nunez    419300       Shortstop    New York Yankees\n",
      "19542  2011       Reegie Corona    414000  Second Baseman    New York Yankees\n",
      "\n",
      "[843 rows x 5 columns]\n"
     ]
    }
   ],
   "source": [
    "# we are spliiting the dataframe with a key in this case it is the\n",
    "# year column from the dataframe\n",
    "# Step 1 - Splitting\n",
    "for k,group in grouped:\n",
    "    print k\n",
    "    print group"
   ]
  },
  {
   "cell_type": "code",
   "execution_count": 175,
   "metadata": {
    "collapsed": false
   },
   "outputs": [],
   "source": [
    "# the grouped object is an iterable object and wil help us to \n",
    "# run some powerful set of analysis across the set of group\n",
    "# Step 2 - Analysis\n",
    "# Genrator comprehension object\n",
    "t = (group.sort_values(by='Salary', ascending = False)[:1] \n",
    "     for yr,group in grouped)"
   ]
  },
  {
   "cell_type": "code",
   "execution_count": 176,
   "metadata": {
    "collapsed": false,
    "scrolled": true
   },
   "outputs": [
    {
     "data": {
      "text/plain": [
       "<generator object <genexpr> at 0x116a35e60>"
      ]
     },
     "execution_count": 176,
     "metadata": {},
     "output_type": "execute_result"
    }
   ],
   "source": [
    "# this is is similar to the list comprehension that is avialable\n",
    "t"
   ]
  },
  {
   "cell_type": "code",
   "execution_count": 177,
   "metadata": {
    "collapsed": false
   },
   "outputs": [
    {
     "data": {
      "text/plain": [
       "generator"
      ]
     },
     "execution_count": 177,
     "metadata": {},
     "output_type": "execute_result"
    }
   ],
   "source": [
    "# verifying the type\n",
    "type(t)"
   ]
  },
  {
   "cell_type": "code",
   "execution_count": 178,
   "metadata": {
    "collapsed": true
   },
   "outputs": [],
   "source": [
    "# Step 3 - Create a new datastructure to combine the object after\n",
    "# the result fo the analysis\n",
    "topsalaries = pd.DataFrame()"
   ]
  },
  {
   "cell_type": "code",
   "execution_count": 179,
   "metadata": {
    "collapsed": false
   },
   "outputs": [],
   "source": [
    "# including the object into the dataframe that is created above\n",
    "for line in t:\n",
    "    topsalaries = topsalaries.append(line)"
   ]
  },
  {
   "cell_type": "code",
   "execution_count": 180,
   "metadata": {
    "collapsed": false
   },
   "outputs": [
    {
     "data": {
      "text/html": [
       "<div>\n",
       "<table border=\"1\" class=\"dataframe\">\n",
       "  <thead>\n",
       "    <tr style=\"text-align: right;\">\n",
       "      <th></th>\n",
       "      <th>Year</th>\n",
       "      <th>Player</th>\n",
       "      <th>Salary</th>\n",
       "      <th>Position</th>\n",
       "      <th>Team</th>\n",
       "    </tr>\n",
       "  </thead>\n",
       "  <tbody>\n",
       "    <tr>\n",
       "      <th>321</th>\n",
       "      <td>1988</td>\n",
       "      <td>Gary Carter</td>\n",
       "      <td>2360714</td>\n",
       "      <td>Catcher</td>\n",
       "      <td>New York Mets</td>\n",
       "    </tr>\n",
       "    <tr>\n",
       "      <th>908</th>\n",
       "      <td>1989</td>\n",
       "      <td>Orel Hershiser</td>\n",
       "      <td>2766666</td>\n",
       "      <td>Pitcher</td>\n",
       "      <td>Los Angeles Dodgers</td>\n",
       "    </tr>\n",
       "  </tbody>\n",
       "</table>\n",
       "</div>"
      ],
      "text/plain": [
       "     Year          Player   Salary Position                 Team\n",
       "321  1988     Gary Carter  2360714  Catcher        New York Mets\n",
       "908  1989  Orel Hershiser  2766666  Pitcher  Los Angeles Dodgers"
      ]
     },
     "execution_count": 180,
     "metadata": {},
     "output_type": "execute_result"
    }
   ],
   "source": [
    "topsalaries.head(2)"
   ]
  },
  {
   "cell_type": "code",
   "execution_count": 187,
   "metadata": {
    "collapsed": false
   },
   "outputs": [
    {
     "data": {
      "text/plain": [
       "Year        24\n",
       "Player      24\n",
       "Salary      24\n",
       "Position    24\n",
       "Team        24\n",
       "dtype: int64"
      ]
     },
     "execution_count": 187,
     "metadata": {},
     "output_type": "execute_result"
    }
   ],
   "source": [
    "# the reason it is 24 is equal to the number of distinct years\n",
    "topsalaries.count()"
   ]
  },
  {
   "cell_type": "code",
   "execution_count": 188,
   "metadata": {
    "collapsed": false
   },
   "outputs": [],
   "source": [
    "# Creating a new dataframe with only 2 columns\n",
    "ts = topsalaries[['Year','Salary']]"
   ]
  },
  {
   "cell_type": "code",
   "execution_count": 189,
   "metadata": {
    "collapsed": true
   },
   "outputs": [],
   "source": [
    "# changing the index to the year\n",
    "ts = ts.set_index('Year')"
   ]
  },
  {
   "cell_type": "code",
   "execution_count": 190,
   "metadata": {
    "collapsed": false,
    "scrolled": true
   },
   "outputs": [
    {
     "data": {
      "text/html": [
       "<div>\n",
       "<table border=\"1\" class=\"dataframe\">\n",
       "  <thead>\n",
       "    <tr style=\"text-align: right;\">\n",
       "      <th></th>\n",
       "      <th>Salary</th>\n",
       "    </tr>\n",
       "    <tr>\n",
       "      <th>Year</th>\n",
       "      <th></th>\n",
       "    </tr>\n",
       "  </thead>\n",
       "  <tbody>\n",
       "    <tr>\n",
       "      <th>1988</th>\n",
       "      <td>2360714</td>\n",
       "    </tr>\n",
       "    <tr>\n",
       "      <th>1989</th>\n",
       "      <td>2766666</td>\n",
       "    </tr>\n",
       "  </tbody>\n",
       "</table>\n",
       "</div>"
      ],
      "text/plain": [
       "       Salary\n",
       "Year         \n",
       "1988  2360714\n",
       "1989  2766666"
      ]
     },
     "execution_count": 190,
     "metadata": {},
     "output_type": "execute_result"
    }
   ],
   "source": [
    "ts.head(2)"
   ]
  },
  {
   "cell_type": "code",
   "execution_count": 191,
   "metadata": {
    "collapsed": false
   },
   "outputs": [
    {
     "data": {
      "image/png": "[encoded data removed]",
      "text/plain": [
       "<matplotlib.figure.Figure at 0x11cde4ad0>"
      ]
     },
     "metadata": {},
     "output_type": "display_data"
    }
   ],
   "source": [
    "ts.plot()\n",
    "plt.show()"
   ]
  },
  {
   "cell_type": "code",
   "execution_count": 192,
   "metadata": {
    "collapsed": false
   },
   "outputs": [
    {
     "data": {
      "image/png": "[encoded data removed]",
      "text/plain": [
       "<matplotlib.figure.Figure at 0x1185cf510>"
      ]
     },
     "metadata": {},
     "output_type": "display_data"
    }
   ],
   "source": [
    "grouped['Salary'].median().plot()\n",
    "plt.show()"
   ]
  },
  {
   "cell_type": "code",
   "execution_count": 193,
   "metadata": {
    "collapsed": false
   },
   "outputs": [
    {
     "name": "stdout",
     "output_type": "stream",
     "text": [
      "Populating the interactive namespace from numpy and matplotlib\n"
     ]
    },
    {
     "name": "stderr",
     "output_type": "stream",
     "text": [
      "//anaconda/lib/python2.7/site-packages/IPython/core/magics/pylab.py:161: UserWarning: pylab import has clobbered these variables: ['step', 'test']\n",
      "`%matplotlib` prevents importing * from pylab and numpy\n",
      "  \"\\n`%matplotlib` prevents importing * from pylab and numpy\"\n"
     ]
    }
   ],
   "source": [
    "import pandas as pd\n",
    "import numpy as np\n",
    "import matplotlib.pyplot as plt\n",
    "import matplotlib\n",
    "%pylab inline"
   ]
  },
  {
   "cell_type": "code",
   "execution_count": 194,
   "metadata": {
    "collapsed": false
   },
   "outputs": [],
   "source": [
    "days = pd.date_range('2017-01-01', '2017-02-28', freq = 'D')\n",
    "dim = (59,5)"
   ]
  },
  {
   "cell_type": "code",
   "execution_count": 195,
   "metadata": {
    "collapsed": false
   },
   "outputs": [],
   "source": [
    "df = pd.DataFrame(np.random.randint(-20,40,dim), index=days, columns = ['Madrid', 'Boston', 'Tokyo', 'Shanghai','Kolkata'])"
   ]
  },
  {
   "cell_type": "code",
   "execution_count": 196,
   "metadata": {
    "collapsed": false
   },
   "outputs": [
    {
     "data": {
      "text/html": [
       "<div>\n",
       "<table border=\"1\" class=\"dataframe\">\n",
       "  <thead>\n",
       "    <tr style=\"text-align: right;\">\n",
       "      <th></th>\n",
       "      <th>Madrid</th>\n",
       "      <th>Boston</th>\n",
       "      <th>Tokyo</th>\n",
       "      <th>Shanghai</th>\n",
       "      <th>Kolkata</th>\n",
       "    </tr>\n",
       "  </thead>\n",
       "  <tbody>\n",
       "    <tr>\n",
       "      <th>2017-01-01</th>\n",
       "      <td>-11</td>\n",
       "      <td>-2</td>\n",
       "      <td>-17</td>\n",
       "      <td>33</td>\n",
       "      <td>36</td>\n",
       "    </tr>\n",
       "    <tr>\n",
       "      <th>2017-01-02</th>\n",
       "      <td>-15</td>\n",
       "      <td>15</td>\n",
       "      <td>10</td>\n",
       "      <td>-13</td>\n",
       "      <td>-19</td>\n",
       "    </tr>\n",
       "  </tbody>\n",
       "</table>\n",
       "</div>"
      ],
      "text/plain": [
       "            Madrid  Boston  Tokyo  Shanghai  Kolkata\n",
       "2017-01-01     -11      -2    -17        33       36\n",
       "2017-01-02     -15      15     10       -13      -19"
      ]
     },
     "execution_count": 196,
     "metadata": {},
     "output_type": "execute_result"
    }
   ],
   "source": [
    "df.head(2)"
   ]
  },
  {
   "cell_type": "code",
   "execution_count": 197,
   "metadata": {
    "collapsed": false
   },
   "outputs": [
    {
     "data": {
      "text/html": [
       "<div>\n",
       "<table border=\"1\" class=\"dataframe\">\n",
       "  <thead>\n",
       "    <tr style=\"text-align: right;\">\n",
       "      <th></th>\n",
       "      <th>Madrid</th>\n",
       "      <th>Boston</th>\n",
       "      <th>Tokyo</th>\n",
       "    </tr>\n",
       "  </thead>\n",
       "  <tbody>\n",
       "    <tr>\n",
       "      <th>2017-01-04</th>\n",
       "      <td>-16</td>\n",
       "      <td>-1</td>\n",
       "      <td>24</td>\n",
       "    </tr>\n",
       "    <tr>\n",
       "      <th>2017-01-05</th>\n",
       "      <td>32</td>\n",
       "      <td>35</td>\n",
       "      <td>10</td>\n",
       "    </tr>\n",
       "    <tr>\n",
       "      <th>2017-01-06</th>\n",
       "      <td>22</td>\n",
       "      <td>31</td>\n",
       "      <td>27</td>\n",
       "    </tr>\n",
       "  </tbody>\n",
       "</table>\n",
       "</div>"
      ],
      "text/plain": [
       "            Madrid  Boston  Tokyo\n",
       "2017-01-04     -16      -1     24\n",
       "2017-01-05      32      35     10\n",
       "2017-01-06      22      31     27"
      ]
     },
     "execution_count": 197,
     "metadata": {},
     "output_type": "execute_result"
    }
   ],
   "source": [
    "# this is the .ix index method think of it as refererring \n",
    "# to both row and columnn index\n",
    "df.ix[3:6, 'Madrid': 'Tokyo']"
   ]
  },
  {
   "cell_type": "code",
   "execution_count": 198,
   "metadata": {
    "collapsed": false
   },
   "outputs": [
    {
     "data": {
      "text/html": [
       "<div>\n",
       "<table border=\"1\" class=\"dataframe\">\n",
       "  <thead>\n",
       "    <tr style=\"text-align: right;\">\n",
       "      <th></th>\n",
       "      <th>Boston</th>\n",
       "      <th>Shanghai</th>\n",
       "    </tr>\n",
       "  </thead>\n",
       "  <tbody>\n",
       "    <tr>\n",
       "      <th>2017-01-04</th>\n",
       "      <td>-1</td>\n",
       "      <td>-6</td>\n",
       "    </tr>\n",
       "    <tr>\n",
       "      <th>2017-01-21</th>\n",
       "      <td>39</td>\n",
       "      <td>14</td>\n",
       "    </tr>\n",
       "    <tr>\n",
       "      <th>2017-02-19</th>\n",
       "      <td>-1</td>\n",
       "      <td>24</td>\n",
       "    </tr>\n",
       "  </tbody>\n",
       "</table>\n",
       "</div>"
      ],
      "text/plain": [
       "            Boston  Shanghai\n",
       "2017-01-04      -1        -6\n",
       "2017-01-21      39        14\n",
       "2017-02-19      -1        24"
      ]
     },
     "execution_count": 198,
     "metadata": {},
     "output_type": "execute_result"
    }
   ],
   "source": [
    "df.ix[[3,20,49],['Boston','Shanghai']]"
   ]
  },
  {
   "cell_type": "code",
   "execution_count": 199,
   "metadata": {
    "collapsed": false
   },
   "outputs": [
    {
     "data": {
      "text/html": [
       "<div>\n",
       "<table border=\"1\" class=\"dataframe\">\n",
       "  <thead>\n",
       "    <tr style=\"text-align: right;\">\n",
       "      <th></th>\n",
       "      <th>Madrid</th>\n",
       "      <th>Boston</th>\n",
       "      <th>Tokyo</th>\n",
       "      <th>Shanghai</th>\n",
       "      <th>Kolkata</th>\n",
       "    </tr>\n",
       "  </thead>\n",
       "  <tbody>\n",
       "    <tr>\n",
       "      <th>2017-01-04</th>\n",
       "      <td>-16</td>\n",
       "      <td>-1</td>\n",
       "      <td>24</td>\n",
       "      <td>-6</td>\n",
       "      <td>26</td>\n",
       "    </tr>\n",
       "    <tr>\n",
       "      <th>2017-01-10</th>\n",
       "      <td>-6</td>\n",
       "      <td>19</td>\n",
       "      <td>22</td>\n",
       "      <td>32</td>\n",
       "      <td>11</td>\n",
       "    </tr>\n",
       "    <tr>\n",
       "      <th>2017-01-12</th>\n",
       "      <td>32</td>\n",
       "      <td>35</td>\n",
       "      <td>21</td>\n",
       "      <td>36</td>\n",
       "      <td>-4</td>\n",
       "    </tr>\n",
       "    <tr>\n",
       "      <th>2017-01-14</th>\n",
       "      <td>19</td>\n",
       "      <td>4</td>\n",
       "      <td>-5</td>\n",
       "      <td>31</td>\n",
       "      <td>6</td>\n",
       "    </tr>\n",
       "  </tbody>\n",
       "</table>\n",
       "</div>"
      ],
      "text/plain": [
       "            Madrid  Boston  Tokyo  Shanghai  Kolkata\n",
       "2017-01-04     -16      -1     24        -6       26\n",
       "2017-01-10      -6      19     22        32       11\n",
       "2017-01-12      32      35     21        36       -4\n",
       "2017-01-14      19       4     -5        31        6"
      ]
     },
     "execution_count": 199,
     "metadata": {},
     "output_type": "execute_result"
    }
   ],
   "source": [
    "df.ix[[3,9,11,13], :]"
   ]
  },
  {
   "cell_type": "code",
   "execution_count": 200,
   "metadata": {
    "collapsed": false
   },
   "outputs": [
    {
     "data": {
      "text/html": [
       "<div>\n",
       "<table border=\"1\" class=\"dataframe\">\n",
       "  <thead>\n",
       "    <tr style=\"text-align: right;\">\n",
       "      <th></th>\n",
       "      <th>Madrid</th>\n",
       "      <th>Boston</th>\n",
       "      <th>Tokyo</th>\n",
       "    </tr>\n",
       "  </thead>\n",
       "  <tbody>\n",
       "    <tr>\n",
       "      <th>2017-01-02</th>\n",
       "      <td>-15</td>\n",
       "      <td>15</td>\n",
       "      <td>10</td>\n",
       "    </tr>\n",
       "    <tr>\n",
       "      <th>2017-01-03</th>\n",
       "      <td>26</td>\n",
       "      <td>38</td>\n",
       "      <td>34</td>\n",
       "    </tr>\n",
       "    <tr>\n",
       "      <th>2017-01-04</th>\n",
       "      <td>-16</td>\n",
       "      <td>-1</td>\n",
       "      <td>24</td>\n",
       "    </tr>\n",
       "    <tr>\n",
       "      <th>2017-01-05</th>\n",
       "      <td>32</td>\n",
       "      <td>35</td>\n",
       "      <td>10</td>\n",
       "    </tr>\n",
       "  </tbody>\n",
       "</table>\n",
       "</div>"
      ],
      "text/plain": [
       "            Madrid  Boston  Tokyo\n",
       "2017-01-02     -15      15     10\n",
       "2017-01-03      26      38     34\n",
       "2017-01-04     -16      -1     24\n",
       "2017-01-05      32      35     10"
      ]
     },
     "execution_count": 200,
     "metadata": {},
     "output_type": "execute_result"
    }
   ],
   "source": [
    "df.ix[1:5,'Madrid':'Tokyo']"
   ]
  },
  {
   "cell_type": "code",
   "execution_count": 201,
   "metadata": {
    "collapsed": true
   },
   "outputs": [],
   "source": [
    "m = pd.read_csv(\"/Users/viswanathravindran/DataFiles/mortality.csv\")"
   ]
  },
  {
   "cell_type": "code",
   "execution_count": 202,
   "metadata": {
    "collapsed": false
   },
   "outputs": [
    {
     "data": {
      "text/html": [
       "<div>\n",
       "<table border=\"1\" class=\"dataframe\">\n",
       "  <thead>\n",
       "    <tr style=\"text-align: right;\">\n",
       "      <th></th>\n",
       "      <th>Country Name</th>\n",
       "      <th>1960</th>\n",
       "      <th>1961</th>\n",
       "      <th>1962</th>\n",
       "      <th>1963</th>\n",
       "      <th>1964</th>\n",
       "      <th>1965</th>\n",
       "      <th>1966</th>\n",
       "      <th>1967</th>\n",
       "      <th>1968</th>\n",
       "      <th>...</th>\n",
       "      <th>2004</th>\n",
       "      <th>2005</th>\n",
       "      <th>2006</th>\n",
       "      <th>2007</th>\n",
       "      <th>2008</th>\n",
       "      <th>2009</th>\n",
       "      <th>2010</th>\n",
       "      <th>2011</th>\n",
       "      <th>2012</th>\n",
       "      <th>2013</th>\n",
       "    </tr>\n",
       "  </thead>\n",
       "  <tbody>\n",
       "    <tr>\n",
       "      <th>0</th>\n",
       "      <td>Aruba</td>\n",
       "      <td>NaN</td>\n",
       "      <td>NaN</td>\n",
       "      <td>NaN</td>\n",
       "      <td>NaN</td>\n",
       "      <td>NaN</td>\n",
       "      <td>NaN</td>\n",
       "      <td>NaN</td>\n",
       "      <td>NaN</td>\n",
       "      <td>NaN</td>\n",
       "      <td>...</td>\n",
       "      <td>NaN</td>\n",
       "      <td>NaN</td>\n",
       "      <td>NaN</td>\n",
       "      <td>NaN</td>\n",
       "      <td>NaN</td>\n",
       "      <td>NaN</td>\n",
       "      <td>NaN</td>\n",
       "      <td>NaN</td>\n",
       "      <td>NaN</td>\n",
       "      <td>NaN</td>\n",
       "    </tr>\n",
       "    <tr>\n",
       "      <th>1</th>\n",
       "      <td>Andorra</td>\n",
       "      <td>NaN</td>\n",
       "      <td>NaN</td>\n",
       "      <td>NaN</td>\n",
       "      <td>NaN</td>\n",
       "      <td>NaN</td>\n",
       "      <td>NaN</td>\n",
       "      <td>NaN</td>\n",
       "      <td>NaN</td>\n",
       "      <td>NaN</td>\n",
       "      <td>...</td>\n",
       "      <td>4.3</td>\n",
       "      <td>4.1</td>\n",
       "      <td>4.0</td>\n",
       "      <td>3.8</td>\n",
       "      <td>3.7</td>\n",
       "      <td>3.6</td>\n",
       "      <td>3.5</td>\n",
       "      <td>3.3</td>\n",
       "      <td>3.2</td>\n",
       "      <td>NaN</td>\n",
       "    </tr>\n",
       "    <tr>\n",
       "      <th>2</th>\n",
       "      <td>Afghanistan</td>\n",
       "      <td>NaN</td>\n",
       "      <td>352.5</td>\n",
       "      <td>346.9</td>\n",
       "      <td>341.8</td>\n",
       "      <td>336.8</td>\n",
       "      <td>331.6</td>\n",
       "      <td>326.2</td>\n",
       "      <td>321.2</td>\n",
       "      <td>316.2</td>\n",
       "      <td>...</td>\n",
       "      <td>121.0</td>\n",
       "      <td>117.7</td>\n",
       "      <td>114.5</td>\n",
       "      <td>111.5</td>\n",
       "      <td>108.8</td>\n",
       "      <td>106.2</td>\n",
       "      <td>103.7</td>\n",
       "      <td>101.2</td>\n",
       "      <td>98.5</td>\n",
       "      <td>NaN</td>\n",
       "    </tr>\n",
       "    <tr>\n",
       "      <th>3</th>\n",
       "      <td>Angola</td>\n",
       "      <td>NaN</td>\n",
       "      <td>NaN</td>\n",
       "      <td>NaN</td>\n",
       "      <td>NaN</td>\n",
       "      <td>NaN</td>\n",
       "      <td>NaN</td>\n",
       "      <td>NaN</td>\n",
       "      <td>NaN</td>\n",
       "      <td>NaN</td>\n",
       "      <td>...</td>\n",
       "      <td>196.4</td>\n",
       "      <td>194.2</td>\n",
       "      <td>191.1</td>\n",
       "      <td>187.1</td>\n",
       "      <td>182.6</td>\n",
       "      <td>177.9</td>\n",
       "      <td>173.1</td>\n",
       "      <td>168.5</td>\n",
       "      <td>163.5</td>\n",
       "      <td>NaN</td>\n",
       "    </tr>\n",
       "    <tr>\n",
       "      <th>4</th>\n",
       "      <td>Albania</td>\n",
       "      <td>NaN</td>\n",
       "      <td>NaN</td>\n",
       "      <td>NaN</td>\n",
       "      <td>NaN</td>\n",
       "      <td>NaN</td>\n",
       "      <td>NaN</td>\n",
       "      <td>NaN</td>\n",
       "      <td>NaN</td>\n",
       "      <td>NaN</td>\n",
       "      <td>...</td>\n",
       "      <td>23.3</td>\n",
       "      <td>22.2</td>\n",
       "      <td>21.2</td>\n",
       "      <td>20.3</td>\n",
       "      <td>19.5</td>\n",
       "      <td>18.8</td>\n",
       "      <td>18.1</td>\n",
       "      <td>17.4</td>\n",
       "      <td>16.7</td>\n",
       "      <td>NaN</td>\n",
       "    </tr>\n",
       "  </tbody>\n",
       "</table>\n",
       "<p>5 rows × 55 columns</p>\n",
       "</div>"
      ],
      "text/plain": [
       "  Country Name  1960   1961   1962   1963   1964   1965   1966   1967   1968  \\\n",
       "0        Aruba   NaN    NaN    NaN    NaN    NaN    NaN    NaN    NaN    NaN   \n",
       "1      Andorra   NaN    NaN    NaN    NaN    NaN    NaN    NaN    NaN    NaN   \n",
       "2  Afghanistan   NaN  352.5  346.9  341.8  336.8  331.6  326.2  321.2  316.2   \n",
       "3       Angola   NaN    NaN    NaN    NaN    NaN    NaN    NaN    NaN    NaN   \n",
       "4      Albania   NaN    NaN    NaN    NaN    NaN    NaN    NaN    NaN    NaN   \n",
       "\n",
       "   ...    2004   2005   2006   2007   2008   2009   2010   2011   2012  2013  \n",
       "0  ...     NaN    NaN    NaN    NaN    NaN    NaN    NaN    NaN    NaN   NaN  \n",
       "1  ...     4.3    4.1    4.0    3.8    3.7    3.6    3.5    3.3    3.2   NaN  \n",
       "2  ...   121.0  117.7  114.5  111.5  108.8  106.2  103.7  101.2   98.5   NaN  \n",
       "3  ...   196.4  194.2  191.1  187.1  182.6  177.9  173.1  168.5  163.5   NaN  \n",
       "4  ...    23.3   22.2   21.2   20.3   19.5   18.8   18.1   17.4   16.7   NaN  \n",
       "\n",
       "[5 rows x 55 columns]"
      ]
     },
     "execution_count": 202,
     "metadata": {},
     "output_type": "execute_result"
    }
   ],
   "source": [
    "m.head()"
   ]
  },
  {
   "cell_type": "code",
   "execution_count": 203,
   "metadata": {
    "collapsed": true
   },
   "outputs": [],
   "source": [
    "m = m.set_index('Country Name')"
   ]
  },
  {
   "cell_type": "code",
   "execution_count": 204,
   "metadata": {
    "collapsed": false
   },
   "outputs": [
    {
     "data": {
      "text/html": [
       "<div>\n",
       "<table border=\"1\" class=\"dataframe\">\n",
       "  <thead>\n",
       "    <tr style=\"text-align: right;\">\n",
       "      <th></th>\n",
       "      <th>1960</th>\n",
       "      <th>1961</th>\n",
       "      <th>1962</th>\n",
       "      <th>1963</th>\n",
       "      <th>1964</th>\n",
       "      <th>1965</th>\n",
       "      <th>1966</th>\n",
       "      <th>1967</th>\n",
       "      <th>1968</th>\n",
       "      <th>1969</th>\n",
       "      <th>...</th>\n",
       "      <th>2004</th>\n",
       "      <th>2005</th>\n",
       "      <th>2006</th>\n",
       "      <th>2007</th>\n",
       "      <th>2008</th>\n",
       "      <th>2009</th>\n",
       "      <th>2010</th>\n",
       "      <th>2011</th>\n",
       "      <th>2012</th>\n",
       "      <th>2013</th>\n",
       "    </tr>\n",
       "    <tr>\n",
       "      <th>Country Name</th>\n",
       "      <th></th>\n",
       "      <th></th>\n",
       "      <th></th>\n",
       "      <th></th>\n",
       "      <th></th>\n",
       "      <th></th>\n",
       "      <th></th>\n",
       "      <th></th>\n",
       "      <th></th>\n",
       "      <th></th>\n",
       "      <th></th>\n",
       "      <th></th>\n",
       "      <th></th>\n",
       "      <th></th>\n",
       "      <th></th>\n",
       "      <th></th>\n",
       "      <th></th>\n",
       "      <th></th>\n",
       "      <th></th>\n",
       "      <th></th>\n",
       "      <th></th>\n",
       "    </tr>\n",
       "  </thead>\n",
       "  <tbody>\n",
       "    <tr>\n",
       "      <th>Aruba</th>\n",
       "      <td>NaN</td>\n",
       "      <td>NaN</td>\n",
       "      <td>NaN</td>\n",
       "      <td>NaN</td>\n",
       "      <td>NaN</td>\n",
       "      <td>NaN</td>\n",
       "      <td>NaN</td>\n",
       "      <td>NaN</td>\n",
       "      <td>NaN</td>\n",
       "      <td>NaN</td>\n",
       "      <td>...</td>\n",
       "      <td>NaN</td>\n",
       "      <td>NaN</td>\n",
       "      <td>NaN</td>\n",
       "      <td>NaN</td>\n",
       "      <td>NaN</td>\n",
       "      <td>NaN</td>\n",
       "      <td>NaN</td>\n",
       "      <td>NaN</td>\n",
       "      <td>NaN</td>\n",
       "      <td>NaN</td>\n",
       "    </tr>\n",
       "    <tr>\n",
       "      <th>Andorra</th>\n",
       "      <td>NaN</td>\n",
       "      <td>NaN</td>\n",
       "      <td>NaN</td>\n",
       "      <td>NaN</td>\n",
       "      <td>NaN</td>\n",
       "      <td>NaN</td>\n",
       "      <td>NaN</td>\n",
       "      <td>NaN</td>\n",
       "      <td>NaN</td>\n",
       "      <td>NaN</td>\n",
       "      <td>...</td>\n",
       "      <td>4.3</td>\n",
       "      <td>4.1</td>\n",
       "      <td>4.0</td>\n",
       "      <td>3.8</td>\n",
       "      <td>3.7</td>\n",
       "      <td>3.6</td>\n",
       "      <td>3.5</td>\n",
       "      <td>3.3</td>\n",
       "      <td>3.2</td>\n",
       "      <td>NaN</td>\n",
       "    </tr>\n",
       "    <tr>\n",
       "      <th>Afghanistan</th>\n",
       "      <td>NaN</td>\n",
       "      <td>352.5</td>\n",
       "      <td>346.9</td>\n",
       "      <td>341.8</td>\n",
       "      <td>336.8</td>\n",
       "      <td>331.6</td>\n",
       "      <td>326.2</td>\n",
       "      <td>321.2</td>\n",
       "      <td>316.2</td>\n",
       "      <td>311.4</td>\n",
       "      <td>...</td>\n",
       "      <td>121.0</td>\n",
       "      <td>117.7</td>\n",
       "      <td>114.5</td>\n",
       "      <td>111.5</td>\n",
       "      <td>108.8</td>\n",
       "      <td>106.2</td>\n",
       "      <td>103.7</td>\n",
       "      <td>101.2</td>\n",
       "      <td>98.5</td>\n",
       "      <td>NaN</td>\n",
       "    </tr>\n",
       "    <tr>\n",
       "      <th>Angola</th>\n",
       "      <td>NaN</td>\n",
       "      <td>NaN</td>\n",
       "      <td>NaN</td>\n",
       "      <td>NaN</td>\n",
       "      <td>NaN</td>\n",
       "      <td>NaN</td>\n",
       "      <td>NaN</td>\n",
       "      <td>NaN</td>\n",
       "      <td>NaN</td>\n",
       "      <td>NaN</td>\n",
       "      <td>...</td>\n",
       "      <td>196.4</td>\n",
       "      <td>194.2</td>\n",
       "      <td>191.1</td>\n",
       "      <td>187.1</td>\n",
       "      <td>182.6</td>\n",
       "      <td>177.9</td>\n",
       "      <td>173.1</td>\n",
       "      <td>168.5</td>\n",
       "      <td>163.5</td>\n",
       "      <td>NaN</td>\n",
       "    </tr>\n",
       "    <tr>\n",
       "      <th>Albania</th>\n",
       "      <td>NaN</td>\n",
       "      <td>NaN</td>\n",
       "      <td>NaN</td>\n",
       "      <td>NaN</td>\n",
       "      <td>NaN</td>\n",
       "      <td>NaN</td>\n",
       "      <td>NaN</td>\n",
       "      <td>NaN</td>\n",
       "      <td>NaN</td>\n",
       "      <td>NaN</td>\n",
       "      <td>...</td>\n",
       "      <td>23.3</td>\n",
       "      <td>22.2</td>\n",
       "      <td>21.2</td>\n",
       "      <td>20.3</td>\n",
       "      <td>19.5</td>\n",
       "      <td>18.8</td>\n",
       "      <td>18.1</td>\n",
       "      <td>17.4</td>\n",
       "      <td>16.7</td>\n",
       "      <td>NaN</td>\n",
       "    </tr>\n",
       "  </tbody>\n",
       "</table>\n",
       "<p>5 rows × 54 columns</p>\n",
       "</div>"
      ],
      "text/plain": [
       "              1960   1961   1962   1963   1964   1965   1966   1967   1968  \\\n",
       "Country Name                                                                 \n",
       "Aruba          NaN    NaN    NaN    NaN    NaN    NaN    NaN    NaN    NaN   \n",
       "Andorra        NaN    NaN    NaN    NaN    NaN    NaN    NaN    NaN    NaN   \n",
       "Afghanistan    NaN  352.5  346.9  341.8  336.8  331.6  326.2  321.2  316.2   \n",
       "Angola         NaN    NaN    NaN    NaN    NaN    NaN    NaN    NaN    NaN   \n",
       "Albania        NaN    NaN    NaN    NaN    NaN    NaN    NaN    NaN    NaN   \n",
       "\n",
       "               1969  ...    2004   2005   2006   2007   2008   2009   2010  \\\n",
       "Country Name         ...                                                     \n",
       "Aruba           NaN  ...     NaN    NaN    NaN    NaN    NaN    NaN    NaN   \n",
       "Andorra         NaN  ...     4.3    4.1    4.0    3.8    3.7    3.6    3.5   \n",
       "Afghanistan   311.4  ...   121.0  117.7  114.5  111.5  108.8  106.2  103.7   \n",
       "Angola          NaN  ...   196.4  194.2  191.1  187.1  182.6  177.9  173.1   \n",
       "Albania         NaN  ...    23.3   22.2   21.2   20.3   19.5   18.8   18.1   \n",
       "\n",
       "               2011   2012  2013  \n",
       "Country Name                      \n",
       "Aruba           NaN    NaN   NaN  \n",
       "Andorra         3.3    3.2   NaN  \n",
       "Afghanistan   101.2   98.5   NaN  \n",
       "Angola        168.5  163.5   NaN  \n",
       "Albania        17.4   16.7   NaN  \n",
       "\n",
       "[5 rows x 54 columns]"
      ]
     },
     "execution_count": 204,
     "metadata": {},
     "output_type": "execute_result"
    }
   ],
   "source": [
    "m.head()"
   ]
  },
  {
   "cell_type": "code",
   "execution_count": 205,
   "metadata": {
    "collapsed": true
   },
   "outputs": [],
   "source": [
    "# T is the transpose method which switch rows and columns\n",
    "t = m.T"
   ]
  },
  {
   "cell_type": "code",
   "execution_count": 206,
   "metadata": {
    "collapsed": false
   },
   "outputs": [
    {
     "data": {
      "text/html": [
       "<div>\n",
       "<table border=\"1\" class=\"dataframe\">\n",
       "  <thead>\n",
       "    <tr style=\"text-align: right;\">\n",
       "      <th>Country Name</th>\n",
       "      <th>Aruba</th>\n",
       "      <th>Andorra</th>\n",
       "      <th>Afghanistan</th>\n",
       "      <th>Angola</th>\n",
       "      <th>Albania</th>\n",
       "      <th>United Arab Emirates</th>\n",
       "      <th>Argentina</th>\n",
       "      <th>Armenia</th>\n",
       "      <th>American Samoa</th>\n",
       "      <th>Antigua and Barbuda</th>\n",
       "      <th>...</th>\n",
       "      <th>Virgin Islands (U.S.)</th>\n",
       "      <th>Vietnam</th>\n",
       "      <th>Vanuatu</th>\n",
       "      <th>West Bank and Gaza</th>\n",
       "      <th>Samoa</th>\n",
       "      <th>Yemen, Rep.</th>\n",
       "      <th>South Africa</th>\n",
       "      <th>Congo, Dem. Rep.</th>\n",
       "      <th>Zambia</th>\n",
       "      <th>Zimbabwe</th>\n",
       "    </tr>\n",
       "  </thead>\n",
       "  <tbody>\n",
       "    <tr>\n",
       "      <th>1960</th>\n",
       "      <td>NaN</td>\n",
       "      <td>NaN</td>\n",
       "      <td>NaN</td>\n",
       "      <td>NaN</td>\n",
       "      <td>NaN</td>\n",
       "      <td>206.7</td>\n",
       "      <td>NaN</td>\n",
       "      <td>NaN</td>\n",
       "      <td>NaN</td>\n",
       "      <td>NaN</td>\n",
       "      <td>...</td>\n",
       "      <td>NaN</td>\n",
       "      <td>119.8</td>\n",
       "      <td>152.4</td>\n",
       "      <td>NaN</td>\n",
       "      <td>NaN</td>\n",
       "      <td>NaN</td>\n",
       "      <td>NaN</td>\n",
       "      <td>NaN</td>\n",
       "      <td>205.8</td>\n",
       "      <td>148.8</td>\n",
       "    </tr>\n",
       "    <tr>\n",
       "      <th>1961</th>\n",
       "      <td>NaN</td>\n",
       "      <td>NaN</td>\n",
       "      <td>352.5</td>\n",
       "      <td>NaN</td>\n",
       "      <td>NaN</td>\n",
       "      <td>195.6</td>\n",
       "      <td>NaN</td>\n",
       "      <td>NaN</td>\n",
       "      <td>NaN</td>\n",
       "      <td>NaN</td>\n",
       "      <td>...</td>\n",
       "      <td>NaN</td>\n",
       "      <td>114.5</td>\n",
       "      <td>148.0</td>\n",
       "      <td>NaN</td>\n",
       "      <td>NaN</td>\n",
       "      <td>395.7</td>\n",
       "      <td>NaN</td>\n",
       "      <td>NaN</td>\n",
       "      <td>202.0</td>\n",
       "      <td>144.3</td>\n",
       "    </tr>\n",
       "    <tr>\n",
       "      <th>1962</th>\n",
       "      <td>NaN</td>\n",
       "      <td>NaN</td>\n",
       "      <td>346.9</td>\n",
       "      <td>NaN</td>\n",
       "      <td>NaN</td>\n",
       "      <td>184.7</td>\n",
       "      <td>NaN</td>\n",
       "      <td>NaN</td>\n",
       "      <td>NaN</td>\n",
       "      <td>NaN</td>\n",
       "      <td>...</td>\n",
       "      <td>NaN</td>\n",
       "      <td>109.7</td>\n",
       "      <td>143.9</td>\n",
       "      <td>NaN</td>\n",
       "      <td>NaN</td>\n",
       "      <td>388.3</td>\n",
       "      <td>NaN</td>\n",
       "      <td>NaN</td>\n",
       "      <td>198.3</td>\n",
       "      <td>139.5</td>\n",
       "    </tr>\n",
       "    <tr>\n",
       "      <th>1963</th>\n",
       "      <td>NaN</td>\n",
       "      <td>NaN</td>\n",
       "      <td>341.8</td>\n",
       "      <td>NaN</td>\n",
       "      <td>NaN</td>\n",
       "      <td>173.9</td>\n",
       "      <td>NaN</td>\n",
       "      <td>NaN</td>\n",
       "      <td>NaN</td>\n",
       "      <td>NaN</td>\n",
       "      <td>...</td>\n",
       "      <td>NaN</td>\n",
       "      <td>105.0</td>\n",
       "      <td>139.3</td>\n",
       "      <td>NaN</td>\n",
       "      <td>NaN</td>\n",
       "      <td>382.1</td>\n",
       "      <td>NaN</td>\n",
       "      <td>NaN</td>\n",
       "      <td>195.1</td>\n",
       "      <td>134.9</td>\n",
       "    </tr>\n",
       "    <tr>\n",
       "      <th>1964</th>\n",
       "      <td>NaN</td>\n",
       "      <td>NaN</td>\n",
       "      <td>336.8</td>\n",
       "      <td>NaN</td>\n",
       "      <td>NaN</td>\n",
       "      <td>163.1</td>\n",
       "      <td>NaN</td>\n",
       "      <td>NaN</td>\n",
       "      <td>NaN</td>\n",
       "      <td>NaN</td>\n",
       "      <td>...</td>\n",
       "      <td>NaN</td>\n",
       "      <td>100.9</td>\n",
       "      <td>134.8</td>\n",
       "      <td>NaN</td>\n",
       "      <td>NaN</td>\n",
       "      <td>375.5</td>\n",
       "      <td>NaN</td>\n",
       "      <td>NaN</td>\n",
       "      <td>192.4</td>\n",
       "      <td>130.2</td>\n",
       "    </tr>\n",
       "  </tbody>\n",
       "</table>\n",
       "<p>5 rows × 224 columns</p>\n",
       "</div>"
      ],
      "text/plain": [
       "Country Name  Aruba  Andorra  Afghanistan  Angola  Albania  \\\n",
       "1960            NaN      NaN          NaN     NaN      NaN   \n",
       "1961            NaN      NaN        352.5     NaN      NaN   \n",
       "1962            NaN      NaN        346.9     NaN      NaN   \n",
       "1963            NaN      NaN        341.8     NaN      NaN   \n",
       "1964            NaN      NaN        336.8     NaN      NaN   \n",
       "\n",
       "Country Name  United Arab Emirates  Argentina  Armenia  American Samoa  \\\n",
       "1960                         206.7        NaN      NaN             NaN   \n",
       "1961                         195.6        NaN      NaN             NaN   \n",
       "1962                         184.7        NaN      NaN             NaN   \n",
       "1963                         173.9        NaN      NaN             NaN   \n",
       "1964                         163.1        NaN      NaN             NaN   \n",
       "\n",
       "Country Name  Antigua and Barbuda    ...     Virgin Islands (U.S.)  Vietnam  \\\n",
       "1960                          NaN    ...                       NaN    119.8   \n",
       "1961                          NaN    ...                       NaN    114.5   \n",
       "1962                          NaN    ...                       NaN    109.7   \n",
       "1963                          NaN    ...                       NaN    105.0   \n",
       "1964                          NaN    ...                       NaN    100.9   \n",
       "\n",
       "Country Name  Vanuatu  West Bank and Gaza  Samoa  Yemen, Rep.  South Africa  \\\n",
       "1960            152.4                 NaN    NaN          NaN           NaN   \n",
       "1961            148.0                 NaN    NaN        395.7           NaN   \n",
       "1962            143.9                 NaN    NaN        388.3           NaN   \n",
       "1963            139.3                 NaN    NaN        382.1           NaN   \n",
       "1964            134.8                 NaN    NaN        375.5           NaN   \n",
       "\n",
       "Country Name  Congo, Dem. Rep.  Zambia  Zimbabwe  \n",
       "1960                       NaN   205.8     148.8  \n",
       "1961                       NaN   202.0     144.3  \n",
       "1962                       NaN   198.3     139.5  \n",
       "1963                       NaN   195.1     134.9  \n",
       "1964                       NaN   192.4     130.2  \n",
       "\n",
       "[5 rows x 224 columns]"
      ]
     },
     "execution_count": 206,
     "metadata": {},
     "output_type": "execute_result"
    }
   ],
   "source": [
    "t.head()"
   ]
  },
  {
   "cell_type": "code",
   "execution_count": 208,
   "metadata": {
    "collapsed": true
   },
   "outputs": [],
   "source": [
    "compare = t [['Bangladesh','India','Rwanda','Uganda']]"
   ]
  },
  {
   "cell_type": "code",
   "execution_count": 209,
   "metadata": {
    "collapsed": false
   },
   "outputs": [
    {
     "data": {
      "image/png": "[encoded data removed]",
      "text/plain": [
       "<matplotlib.figure.Figure at 0x113f96690>"
      ]
     },
     "metadata": {},
     "output_type": "display_data"
    }
   ],
   "source": [
    "compare.plot()\n",
    "plt.show()"
   ]
  },
  {
   "cell_type": "code",
   "execution_count": 212,
   "metadata": {
    "collapsed": false
   },
   "outputs": [],
   "source": [
    "compare1 = t[['India', 'United Kingdom', 'United States', 'China']]"
   ]
  },
  {
   "cell_type": "code",
   "execution_count": 213,
   "metadata": {
    "collapsed": false
   },
   "outputs": [
    {
     "data": {
      "text/plain": [
       "<matplotlib.axes._subplots.AxesSubplot at 0x11cb56650>"
      ]
     },
     "execution_count": 213,
     "metadata": {},
     "output_type": "execute_result"
    },
    {
     "data": {
      "image/png": "[encoded data removed]",
      "text/plain": [
       "<matplotlib.figure.Figure at 0x118712090>"
      ]
     },
     "metadata": {},
     "output_type": "display_data"
    }
   ],
   "source": [
    "compare1.plot()"
   ]
  },
  {
   "cell_type": "code",
   "execution_count": 215,
   "metadata": {
    "collapsed": true
   },
   "outputs": [],
   "source": [
    "# sets the options to display max rows of 10 rows \n",
    "pd.set_option('display.max_rows',10)"
   ]
  },
  {
   "cell_type": "code",
   "execution_count": 216,
   "metadata": {
    "collapsed": false
   },
   "outputs": [
    {
     "name": "stdout",
     "output_type": "stream",
     "text": [
      "Populating the interactive namespace from numpy and matplotlib\n"
     ]
    }
   ],
   "source": [
    "%pylab inline"
   ]
  },
  {
   "cell_type": "code",
   "execution_count": 217,
   "metadata": {
    "collapsed": true
   },
   "outputs": [],
   "source": [
    "auto = pd.read_csv(\"/Users/viswanathravindran/DataFiles/auto.csv\")"
   ]
  },
  {
   "cell_type": "code",
   "execution_count": 218,
   "metadata": {
    "collapsed": false
   },
   "outputs": [
    {
     "data": {
      "text/html": [
       "<div>\n",
       "<table border=\"1\" class=\"dataframe\">\n",
       "  <thead>\n",
       "    <tr style=\"text-align: right;\">\n",
       "      <th></th>\n",
       "      <th>make</th>\n",
       "      <th>price</th>\n",
       "      <th>mpg</th>\n",
       "      <th>repairs</th>\n",
       "      <th>weight</th>\n",
       "      <th>length</th>\n",
       "      <th>foreign</th>\n",
       "    </tr>\n",
       "  </thead>\n",
       "  <tbody>\n",
       "    <tr>\n",
       "      <th>0</th>\n",
       "      <td>AMC</td>\n",
       "      <td>4099</td>\n",
       "      <td>22</td>\n",
       "      <td>3</td>\n",
       "      <td>2930</td>\n",
       "      <td>186</td>\n",
       "      <td>0</td>\n",
       "    </tr>\n",
       "    <tr>\n",
       "      <th>1</th>\n",
       "      <td>AMC</td>\n",
       "      <td>4749</td>\n",
       "      <td>17</td>\n",
       "      <td>3</td>\n",
       "      <td>3350</td>\n",
       "      <td>173</td>\n",
       "      <td>0</td>\n",
       "    </tr>\n",
       "    <tr>\n",
       "      <th>2</th>\n",
       "      <td>AMC</td>\n",
       "      <td>3799</td>\n",
       "      <td>22</td>\n",
       "      <td>3</td>\n",
       "      <td>2640</td>\n",
       "      <td>168</td>\n",
       "      <td>0</td>\n",
       "    </tr>\n",
       "    <tr>\n",
       "      <th>3</th>\n",
       "      <td>Audi</td>\n",
       "      <td>9690</td>\n",
       "      <td>17</td>\n",
       "      <td>5</td>\n",
       "      <td>2830</td>\n",
       "      <td>189</td>\n",
       "      <td>1</td>\n",
       "    </tr>\n",
       "    <tr>\n",
       "      <th>4</th>\n",
       "      <td>Audi</td>\n",
       "      <td>6295</td>\n",
       "      <td>23</td>\n",
       "      <td>3</td>\n",
       "      <td>2070</td>\n",
       "      <td>174</td>\n",
       "      <td>1</td>\n",
       "    </tr>\n",
       "  </tbody>\n",
       "</table>\n",
       "</div>"
      ],
      "text/plain": [
       "   make  price  mpg  repairs  weight  length  foreign\n",
       "0   AMC   4099   22        3    2930     186        0\n",
       "1   AMC   4749   17        3    3350     173        0\n",
       "2   AMC   3799   22        3    2640     168        0\n",
       "3  Audi   9690   17        5    2830     189        1\n",
       "4  Audi   6295   23        3    2070     174        1"
      ]
     },
     "execution_count": 218,
     "metadata": {},
     "output_type": "execute_result"
    }
   ],
   "source": [
    "auto.head()"
   ]
  },
  {
   "cell_type": "code",
   "execution_count": 220,
   "metadata": {
    "collapsed": false
   },
   "outputs": [
    {
     "data": {
      "text/plain": [
       "make       26\n",
       "price      26\n",
       "mpg        26\n",
       "repairs    26\n",
       "weight     26\n",
       "length     26\n",
       "foreign    26\n",
       "dtype: int64"
      ]
     },
     "execution_count": 220,
     "metadata": {},
     "output_type": "execute_result"
    }
   ],
   "source": [
    "# Indicates a small datset with just 26 rows\n",
    "auto.count()"
   ]
  },
  {
   "cell_type": "code",
   "execution_count": 221,
   "metadata": {
    "collapsed": false
   },
   "outputs": [
    {
     "data": {
      "text/plain": [
       "3    15\n",
       "4     6\n",
       "2     3\n",
       "5     2\n",
       "Name: repairs, dtype: int64"
      ]
     },
     "execution_count": 221,
     "metadata": {},
     "output_type": "execute_result"
    }
   ],
   "source": [
    "# Understand the count of repairs \n",
    "auto.repairs.value_counts()"
   ]
  },
  {
   "cell_type": "code",
   "execution_count": 222,
   "metadata": {
    "collapsed": false
   },
   "outputs": [],
   "source": [
    "# create a filter to pick all cars with manafactured foreign ==1\n",
    "# and the number of repairs should be less than 4\n",
    "mask = ((auto.foreign==1) & (auto.repairs < 4))"
   ]
  },
  {
   "cell_type": "code",
   "execution_count": 223,
   "metadata": {
    "collapsed": false
   },
   "outputs": [
    {
     "data": {
      "text/plain": [
       "pandas.core.series.Series"
      ]
     },
     "execution_count": 223,
     "metadata": {},
     "output_type": "execute_result"
    }
   ],
   "source": [
    "# the variable returned should be a Pandas Series object\n",
    "type(mask)"
   ]
  },
  {
   "cell_type": "code",
   "execution_count": 224,
   "metadata": {
    "collapsed": false
   },
   "outputs": [
    {
     "data": {
      "text/plain": [
       "0     False\n",
       "1     False\n",
       "2     False\n",
       "3     False\n",
       "4      True\n",
       "      ...  \n",
       "21    False\n",
       "22    False\n",
       "23    False\n",
       "24    False\n",
       "25    False\n",
       "dtype: bool"
      ]
     },
     "execution_count": 224,
     "metadata": {},
     "output_type": "execute_result"
    }
   ],
   "source": [
    "mask"
   ]
  },
  {
   "cell_type": "code",
   "execution_count": 226,
   "metadata": {
    "collapsed": false
   },
   "outputs": [
    {
     "data": {
      "text/html": [
       "<div>\n",
       "<table border=\"1\" class=\"dataframe\">\n",
       "  <thead>\n",
       "    <tr style=\"text-align: right;\">\n",
       "      <th></th>\n",
       "      <th>make</th>\n",
       "      <th>price</th>\n",
       "      <th>mpg</th>\n",
       "      <th>repairs</th>\n",
       "      <th>weight</th>\n",
       "      <th>length</th>\n",
       "      <th>foreign</th>\n",
       "    </tr>\n",
       "  </thead>\n",
       "  <tbody>\n",
       "    <tr>\n",
       "      <th>4</th>\n",
       "      <td>Audi</td>\n",
       "      <td>6295</td>\n",
       "      <td>23</td>\n",
       "      <td>3</td>\n",
       "      <td>2070</td>\n",
       "      <td>174</td>\n",
       "      <td>1</td>\n",
       "    </tr>\n",
       "  </tbody>\n",
       "</table>\n",
       "</div>"
      ],
      "text/plain": [
       "   make  price  mpg  repairs  weight  length  foreign\n",
       "4  Audi   6295   23        3    2070     174        1"
      ]
     },
     "execution_count": 226,
     "metadata": {},
     "output_type": "execute_result"
    }
   ],
   "source": [
    "# Applies the mask filter to the auto dataset\n",
    "auto[mask]"
   ]
  },
  {
   "cell_type": "code",
   "execution_count": 227,
   "metadata": {
    "collapsed": true
   },
   "outputs": [],
   "source": [
    "foreign_lesrepair = auto[mask]"
   ]
  },
  {
   "cell_type": "code",
   "execution_count": 228,
   "metadata": {
    "collapsed": false
   },
   "outputs": [
    {
     "data": {
      "text/html": [
       "<div>\n",
       "<table border=\"1\" class=\"dataframe\">\n",
       "  <thead>\n",
       "    <tr style=\"text-align: right;\">\n",
       "      <th></th>\n",
       "      <th>make</th>\n",
       "      <th>price</th>\n",
       "      <th>mpg</th>\n",
       "      <th>repairs</th>\n",
       "      <th>weight</th>\n",
       "      <th>length</th>\n",
       "      <th>foreign</th>\n",
       "    </tr>\n",
       "  </thead>\n",
       "  <tbody>\n",
       "    <tr>\n",
       "      <th>4</th>\n",
       "      <td>Audi</td>\n",
       "      <td>6295</td>\n",
       "      <td>23</td>\n",
       "      <td>3</td>\n",
       "      <td>2070</td>\n",
       "      <td>174</td>\n",
       "      <td>1</td>\n",
       "    </tr>\n",
       "  </tbody>\n",
       "</table>\n",
       "</div>"
      ],
      "text/plain": [
       "   make  price  mpg  repairs  weight  length  foreign\n",
       "4  Audi   6295   23        3    2070     174        1"
      ]
     },
     "execution_count": 228,
     "metadata": {},
     "output_type": "execute_result"
    }
   ],
   "source": [
    "foreign_lesrepair"
   ]
  },
  {
   "cell_type": "code",
   "execution_count": 229,
   "metadata": {
    "collapsed": true
   },
   "outputs": [],
   "source": [
    "mask1 = (auto.foreign==1)"
   ]
  },
  {
   "cell_type": "code",
   "execution_count": 230,
   "metadata": {
    "collapsed": true
   },
   "outputs": [],
   "source": [
    "foreign = auto[mask1]"
   ]
  },
  {
   "cell_type": "code",
   "execution_count": 231,
   "metadata": {
    "collapsed": false
   },
   "outputs": [
    {
     "data": {
      "text/html": [
       "<div>\n",
       "<table border=\"1\" class=\"dataframe\">\n",
       "  <thead>\n",
       "    <tr style=\"text-align: right;\">\n",
       "      <th></th>\n",
       "      <th>make</th>\n",
       "      <th>price</th>\n",
       "      <th>mpg</th>\n",
       "      <th>repairs</th>\n",
       "      <th>weight</th>\n",
       "      <th>length</th>\n",
       "      <th>foreign</th>\n",
       "    </tr>\n",
       "  </thead>\n",
       "  <tbody>\n",
       "    <tr>\n",
       "      <th>3</th>\n",
       "      <td>Audi</td>\n",
       "      <td>9690</td>\n",
       "      <td>17</td>\n",
       "      <td>5</td>\n",
       "      <td>2830</td>\n",
       "      <td>189</td>\n",
       "      <td>1</td>\n",
       "    </tr>\n",
       "    <tr>\n",
       "      <th>4</th>\n",
       "      <td>Audi</td>\n",
       "      <td>6295</td>\n",
       "      <td>23</td>\n",
       "      <td>3</td>\n",
       "      <td>2070</td>\n",
       "      <td>174</td>\n",
       "      <td>1</td>\n",
       "    </tr>\n",
       "  </tbody>\n",
       "</table>\n",
       "</div>"
      ],
      "text/plain": [
       "   make  price  mpg  repairs  weight  length  foreign\n",
       "3  Audi   9690   17        5    2830     189        1\n",
       "4  Audi   6295   23        3    2070     174        1"
      ]
     },
     "execution_count": 231,
     "metadata": {},
     "output_type": "execute_result"
    }
   ],
   "source": [
    "foreign.head(2)"
   ]
  },
  {
   "cell_type": "code",
   "execution_count": 232,
   "metadata": {
    "collapsed": true
   },
   "outputs": [],
   "source": [
    "# create the inverse of foreign uisng the invert option\n",
    "domestic = auto[np.invert(mask1)]"
   ]
  },
  {
   "cell_type": "code",
   "execution_count": 234,
   "metadata": {
    "collapsed": false
   },
   "outputs": [
    {
     "data": {
      "text/html": [
       "<div>\n",
       "<table border=\"1\" class=\"dataframe\">\n",
       "  <thead>\n",
       "    <tr style=\"text-align: right;\">\n",
       "      <th></th>\n",
       "      <th>make</th>\n",
       "      <th>price</th>\n",
       "      <th>mpg</th>\n",
       "      <th>repairs</th>\n",
       "      <th>weight</th>\n",
       "      <th>length</th>\n",
       "      <th>foreign</th>\n",
       "    </tr>\n",
       "  </thead>\n",
       "  <tbody>\n",
       "    <tr>\n",
       "      <th>0</th>\n",
       "      <td>AMC</td>\n",
       "      <td>4099</td>\n",
       "      <td>22</td>\n",
       "      <td>3</td>\n",
       "      <td>2930</td>\n",
       "      <td>186</td>\n",
       "      <td>0</td>\n",
       "    </tr>\n",
       "    <tr>\n",
       "      <th>1</th>\n",
       "      <td>AMC</td>\n",
       "      <td>4749</td>\n",
       "      <td>17</td>\n",
       "      <td>3</td>\n",
       "      <td>3350</td>\n",
       "      <td>173</td>\n",
       "      <td>0</td>\n",
       "    </tr>\n",
       "  </tbody>\n",
       "</table>\n",
       "</div>"
      ],
      "text/plain": [
       "  make  price  mpg  repairs  weight  length  foreign\n",
       "0  AMC   4099   22        3    2930     186        0\n",
       "1  AMC   4749   17        3    3350     173        0"
      ]
     },
     "execution_count": 234,
     "metadata": {},
     "output_type": "execute_result"
    }
   ],
   "source": [
    "domestic.head(2)"
   ]
  },
  {
   "cell_type": "code",
   "execution_count": 235,
   "metadata": {
    "collapsed": false
   },
   "outputs": [
    {
     "data": {
      "text/html": [
       "<div>\n",
       "<table border=\"1\" class=\"dataframe\">\n",
       "  <thead>\n",
       "    <tr style=\"text-align: right;\">\n",
       "      <th></th>\n",
       "      <th>make</th>\n",
       "      <th>price</th>\n",
       "      <th>mpg</th>\n",
       "      <th>repairs</th>\n",
       "      <th>weight</th>\n",
       "      <th>length</th>\n",
       "      <th>foreign</th>\n",
       "    </tr>\n",
       "  </thead>\n",
       "  <tbody>\n",
       "    <tr>\n",
       "      <th>0</th>\n",
       "      <td>AMC</td>\n",
       "      <td>4099</td>\n",
       "      <td>22</td>\n",
       "      <td>3</td>\n",
       "      <td>2930</td>\n",
       "      <td>186</td>\n",
       "      <td>0</td>\n",
       "    </tr>\n",
       "    <tr>\n",
       "      <th>2</th>\n",
       "      <td>AMC</td>\n",
       "      <td>3799</td>\n",
       "      <td>22</td>\n",
       "      <td>3</td>\n",
       "      <td>2640</td>\n",
       "      <td>168</td>\n",
       "      <td>0</td>\n",
       "    </tr>\n",
       "    <tr>\n",
       "      <th>9</th>\n",
       "      <td>Buick</td>\n",
       "      <td>4453</td>\n",
       "      <td>26</td>\n",
       "      <td>3</td>\n",
       "      <td>2230</td>\n",
       "      <td>170</td>\n",
       "      <td>0</td>\n",
       "    </tr>\n",
       "    <tr>\n",
       "      <th>16</th>\n",
       "      <td>Chevrolet</td>\n",
       "      <td>3299</td>\n",
       "      <td>29</td>\n",
       "      <td>3</td>\n",
       "      <td>2110</td>\n",
       "      <td>163</td>\n",
       "      <td>0</td>\n",
       "    </tr>\n",
       "    <tr>\n",
       "      <th>18</th>\n",
       "      <td>Chevrolet</td>\n",
       "      <td>4504</td>\n",
       "      <td>22</td>\n",
       "      <td>3</td>\n",
       "      <td>3180</td>\n",
       "      <td>193</td>\n",
       "      <td>0</td>\n",
       "    </tr>\n",
       "    <tr>\n",
       "      <th>20</th>\n",
       "      <td>Chevrolet</td>\n",
       "      <td>3667</td>\n",
       "      <td>24</td>\n",
       "      <td>2</td>\n",
       "      <td>2750</td>\n",
       "      <td>179</td>\n",
       "      <td>0</td>\n",
       "    </tr>\n",
       "    <tr>\n",
       "      <th>23</th>\n",
       "      <td>Datsun</td>\n",
       "      <td>4589</td>\n",
       "      <td>35</td>\n",
       "      <td>5</td>\n",
       "      <td>2020</td>\n",
       "      <td>165</td>\n",
       "      <td>1</td>\n",
       "    </tr>\n",
       "  </tbody>\n",
       "</table>\n",
       "</div>"
      ],
      "text/plain": [
       "         make  price  mpg  repairs  weight  length  foreign\n",
       "0         AMC   4099   22        3    2930     186        0\n",
       "2         AMC   3799   22        3    2640     168        0\n",
       "9       Buick   4453   26        3    2230     170        0\n",
       "16  Chevrolet   3299   29        3    2110     163        0\n",
       "18  Chevrolet   4504   22        3    3180     193        0\n",
       "20  Chevrolet   3667   24        2    2750     179        0\n",
       "23     Datsun   4589   35        5    2020     165        1"
      ]
     },
     "execution_count": 235,
     "metadata": {},
     "output_type": "execute_result"
    }
   ],
   "source": [
    "auto[((auto.mpg>20) & (auto.price<5000))]"
   ]
  },
  {
   "cell_type": "code",
   "execution_count": 236,
   "metadata": {
    "collapsed": true
   },
   "outputs": [],
   "source": [
    "crime = pd.read_csv(\"/Users/viswanathravindran/DataFiles/crime.csv\")"
   ]
  },
  {
   "cell_type": "code",
   "execution_count": 237,
   "metadata": {
    "collapsed": false
   },
   "outputs": [
    {
     "data": {
      "text/html": [
       "<div>\n",
       "<table border=\"1\" class=\"dataframe\">\n",
       "  <thead>\n",
       "    <tr style=\"text-align: right;\">\n",
       "      <th></th>\n",
       "      <th>State</th>\n",
       "      <th>Type of Crime</th>\n",
       "      <th>Crime</th>\n",
       "      <th>Year</th>\n",
       "      <th>Count</th>\n",
       "    </tr>\n",
       "  </thead>\n",
       "  <tbody>\n",
       "    <tr>\n",
       "      <th>0</th>\n",
       "      <td>Alabama</td>\n",
       "      <td>Violent Crime</td>\n",
       "      <td>Murder and nonnegligent Manslaughter</td>\n",
       "      <td>1960</td>\n",
       "      <td>406</td>\n",
       "    </tr>\n",
       "    <tr>\n",
       "      <th>1</th>\n",
       "      <td>Alabama</td>\n",
       "      <td>Violent Crime</td>\n",
       "      <td>Murder and nonnegligent Manslaughter</td>\n",
       "      <td>1961</td>\n",
       "      <td>427</td>\n",
       "    </tr>\n",
       "    <tr>\n",
       "      <th>2</th>\n",
       "      <td>Alabama</td>\n",
       "      <td>Violent Crime</td>\n",
       "      <td>Murder and nonnegligent Manslaughter</td>\n",
       "      <td>1962</td>\n",
       "      <td>316</td>\n",
       "    </tr>\n",
       "    <tr>\n",
       "      <th>3</th>\n",
       "      <td>Alabama</td>\n",
       "      <td>Violent Crime</td>\n",
       "      <td>Murder and nonnegligent Manslaughter</td>\n",
       "      <td>1963</td>\n",
       "      <td>340</td>\n",
       "    </tr>\n",
       "    <tr>\n",
       "      <th>4</th>\n",
       "      <td>Alabama</td>\n",
       "      <td>Violent Crime</td>\n",
       "      <td>Murder and nonnegligent Manslaughter</td>\n",
       "      <td>1964</td>\n",
       "      <td>316</td>\n",
       "    </tr>\n",
       "  </tbody>\n",
       "</table>\n",
       "</div>"
      ],
      "text/plain": [
       "     State  Type of Crime                                 Crime  Year  Count\n",
       "0  Alabama  Violent Crime  Murder and nonnegligent Manslaughter  1960    406\n",
       "1  Alabama  Violent Crime  Murder and nonnegligent Manslaughter  1961    427\n",
       "2  Alabama  Violent Crime  Murder and nonnegligent Manslaughter  1962    316\n",
       "3  Alabama  Violent Crime  Murder and nonnegligent Manslaughter  1963    340\n",
       "4  Alabama  Violent Crime  Murder and nonnegligent Manslaughter  1964    316"
      ]
     },
     "execution_count": 237,
     "metadata": {},
     "output_type": "execute_result"
    }
   ],
   "source": [
    "crime.head()"
   ]
  },
  {
   "cell_type": "code",
   "execution_count": 238,
   "metadata": {
    "collapsed": false
   },
   "outputs": [],
   "source": [
    "mask2 = ((crime.State=='California') & (crime.Crime == 'Murder and nonnegligent Manslaughter'))"
   ]
  },
  {
   "cell_type": "code",
   "execution_count": 239,
   "metadata": {
    "collapsed": true
   },
   "outputs": [],
   "source": [
    "cal_murder = crime[mask2]"
   ]
  },
  {
   "cell_type": "code",
   "execution_count": 240,
   "metadata": {
    "collapsed": false
   },
   "outputs": [
    {
     "data": {
      "text/html": [
       "<div>\n",
       "<table border=\"1\" class=\"dataframe\">\n",
       "  <thead>\n",
       "    <tr style=\"text-align: right;\">\n",
       "      <th></th>\n",
       "      <th>State</th>\n",
       "      <th>Type of Crime</th>\n",
       "      <th>Crime</th>\n",
       "      <th>Year</th>\n",
       "      <th>Count</th>\n",
       "    </tr>\n",
       "  </thead>\n",
       "  <tbody>\n",
       "    <tr>\n",
       "      <th>1288</th>\n",
       "      <td>California</td>\n",
       "      <td>Violent Crime</td>\n",
       "      <td>Murder and nonnegligent Manslaughter</td>\n",
       "      <td>1960</td>\n",
       "      <td>616</td>\n",
       "    </tr>\n",
       "    <tr>\n",
       "      <th>1289</th>\n",
       "      <td>California</td>\n",
       "      <td>Violent Crime</td>\n",
       "      <td>Murder and nonnegligent Manslaughter</td>\n",
       "      <td>1961</td>\n",
       "      <td>605</td>\n",
       "    </tr>\n",
       "    <tr>\n",
       "      <th>1290</th>\n",
       "      <td>California</td>\n",
       "      <td>Violent Crime</td>\n",
       "      <td>Murder and nonnegligent Manslaughter</td>\n",
       "      <td>1962</td>\n",
       "      <td>657</td>\n",
       "    </tr>\n",
       "    <tr>\n",
       "      <th>1291</th>\n",
       "      <td>California</td>\n",
       "      <td>Violent Crime</td>\n",
       "      <td>Murder and nonnegligent Manslaughter</td>\n",
       "      <td>1963</td>\n",
       "      <td>673</td>\n",
       "    </tr>\n",
       "    <tr>\n",
       "      <th>1292</th>\n",
       "      <td>California</td>\n",
       "      <td>Violent Crime</td>\n",
       "      <td>Murder and nonnegligent Manslaughter</td>\n",
       "      <td>1964</td>\n",
       "      <td>740</td>\n",
       "    </tr>\n",
       "  </tbody>\n",
       "</table>\n",
       "</div>"
      ],
      "text/plain": [
       "           State  Type of Crime                                 Crime  Year  \\\n",
       "1288  California  Violent Crime  Murder and nonnegligent Manslaughter  1960   \n",
       "1289  California  Violent Crime  Murder and nonnegligent Manslaughter  1961   \n",
       "1290  California  Violent Crime  Murder and nonnegligent Manslaughter  1962   \n",
       "1291  California  Violent Crime  Murder and nonnegligent Manslaughter  1963   \n",
       "1292  California  Violent Crime  Murder and nonnegligent Manslaughter  1964   \n",
       "\n",
       "      Count  \n",
       "1288    616  \n",
       "1289    605  \n",
       "1290    657  \n",
       "1291    673  \n",
       "1292    740  "
      ]
     },
     "execution_count": 240,
     "metadata": {},
     "output_type": "execute_result"
    }
   ],
   "source": [
    "cal_murder.head()"
   ]
  },
  {
   "cell_type": "code",
   "execution_count": 241,
   "metadata": {
    "collapsed": false
   },
   "outputs": [
    {
     "data": {
      "text/plain": [
       "<matplotlib.axes._subplots.AxesSubplot at 0x1187ece50>"
      ]
     },
     "execution_count": 241,
     "metadata": {},
     "output_type": "execute_result"
    },
    {
     "data": {
      "image/png": "[encoded data removed]",
      "text/plain": [
       "<matplotlib.figure.Figure at 0x1187e2610>"
      ]
     },
     "metadata": {},
     "output_type": "display_data"
    }
   ],
   "source": [
    "cal_murder.plot(x='Year', y='Count')"
   ]
  },
  {
   "cell_type": "code",
   "execution_count": 242,
   "metadata": {
    "collapsed": false
   },
   "outputs": [
    {
     "data": {
      "text/plain": [
       "State            16422\n",
       "Type of Crime    16422\n",
       "Crime            16422\n",
       "Year             16422\n",
       "Count            16422\n",
       "dtype: int64"
      ]
     },
     "execution_count": 242,
     "metadata": {},
     "output_type": "execute_result"
    }
   ],
   "source": [
    "crime.count()"
   ]
  },
  {
   "cell_type": "code",
   "execution_count": 45,
   "metadata": {
    "collapsed": false
   },
   "outputs": [
    {
     "data": {
      "text/html": [
       "<div>\n",
       "<table border=\"1\" class=\"dataframe\">\n",
       "  <thead>\n",
       "    <tr style=\"text-align: right;\">\n",
       "      <th></th>\n",
       "      <th>make</th>\n",
       "      <th>price</th>\n",
       "      <th>mpg</th>\n",
       "      <th>repairs</th>\n",
       "      <th>weight</th>\n",
       "      <th>length</th>\n",
       "      <th>foreign</th>\n",
       "    </tr>\n",
       "  </thead>\n",
       "  <tbody>\n",
       "    <tr>\n",
       "      <th>0</th>\n",
       "      <td>AMC</td>\n",
       "      <td>4099</td>\n",
       "      <td>22</td>\n",
       "      <td>3</td>\n",
       "      <td>2930</td>\n",
       "      <td>186</td>\n",
       "      <td>0</td>\n",
       "    </tr>\n",
       "    <tr>\n",
       "      <th>1</th>\n",
       "      <td>AMC</td>\n",
       "      <td>4749</td>\n",
       "      <td>17</td>\n",
       "      <td>3</td>\n",
       "      <td>3350</td>\n",
       "      <td>173</td>\n",
       "      <td>0</td>\n",
       "    </tr>\n",
       "    <tr>\n",
       "      <th>2</th>\n",
       "      <td>AMC</td>\n",
       "      <td>3799</td>\n",
       "      <td>22</td>\n",
       "      <td>3</td>\n",
       "      <td>2640</td>\n",
       "      <td>168</td>\n",
       "      <td>0</td>\n",
       "    </tr>\n",
       "    <tr>\n",
       "      <th>3</th>\n",
       "      <td>Audi</td>\n",
       "      <td>9690</td>\n",
       "      <td>17</td>\n",
       "      <td>5</td>\n",
       "      <td>2830</td>\n",
       "      <td>189</td>\n",
       "      <td>1</td>\n",
       "    </tr>\n",
       "    <tr>\n",
       "      <th>4</th>\n",
       "      <td>Audi</td>\n",
       "      <td>6295</td>\n",
       "      <td>23</td>\n",
       "      <td>3</td>\n",
       "      <td>2070</td>\n",
       "      <td>174</td>\n",
       "      <td>1</td>\n",
       "    </tr>\n",
       "  </tbody>\n",
       "</table>\n",
       "</div>"
      ],
      "text/plain": [
       "   make  price  mpg  repairs  weight  length  foreign\n",
       "0   AMC   4099   22        3    2930     186        0\n",
       "1   AMC   4749   17        3    3350     173        0\n",
       "2   AMC   3799   22        3    2640     168        0\n",
       "3  Audi   9690   17        5    2830     189        1\n",
       "4  Audi   6295   23        3    2070     174        1"
      ]
     },
     "execution_count": 45,
     "metadata": {},
     "output_type": "execute_result"
    }
   ],
   "source": [
    "auto.head()"
   ]
  },
  {
   "cell_type": "code",
   "execution_count": 46,
   "metadata": {
    "collapsed": false
   },
   "outputs": [
    {
     "data": {
      "text/html": [
       "<div>\n",
       "<table border=\"1\" class=\"dataframe\">\n",
       "  <thead>\n",
       "    <tr style=\"text-align: right;\">\n",
       "      <th></th>\n",
       "      <th>price</th>\n",
       "      <th>mpg</th>\n",
       "      <th>repairs</th>\n",
       "      <th>weight</th>\n",
       "      <th>length</th>\n",
       "      <th>foreign</th>\n",
       "    </tr>\n",
       "  </thead>\n",
       "  <tbody>\n",
       "    <tr>\n",
       "      <th>count</th>\n",
       "      <td>26.000000</td>\n",
       "      <td>26.000000</td>\n",
       "      <td>26.000000</td>\n",
       "      <td>26.000000</td>\n",
       "      <td>26.000000</td>\n",
       "      <td>26.000000</td>\n",
       "    </tr>\n",
       "    <tr>\n",
       "      <th>mean</th>\n",
       "      <td>6651.730769</td>\n",
       "      <td>20.923077</td>\n",
       "      <td>3.269231</td>\n",
       "      <td>3099.230769</td>\n",
       "      <td>190.076923</td>\n",
       "      <td>0.269231</td>\n",
       "    </tr>\n",
       "    <tr>\n",
       "      <th>std</th>\n",
       "      <td>3371.119809</td>\n",
       "      <td>4.757504</td>\n",
       "      <td>0.777570</td>\n",
       "      <td>695.079409</td>\n",
       "      <td>18.170136</td>\n",
       "      <td>0.452344</td>\n",
       "    </tr>\n",
       "    <tr>\n",
       "      <th>min</th>\n",
       "      <td>3299.000000</td>\n",
       "      <td>14.000000</td>\n",
       "      <td>2.000000</td>\n",
       "      <td>2020.000000</td>\n",
       "      <td>163.000000</td>\n",
       "      <td>0.000000</td>\n",
       "    </tr>\n",
       "    <tr>\n",
       "      <th>25%</th>\n",
       "      <td>4465.750000</td>\n",
       "      <td>17.250000</td>\n",
       "      <td>3.000000</td>\n",
       "      <td>2642.500000</td>\n",
       "      <td>173.250000</td>\n",
       "      <td>0.000000</td>\n",
       "    </tr>\n",
       "    <tr>\n",
       "      <th>50%</th>\n",
       "      <td>5146.500000</td>\n",
       "      <td>21.000000</td>\n",
       "      <td>3.000000</td>\n",
       "      <td>3200.000000</td>\n",
       "      <td>191.000000</td>\n",
       "      <td>0.000000</td>\n",
       "    </tr>\n",
       "    <tr>\n",
       "      <th>75%</th>\n",
       "      <td>8053.500000</td>\n",
       "      <td>23.000000</td>\n",
       "      <td>4.000000</td>\n",
       "      <td>3610.000000</td>\n",
       "      <td>203.000000</td>\n",
       "      <td>0.750000</td>\n",
       "    </tr>\n",
       "    <tr>\n",
       "      <th>max</th>\n",
       "      <td>15906.000000</td>\n",
       "      <td>35.000000</td>\n",
       "      <td>5.000000</td>\n",
       "      <td>4330.000000</td>\n",
       "      <td>222.000000</td>\n",
       "      <td>1.000000</td>\n",
       "    </tr>\n",
       "  </tbody>\n",
       "</table>\n",
       "</div>"
      ],
      "text/plain": [
       "              price        mpg    repairs       weight      length    foreign\n",
       "count     26.000000  26.000000  26.000000    26.000000   26.000000  26.000000\n",
       "mean    6651.730769  20.923077   3.269231  3099.230769  190.076923   0.269231\n",
       "std     3371.119809   4.757504   0.777570   695.079409   18.170136   0.452344\n",
       "min     3299.000000  14.000000   2.000000  2020.000000  163.000000   0.000000\n",
       "25%     4465.750000  17.250000   3.000000  2642.500000  173.250000   0.000000\n",
       "50%     5146.500000  21.000000   3.000000  3200.000000  191.000000   0.000000\n",
       "75%     8053.500000  23.000000   4.000000  3610.000000  203.000000   0.750000\n",
       "max    15906.000000  35.000000   5.000000  4330.000000  222.000000   1.000000"
      ]
     },
     "execution_count": 46,
     "metadata": {},
     "output_type": "execute_result"
    }
   ],
   "source": [
    "auto.describe()"
   ]
  },
  {
   "cell_type": "code",
   "execution_count": 47,
   "metadata": {
    "collapsed": false
   },
   "outputs": [
    {
     "data": {
      "text/plain": [
       "count       26.000000\n",
       "mean      6651.730769\n",
       "std       3371.119809\n",
       "min       3299.000000\n",
       "25%       4465.750000\n",
       "50%       5146.500000\n",
       "75%       8053.500000\n",
       "max      15906.000000\n",
       "Name: price, dtype: float64"
      ]
     },
     "execution_count": 47,
     "metadata": {},
     "output_type": "execute_result"
    }
   ],
   "source": [
    "auto.price.describe()"
   ]
  },
  {
   "cell_type": "code",
   "execution_count": 48,
   "metadata": {
    "collapsed": false
   },
   "outputs": [
    {
     "data": {
      "text/plain": [
       "count    26.000000\n",
       "mean     20.923077\n",
       "std       4.757504\n",
       "min      14.000000\n",
       "25%      17.250000\n",
       "50%      21.000000\n",
       "75%      23.000000\n",
       "max      35.000000\n",
       "Name: mpg, dtype: float64"
      ]
     },
     "execution_count": 48,
     "metadata": {},
     "output_type": "execute_result"
    }
   ],
   "source": [
    "auto['mpg'].describe()"
   ]
  },
  {
   "cell_type": "code",
   "execution_count": 49,
   "metadata": {
    "collapsed": false
   },
   "outputs": [
    {
     "data": {
      "text/plain": [
       "4.757504193781246"
      ]
     },
     "execution_count": 49,
     "metadata": {},
     "output_type": "execute_result"
    }
   ],
   "source": [
    "auto.mpg.std()"
   ]
  },
  {
   "cell_type": "code",
   "execution_count": 52,
   "metadata": {
    "collapsed": false
   },
   "outputs": [
    {
     "data": {
      "text/plain": [
       "<matplotlib.axes._subplots.AxesSubplot at 0x115ec2490>"
      ]
     },
     "execution_count": 52,
     "metadata": {},
     "output_type": "execute_result"
    },
    {
     "data": {
      "image/png": "[encoded data removed]",
      "text/plain": [
       "<matplotlib.figure.Figure at 0x116161a50>"
      ]
     },
     "metadata": {},
     "output_type": "display_data"
    }
   ],
   "source": [
    "auto.price.hist()"
   ]
  },
  {
   "cell_type": "code",
   "execution_count": 53,
   "metadata": {
    "collapsed": false
   },
   "outputs": [
    {
     "name": "stderr",
     "output_type": "stream",
     "text": [
      "/anaconda/lib/python2.7/site-packages/ipykernel/__main__.py:1: FutureWarning: \n",
      "The default value for 'return_type' will change to 'axes' in a future release.\n",
      " To use the future behavior now, set return_type='axes'.\n",
      " To keep the previous behavior and silence this warning, set return_type='dict'.\n",
      "  if __name__ == '__main__':\n"
     ]
    },
    {
     "data": {
      "text/plain": [
       "{'boxes': [<matplotlib.lines.Line2D at 0x1166d0c90>],\n",
       " 'caps': [<matplotlib.lines.Line2D at 0x1166dfd90>,\n",
       "  <matplotlib.lines.Line2D at 0x1166eb410>],\n",
       " 'fliers': [<matplotlib.lines.Line2D at 0x1166f60d0>],\n",
       " 'means': [],\n",
       " 'medians': [<matplotlib.lines.Line2D at 0x1166eba50>],\n",
       " 'whiskers': [<matplotlib.lines.Line2D at 0x1166df090>,\n",
       "  <matplotlib.lines.Line2D at 0x1166df750>]}"
      ]
     },
     "execution_count": 53,
     "metadata": {},
     "output_type": "execute_result"
    },
    {
     "data": {
      "image/png": "[encoded data removed]",
      "text/plain": [
       "<matplotlib.figure.Figure at 0x116459a50>"
      ]
     },
     "metadata": {},
     "output_type": "display_data"
    }
   ],
   "source": [
    "auto.boxplot(column = 'price')"
   ]
  },
  {
   "cell_type": "code",
   "execution_count": 55,
   "metadata": {
    "collapsed": false
   },
   "outputs": [],
   "source": [
    "titanic = pd.read_csv(\"/Users/viswanathravindran/DataFiles/Titanic.csv\")"
   ]
  },
  {
   "cell_type": "code",
   "execution_count": 56,
   "metadata": {
    "collapsed": false
   },
   "outputs": [
    {
     "name": "stderr",
     "output_type": "stream",
     "text": [
      "//anaconda/lib/python2.7/site-packages/numpy/lib/function_base.py:3834: RuntimeWarning: Invalid value encountered in percentile\n",
      "  RuntimeWarning)\n"
     ]
    },
    {
     "data": {
      "text/html": [
       "<div>\n",
       "<table border=\"1\" class=\"dataframe\">\n",
       "  <thead>\n",
       "    <tr style=\"text-align: right;\">\n",
       "      <th></th>\n",
       "      <th>PassengerId</th>\n",
       "      <th>Survived</th>\n",
       "      <th>Pclass</th>\n",
       "      <th>Age</th>\n",
       "      <th>SibSp</th>\n",
       "      <th>Parch</th>\n",
       "      <th>Fare</th>\n",
       "    </tr>\n",
       "  </thead>\n",
       "  <tbody>\n",
       "    <tr>\n",
       "      <th>count</th>\n",
       "      <td>891.000000</td>\n",
       "      <td>891.000000</td>\n",
       "      <td>891.000000</td>\n",
       "      <td>714.000000</td>\n",
       "      <td>891.000000</td>\n",
       "      <td>891.000000</td>\n",
       "      <td>891.000000</td>\n",
       "    </tr>\n",
       "    <tr>\n",
       "      <th>mean</th>\n",
       "      <td>446.000000</td>\n",
       "      <td>0.383838</td>\n",
       "      <td>2.308642</td>\n",
       "      <td>29.699118</td>\n",
       "      <td>0.523008</td>\n",
       "      <td>0.381594</td>\n",
       "      <td>32.204208</td>\n",
       "    </tr>\n",
       "    <tr>\n",
       "      <th>std</th>\n",
       "      <td>257.353842</td>\n",
       "      <td>0.486592</td>\n",
       "      <td>0.836071</td>\n",
       "      <td>14.526497</td>\n",
       "      <td>1.102743</td>\n",
       "      <td>0.806057</td>\n",
       "      <td>49.693429</td>\n",
       "    </tr>\n",
       "    <tr>\n",
       "      <th>min</th>\n",
       "      <td>1.000000</td>\n",
       "      <td>0.000000</td>\n",
       "      <td>1.000000</td>\n",
       "      <td>0.420000</td>\n",
       "      <td>0.000000</td>\n",
       "      <td>0.000000</td>\n",
       "      <td>0.000000</td>\n",
       "    </tr>\n",
       "    <tr>\n",
       "      <th>25%</th>\n",
       "      <td>223.500000</td>\n",
       "      <td>0.000000</td>\n",
       "      <td>2.000000</td>\n",
       "      <td>NaN</td>\n",
       "      <td>0.000000</td>\n",
       "      <td>0.000000</td>\n",
       "      <td>7.910400</td>\n",
       "    </tr>\n",
       "    <tr>\n",
       "      <th>50%</th>\n",
       "      <td>446.000000</td>\n",
       "      <td>0.000000</td>\n",
       "      <td>3.000000</td>\n",
       "      <td>NaN</td>\n",
       "      <td>0.000000</td>\n",
       "      <td>0.000000</td>\n",
       "      <td>14.454200</td>\n",
       "    </tr>\n",
       "    <tr>\n",
       "      <th>75%</th>\n",
       "      <td>668.500000</td>\n",
       "      <td>1.000000</td>\n",
       "      <td>3.000000</td>\n",
       "      <td>NaN</td>\n",
       "      <td>1.000000</td>\n",
       "      <td>0.000000</td>\n",
       "      <td>31.000000</td>\n",
       "    </tr>\n",
       "    <tr>\n",
       "      <th>max</th>\n",
       "      <td>891.000000</td>\n",
       "      <td>1.000000</td>\n",
       "      <td>3.000000</td>\n",
       "      <td>80.000000</td>\n",
       "      <td>8.000000</td>\n",
       "      <td>6.000000</td>\n",
       "      <td>512.329200</td>\n",
       "    </tr>\n",
       "  </tbody>\n",
       "</table>\n",
       "</div>"
      ],
      "text/plain": [
       "       PassengerId    Survived      Pclass         Age       SibSp  \\\n",
       "count   891.000000  891.000000  891.000000  714.000000  891.000000   \n",
       "mean    446.000000    0.383838    2.308642   29.699118    0.523008   \n",
       "std     257.353842    0.486592    0.836071   14.526497    1.102743   \n",
       "min       1.000000    0.000000    1.000000    0.420000    0.000000   \n",
       "25%     223.500000    0.000000    2.000000         NaN    0.000000   \n",
       "50%     446.000000    0.000000    3.000000         NaN    0.000000   \n",
       "75%     668.500000    1.000000    3.000000         NaN    1.000000   \n",
       "max     891.000000    1.000000    3.000000   80.000000    8.000000   \n",
       "\n",
       "            Parch        Fare  \n",
       "count  891.000000  891.000000  \n",
       "mean     0.381594   32.204208  \n",
       "std      0.806057   49.693429  \n",
       "min      0.000000    0.000000  \n",
       "25%      0.000000    7.910400  \n",
       "50%      0.000000   14.454200  \n",
       "75%      0.000000   31.000000  \n",
       "max      6.000000  512.329200  "
      ]
     },
     "execution_count": 56,
     "metadata": {},
     "output_type": "execute_result"
    }
   ],
   "source": [
    "titanic.describe()"
   ]
  },
  {
   "cell_type": "code",
   "execution_count": 59,
   "metadata": {
    "collapsed": false
   },
   "outputs": [
    {
     "data": {
      "text/plain": [
       "<matplotlib.axes._subplots.AxesSubplot at 0x1167c7990>"
      ]
     },
     "execution_count": 59,
     "metadata": {},
     "output_type": "execute_result"
    },
    {
     "data": {
      "image/png": "[encoded data removed]",
      "text/plain": [
       "<matplotlib.figure.Figure at 0x115ecb110>"
      ]
     },
     "metadata": {},
     "output_type": "display_data"
    }
   ],
   "source": [
    "titanic.Age.hist(bins=20)"
   ]
  },
  {
   "cell_type": "code",
   "execution_count": 60,
   "metadata": {
    "collapsed": true
   },
   "outputs": [],
   "source": [
    "grouped =  titanic.groupby('Sex')"
   ]
  },
  {
   "cell_type": "code",
   "execution_count": 61,
   "metadata": {
    "collapsed": false
   },
   "outputs": [
    {
     "data": {
      "text/plain": [
       "Sex\n",
       "female    27.0\n",
       "male      29.0\n",
       "Name: Age, dtype: float64"
      ]
     },
     "execution_count": 61,
     "metadata": {},
     "output_type": "execute_result"
    }
   ],
   "source": [
    "grouped.Age.median()"
   ]
  },
  {
   "cell_type": "code",
   "execution_count": 62,
   "metadata": {
    "collapsed": false
   },
   "outputs": [
    {
     "data": {
      "text/plain": [
       "Sex          \n",
       "female  count    261.000000\n",
       "        mean      27.915709\n",
       "        std       14.110146\n",
       "        min        0.750000\n",
       "        25%             NaN\n",
       "        50%             NaN\n",
       "        75%             NaN\n",
       "        max       63.000000\n",
       "male    count    453.000000\n",
       "        mean      30.726645\n",
       "        std       14.678201\n",
       "        min        0.420000\n",
       "        25%             NaN\n",
       "        50%             NaN\n",
       "        75%             NaN\n",
       "        max       80.000000\n",
       "Name: Age, dtype: float64"
      ]
     },
     "execution_count": 62,
     "metadata": {},
     "output_type": "execute_result"
    }
   ],
   "source": [
    "grouped.Age.describe()"
   ]
  },
  {
   "cell_type": "code",
   "execution_count": 63,
   "metadata": {
    "collapsed": false
   },
   "outputs": [
    {
     "data": {
      "text/plain": [
       "<matplotlib.axes._subplots.AxesSubplot at 0x1173e6190>"
      ]
     },
     "execution_count": 63,
     "metadata": {},
     "output_type": "execute_result"
    },
    {
     "data": {
      "image/png": "[encoded data removed]",
      "text/plain": [
       "<matplotlib.figure.Figure at 0x117387610>"
      ]
     },
     "metadata": {},
     "output_type": "display_data"
    }
   ],
   "source": [
    "grouped.get_group('male').Age.hist(bins=20)\n",
    "grouped.get_group('female').Age.hist(bins=20)"
   ]
  },
  {
   "cell_type": "code",
   "execution_count": 65,
   "metadata": {
    "collapsed": false
   },
   "outputs": [
    {
     "data": {
      "text/plain": [
       "OrderedDict([('female',\n",
       "              {'boxes': [<matplotlib.lines.Line2D at 0x1177d8790>],\n",
       "               'caps': [<matplotlib.lines.Line2D at 0x1177e3650>,\n",
       "                <matplotlib.lines.Line2D at 0x1177e3c90>],\n",
       "               'fliers': [<matplotlib.lines.Line2D at 0x1177c5710>],\n",
       "               'means': [],\n",
       "               'medians': [<matplotlib.lines.Line2D at 0x1177bcfd0>],\n",
       "               'whiskers': [<matplotlib.lines.Line2D at 0x1177d8910>,\n",
       "                <matplotlib.lines.Line2D at 0x1177d8fd0>]}),\n",
       "             ('male',\n",
       "              {'boxes': [<matplotlib.lines.Line2D at 0x117771d90>],\n",
       "               'caps': [<matplotlib.lines.Line2D at 0x117699dd0>,\n",
       "                <matplotlib.lines.Line2D at 0x117626b10>],\n",
       "               'fliers': [<matplotlib.lines.Line2D at 0x1177efad0>],\n",
       "               'means': [],\n",
       "               'medians': [<matplotlib.lines.Line2D at 0x117609710>],\n",
       "               'whiskers': [<matplotlib.lines.Line2D at 0x117771050>,\n",
       "                <matplotlib.lines.Line2D at 0x117765750>]})])"
      ]
     },
     "execution_count": 65,
     "metadata": {},
     "output_type": "execute_result"
    },
    {
     "data": {
      "image/png": "[encoded data removed]",
      "text/plain": [
       "<matplotlib.figure.Figure at 0x117359f50>"
      ]
     },
     "metadata": {},
     "output_type": "display_data"
    }
   ],
   "source": [
    "grouped.boxplot(column='Age')"
   ]
  },
  {
   "cell_type": "code",
   "execution_count": 1,
   "metadata": {
    "collapsed": false
   },
   "outputs": [],
   "source": [
    "import seaborn as sns\n",
    "import pandas as pd\n",
    "import numpy as np\n",
    "import matplotlib.pyplot as plt"
   ]
  },
  {
   "cell_type": "code",
   "execution_count": 2,
   "metadata": {
    "collapsed": true
   },
   "outputs": [],
   "source": [
    "sns.set_palette(\"deep\", desat = .6)\n",
    "sns.set_context(rc={\"figure.figsize\":(8,4)})"
   ]
  },
  {
   "cell_type": "code",
   "execution_count": 3,
   "metadata": {
    "collapsed": false
   },
   "outputs": [],
   "source": [
    "titanic = pd.read_csv(\"/Users/viswanathravindran/DataFiles/Titanic.csv\")"
   ]
  },
  {
   "cell_type": "code",
   "execution_count": 4,
   "metadata": {
    "collapsed": true
   },
   "outputs": [],
   "source": [
    "mlb = pd.read_csv(\"/Users/viswanathravindran/DataFiles/mlbsalaries.csv\")"
   ]
  },
  {
   "cell_type": "code",
   "execution_count": 5,
   "metadata": {
    "collapsed": true
   },
   "outputs": [],
   "source": [
    "servers = pd.read_csv(\"/Users/viswanathravindran/DataFiles/serverdata.csv\")"
   ]
  },
  {
   "cell_type": "code",
   "execution_count": 6,
   "metadata": {
    "collapsed": false
   },
   "outputs": [
    {
     "data": {
      "image/png": "[encoded data removed]",
      "text/plain": [
       "<matplotlib.figure.Figure at 0x114cb1f50>"
      ]
     },
     "metadata": {},
     "output_type": "display_data"
    }
   ],
   "source": [
    "plt.hist(titanic.Age.dropna(),bins=30)\n",
    "plt.show()"
   ]
  },
  {
   "cell_type": "code",
   "execution_count": 8,
   "metadata": {
    "collapsed": false
   },
   "outputs": [
    {
     "data": {
      "text/plain": [
       "(array([  53.,  125.,  133.,   97.,   93.,   83.,   65.,   48.,   40.,\n",
       "          36.,   27.,   23.,   25.,   27.,   13.,   19.,   14.,    9.,\n",
       "          11.,    7.,    9.,   11.,   12.,   10.,   10.]),\n",
       " array([   44.5   ,   162.1316,   279.7632,   397.3948,   515.0264,\n",
       "          632.658 ,   750.2896,   867.9212,   985.5528,  1103.1844,\n",
       "         1220.816 ,  1338.4476,  1456.0792,  1573.7108,  1691.3424,\n",
       "         1808.974 ,  1926.6056,  2044.2372,  2161.8688,  2279.5004,\n",
       "         2397.132 ,  2514.7636,  2632.3952,  2750.0268,  2867.6584,  2985.29  ]),\n",
       " <a list of 25 Patch objects>)"
      ]
     },
     "execution_count": 8,
     "metadata": {},
     "output_type": "execute_result"
    }
   ],
   "source": [
    "plt.hist(servers.Time, 25)"
   ]
  },
  {
   "cell_type": "code",
   "execution_count": 9,
   "metadata": {
    "collapsed": false
   },
   "outputs": [
    {
     "data": {
      "image/png": "[encoded data removed]",
      "text/plain": [
       "<matplotlib.figure.Figure at 0x1152ddf50>"
      ]
     },
     "metadata": {},
     "output_type": "display_data"
    }
   ],
   "source": [
    "plt.show()"
   ]
  },
  {
   "cell_type": "code",
   "execution_count": 11,
   "metadata": {
    "collapsed": false
   },
   "outputs": [
    {
     "data": {
      "text/plain": [
       "(array([  1.24850000e+04,   2.08500000e+03,   1.47700000e+03,\n",
       "          9.52000000e+02,   6.98000000e+02,   4.27000000e+02,\n",
       "          3.17000000e+02,   2.62000000e+02,   1.73000000e+02,\n",
       "          1.60000000e+02,   1.02000000e+02,   1.31000000e+02,\n",
       "          6.60000000e+01,   5.50000000e+01,   5.60000000e+01,\n",
       "          1.60000000e+01,   2.10000000e+01,   2.20000000e+01,\n",
       "          1.10000000e+01,   1.10000000e+01,   4.00000000e+00,\n",
       "          4.00000000e+00,   2.00000000e+00,   2.00000000e+00,\n",
       "          0.00000000e+00,   1.00000000e+00,   0.00000000e+00,\n",
       "          0.00000000e+00,   0.00000000e+00,   3.00000000e+00]),\n",
       " array([    62500.        ,   1160416.66666667,   2258333.33333333,\n",
       "          3356250.        ,   4454166.66666667,   5552083.33333333,\n",
       "          6650000.        ,   7747916.66666667,   8845833.33333333,\n",
       "          9943750.        ,  11041666.66666667,  12139583.33333333,\n",
       "         13237500.        ,  14335416.66666667,  15433333.33333333,\n",
       "         16531250.        ,  17629166.66666667,  18727083.33333334,\n",
       "         19825000.        ,  20922916.66666667,  22020833.33333334,\n",
       "         23118750.        ,  24216666.66666667,  25314583.33333334,\n",
       "         26412500.        ,  27510416.66666667,  28608333.33333334,\n",
       "         29706250.        ,  30804166.66666667,  31902083.33333334,\n",
       "         33000000.        ]),\n",
       " <a list of 30 Patch objects>)"
      ]
     },
     "execution_count": 11,
     "metadata": {},
     "output_type": "execute_result"
    }
   ],
   "source": [
    "plt.hist(mlb.Salary.dropna(), 30)"
   ]
  },
  {
   "cell_type": "code",
   "execution_count": 12,
   "metadata": {
    "collapsed": false
   },
   "outputs": [
    {
     "data": {
      "image/png": "[encoded data removed]",
      "text/plain": [
       "<matplotlib.figure.Figure at 0x11822ad10>"
      ]
     },
     "metadata": {},
     "output_type": "display_data"
    }
   ],
   "source": [
    "plt.show()"
   ]
  },
  {
   "cell_type": "markdown",
   "metadata": {
    "collapsed": true
   },
   "source": [
    "# Practise using the World Bank Population Dataset "
   ]
  },
  {
   "cell_type": "code",
   "execution_count": 130,
   "metadata": {
    "collapsed": false
   },
   "outputs": [
    {
     "name": "stdout",
     "output_type": "stream",
     "text": [
      "Populating the interactive namespace from numpy and matplotlib\n"
     ]
    }
   ],
   "source": [
    "import pandas as pd\n",
    "import numpy as np\n",
    "import seaborn as sns\n",
    "%pylab inline"
   ]
  },
  {
   "cell_type": "code",
   "execution_count": 131,
   "metadata": {
    "collapsed": true
   },
   "outputs": [],
   "source": [
    "popgrow = pd.read_csv(\"/Users/viswanathravindran/DataFiles/PopulationGrowth.csv\", skiprows =3)"
   ]
  },
  {
   "cell_type": "code",
   "execution_count": 132,
   "metadata": {
    "collapsed": false
   },
   "outputs": [
    {
     "data": {
      "text/html": [
       "<div>\n",
       "<table border=\"1\" class=\"dataframe\">\n",
       "  <thead>\n",
       "    <tr style=\"text-align: right;\">\n",
       "      <th></th>\n",
       "      <th>Country Name</th>\n",
       "      <th>Country Code</th>\n",
       "      <th>Indicator Name</th>\n",
       "      <th>Indicator Code</th>\n",
       "      <th>1960</th>\n",
       "      <th>1961</th>\n",
       "      <th>1962</th>\n",
       "      <th>1963</th>\n",
       "      <th>1964</th>\n",
       "      <th>1965</th>\n",
       "      <th>...</th>\n",
       "      <th>2008</th>\n",
       "      <th>2009</th>\n",
       "      <th>2010</th>\n",
       "      <th>2011</th>\n",
       "      <th>2012</th>\n",
       "      <th>2013</th>\n",
       "      <th>2014</th>\n",
       "      <th>2015</th>\n",
       "      <th>2016</th>\n",
       "      <th>Unnamed: 61</th>\n",
       "    </tr>\n",
       "  </thead>\n",
       "  <tbody>\n",
       "    <tr>\n",
       "      <th>0</th>\n",
       "      <td>Aruba</td>\n",
       "      <td>ABW</td>\n",
       "      <td>Population growth (annual %)</td>\n",
       "      <td>SP.POP.GROW</td>\n",
       "      <td>3.134888</td>\n",
       "      <td>2.238266</td>\n",
       "      <td>1.416812</td>\n",
       "      <td>0.834202</td>\n",
       "      <td>0.583861</td>\n",
       "      <td>0.578729</td>\n",
       "      <td>...</td>\n",
       "      <td>0.122433</td>\n",
       "      <td>0.072993</td>\n",
       "      <td>0.178314</td>\n",
       "      <td>0.333116</td>\n",
       "      <td>0.447319</td>\n",
       "      <td>0.514335</td>\n",
       "      <td>0.503970</td>\n",
       "      <td>0.432162</td>\n",
       "      <td>NaN</td>\n",
       "      <td>NaN</td>\n",
       "    </tr>\n",
       "    <tr>\n",
       "      <th>1</th>\n",
       "      <td>Andorra</td>\n",
       "      <td>AND</td>\n",
       "      <td>Population growth (annual %)</td>\n",
       "      <td>SP.POP.GROW</td>\n",
       "      <td>7.105041</td>\n",
       "      <td>6.926121</td>\n",
       "      <td>6.724770</td>\n",
       "      <td>6.508305</td>\n",
       "      <td>6.259422</td>\n",
       "      <td>6.003857</td>\n",
       "      <td>...</td>\n",
       "      <td>0.865725</td>\n",
       "      <td>-0.165995</td>\n",
       "      <td>-1.241974</td>\n",
       "      <td>-2.510552</td>\n",
       "      <td>-3.724710</td>\n",
       "      <td>-4.399684</td>\n",
       "      <td>-4.191941</td>\n",
       "      <td>-3.229397</td>\n",
       "      <td>NaN</td>\n",
       "      <td>NaN</td>\n",
       "    </tr>\n",
       "  </tbody>\n",
       "</table>\n",
       "<p>2 rows × 62 columns</p>\n",
       "</div>"
      ],
      "text/plain": [
       "  Country Name Country Code                Indicator Name Indicator Code  \\\n",
       "0        Aruba          ABW  Population growth (annual %)    SP.POP.GROW   \n",
       "1      Andorra          AND  Population growth (annual %)    SP.POP.GROW   \n",
       "\n",
       "       1960      1961      1962      1963      1964      1965     ...       \\\n",
       "0  3.134888  2.238266  1.416812  0.834202  0.583861  0.578729     ...        \n",
       "1  7.105041  6.926121  6.724770  6.508305  6.259422  6.003857     ...        \n",
       "\n",
       "       2008      2009      2010      2011      2012      2013      2014  \\\n",
       "0  0.122433  0.072993  0.178314  0.333116  0.447319  0.514335  0.503970   \n",
       "1  0.865725 -0.165995 -1.241974 -2.510552 -3.724710 -4.399684 -4.191941   \n",
       "\n",
       "       2015  2016  Unnamed: 61  \n",
       "0  0.432162   NaN          NaN  \n",
       "1 -3.229397   NaN          NaN  \n",
       "\n",
       "[2 rows x 62 columns]"
      ]
     },
     "execution_count": 132,
     "metadata": {},
     "output_type": "execute_result"
    }
   ],
   "source": [
    "popgrow.head(2)"
   ]
  },
  {
   "cell_type": "code",
   "execution_count": 133,
   "metadata": {
    "collapsed": false
   },
   "outputs": [
    {
     "data": {
      "text/plain": [
       "array([  0,   1,   2,   3,   4,   5,   6,   7,   8,   9,  10,  11,  12,\n",
       "        13,  14,  15,  16,  17,  18,  19,  20,  21,  22,  23,  24,  25,\n",
       "        26,  27,  28,  29,  30,  31,  32,  33,  34,  35,  36,  37,  38,\n",
       "        39,  40,  41,  42,  43,  44,  45,  46,  47,  48,  49,  50,  51,\n",
       "        52,  53,  54,  55,  56,  57,  58,  59,  60,  61,  62,  63,  64,\n",
       "        65,  66,  67,  68,  69,  70,  71,  72,  73,  74,  75,  76,  77,\n",
       "        78,  79,  80,  81,  82,  83,  84,  85,  86,  87,  88,  89,  90,\n",
       "        91,  92,  93,  94,  95,  96,  97,  98,  99, 100, 101, 102, 103,\n",
       "       104, 105, 106, 107, 108, 109, 110, 111, 112, 113, 114, 115, 116,\n",
       "       117, 118, 119, 120, 121, 122, 123, 124, 125, 126, 127, 128, 129,\n",
       "       130, 131, 132, 133, 134, 135, 136, 137, 138, 139, 140, 141, 142,\n",
       "       143, 144, 145, 146, 147, 148, 149, 150, 151, 152, 153, 154, 155,\n",
       "       156, 157, 158, 159, 160, 161, 162, 163, 164, 165, 166, 167, 168,\n",
       "       169, 170, 171, 172, 173, 174, 175, 176, 177, 178, 179, 180, 181,\n",
       "       182, 183, 184, 185, 186, 187, 188, 189, 190, 191, 192, 193, 194,\n",
       "       195, 196, 197, 198, 199, 200, 201, 202, 203, 204, 205, 206, 207,\n",
       "       208, 209, 210, 211, 212, 213, 214, 215, 216, 217, 218, 219, 220,\n",
       "       221, 222, 223, 224, 225, 226, 227, 228, 229, 230, 231, 232, 233,\n",
       "       234, 235, 236, 237, 238, 239, 240, 241, 242, 243, 244, 245, 246,\n",
       "       247, 248, 249, 250, 251, 252, 253, 254, 255, 256, 257, 258, 259,\n",
       "       260, 261, 262, 263])"
      ]
     },
     "execution_count": 133,
     "metadata": {},
     "output_type": "execute_result"
    }
   ],
   "source": [
    "popgrow.index.values"
   ]
  },
  {
   "cell_type": "code",
   "execution_count": 134,
   "metadata": {
    "collapsed": false
   },
   "outputs": [],
   "source": [
    "metapop = pd.read_csv(\"/Users/viswanathravindran/DataFiles/MetadataPopulation.csv\",quoting=2, names=(\"Code\",\"IncomeGroup\"), usecols=[0,2], skiprows=1)"
   ]
  },
  {
   "cell_type": "code",
   "execution_count": 135,
   "metadata": {
    "collapsed": false
   },
   "outputs": [
    {
     "data": {
      "text/html": [
       "<div>\n",
       "<table border=\"1\" class=\"dataframe\">\n",
       "  <thead>\n",
       "    <tr style=\"text-align: right;\">\n",
       "      <th></th>\n",
       "      <th>Code</th>\n",
       "      <th>IncomeGroup</th>\n",
       "    </tr>\n",
       "  </thead>\n",
       "  <tbody>\n",
       "    <tr>\n",
       "      <th>0</th>\n",
       "      <td>ABW</td>\n",
       "      <td>High income</td>\n",
       "    </tr>\n",
       "    <tr>\n",
       "      <th>1</th>\n",
       "      <td>AFG</td>\n",
       "      <td>Low income</td>\n",
       "    </tr>\n",
       "  </tbody>\n",
       "</table>\n",
       "</div>"
      ],
      "text/plain": [
       "  Code  IncomeGroup\n",
       "0  ABW  High income\n",
       "1  AFG   Low income"
      ]
     },
     "execution_count": 135,
     "metadata": {},
     "output_type": "execute_result"
    }
   ],
   "source": [
    "metapop.head(2)"
   ]
  },
  {
   "cell_type": "code",
   "execution_count": 136,
   "metadata": {
    "collapsed": true
   },
   "outputs": [],
   "source": [
    "popgrow.drop(popgrow.columns[[2,3]], axis=1, inplace=True)"
   ]
  },
  {
   "cell_type": "code",
   "execution_count": 65,
   "metadata": {
    "collapsed": false
   },
   "outputs": [],
   "source": [
    "#metapop.drop(metapop.columns[[1,3,4,5]], axis=1, inplace=True)"
   ]
  },
  {
   "cell_type": "code",
   "execution_count": 137,
   "metadata": {
    "collapsed": false
   },
   "outputs": [
    {
     "data": {
      "text/html": [
       "<div>\n",
       "<table border=\"1\" class=\"dataframe\">\n",
       "  <thead>\n",
       "    <tr style=\"text-align: right;\">\n",
       "      <th></th>\n",
       "      <th>Country Name</th>\n",
       "      <th>Country Code</th>\n",
       "      <th>1960</th>\n",
       "      <th>1961</th>\n",
       "      <th>1962</th>\n",
       "      <th>1963</th>\n",
       "      <th>1964</th>\n",
       "      <th>1965</th>\n",
       "      <th>1966</th>\n",
       "      <th>1967</th>\n",
       "      <th>...</th>\n",
       "      <th>2008</th>\n",
       "      <th>2009</th>\n",
       "      <th>2010</th>\n",
       "      <th>2011</th>\n",
       "      <th>2012</th>\n",
       "      <th>2013</th>\n",
       "      <th>2014</th>\n",
       "      <th>2015</th>\n",
       "      <th>2016</th>\n",
       "      <th>Unnamed: 61</th>\n",
       "    </tr>\n",
       "  </thead>\n",
       "  <tbody>\n",
       "    <tr>\n",
       "      <th>0</th>\n",
       "      <td>Aruba</td>\n",
       "      <td>ABW</td>\n",
       "      <td>3.134888</td>\n",
       "      <td>2.238266</td>\n",
       "      <td>1.416812</td>\n",
       "      <td>0.834202</td>\n",
       "      <td>0.583861</td>\n",
       "      <td>0.578729</td>\n",
       "      <td>0.611793</td>\n",
       "      <td>0.582236</td>\n",
       "      <td>...</td>\n",
       "      <td>0.122433</td>\n",
       "      <td>0.072993</td>\n",
       "      <td>0.178314</td>\n",
       "      <td>0.333116</td>\n",
       "      <td>0.447319</td>\n",
       "      <td>0.514335</td>\n",
       "      <td>0.503970</td>\n",
       "      <td>0.432162</td>\n",
       "      <td>NaN</td>\n",
       "      <td>NaN</td>\n",
       "    </tr>\n",
       "    <tr>\n",
       "      <th>1</th>\n",
       "      <td>Andorra</td>\n",
       "      <td>AND</td>\n",
       "      <td>7.105041</td>\n",
       "      <td>6.926121</td>\n",
       "      <td>6.724770</td>\n",
       "      <td>6.508305</td>\n",
       "      <td>6.259422</td>\n",
       "      <td>6.003857</td>\n",
       "      <td>5.735006</td>\n",
       "      <td>5.491343</td>\n",
       "      <td>...</td>\n",
       "      <td>0.865725</td>\n",
       "      <td>-0.165995</td>\n",
       "      <td>-1.241974</td>\n",
       "      <td>-2.510552</td>\n",
       "      <td>-3.724710</td>\n",
       "      <td>-4.399684</td>\n",
       "      <td>-4.191941</td>\n",
       "      <td>-3.229397</td>\n",
       "      <td>NaN</td>\n",
       "      <td>NaN</td>\n",
       "    </tr>\n",
       "  </tbody>\n",
       "</table>\n",
       "<p>2 rows × 60 columns</p>\n",
       "</div>"
      ],
      "text/plain": [
       "  Country Name Country Code      1960      1961      1962      1963      1964  \\\n",
       "0        Aruba          ABW  3.134888  2.238266  1.416812  0.834202  0.583861   \n",
       "1      Andorra          AND  7.105041  6.926121  6.724770  6.508305  6.259422   \n",
       "\n",
       "       1965      1966      1967     ...           2008      2009      2010  \\\n",
       "0  0.578729  0.611793  0.582236     ...       0.122433  0.072993  0.178314   \n",
       "1  6.003857  5.735006  5.491343     ...       0.865725 -0.165995 -1.241974   \n",
       "\n",
       "       2011      2012      2013      2014      2015  2016  Unnamed: 61  \n",
       "0  0.333116  0.447319  0.514335  0.503970  0.432162   NaN          NaN  \n",
       "1 -2.510552 -3.724710 -4.399684 -4.191941 -3.229397   NaN          NaN  \n",
       "\n",
       "[2 rows x 60 columns]"
      ]
     },
     "execution_count": 137,
     "metadata": {},
     "output_type": "execute_result"
    }
   ],
   "source": [
    "popgrow.head(2)"
   ]
  },
  {
   "cell_type": "code",
   "execution_count": 138,
   "metadata": {
    "collapsed": false
   },
   "outputs": [
    {
     "data": {
      "text/html": [
       "<div>\n",
       "<table border=\"1\" class=\"dataframe\">\n",
       "  <thead>\n",
       "    <tr style=\"text-align: right;\">\n",
       "      <th></th>\n",
       "      <th>Code</th>\n",
       "      <th>IncomeGroup</th>\n",
       "    </tr>\n",
       "  </thead>\n",
       "  <tbody>\n",
       "    <tr>\n",
       "      <th>0</th>\n",
       "      <td>ABW</td>\n",
       "      <td>High income</td>\n",
       "    </tr>\n",
       "    <tr>\n",
       "      <th>1</th>\n",
       "      <td>AFG</td>\n",
       "      <td>Low income</td>\n",
       "    </tr>\n",
       "  </tbody>\n",
       "</table>\n",
       "</div>"
      ],
      "text/plain": [
       "  Code  IncomeGroup\n",
       "0  ABW  High income\n",
       "1  AFG   Low income"
      ]
     },
     "execution_count": 138,
     "metadata": {},
     "output_type": "execute_result"
    }
   ],
   "source": [
    "metapop.head(2)"
   ]
  },
  {
   "cell_type": "code",
   "execution_count": 68,
   "metadata": {
    "collapsed": false
   },
   "outputs": [
    {
     "data": {
      "text/plain": [
       "Country Name    264\n",
       "Country Code    264\n",
       "1960            213\n",
       "1961            260\n",
       "1962            260\n",
       "1963            260\n",
       "1964            260\n",
       "1965            260\n",
       "1966            260\n",
       "1967            260\n",
       "1968            260\n",
       "1969            260\n",
       "1970            260\n",
       "1971            260\n",
       "1972            260\n",
       "1973            260\n",
       "1974            260\n",
       "1975            260\n",
       "1976            260\n",
       "1977            260\n",
       "1978            260\n",
       "1979            260\n",
       "1980            260\n",
       "1981            260\n",
       "1982            260\n",
       "1983            260\n",
       "1984            260\n",
       "1985            260\n",
       "1986            260\n",
       "1987            260\n",
       "1988            260\n",
       "1989            260\n",
       "1990            261\n",
       "1991            261\n",
       "1992            261\n",
       "1993            261\n",
       "1994            261\n",
       "1995            261\n",
       "1996            262\n",
       "1997            262\n",
       "1998            262\n",
       "1999            263\n",
       "2000            263\n",
       "2001            262\n",
       "2002            263\n",
       "2003            263\n",
       "2004            263\n",
       "2005            263\n",
       "2006            263\n",
       "2007            262\n",
       "2008            263\n",
       "2009            263\n",
       "2010            263\n",
       "2011            262\n",
       "2012            262\n",
       "2013            262\n",
       "2014            262\n",
       "2015            262\n",
       "2016              0\n",
       "Unnamed: 61       0\n",
       "dtype: int64"
      ]
     },
     "execution_count": 68,
     "metadata": {},
     "output_type": "execute_result"
    }
   ],
   "source": [
    "popgrow.count()"
   ]
  },
  {
   "cell_type": "code",
   "execution_count": 69,
   "metadata": {
    "collapsed": false
   },
   "outputs": [
    {
     "data": {
      "text/plain": [
       "Code           263\n",
       "IncomeGroup    217\n",
       "dtype: int64"
      ]
     },
     "execution_count": 69,
     "metadata": {},
     "output_type": "execute_result"
    }
   ],
   "source": [
    "metapop.count()"
   ]
  },
  {
   "cell_type": "code",
   "execution_count": 72,
   "metadata": {
    "collapsed": false
   },
   "outputs": [],
   "source": [
    "#metapop = metapop.rename(columns={'Country Code': 'Code'})"
   ]
  },
  {
   "cell_type": "code",
   "execution_count": 73,
   "metadata": {
    "collapsed": false
   },
   "outputs": [],
   "source": [
    "#metapop.head(2)"
   ]
  },
  {
   "cell_type": "code",
   "execution_count": 139,
   "metadata": {
    "collapsed": true
   },
   "outputs": [],
   "source": [
    "popgrow = popgrow.rename(columns={'Country Code': 'Code', 'Country Name': 'Country'})"
   ]
  },
  {
   "cell_type": "code",
   "execution_count": 140,
   "metadata": {
    "collapsed": false
   },
   "outputs": [
    {
     "data": {
      "text/html": [
       "<div>\n",
       "<table border=\"1\" class=\"dataframe\">\n",
       "  <thead>\n",
       "    <tr style=\"text-align: right;\">\n",
       "      <th></th>\n",
       "      <th>Country</th>\n",
       "      <th>Code</th>\n",
       "      <th>1960</th>\n",
       "      <th>1961</th>\n",
       "      <th>1962</th>\n",
       "      <th>1963</th>\n",
       "      <th>1964</th>\n",
       "      <th>1965</th>\n",
       "      <th>1966</th>\n",
       "      <th>1967</th>\n",
       "      <th>...</th>\n",
       "      <th>2008</th>\n",
       "      <th>2009</th>\n",
       "      <th>2010</th>\n",
       "      <th>2011</th>\n",
       "      <th>2012</th>\n",
       "      <th>2013</th>\n",
       "      <th>2014</th>\n",
       "      <th>2015</th>\n",
       "      <th>2016</th>\n",
       "      <th>Unnamed: 61</th>\n",
       "    </tr>\n",
       "  </thead>\n",
       "  <tbody>\n",
       "    <tr>\n",
       "      <th>0</th>\n",
       "      <td>Aruba</td>\n",
       "      <td>ABW</td>\n",
       "      <td>3.134888</td>\n",
       "      <td>2.238266</td>\n",
       "      <td>1.416812</td>\n",
       "      <td>0.834202</td>\n",
       "      <td>0.583861</td>\n",
       "      <td>0.578729</td>\n",
       "      <td>0.611793</td>\n",
       "      <td>0.582236</td>\n",
       "      <td>...</td>\n",
       "      <td>0.122433</td>\n",
       "      <td>0.072993</td>\n",
       "      <td>0.178314</td>\n",
       "      <td>0.333116</td>\n",
       "      <td>0.447319</td>\n",
       "      <td>0.514335</td>\n",
       "      <td>0.503970</td>\n",
       "      <td>0.432162</td>\n",
       "      <td>NaN</td>\n",
       "      <td>NaN</td>\n",
       "    </tr>\n",
       "    <tr>\n",
       "      <th>1</th>\n",
       "      <td>Andorra</td>\n",
       "      <td>AND</td>\n",
       "      <td>7.105041</td>\n",
       "      <td>6.926121</td>\n",
       "      <td>6.724770</td>\n",
       "      <td>6.508305</td>\n",
       "      <td>6.259422</td>\n",
       "      <td>6.003857</td>\n",
       "      <td>5.735006</td>\n",
       "      <td>5.491343</td>\n",
       "      <td>...</td>\n",
       "      <td>0.865725</td>\n",
       "      <td>-0.165995</td>\n",
       "      <td>-1.241974</td>\n",
       "      <td>-2.510552</td>\n",
       "      <td>-3.724710</td>\n",
       "      <td>-4.399684</td>\n",
       "      <td>-4.191941</td>\n",
       "      <td>-3.229397</td>\n",
       "      <td>NaN</td>\n",
       "      <td>NaN</td>\n",
       "    </tr>\n",
       "  </tbody>\n",
       "</table>\n",
       "<p>2 rows × 60 columns</p>\n",
       "</div>"
      ],
      "text/plain": [
       "   Country Code      1960      1961      1962      1963      1964      1965  \\\n",
       "0    Aruba  ABW  3.134888  2.238266  1.416812  0.834202  0.583861  0.578729   \n",
       "1  Andorra  AND  7.105041  6.926121  6.724770  6.508305  6.259422  6.003857   \n",
       "\n",
       "       1966      1967     ...           2008      2009      2010      2011  \\\n",
       "0  0.611793  0.582236     ...       0.122433  0.072993  0.178314  0.333116   \n",
       "1  5.735006  5.491343     ...       0.865725 -0.165995 -1.241974 -2.510552   \n",
       "\n",
       "       2012      2013      2014      2015  2016  Unnamed: 61  \n",
       "0  0.447319  0.514335  0.503970  0.432162   NaN          NaN  \n",
       "1 -3.724710 -4.399684 -4.191941 -3.229397   NaN          NaN  \n",
       "\n",
       "[2 rows x 60 columns]"
      ]
     },
     "execution_count": 140,
     "metadata": {},
     "output_type": "execute_result"
    }
   ],
   "source": [
    "popgrow.head(2)"
   ]
  },
  {
   "cell_type": "code",
   "execution_count": 141,
   "metadata": {
    "collapsed": false
   },
   "outputs": [],
   "source": [
    "PopInc = pd.merge(popgrow, metapop, on=\"Code\")"
   ]
  },
  {
   "cell_type": "code",
   "execution_count": 142,
   "metadata": {
    "collapsed": false
   },
   "outputs": [
    {
     "data": {
      "text/html": [
       "<div>\n",
       "<table border=\"1\" class=\"dataframe\">\n",
       "  <thead>\n",
       "    <tr style=\"text-align: right;\">\n",
       "      <th></th>\n",
       "      <th>Country</th>\n",
       "      <th>Code</th>\n",
       "      <th>1960</th>\n",
       "      <th>1961</th>\n",
       "      <th>1962</th>\n",
       "      <th>1963</th>\n",
       "      <th>1964</th>\n",
       "      <th>1965</th>\n",
       "      <th>1966</th>\n",
       "      <th>1967</th>\n",
       "      <th>...</th>\n",
       "      <th>2009</th>\n",
       "      <th>2010</th>\n",
       "      <th>2011</th>\n",
       "      <th>2012</th>\n",
       "      <th>2013</th>\n",
       "      <th>2014</th>\n",
       "      <th>2015</th>\n",
       "      <th>2016</th>\n",
       "      <th>Unnamed: 61</th>\n",
       "      <th>IncomeGroup</th>\n",
       "    </tr>\n",
       "  </thead>\n",
       "  <tbody>\n",
       "    <tr>\n",
       "      <th>0</th>\n",
       "      <td>Aruba</td>\n",
       "      <td>ABW</td>\n",
       "      <td>3.134888</td>\n",
       "      <td>2.238266</td>\n",
       "      <td>1.416812</td>\n",
       "      <td>0.834202</td>\n",
       "      <td>0.583861</td>\n",
       "      <td>0.578729</td>\n",
       "      <td>0.611793</td>\n",
       "      <td>0.582236</td>\n",
       "      <td>...</td>\n",
       "      <td>0.072993</td>\n",
       "      <td>0.178314</td>\n",
       "      <td>0.333116</td>\n",
       "      <td>0.447319</td>\n",
       "      <td>0.514335</td>\n",
       "      <td>0.503970</td>\n",
       "      <td>0.432162</td>\n",
       "      <td>NaN</td>\n",
       "      <td>NaN</td>\n",
       "      <td>High income</td>\n",
       "    </tr>\n",
       "    <tr>\n",
       "      <th>1</th>\n",
       "      <td>Andorra</td>\n",
       "      <td>AND</td>\n",
       "      <td>7.105041</td>\n",
       "      <td>6.926121</td>\n",
       "      <td>6.724770</td>\n",
       "      <td>6.508305</td>\n",
       "      <td>6.259422</td>\n",
       "      <td>6.003857</td>\n",
       "      <td>5.735006</td>\n",
       "      <td>5.491343</td>\n",
       "      <td>...</td>\n",
       "      <td>-0.165995</td>\n",
       "      <td>-1.241974</td>\n",
       "      <td>-2.510552</td>\n",
       "      <td>-3.724710</td>\n",
       "      <td>-4.399684</td>\n",
       "      <td>-4.191941</td>\n",
       "      <td>-3.229397</td>\n",
       "      <td>NaN</td>\n",
       "      <td>NaN</td>\n",
       "      <td>High income</td>\n",
       "    </tr>\n",
       "  </tbody>\n",
       "</table>\n",
       "<p>2 rows × 61 columns</p>\n",
       "</div>"
      ],
      "text/plain": [
       "   Country Code      1960      1961      1962      1963      1964      1965  \\\n",
       "0    Aruba  ABW  3.134888  2.238266  1.416812  0.834202  0.583861  0.578729   \n",
       "1  Andorra  AND  7.105041  6.926121  6.724770  6.508305  6.259422  6.003857   \n",
       "\n",
       "       1966      1967     ...           2009      2010      2011      2012  \\\n",
       "0  0.611793  0.582236     ...       0.072993  0.178314  0.333116  0.447319   \n",
       "1  5.735006  5.491343     ...      -0.165995 -1.241974 -2.510552 -3.724710   \n",
       "\n",
       "       2013      2014      2015  2016  Unnamed: 61  IncomeGroup  \n",
       "0  0.514335  0.503970  0.432162   NaN          NaN  High income  \n",
       "1 -4.399684 -4.191941 -3.229397   NaN          NaN  High income  \n",
       "\n",
       "[2 rows x 61 columns]"
      ]
     },
     "execution_count": 142,
     "metadata": {},
     "output_type": "execute_result"
    }
   ],
   "source": [
    "PopInc.head(2)"
   ]
  },
  {
   "cell_type": "code",
   "execution_count": 143,
   "metadata": {
    "collapsed": true
   },
   "outputs": [],
   "source": [
    "PopInc.drop(PopInc.columns[[-2]], axis=1, inplace=True)"
   ]
  },
  {
   "cell_type": "code",
   "execution_count": 144,
   "metadata": {
    "collapsed": false
   },
   "outputs": [
    {
     "data": {
      "text/html": [
       "<div>\n",
       "<table border=\"1\" class=\"dataframe\">\n",
       "  <thead>\n",
       "    <tr style=\"text-align: right;\">\n",
       "      <th></th>\n",
       "      <th>Country</th>\n",
       "      <th>Code</th>\n",
       "      <th>1960</th>\n",
       "      <th>1961</th>\n",
       "      <th>1962</th>\n",
       "      <th>1963</th>\n",
       "      <th>1964</th>\n",
       "      <th>1965</th>\n",
       "      <th>1966</th>\n",
       "      <th>1967</th>\n",
       "      <th>...</th>\n",
       "      <th>2008</th>\n",
       "      <th>2009</th>\n",
       "      <th>2010</th>\n",
       "      <th>2011</th>\n",
       "      <th>2012</th>\n",
       "      <th>2013</th>\n",
       "      <th>2014</th>\n",
       "      <th>2015</th>\n",
       "      <th>2016</th>\n",
       "      <th>IncomeGroup</th>\n",
       "    </tr>\n",
       "  </thead>\n",
       "  <tbody>\n",
       "    <tr>\n",
       "      <th>0</th>\n",
       "      <td>Aruba</td>\n",
       "      <td>ABW</td>\n",
       "      <td>3.134888</td>\n",
       "      <td>2.238266</td>\n",
       "      <td>1.416812</td>\n",
       "      <td>0.834202</td>\n",
       "      <td>0.583861</td>\n",
       "      <td>0.578729</td>\n",
       "      <td>0.611793</td>\n",
       "      <td>0.582236</td>\n",
       "      <td>...</td>\n",
       "      <td>0.122433</td>\n",
       "      <td>0.072993</td>\n",
       "      <td>0.178314</td>\n",
       "      <td>0.333116</td>\n",
       "      <td>0.447319</td>\n",
       "      <td>0.514335</td>\n",
       "      <td>0.503970</td>\n",
       "      <td>0.432162</td>\n",
       "      <td>NaN</td>\n",
       "      <td>High income</td>\n",
       "    </tr>\n",
       "    <tr>\n",
       "      <th>1</th>\n",
       "      <td>Andorra</td>\n",
       "      <td>AND</td>\n",
       "      <td>7.105041</td>\n",
       "      <td>6.926121</td>\n",
       "      <td>6.724770</td>\n",
       "      <td>6.508305</td>\n",
       "      <td>6.259422</td>\n",
       "      <td>6.003857</td>\n",
       "      <td>5.735006</td>\n",
       "      <td>5.491343</td>\n",
       "      <td>...</td>\n",
       "      <td>0.865725</td>\n",
       "      <td>-0.165995</td>\n",
       "      <td>-1.241974</td>\n",
       "      <td>-2.510552</td>\n",
       "      <td>-3.724710</td>\n",
       "      <td>-4.399684</td>\n",
       "      <td>-4.191941</td>\n",
       "      <td>-3.229397</td>\n",
       "      <td>NaN</td>\n",
       "      <td>High income</td>\n",
       "    </tr>\n",
       "  </tbody>\n",
       "</table>\n",
       "<p>2 rows × 60 columns</p>\n",
       "</div>"
      ],
      "text/plain": [
       "   Country Code      1960      1961      1962      1963      1964      1965  \\\n",
       "0    Aruba  ABW  3.134888  2.238266  1.416812  0.834202  0.583861  0.578729   \n",
       "1  Andorra  AND  7.105041  6.926121  6.724770  6.508305  6.259422  6.003857   \n",
       "\n",
       "       1966      1967     ...           2008      2009      2010      2011  \\\n",
       "0  0.611793  0.582236     ...       0.122433  0.072993  0.178314  0.333116   \n",
       "1  5.735006  5.491343     ...       0.865725 -0.165995 -1.241974 -2.510552   \n",
       "\n",
       "       2012      2013      2014      2015  2016  IncomeGroup  \n",
       "0  0.447319  0.514335  0.503970  0.432162   NaN  High income  \n",
       "1 -3.724710 -4.399684 -4.191941 -3.229397   NaN  High income  \n",
       "\n",
       "[2 rows x 60 columns]"
      ]
     },
     "execution_count": 144,
     "metadata": {},
     "output_type": "execute_result"
    }
   ],
   "source": [
    "PopInc.head(2)"
   ]
  },
  {
   "cell_type": "code",
   "execution_count": 84,
   "metadata": {
    "collapsed": true
   },
   "outputs": [],
   "source": [
    "#PopInc = PopInc.T"
   ]
  },
  {
   "cell_type": "code",
   "execution_count": 145,
   "metadata": {
    "collapsed": false
   },
   "outputs": [
    {
     "data": {
      "text/html": [
       "<div>\n",
       "<table border=\"1\" class=\"dataframe\">\n",
       "  <thead>\n",
       "    <tr style=\"text-align: right;\">\n",
       "      <th></th>\n",
       "      <th>Code</th>\n",
       "      <th>1960</th>\n",
       "      <th>1961</th>\n",
       "      <th>1962</th>\n",
       "      <th>1963</th>\n",
       "      <th>1964</th>\n",
       "      <th>1965</th>\n",
       "      <th>1966</th>\n",
       "      <th>1967</th>\n",
       "      <th>1968</th>\n",
       "      <th>...</th>\n",
       "      <th>2008</th>\n",
       "      <th>2009</th>\n",
       "      <th>2010</th>\n",
       "      <th>2011</th>\n",
       "      <th>2012</th>\n",
       "      <th>2013</th>\n",
       "      <th>2014</th>\n",
       "      <th>2015</th>\n",
       "      <th>2016</th>\n",
       "      <th>IncomeGroup</th>\n",
       "    </tr>\n",
       "    <tr>\n",
       "      <th>Country</th>\n",
       "      <th></th>\n",
       "      <th></th>\n",
       "      <th></th>\n",
       "      <th></th>\n",
       "      <th></th>\n",
       "      <th></th>\n",
       "      <th></th>\n",
       "      <th></th>\n",
       "      <th></th>\n",
       "      <th></th>\n",
       "      <th></th>\n",
       "      <th></th>\n",
       "      <th></th>\n",
       "      <th></th>\n",
       "      <th></th>\n",
       "      <th></th>\n",
       "      <th></th>\n",
       "      <th></th>\n",
       "      <th></th>\n",
       "      <th></th>\n",
       "      <th></th>\n",
       "    </tr>\n",
       "  </thead>\n",
       "  <tbody>\n",
       "    <tr>\n",
       "      <th>Aruba</th>\n",
       "      <td>ABW</td>\n",
       "      <td>3.134888</td>\n",
       "      <td>2.238266</td>\n",
       "      <td>1.416812</td>\n",
       "      <td>0.834202</td>\n",
       "      <td>0.583861</td>\n",
       "      <td>0.578729</td>\n",
       "      <td>0.611793</td>\n",
       "      <td>0.582236</td>\n",
       "      <td>0.577153</td>\n",
       "      <td>...</td>\n",
       "      <td>0.122433</td>\n",
       "      <td>0.072993</td>\n",
       "      <td>0.178314</td>\n",
       "      <td>0.333116</td>\n",
       "      <td>0.447319</td>\n",
       "      <td>0.514335</td>\n",
       "      <td>0.503970</td>\n",
       "      <td>0.432162</td>\n",
       "      <td>NaN</td>\n",
       "      <td>High income</td>\n",
       "    </tr>\n",
       "    <tr>\n",
       "      <th>Andorra</th>\n",
       "      <td>AND</td>\n",
       "      <td>7.105041</td>\n",
       "      <td>6.926121</td>\n",
       "      <td>6.724770</td>\n",
       "      <td>6.508305</td>\n",
       "      <td>6.259422</td>\n",
       "      <td>6.003857</td>\n",
       "      <td>5.735006</td>\n",
       "      <td>5.491343</td>\n",
       "      <td>5.315136</td>\n",
       "      <td>...</td>\n",
       "      <td>0.865725</td>\n",
       "      <td>-0.165995</td>\n",
       "      <td>-1.241974</td>\n",
       "      <td>-2.510552</td>\n",
       "      <td>-3.724710</td>\n",
       "      <td>-4.399684</td>\n",
       "      <td>-4.191941</td>\n",
       "      <td>-3.229397</td>\n",
       "      <td>NaN</td>\n",
       "      <td>High income</td>\n",
       "    </tr>\n",
       "    <tr>\n",
       "      <th>Afghanistan</th>\n",
       "      <td>AFG</td>\n",
       "      <td>1.813677</td>\n",
       "      <td>1.874003</td>\n",
       "      <td>1.932414</td>\n",
       "      <td>1.989785</td>\n",
       "      <td>2.046675</td>\n",
       "      <td>2.102528</td>\n",
       "      <td>2.125960</td>\n",
       "      <td>2.142250</td>\n",
       "      <td>2.205218</td>\n",
       "      <td>...</td>\n",
       "      <td>2.485315</td>\n",
       "      <td>2.525628</td>\n",
       "      <td>2.736886</td>\n",
       "      <td>2.983979</td>\n",
       "      <td>3.135546</td>\n",
       "      <td>3.164336</td>\n",
       "      <td>3.033473</td>\n",
       "      <td>2.802986</td>\n",
       "      <td>NaN</td>\n",
       "      <td>Low income</td>\n",
       "    </tr>\n",
       "    <tr>\n",
       "      <th>Angola</th>\n",
       "      <td>AGO</td>\n",
       "      <td>1.803005</td>\n",
       "      <td>1.813207</td>\n",
       "      <td>1.820714</td>\n",
       "      <td>1.811246</td>\n",
       "      <td>1.778846</td>\n",
       "      <td>1.737886</td>\n",
       "      <td>1.694880</td>\n",
       "      <td>1.678708</td>\n",
       "      <td>1.716954</td>\n",
       "      <td>...</td>\n",
       "      <td>3.374180</td>\n",
       "      <td>3.359149</td>\n",
       "      <td>3.353693</td>\n",
       "      <td>3.347413</td>\n",
       "      <td>3.331567</td>\n",
       "      <td>3.306205</td>\n",
       "      <td>3.269552</td>\n",
       "      <td>3.226506</td>\n",
       "      <td>NaN</td>\n",
       "      <td>Upper middle income</td>\n",
       "    </tr>\n",
       "    <tr>\n",
       "      <th>Albania</th>\n",
       "      <td>ALB</td>\n",
       "      <td>3.015423</td>\n",
       "      <td>3.120855</td>\n",
       "      <td>3.056731</td>\n",
       "      <td>2.953749</td>\n",
       "      <td>2.880686</td>\n",
       "      <td>2.754021</td>\n",
       "      <td>2.634564</td>\n",
       "      <td>2.630190</td>\n",
       "      <td>2.842511</td>\n",
       "      <td>...</td>\n",
       "      <td>-0.767343</td>\n",
       "      <td>-0.673894</td>\n",
       "      <td>-0.496462</td>\n",
       "      <td>-0.283303</td>\n",
       "      <td>-0.156175</td>\n",
       "      <td>-0.124032</td>\n",
       "      <td>-0.103552</td>\n",
       "      <td>-0.155184</td>\n",
       "      <td>NaN</td>\n",
       "      <td>Upper middle income</td>\n",
       "    </tr>\n",
       "    <tr>\n",
       "      <th>Arab World</th>\n",
       "      <td>ARB</td>\n",
       "      <td>NaN</td>\n",
       "      <td>2.741996</td>\n",
       "      <td>2.769515</td>\n",
       "      <td>2.792110</td>\n",
       "      <td>2.811906</td>\n",
       "      <td>2.828133</td>\n",
       "      <td>2.850383</td>\n",
       "      <td>2.867694</td>\n",
       "      <td>2.861356</td>\n",
       "      <td>...</td>\n",
       "      <td>2.469810</td>\n",
       "      <td>2.424469</td>\n",
       "      <td>2.335303</td>\n",
       "      <td>2.242795</td>\n",
       "      <td>2.152384</td>\n",
       "      <td>2.088283</td>\n",
       "      <td>2.050000</td>\n",
       "      <td>2.029991</td>\n",
       "      <td>NaN</td>\n",
       "      <td>NaN</td>\n",
       "    </tr>\n",
       "    <tr>\n",
       "      <th>United Arab Emirates</th>\n",
       "      <td>ARE</td>\n",
       "      <td>5.903390</td>\n",
       "      <td>8.655327</td>\n",
       "      <td>10.566744</td>\n",
       "      <td>10.940081</td>\n",
       "      <td>9.880637</td>\n",
       "      <td>8.390643</td>\n",
       "      <td>6.912946</td>\n",
       "      <td>6.433790</td>\n",
       "      <td>7.582048</td>\n",
       "      <td>...</td>\n",
       "      <td>13.810060</td>\n",
       "      <td>11.038238</td>\n",
       "      <td>7.787342</td>\n",
       "      <td>4.750833</td>\n",
       "      <td>2.463140</td>\n",
       "      <td>0.971923</td>\n",
       "      <td>0.509332</td>\n",
       "      <td>0.776451</td>\n",
       "      <td>NaN</td>\n",
       "      <td>High income</td>\n",
       "    </tr>\n",
       "    <tr>\n",
       "      <th>Argentina</th>\n",
       "      <td>ARG</td>\n",
       "      <td>1.630879</td>\n",
       "      <td>1.606899</td>\n",
       "      <td>1.584299</td>\n",
       "      <td>1.557555</td>\n",
       "      <td>1.524184</td>\n",
       "      <td>1.489553</td>\n",
       "      <td>1.449535</td>\n",
       "      <td>1.420521</td>\n",
       "      <td>1.424779</td>\n",
       "      <td>...</td>\n",
       "      <td>1.025393</td>\n",
       "      <td>1.026810</td>\n",
       "      <td>1.034455</td>\n",
       "      <td>1.044288</td>\n",
       "      <td>1.049809</td>\n",
       "      <td>1.047065</td>\n",
       "      <td>1.033056</td>\n",
       "      <td>1.010993</td>\n",
       "      <td>NaN</td>\n",
       "      <td>Upper middle income</td>\n",
       "    </tr>\n",
       "    <tr>\n",
       "      <th>...</th>\n",
       "      <td>...</td>\n",
       "      <td>...</td>\n",
       "      <td>...</td>\n",
       "      <td>...</td>\n",
       "      <td>...</td>\n",
       "      <td>...</td>\n",
       "      <td>...</td>\n",
       "      <td>...</td>\n",
       "      <td>...</td>\n",
       "      <td>...</td>\n",
       "      <td>...</td>\n",
       "      <td>...</td>\n",
       "      <td>...</td>\n",
       "      <td>...</td>\n",
       "      <td>...</td>\n",
       "      <td>...</td>\n",
       "      <td>...</td>\n",
       "      <td>...</td>\n",
       "      <td>...</td>\n",
       "      <td>...</td>\n",
       "      <td>...</td>\n",
       "    </tr>\n",
       "    <tr>\n",
       "      <th>West Bank and Gaza</th>\n",
       "      <td>PSE</td>\n",
       "      <td>NaN</td>\n",
       "      <td>NaN</td>\n",
       "      <td>NaN</td>\n",
       "      <td>NaN</td>\n",
       "      <td>NaN</td>\n",
       "      <td>NaN</td>\n",
       "      <td>NaN</td>\n",
       "      <td>NaN</td>\n",
       "      <td>NaN</td>\n",
       "      <td>...</td>\n",
       "      <td>2.882426</td>\n",
       "      <td>2.891868</td>\n",
       "      <td>2.898629</td>\n",
       "      <td>2.997038</td>\n",
       "      <td>3.006264</td>\n",
       "      <td>2.984616</td>\n",
       "      <td>2.957995</td>\n",
       "      <td>2.924691</td>\n",
       "      <td>NaN</td>\n",
       "      <td>Lower middle income</td>\n",
       "    </tr>\n",
       "    <tr>\n",
       "      <th>World</th>\n",
       "      <td>WLD</td>\n",
       "      <td>NaN</td>\n",
       "      <td>1.353022</td>\n",
       "      <td>1.721104</td>\n",
       "      <td>2.073576</td>\n",
       "      <td>2.047850</td>\n",
       "      <td>2.046407</td>\n",
       "      <td>2.098946</td>\n",
       "      <td>2.044577</td>\n",
       "      <td>2.026216</td>\n",
       "      <td>...</td>\n",
       "      <td>1.235349</td>\n",
       "      <td>1.222987</td>\n",
       "      <td>1.209310</td>\n",
       "      <td>1.202018</td>\n",
       "      <td>1.178031</td>\n",
       "      <td>1.222106</td>\n",
       "      <td>1.180142</td>\n",
       "      <td>1.182418</td>\n",
       "      <td>NaN</td>\n",
       "      <td>NaN</td>\n",
       "    </tr>\n",
       "    <tr>\n",
       "      <th>Samoa</th>\n",
       "      <td>WSM</td>\n",
       "      <td>3.040844</td>\n",
       "      <td>3.149296</td>\n",
       "      <td>3.216501</td>\n",
       "      <td>3.210813</td>\n",
       "      <td>3.120648</td>\n",
       "      <td>2.966411</td>\n",
       "      <td>2.808278</td>\n",
       "      <td>2.648136</td>\n",
       "      <td>2.435922</td>\n",
       "      <td>...</td>\n",
       "      <td>0.657411</td>\n",
       "      <td>0.684525</td>\n",
       "      <td>0.716969</td>\n",
       "      <td>0.752421</td>\n",
       "      <td>0.779628</td>\n",
       "      <td>0.785153</td>\n",
       "      <td>0.761315</td>\n",
       "      <td>0.718308</td>\n",
       "      <td>NaN</td>\n",
       "      <td>Lower middle income</td>\n",
       "    </tr>\n",
       "    <tr>\n",
       "      <th>Yemen, Rep.</th>\n",
       "      <td>YEM</td>\n",
       "      <td>1.625765</td>\n",
       "      <td>1.638589</td>\n",
       "      <td>1.654696</td>\n",
       "      <td>1.675548</td>\n",
       "      <td>1.701783</td>\n",
       "      <td>1.731891</td>\n",
       "      <td>1.787889</td>\n",
       "      <td>1.847770</td>\n",
       "      <td>1.868445</td>\n",
       "      <td>...</td>\n",
       "      <td>2.824087</td>\n",
       "      <td>2.789801</td>\n",
       "      <td>2.740443</td>\n",
       "      <td>2.688891</td>\n",
       "      <td>2.638109</td>\n",
       "      <td>2.580375</td>\n",
       "      <td>2.515593</td>\n",
       "      <td>2.446705</td>\n",
       "      <td>NaN</td>\n",
       "      <td>Lower middle income</td>\n",
       "    </tr>\n",
       "    <tr>\n",
       "      <th>South Africa</th>\n",
       "      <td>ZAF</td>\n",
       "      <td>2.456943</td>\n",
       "      <td>3.134770</td>\n",
       "      <td>2.798800</td>\n",
       "      <td>2.549616</td>\n",
       "      <td>2.371388</td>\n",
       "      <td>2.251075</td>\n",
       "      <td>2.177580</td>\n",
       "      <td>2.141167</td>\n",
       "      <td>2.133160</td>\n",
       "      <td>...</td>\n",
       "      <td>1.429016</td>\n",
       "      <td>1.459381</td>\n",
       "      <td>1.490032</td>\n",
       "      <td>1.520981</td>\n",
       "      <td>1.552242</td>\n",
       "      <td>1.583826</td>\n",
       "      <td>1.615745</td>\n",
       "      <td>1.648009</td>\n",
       "      <td>NaN</td>\n",
       "      <td>Upper middle income</td>\n",
       "    </tr>\n",
       "    <tr>\n",
       "      <th>Congo, Dem. Rep.</th>\n",
       "      <td>COD</td>\n",
       "      <td>2.499963</td>\n",
       "      <td>2.522114</td>\n",
       "      <td>2.547772</td>\n",
       "      <td>2.588613</td>\n",
       "      <td>2.649483</td>\n",
       "      <td>2.719216</td>\n",
       "      <td>2.793125</td>\n",
       "      <td>2.849687</td>\n",
       "      <td>2.869429</td>\n",
       "      <td>...</td>\n",
       "      <td>3.246480</td>\n",
       "      <td>3.240631</td>\n",
       "      <td>3.226591</td>\n",
       "      <td>3.206612</td>\n",
       "      <td>3.185422</td>\n",
       "      <td>3.166937</td>\n",
       "      <td>3.153175</td>\n",
       "      <td>3.141738</td>\n",
       "      <td>NaN</td>\n",
       "      <td>Low income</td>\n",
       "    </tr>\n",
       "    <tr>\n",
       "      <th>Zambia</th>\n",
       "      <td>ZMB</td>\n",
       "      <td>2.954668</td>\n",
       "      <td>3.012355</td>\n",
       "      <td>3.064885</td>\n",
       "      <td>3.105865</td>\n",
       "      <td>3.132456</td>\n",
       "      <td>3.151116</td>\n",
       "      <td>3.163232</td>\n",
       "      <td>3.181647</td>\n",
       "      <td>3.218627</td>\n",
       "      <td>...</td>\n",
       "      <td>2.908179</td>\n",
       "      <td>2.954641</td>\n",
       "      <td>2.987173</td>\n",
       "      <td>3.015603</td>\n",
       "      <td>3.042139</td>\n",
       "      <td>3.060273</td>\n",
       "      <td>3.069640</td>\n",
       "      <td>3.071812</td>\n",
       "      <td>NaN</td>\n",
       "      <td>Lower middle income</td>\n",
       "    </tr>\n",
       "    <tr>\n",
       "      <th>Zimbabwe</th>\n",
       "      <td>ZWE</td>\n",
       "      <td>3.218174</td>\n",
       "      <td>3.257531</td>\n",
       "      <td>3.289035</td>\n",
       "      <td>3.303133</td>\n",
       "      <td>3.296046</td>\n",
       "      <td>3.277150</td>\n",
       "      <td>3.252359</td>\n",
       "      <td>3.236917</td>\n",
       "      <td>3.242345</td>\n",
       "      <td>...</td>\n",
       "      <td>1.475502</td>\n",
       "      <td>1.657381</td>\n",
       "      <td>1.826380</td>\n",
       "      <td>1.995816</td>\n",
       "      <td>2.150523</td>\n",
       "      <td>2.257867</td>\n",
       "      <td>2.307451</td>\n",
       "      <td>2.313958</td>\n",
       "      <td>NaN</td>\n",
       "      <td>Low income</td>\n",
       "    </tr>\n",
       "  </tbody>\n",
       "</table>\n",
       "<p>263 rows × 59 columns</p>\n",
       "</div>"
      ],
      "text/plain": [
       "                     Code      1960      1961       1962       1963      1964  \\\n",
       "Country                                                                         \n",
       "Aruba                 ABW  3.134888  2.238266   1.416812   0.834202  0.583861   \n",
       "Andorra               AND  7.105041  6.926121   6.724770   6.508305  6.259422   \n",
       "Afghanistan           AFG  1.813677  1.874003   1.932414   1.989785  2.046675   \n",
       "Angola                AGO  1.803005  1.813207   1.820714   1.811246  1.778846   \n",
       "Albania               ALB  3.015423  3.120855   3.056731   2.953749  2.880686   \n",
       "Arab World            ARB       NaN  2.741996   2.769515   2.792110  2.811906   \n",
       "United Arab Emirates  ARE  5.903390  8.655327  10.566744  10.940081  9.880637   \n",
       "Argentina             ARG  1.630879  1.606899   1.584299   1.557555  1.524184   \n",
       "...                   ...       ...       ...        ...        ...       ...   \n",
       "West Bank and Gaza    PSE       NaN       NaN        NaN        NaN       NaN   \n",
       "World                 WLD       NaN  1.353022   1.721104   2.073576  2.047850   \n",
       "Samoa                 WSM  3.040844  3.149296   3.216501   3.210813  3.120648   \n",
       "Yemen, Rep.           YEM  1.625765  1.638589   1.654696   1.675548  1.701783   \n",
       "South Africa          ZAF  2.456943  3.134770   2.798800   2.549616  2.371388   \n",
       "Congo, Dem. Rep.      COD  2.499963  2.522114   2.547772   2.588613  2.649483   \n",
       "Zambia                ZMB  2.954668  3.012355   3.064885   3.105865  3.132456   \n",
       "Zimbabwe              ZWE  3.218174  3.257531   3.289035   3.303133  3.296046   \n",
       "\n",
       "                          1965      1966      1967      1968  \\\n",
       "Country                                                        \n",
       "Aruba                 0.578729  0.611793  0.582236  0.577153   \n",
       "Andorra               6.003857  5.735006  5.491343  5.315136   \n",
       "Afghanistan           2.102528  2.125960  2.142250  2.205218   \n",
       "Angola                1.737886  1.694880  1.678708  1.716954   \n",
       "Albania               2.754021  2.634564  2.630190  2.842511   \n",
       "Arab World            2.828133  2.850383  2.867694  2.861356   \n",
       "United Arab Emirates  8.390643  6.912946  6.433790  7.582048   \n",
       "Argentina             1.489553  1.449535  1.420521  1.424779   \n",
       "...                        ...       ...       ...       ...   \n",
       "West Bank and Gaza         NaN       NaN       NaN       NaN   \n",
       "World                 2.046407  2.098946  2.044577  2.026216   \n",
       "Samoa                 2.966411  2.808278  2.648136  2.435922   \n",
       "Yemen, Rep.           1.731891  1.787889  1.847770  1.868445   \n",
       "South Africa          2.251075  2.177580  2.141167  2.133160   \n",
       "Congo, Dem. Rep.      2.719216  2.793125  2.849687  2.869429   \n",
       "Zambia                3.151116  3.163232  3.181647  3.218627   \n",
       "Zimbabwe              3.277150  3.252359  3.236917  3.242345   \n",
       "\n",
       "                             ...                2008       2009      2010  \\\n",
       "Country                      ...                                            \n",
       "Aruba                        ...            0.122433   0.072993  0.178314   \n",
       "Andorra                      ...            0.865725  -0.165995 -1.241974   \n",
       "Afghanistan                  ...            2.485315   2.525628  2.736886   \n",
       "Angola                       ...            3.374180   3.359149  3.353693   \n",
       "Albania                      ...           -0.767343  -0.673894 -0.496462   \n",
       "Arab World                   ...            2.469810   2.424469  2.335303   \n",
       "United Arab Emirates         ...           13.810060  11.038238  7.787342   \n",
       "Argentina                    ...            1.025393   1.026810  1.034455   \n",
       "...                          ...                 ...        ...       ...   \n",
       "West Bank and Gaza           ...            2.882426   2.891868  2.898629   \n",
       "World                        ...            1.235349   1.222987  1.209310   \n",
       "Samoa                        ...            0.657411   0.684525  0.716969   \n",
       "Yemen, Rep.                  ...            2.824087   2.789801  2.740443   \n",
       "South Africa                 ...            1.429016   1.459381  1.490032   \n",
       "Congo, Dem. Rep.             ...            3.246480   3.240631  3.226591   \n",
       "Zambia                       ...            2.908179   2.954641  2.987173   \n",
       "Zimbabwe                     ...            1.475502   1.657381  1.826380   \n",
       "\n",
       "                          2011      2012      2013      2014      2015  2016  \\\n",
       "Country                                                                        \n",
       "Aruba                 0.333116  0.447319  0.514335  0.503970  0.432162   NaN   \n",
       "Andorra              -2.510552 -3.724710 -4.399684 -4.191941 -3.229397   NaN   \n",
       "Afghanistan           2.983979  3.135546  3.164336  3.033473  2.802986   NaN   \n",
       "Angola                3.347413  3.331567  3.306205  3.269552  3.226506   NaN   \n",
       "Albania              -0.283303 -0.156175 -0.124032 -0.103552 -0.155184   NaN   \n",
       "Arab World            2.242795  2.152384  2.088283  2.050000  2.029991   NaN   \n",
       "United Arab Emirates  4.750833  2.463140  0.971923  0.509332  0.776451   NaN   \n",
       "Argentina             1.044288  1.049809  1.047065  1.033056  1.010993   NaN   \n",
       "...                        ...       ...       ...       ...       ...   ...   \n",
       "West Bank and Gaza    2.997038  3.006264  2.984616  2.957995  2.924691   NaN   \n",
       "World                 1.202018  1.178031  1.222106  1.180142  1.182418   NaN   \n",
       "Samoa                 0.752421  0.779628  0.785153  0.761315  0.718308   NaN   \n",
       "Yemen, Rep.           2.688891  2.638109  2.580375  2.515593  2.446705   NaN   \n",
       "South Africa          1.520981  1.552242  1.583826  1.615745  1.648009   NaN   \n",
       "Congo, Dem. Rep.      3.206612  3.185422  3.166937  3.153175  3.141738   NaN   \n",
       "Zambia                3.015603  3.042139  3.060273  3.069640  3.071812   NaN   \n",
       "Zimbabwe              1.995816  2.150523  2.257867  2.307451  2.313958   NaN   \n",
       "\n",
       "                              IncomeGroup  \n",
       "Country                                    \n",
       "Aruba                         High income  \n",
       "Andorra                       High income  \n",
       "Afghanistan                    Low income  \n",
       "Angola                Upper middle income  \n",
       "Albania               Upper middle income  \n",
       "Arab World                            NaN  \n",
       "United Arab Emirates          High income  \n",
       "Argentina             Upper middle income  \n",
       "...                                   ...  \n",
       "West Bank and Gaza    Lower middle income  \n",
       "World                                 NaN  \n",
       "Samoa                 Lower middle income  \n",
       "Yemen, Rep.           Lower middle income  \n",
       "South Africa          Upper middle income  \n",
       "Congo, Dem. Rep.               Low income  \n",
       "Zambia                Lower middle income  \n",
       "Zimbabwe                       Low income  \n",
       "\n",
       "[263 rows x 59 columns]"
      ]
     },
     "execution_count": 145,
     "metadata": {},
     "output_type": "execute_result"
    }
   ],
   "source": [
    "PopInc.set_index(\"Country\")"
   ]
  },
  {
   "cell_type": "code",
   "execution_count": 146,
   "metadata": {
    "collapsed": false
   },
   "outputs": [
    {
     "data": {
      "text/plain": [
       "array([  0,   1,   2,   3,   4,   5,   6,   7,   8,   9,  10,  11,  12,\n",
       "        13,  14,  15,  16,  17,  18,  19,  20,  21,  22,  23,  24,  25,\n",
       "        26,  27,  28,  29,  30,  31,  32,  33,  34,  35,  36,  37,  38,\n",
       "        39,  40,  41,  42,  43,  44,  45,  46,  47,  48,  49,  50,  51,\n",
       "        52,  53,  54,  55,  56,  57,  58,  59,  60,  61,  62,  63,  64,\n",
       "        65,  66,  67,  68,  69,  70,  71,  72,  73,  74,  75,  76,  77,\n",
       "        78,  79,  80,  81,  82,  83,  84,  85,  86,  87,  88,  89,  90,\n",
       "        91,  92,  93,  94,  95,  96,  97,  98,  99, 100, 101, 102, 103,\n",
       "       104, 105, 106, 107, 108, 109, 110, 111, 112, 113, 114, 115, 116,\n",
       "       117, 118, 119, 120, 121, 122, 123, 124, 125, 126, 127, 128, 129,\n",
       "       130, 131, 132, 133, 134, 135, 136, 137, 138, 139, 140, 141, 142,\n",
       "       143, 144, 145, 146, 147, 148, 149, 150, 151, 152, 153, 154, 155,\n",
       "       156, 157, 158, 159, 160, 161, 162, 163, 164, 165, 166, 167, 168,\n",
       "       169, 170, 171, 172, 173, 174, 175, 176, 177, 178, 179, 180, 181,\n",
       "       182, 183, 184, 185, 186, 187, 188, 189, 190, 191, 192, 193, 194,\n",
       "       195, 196, 197, 198, 199, 200, 201, 202, 203, 204, 205, 206, 207,\n",
       "       208, 209, 210, 211, 212, 213, 214, 215, 216, 217, 218, 219, 220,\n",
       "       221, 222, 223, 224, 225, 226, 227, 228, 229, 230, 231, 232, 233,\n",
       "       234, 235, 236, 237, 238, 239, 240, 241, 242, 243, 244, 245, 246,\n",
       "       247, 248, 249, 250, 251, 252, 253, 254, 255, 256, 257, 258, 259,\n",
       "       260, 261, 262])"
      ]
     },
     "execution_count": 146,
     "metadata": {},
     "output_type": "execute_result"
    }
   ],
   "source": [
    "PopInc.index.values"
   ]
  },
  {
   "cell_type": "code",
   "execution_count": 88,
   "metadata": {
    "collapsed": false,
    "scrolled": true
   },
   "outputs": [
    {
     "data": {
      "text/html": [
       "<div>\n",
       "<table border=\"1\" class=\"dataframe\">\n",
       "  <thead>\n",
       "    <tr style=\"text-align: right;\">\n",
       "      <th></th>\n",
       "      <th>Country Name</th>\n",
       "      <th>Code</th>\n",
       "      <th>1960</th>\n",
       "      <th>1961</th>\n",
       "      <th>1962</th>\n",
       "      <th>1963</th>\n",
       "      <th>1964</th>\n",
       "      <th>1965</th>\n",
       "      <th>1966</th>\n",
       "      <th>1967</th>\n",
       "      <th>...</th>\n",
       "      <th>2008</th>\n",
       "      <th>2009</th>\n",
       "      <th>2010</th>\n",
       "      <th>2011</th>\n",
       "      <th>2012</th>\n",
       "      <th>2013</th>\n",
       "      <th>2014</th>\n",
       "      <th>2015</th>\n",
       "      <th>2016</th>\n",
       "      <th>IncomeGroup</th>\n",
       "    </tr>\n",
       "  </thead>\n",
       "  <tbody>\n",
       "    <tr>\n",
       "      <th>count</th>\n",
       "      <td>263</td>\n",
       "      <td>263</td>\n",
       "      <td>213.000000</td>\n",
       "      <td>260.00000</td>\n",
       "      <td>260.00000</td>\n",
       "      <td>260.000000</td>\n",
       "      <td>260.000000</td>\n",
       "      <td>260.000000</td>\n",
       "      <td>260.000000</td>\n",
       "      <td>260.000000</td>\n",
       "      <td>...</td>\n",
       "      <td>263.000000</td>\n",
       "      <td>263.000000</td>\n",
       "      <td>263.000000</td>\n",
       "      <td>262.000000</td>\n",
       "      <td>262.000000</td>\n",
       "      <td>262.000000</td>\n",
       "      <td>262.000000</td>\n",
       "      <td>262.000000</td>\n",
       "      <td>0.0</td>\n",
       "      <td>217</td>\n",
       "    </tr>\n",
       "    <tr>\n",
       "      <th>unique</th>\n",
       "      <td>263</td>\n",
       "      <td>263</td>\n",
       "      <td>213.000000</td>\n",
       "      <td>257.00000</td>\n",
       "      <td>257.00000</td>\n",
       "      <td>257.000000</td>\n",
       "      <td>257.000000</td>\n",
       "      <td>257.000000</td>\n",
       "      <td>257.000000</td>\n",
       "      <td>257.000000</td>\n",
       "      <td>...</td>\n",
       "      <td>261.000000</td>\n",
       "      <td>261.000000</td>\n",
       "      <td>261.000000</td>\n",
       "      <td>260.000000</td>\n",
       "      <td>260.000000</td>\n",
       "      <td>260.000000</td>\n",
       "      <td>260.000000</td>\n",
       "      <td>260.000000</td>\n",
       "      <td>0.0</td>\n",
       "      <td>4</td>\n",
       "    </tr>\n",
       "    <tr>\n",
       "      <th>top</th>\n",
       "      <td>Heavily indebted poor countries (HIPC)</td>\n",
       "      <td>WSM</td>\n",
       "      <td>1.795327</td>\n",
       "      <td>2.66159</td>\n",
       "      <td>2.66936</td>\n",
       "      <td>2.156922</td>\n",
       "      <td>2.446323</td>\n",
       "      <td>2.709831</td>\n",
       "      <td>2.492383</td>\n",
       "      <td>2.741881</td>\n",
       "      <td>...</td>\n",
       "      <td>1.505233</td>\n",
       "      <td>2.774361</td>\n",
       "      <td>2.774659</td>\n",
       "      <td>2.771677</td>\n",
       "      <td>2.767998</td>\n",
       "      <td>2.759617</td>\n",
       "      <td>2.746905</td>\n",
       "      <td>2.730897</td>\n",
       "      <td>NaN</td>\n",
       "      <td>High income</td>\n",
       "    </tr>\n",
       "    <tr>\n",
       "      <th>freq</th>\n",
       "      <td>1</td>\n",
       "      <td>1</td>\n",
       "      <td>1.000000</td>\n",
       "      <td>2.00000</td>\n",
       "      <td>2.00000</td>\n",
       "      <td>2.000000</td>\n",
       "      <td>2.000000</td>\n",
       "      <td>2.000000</td>\n",
       "      <td>2.000000</td>\n",
       "      <td>2.000000</td>\n",
       "      <td>...</td>\n",
       "      <td>2.000000</td>\n",
       "      <td>2.000000</td>\n",
       "      <td>2.000000</td>\n",
       "      <td>2.000000</td>\n",
       "      <td>2.000000</td>\n",
       "      <td>2.000000</td>\n",
       "      <td>2.000000</td>\n",
       "      <td>2.000000</td>\n",
       "      <td>NaN</td>\n",
       "      <td>78</td>\n",
       "    </tr>\n",
       "  </tbody>\n",
       "</table>\n",
       "<p>4 rows × 60 columns</p>\n",
       "</div>"
      ],
      "text/plain": [
       "                                  Country Name Code        1960       1961  \\\n",
       "count                                      263  263  213.000000  260.00000   \n",
       "unique                                     263  263  213.000000  257.00000   \n",
       "top     Heavily indebted poor countries (HIPC)  WSM    1.795327    2.66159   \n",
       "freq                                         1    1    1.000000    2.00000   \n",
       "\n",
       "             1962        1963        1964        1965        1966        1967  \\\n",
       "count   260.00000  260.000000  260.000000  260.000000  260.000000  260.000000   \n",
       "unique  257.00000  257.000000  257.000000  257.000000  257.000000  257.000000   \n",
       "top       2.66936    2.156922    2.446323    2.709831    2.492383    2.741881   \n",
       "freq      2.00000    2.000000    2.000000    2.000000    2.000000    2.000000   \n",
       "\n",
       "           ...             2008        2009        2010        2011  \\\n",
       "count      ...       263.000000  263.000000  263.000000  262.000000   \n",
       "unique     ...       261.000000  261.000000  261.000000  260.000000   \n",
       "top        ...         1.505233    2.774361    2.774659    2.771677   \n",
       "freq       ...         2.000000    2.000000    2.000000    2.000000   \n",
       "\n",
       "              2012        2013        2014        2015  2016  IncomeGroup  \n",
       "count   262.000000  262.000000  262.000000  262.000000   0.0          217  \n",
       "unique  260.000000  260.000000  260.000000  260.000000   0.0            4  \n",
       "top       2.767998    2.759617    2.746905    2.730897   NaN  High income  \n",
       "freq      2.000000    2.000000    2.000000    2.000000   NaN           78  \n",
       "\n",
       "[4 rows x 60 columns]"
      ]
     },
     "execution_count": 88,
     "metadata": {},
     "output_type": "execute_result"
    }
   ],
   "source": [
    "PopInc.describe()"
   ]
  },
  {
   "cell_type": "code",
   "execution_count": 114,
   "metadata": {
    "collapsed": false
   },
   "outputs": [
    {
     "data": {
      "text/plain": [
       "(263, 60)"
      ]
     },
     "execution_count": 114,
     "metadata": {},
     "output_type": "execute_result"
    }
   ],
   "source": [
    "PopInc.shape"
   ]
  },
  {
   "cell_type": "code",
   "execution_count": 147,
   "metadata": {
    "collapsed": false
   },
   "outputs": [
    {
     "name": "stdout",
     "output_type": "stream",
     "text": [
      "<class 'pandas.core.frame.DataFrame'>\n",
      "Int64Index: 263 entries, 0 to 262\n",
      "Data columns (total 60 columns):\n",
      "Country        263 non-null object\n",
      "Code           263 non-null object\n",
      "1960           213 non-null float64\n",
      "1961           260 non-null float64\n",
      "1962           260 non-null float64\n",
      "1963           260 non-null float64\n",
      "1964           260 non-null float64\n",
      "1965           260 non-null float64\n",
      "1966           260 non-null float64\n",
      "1967           260 non-null float64\n",
      "1968           260 non-null float64\n",
      "1969           260 non-null float64\n",
      "1970           260 non-null float64\n",
      "1971           260 non-null float64\n",
      "1972           260 non-null float64\n",
      "1973           260 non-null float64\n",
      "1974           260 non-null float64\n",
      "1975           260 non-null float64\n",
      "1976           260 non-null float64\n",
      "1977           260 non-null float64\n",
      "1978           260 non-null float64\n",
      "1979           260 non-null float64\n",
      "1980           260 non-null float64\n",
      "1981           260 non-null float64\n",
      "1982           260 non-null float64\n",
      "1983           260 non-null float64\n",
      "1984           260 non-null float64\n",
      "1985           260 non-null float64\n",
      "1986           260 non-null float64\n",
      "1987           260 non-null float64\n",
      "1988           260 non-null float64\n",
      "1989           260 non-null float64\n",
      "1990           261 non-null float64\n",
      "1991           261 non-null float64\n",
      "1992           261 non-null float64\n",
      "1993           261 non-null float64\n",
      "1994           261 non-null float64\n",
      "1995           261 non-null float64\n",
      "1996           262 non-null float64\n",
      "1997           262 non-null float64\n",
      "1998           262 non-null float64\n",
      "1999           263 non-null float64\n",
      "2000           263 non-null float64\n",
      "2001           262 non-null float64\n",
      "2002           263 non-null float64\n",
      "2003           263 non-null float64\n",
      "2004           263 non-null float64\n",
      "2005           263 non-null float64\n",
      "2006           263 non-null float64\n",
      "2007           262 non-null float64\n",
      "2008           263 non-null float64\n",
      "2009           263 non-null float64\n",
      "2010           263 non-null float64\n",
      "2011           262 non-null float64\n",
      "2012           262 non-null float64\n",
      "2013           262 non-null float64\n",
      "2014           262 non-null float64\n",
      "2015           262 non-null float64\n",
      "2016           0 non-null float64\n",
      "IncomeGroup    217 non-null object\n",
      "dtypes: float64(57), object(3)\n",
      "memory usage: 125.3+ KB\n"
     ]
    }
   ],
   "source": [
    "PopInc.info()"
   ]
  },
  {
   "cell_type": "code",
   "execution_count": 115,
   "metadata": {
    "collapsed": false
   },
   "outputs": [
    {
     "data": {
      "text/html": [
       "<div>\n",
       "<table border=\"1\" class=\"dataframe\">\n",
       "  <thead>\n",
       "    <tr style=\"text-align: right;\">\n",
       "      <th></th>\n",
       "      <th>Code</th>\n",
       "      <th>1960</th>\n",
       "      <th>1961</th>\n",
       "      <th>1962</th>\n",
       "      <th>1963</th>\n",
       "      <th>1964</th>\n",
       "      <th>1965</th>\n",
       "      <th>1966</th>\n",
       "      <th>1967</th>\n",
       "      <th>1968</th>\n",
       "      <th>...</th>\n",
       "      <th>2008</th>\n",
       "      <th>2009</th>\n",
       "      <th>2010</th>\n",
       "      <th>2011</th>\n",
       "      <th>2012</th>\n",
       "      <th>2013</th>\n",
       "      <th>2014</th>\n",
       "      <th>2015</th>\n",
       "      <th>2016</th>\n",
       "      <th>IncomeGroup</th>\n",
       "    </tr>\n",
       "    <tr>\n",
       "      <th>Country Name</th>\n",
       "      <th></th>\n",
       "      <th></th>\n",
       "      <th></th>\n",
       "      <th></th>\n",
       "      <th></th>\n",
       "      <th></th>\n",
       "      <th></th>\n",
       "      <th></th>\n",
       "      <th></th>\n",
       "      <th></th>\n",
       "      <th></th>\n",
       "      <th></th>\n",
       "      <th></th>\n",
       "      <th></th>\n",
       "      <th></th>\n",
       "      <th></th>\n",
       "      <th></th>\n",
       "      <th></th>\n",
       "      <th></th>\n",
       "      <th></th>\n",
       "      <th></th>\n",
       "    </tr>\n",
       "  </thead>\n",
       "  <tbody>\n",
       "    <tr>\n",
       "      <th>Aruba</th>\n",
       "      <td>ABW</td>\n",
       "      <td>3.134888</td>\n",
       "      <td>2.238266</td>\n",
       "      <td>1.416812</td>\n",
       "      <td>0.834202</td>\n",
       "      <td>0.583861</td>\n",
       "      <td>0.578729</td>\n",
       "      <td>0.611793</td>\n",
       "      <td>0.582236</td>\n",
       "      <td>0.577153</td>\n",
       "      <td>...</td>\n",
       "      <td>0.122433</td>\n",
       "      <td>0.072993</td>\n",
       "      <td>0.178314</td>\n",
       "      <td>0.333116</td>\n",
       "      <td>0.447319</td>\n",
       "      <td>0.514335</td>\n",
       "      <td>0.503970</td>\n",
       "      <td>0.432162</td>\n",
       "      <td>NaN</td>\n",
       "      <td>High income</td>\n",
       "    </tr>\n",
       "    <tr>\n",
       "      <th>Andorra</th>\n",
       "      <td>AND</td>\n",
       "      <td>7.105041</td>\n",
       "      <td>6.926121</td>\n",
       "      <td>6.724770</td>\n",
       "      <td>6.508305</td>\n",
       "      <td>6.259422</td>\n",
       "      <td>6.003857</td>\n",
       "      <td>5.735006</td>\n",
       "      <td>5.491343</td>\n",
       "      <td>5.315136</td>\n",
       "      <td>...</td>\n",
       "      <td>0.865725</td>\n",
       "      <td>-0.165995</td>\n",
       "      <td>-1.241974</td>\n",
       "      <td>-2.510552</td>\n",
       "      <td>-3.724710</td>\n",
       "      <td>-4.399684</td>\n",
       "      <td>-4.191941</td>\n",
       "      <td>-3.229397</td>\n",
       "      <td>NaN</td>\n",
       "      <td>High income</td>\n",
       "    </tr>\n",
       "    <tr>\n",
       "      <th>Afghanistan</th>\n",
       "      <td>AFG</td>\n",
       "      <td>1.813677</td>\n",
       "      <td>1.874003</td>\n",
       "      <td>1.932414</td>\n",
       "      <td>1.989785</td>\n",
       "      <td>2.046675</td>\n",
       "      <td>2.102528</td>\n",
       "      <td>2.125960</td>\n",
       "      <td>2.142250</td>\n",
       "      <td>2.205218</td>\n",
       "      <td>...</td>\n",
       "      <td>2.485315</td>\n",
       "      <td>2.525628</td>\n",
       "      <td>2.736886</td>\n",
       "      <td>2.983979</td>\n",
       "      <td>3.135546</td>\n",
       "      <td>3.164336</td>\n",
       "      <td>3.033473</td>\n",
       "      <td>2.802986</td>\n",
       "      <td>NaN</td>\n",
       "      <td>Low income</td>\n",
       "    </tr>\n",
       "    <tr>\n",
       "      <th>Angola</th>\n",
       "      <td>AGO</td>\n",
       "      <td>1.803005</td>\n",
       "      <td>1.813207</td>\n",
       "      <td>1.820714</td>\n",
       "      <td>1.811246</td>\n",
       "      <td>1.778846</td>\n",
       "      <td>1.737886</td>\n",
       "      <td>1.694880</td>\n",
       "      <td>1.678708</td>\n",
       "      <td>1.716954</td>\n",
       "      <td>...</td>\n",
       "      <td>3.374180</td>\n",
       "      <td>3.359149</td>\n",
       "      <td>3.353693</td>\n",
       "      <td>3.347413</td>\n",
       "      <td>3.331567</td>\n",
       "      <td>3.306205</td>\n",
       "      <td>3.269552</td>\n",
       "      <td>3.226506</td>\n",
       "      <td>NaN</td>\n",
       "      <td>Upper middle income</td>\n",
       "    </tr>\n",
       "    <tr>\n",
       "      <th>Albania</th>\n",
       "      <td>ALB</td>\n",
       "      <td>3.015423</td>\n",
       "      <td>3.120855</td>\n",
       "      <td>3.056731</td>\n",
       "      <td>2.953749</td>\n",
       "      <td>2.880686</td>\n",
       "      <td>2.754021</td>\n",
       "      <td>2.634564</td>\n",
       "      <td>2.630190</td>\n",
       "      <td>2.842511</td>\n",
       "      <td>...</td>\n",
       "      <td>-0.767343</td>\n",
       "      <td>-0.673894</td>\n",
       "      <td>-0.496462</td>\n",
       "      <td>-0.283303</td>\n",
       "      <td>-0.156175</td>\n",
       "      <td>-0.124032</td>\n",
       "      <td>-0.103552</td>\n",
       "      <td>-0.155184</td>\n",
       "      <td>NaN</td>\n",
       "      <td>Upper middle income</td>\n",
       "    </tr>\n",
       "    <tr>\n",
       "      <th>Arab World</th>\n",
       "      <td>ARB</td>\n",
       "      <td>NaN</td>\n",
       "      <td>2.741996</td>\n",
       "      <td>2.769515</td>\n",
       "      <td>2.792110</td>\n",
       "      <td>2.811906</td>\n",
       "      <td>2.828133</td>\n",
       "      <td>2.850383</td>\n",
       "      <td>2.867694</td>\n",
       "      <td>2.861356</td>\n",
       "      <td>...</td>\n",
       "      <td>2.469810</td>\n",
       "      <td>2.424469</td>\n",
       "      <td>2.335303</td>\n",
       "      <td>2.242795</td>\n",
       "      <td>2.152384</td>\n",
       "      <td>2.088283</td>\n",
       "      <td>2.050000</td>\n",
       "      <td>2.029991</td>\n",
       "      <td>NaN</td>\n",
       "      <td>NaN</td>\n",
       "    </tr>\n",
       "    <tr>\n",
       "      <th>United Arab Emirates</th>\n",
       "      <td>ARE</td>\n",
       "      <td>5.903390</td>\n",
       "      <td>8.655327</td>\n",
       "      <td>10.566744</td>\n",
       "      <td>10.940081</td>\n",
       "      <td>9.880637</td>\n",
       "      <td>8.390643</td>\n",
       "      <td>6.912946</td>\n",
       "      <td>6.433790</td>\n",
       "      <td>7.582048</td>\n",
       "      <td>...</td>\n",
       "      <td>13.810060</td>\n",
       "      <td>11.038238</td>\n",
       "      <td>7.787342</td>\n",
       "      <td>4.750833</td>\n",
       "      <td>2.463140</td>\n",
       "      <td>0.971923</td>\n",
       "      <td>0.509332</td>\n",
       "      <td>0.776451</td>\n",
       "      <td>NaN</td>\n",
       "      <td>High income</td>\n",
       "    </tr>\n",
       "    <tr>\n",
       "      <th>Argentina</th>\n",
       "      <td>ARG</td>\n",
       "      <td>1.630879</td>\n",
       "      <td>1.606899</td>\n",
       "      <td>1.584299</td>\n",
       "      <td>1.557555</td>\n",
       "      <td>1.524184</td>\n",
       "      <td>1.489553</td>\n",
       "      <td>1.449535</td>\n",
       "      <td>1.420521</td>\n",
       "      <td>1.424779</td>\n",
       "      <td>...</td>\n",
       "      <td>1.025393</td>\n",
       "      <td>1.026810</td>\n",
       "      <td>1.034455</td>\n",
       "      <td>1.044288</td>\n",
       "      <td>1.049809</td>\n",
       "      <td>1.047065</td>\n",
       "      <td>1.033056</td>\n",
       "      <td>1.010993</td>\n",
       "      <td>NaN</td>\n",
       "      <td>Upper middle income</td>\n",
       "    </tr>\n",
       "    <tr>\n",
       "      <th>...</th>\n",
       "      <td>...</td>\n",
       "      <td>...</td>\n",
       "      <td>...</td>\n",
       "      <td>...</td>\n",
       "      <td>...</td>\n",
       "      <td>...</td>\n",
       "      <td>...</td>\n",
       "      <td>...</td>\n",
       "      <td>...</td>\n",
       "      <td>...</td>\n",
       "      <td>...</td>\n",
       "      <td>...</td>\n",
       "      <td>...</td>\n",
       "      <td>...</td>\n",
       "      <td>...</td>\n",
       "      <td>...</td>\n",
       "      <td>...</td>\n",
       "      <td>...</td>\n",
       "      <td>...</td>\n",
       "      <td>...</td>\n",
       "      <td>...</td>\n",
       "    </tr>\n",
       "    <tr>\n",
       "      <th>West Bank and Gaza</th>\n",
       "      <td>PSE</td>\n",
       "      <td>NaN</td>\n",
       "      <td>NaN</td>\n",
       "      <td>NaN</td>\n",
       "      <td>NaN</td>\n",
       "      <td>NaN</td>\n",
       "      <td>NaN</td>\n",
       "      <td>NaN</td>\n",
       "      <td>NaN</td>\n",
       "      <td>NaN</td>\n",
       "      <td>...</td>\n",
       "      <td>2.882426</td>\n",
       "      <td>2.891868</td>\n",
       "      <td>2.898629</td>\n",
       "      <td>2.997038</td>\n",
       "      <td>3.006264</td>\n",
       "      <td>2.984616</td>\n",
       "      <td>2.957995</td>\n",
       "      <td>2.924691</td>\n",
       "      <td>NaN</td>\n",
       "      <td>Lower middle income</td>\n",
       "    </tr>\n",
       "    <tr>\n",
       "      <th>World</th>\n",
       "      <td>WLD</td>\n",
       "      <td>NaN</td>\n",
       "      <td>1.353022</td>\n",
       "      <td>1.721104</td>\n",
       "      <td>2.073576</td>\n",
       "      <td>2.047850</td>\n",
       "      <td>2.046407</td>\n",
       "      <td>2.098946</td>\n",
       "      <td>2.044577</td>\n",
       "      <td>2.026216</td>\n",
       "      <td>...</td>\n",
       "      <td>1.235349</td>\n",
       "      <td>1.222987</td>\n",
       "      <td>1.209310</td>\n",
       "      <td>1.202018</td>\n",
       "      <td>1.178031</td>\n",
       "      <td>1.222106</td>\n",
       "      <td>1.180142</td>\n",
       "      <td>1.182418</td>\n",
       "      <td>NaN</td>\n",
       "      <td>NaN</td>\n",
       "    </tr>\n",
       "    <tr>\n",
       "      <th>Samoa</th>\n",
       "      <td>WSM</td>\n",
       "      <td>3.040844</td>\n",
       "      <td>3.149296</td>\n",
       "      <td>3.216501</td>\n",
       "      <td>3.210813</td>\n",
       "      <td>3.120648</td>\n",
       "      <td>2.966411</td>\n",
       "      <td>2.808278</td>\n",
       "      <td>2.648136</td>\n",
       "      <td>2.435922</td>\n",
       "      <td>...</td>\n",
       "      <td>0.657411</td>\n",
       "      <td>0.684525</td>\n",
       "      <td>0.716969</td>\n",
       "      <td>0.752421</td>\n",
       "      <td>0.779628</td>\n",
       "      <td>0.785153</td>\n",
       "      <td>0.761315</td>\n",
       "      <td>0.718308</td>\n",
       "      <td>NaN</td>\n",
       "      <td>Lower middle income</td>\n",
       "    </tr>\n",
       "    <tr>\n",
       "      <th>Yemen, Rep.</th>\n",
       "      <td>YEM</td>\n",
       "      <td>1.625765</td>\n",
       "      <td>1.638589</td>\n",
       "      <td>1.654696</td>\n",
       "      <td>1.675548</td>\n",
       "      <td>1.701783</td>\n",
       "      <td>1.731891</td>\n",
       "      <td>1.787889</td>\n",
       "      <td>1.847770</td>\n",
       "      <td>1.868445</td>\n",
       "      <td>...</td>\n",
       "      <td>2.824087</td>\n",
       "      <td>2.789801</td>\n",
       "      <td>2.740443</td>\n",
       "      <td>2.688891</td>\n",
       "      <td>2.638109</td>\n",
       "      <td>2.580375</td>\n",
       "      <td>2.515593</td>\n",
       "      <td>2.446705</td>\n",
       "      <td>NaN</td>\n",
       "      <td>Lower middle income</td>\n",
       "    </tr>\n",
       "    <tr>\n",
       "      <th>South Africa</th>\n",
       "      <td>ZAF</td>\n",
       "      <td>2.456943</td>\n",
       "      <td>3.134770</td>\n",
       "      <td>2.798800</td>\n",
       "      <td>2.549616</td>\n",
       "      <td>2.371388</td>\n",
       "      <td>2.251075</td>\n",
       "      <td>2.177580</td>\n",
       "      <td>2.141167</td>\n",
       "      <td>2.133160</td>\n",
       "      <td>...</td>\n",
       "      <td>1.429016</td>\n",
       "      <td>1.459381</td>\n",
       "      <td>1.490032</td>\n",
       "      <td>1.520981</td>\n",
       "      <td>1.552242</td>\n",
       "      <td>1.583826</td>\n",
       "      <td>1.615745</td>\n",
       "      <td>1.648009</td>\n",
       "      <td>NaN</td>\n",
       "      <td>Upper middle income</td>\n",
       "    </tr>\n",
       "    <tr>\n",
       "      <th>Congo, Dem. Rep.</th>\n",
       "      <td>COD</td>\n",
       "      <td>2.499963</td>\n",
       "      <td>2.522114</td>\n",
       "      <td>2.547772</td>\n",
       "      <td>2.588613</td>\n",
       "      <td>2.649483</td>\n",
       "      <td>2.719216</td>\n",
       "      <td>2.793125</td>\n",
       "      <td>2.849687</td>\n",
       "      <td>2.869429</td>\n",
       "      <td>...</td>\n",
       "      <td>3.246480</td>\n",
       "      <td>3.240631</td>\n",
       "      <td>3.226591</td>\n",
       "      <td>3.206612</td>\n",
       "      <td>3.185422</td>\n",
       "      <td>3.166937</td>\n",
       "      <td>3.153175</td>\n",
       "      <td>3.141738</td>\n",
       "      <td>NaN</td>\n",
       "      <td>Low income</td>\n",
       "    </tr>\n",
       "    <tr>\n",
       "      <th>Zambia</th>\n",
       "      <td>ZMB</td>\n",
       "      <td>2.954668</td>\n",
       "      <td>3.012355</td>\n",
       "      <td>3.064885</td>\n",
       "      <td>3.105865</td>\n",
       "      <td>3.132456</td>\n",
       "      <td>3.151116</td>\n",
       "      <td>3.163232</td>\n",
       "      <td>3.181647</td>\n",
       "      <td>3.218627</td>\n",
       "      <td>...</td>\n",
       "      <td>2.908179</td>\n",
       "      <td>2.954641</td>\n",
       "      <td>2.987173</td>\n",
       "      <td>3.015603</td>\n",
       "      <td>3.042139</td>\n",
       "      <td>3.060273</td>\n",
       "      <td>3.069640</td>\n",
       "      <td>3.071812</td>\n",
       "      <td>NaN</td>\n",
       "      <td>Lower middle income</td>\n",
       "    </tr>\n",
       "    <tr>\n",
       "      <th>Zimbabwe</th>\n",
       "      <td>ZWE</td>\n",
       "      <td>3.218174</td>\n",
       "      <td>3.257531</td>\n",
       "      <td>3.289035</td>\n",
       "      <td>3.303133</td>\n",
       "      <td>3.296046</td>\n",
       "      <td>3.277150</td>\n",
       "      <td>3.252359</td>\n",
       "      <td>3.236917</td>\n",
       "      <td>3.242345</td>\n",
       "      <td>...</td>\n",
       "      <td>1.475502</td>\n",
       "      <td>1.657381</td>\n",
       "      <td>1.826380</td>\n",
       "      <td>1.995816</td>\n",
       "      <td>2.150523</td>\n",
       "      <td>2.257867</td>\n",
       "      <td>2.307451</td>\n",
       "      <td>2.313958</td>\n",
       "      <td>NaN</td>\n",
       "      <td>Low income</td>\n",
       "    </tr>\n",
       "  </tbody>\n",
       "</table>\n",
       "<p>263 rows × 59 columns</p>\n",
       "</div>"
      ],
      "text/plain": [
       "                     Code      1960      1961       1962       1963      1964  \\\n",
       "Country Name                                                                    \n",
       "Aruba                 ABW  3.134888  2.238266   1.416812   0.834202  0.583861   \n",
       "Andorra               AND  7.105041  6.926121   6.724770   6.508305  6.259422   \n",
       "Afghanistan           AFG  1.813677  1.874003   1.932414   1.989785  2.046675   \n",
       "Angola                AGO  1.803005  1.813207   1.820714   1.811246  1.778846   \n",
       "Albania               ALB  3.015423  3.120855   3.056731   2.953749  2.880686   \n",
       "Arab World            ARB       NaN  2.741996   2.769515   2.792110  2.811906   \n",
       "United Arab Emirates  ARE  5.903390  8.655327  10.566744  10.940081  9.880637   \n",
       "Argentina             ARG  1.630879  1.606899   1.584299   1.557555  1.524184   \n",
       "...                   ...       ...       ...        ...        ...       ...   \n",
       "West Bank and Gaza    PSE       NaN       NaN        NaN        NaN       NaN   \n",
       "World                 WLD       NaN  1.353022   1.721104   2.073576  2.047850   \n",
       "Samoa                 WSM  3.040844  3.149296   3.216501   3.210813  3.120648   \n",
       "Yemen, Rep.           YEM  1.625765  1.638589   1.654696   1.675548  1.701783   \n",
       "South Africa          ZAF  2.456943  3.134770   2.798800   2.549616  2.371388   \n",
       "Congo, Dem. Rep.      COD  2.499963  2.522114   2.547772   2.588613  2.649483   \n",
       "Zambia                ZMB  2.954668  3.012355   3.064885   3.105865  3.132456   \n",
       "Zimbabwe              ZWE  3.218174  3.257531   3.289035   3.303133  3.296046   \n",
       "\n",
       "                          1965      1966      1967      1968  \\\n",
       "Country Name                                                   \n",
       "Aruba                 0.578729  0.611793  0.582236  0.577153   \n",
       "Andorra               6.003857  5.735006  5.491343  5.315136   \n",
       "Afghanistan           2.102528  2.125960  2.142250  2.205218   \n",
       "Angola                1.737886  1.694880  1.678708  1.716954   \n",
       "Albania               2.754021  2.634564  2.630190  2.842511   \n",
       "Arab World            2.828133  2.850383  2.867694  2.861356   \n",
       "United Arab Emirates  8.390643  6.912946  6.433790  7.582048   \n",
       "Argentina             1.489553  1.449535  1.420521  1.424779   \n",
       "...                        ...       ...       ...       ...   \n",
       "West Bank and Gaza         NaN       NaN       NaN       NaN   \n",
       "World                 2.046407  2.098946  2.044577  2.026216   \n",
       "Samoa                 2.966411  2.808278  2.648136  2.435922   \n",
       "Yemen, Rep.           1.731891  1.787889  1.847770  1.868445   \n",
       "South Africa          2.251075  2.177580  2.141167  2.133160   \n",
       "Congo, Dem. Rep.      2.719216  2.793125  2.849687  2.869429   \n",
       "Zambia                3.151116  3.163232  3.181647  3.218627   \n",
       "Zimbabwe              3.277150  3.252359  3.236917  3.242345   \n",
       "\n",
       "                             ...                2008       2009      2010  \\\n",
       "Country Name                 ...                                            \n",
       "Aruba                        ...            0.122433   0.072993  0.178314   \n",
       "Andorra                      ...            0.865725  -0.165995 -1.241974   \n",
       "Afghanistan                  ...            2.485315   2.525628  2.736886   \n",
       "Angola                       ...            3.374180   3.359149  3.353693   \n",
       "Albania                      ...           -0.767343  -0.673894 -0.496462   \n",
       "Arab World                   ...            2.469810   2.424469  2.335303   \n",
       "United Arab Emirates         ...           13.810060  11.038238  7.787342   \n",
       "Argentina                    ...            1.025393   1.026810  1.034455   \n",
       "...                          ...                 ...        ...       ...   \n",
       "West Bank and Gaza           ...            2.882426   2.891868  2.898629   \n",
       "World                        ...            1.235349   1.222987  1.209310   \n",
       "Samoa                        ...            0.657411   0.684525  0.716969   \n",
       "Yemen, Rep.                  ...            2.824087   2.789801  2.740443   \n",
       "South Africa                 ...            1.429016   1.459381  1.490032   \n",
       "Congo, Dem. Rep.             ...            3.246480   3.240631  3.226591   \n",
       "Zambia                       ...            2.908179   2.954641  2.987173   \n",
       "Zimbabwe                     ...            1.475502   1.657381  1.826380   \n",
       "\n",
       "                          2011      2012      2013      2014      2015  2016  \\\n",
       "Country Name                                                                   \n",
       "Aruba                 0.333116  0.447319  0.514335  0.503970  0.432162   NaN   \n",
       "Andorra              -2.510552 -3.724710 -4.399684 -4.191941 -3.229397   NaN   \n",
       "Afghanistan           2.983979  3.135546  3.164336  3.033473  2.802986   NaN   \n",
       "Angola                3.347413  3.331567  3.306205  3.269552  3.226506   NaN   \n",
       "Albania              -0.283303 -0.156175 -0.124032 -0.103552 -0.155184   NaN   \n",
       "Arab World            2.242795  2.152384  2.088283  2.050000  2.029991   NaN   \n",
       "United Arab Emirates  4.750833  2.463140  0.971923  0.509332  0.776451   NaN   \n",
       "Argentina             1.044288  1.049809  1.047065  1.033056  1.010993   NaN   \n",
       "...                        ...       ...       ...       ...       ...   ...   \n",
       "West Bank and Gaza    2.997038  3.006264  2.984616  2.957995  2.924691   NaN   \n",
       "World                 1.202018  1.178031  1.222106  1.180142  1.182418   NaN   \n",
       "Samoa                 0.752421  0.779628  0.785153  0.761315  0.718308   NaN   \n",
       "Yemen, Rep.           2.688891  2.638109  2.580375  2.515593  2.446705   NaN   \n",
       "South Africa          1.520981  1.552242  1.583826  1.615745  1.648009   NaN   \n",
       "Congo, Dem. Rep.      3.206612  3.185422  3.166937  3.153175  3.141738   NaN   \n",
       "Zambia                3.015603  3.042139  3.060273  3.069640  3.071812   NaN   \n",
       "Zimbabwe              1.995816  2.150523  2.257867  2.307451  2.313958   NaN   \n",
       "\n",
       "                              IncomeGroup  \n",
       "Country Name                               \n",
       "Aruba                         High income  \n",
       "Andorra                       High income  \n",
       "Afghanistan                    Low income  \n",
       "Angola                Upper middle income  \n",
       "Albania               Upper middle income  \n",
       "Arab World                            NaN  \n",
       "United Arab Emirates          High income  \n",
       "Argentina             Upper middle income  \n",
       "...                                   ...  \n",
       "West Bank and Gaza    Lower middle income  \n",
       "World                                 NaN  \n",
       "Samoa                 Lower middle income  \n",
       "Yemen, Rep.           Lower middle income  \n",
       "South Africa          Upper middle income  \n",
       "Congo, Dem. Rep.               Low income  \n",
       "Zambia                Lower middle income  \n",
       "Zimbabwe                       Low income  \n",
       "\n",
       "[263 rows x 59 columns]"
      ]
     },
     "execution_count": 115,
     "metadata": {},
     "output_type": "execute_result"
    }
   ],
   "source": [
    "PopInc.set_index(\"Country Name\")"
   ]
  },
  {
   "cell_type": "code",
   "execution_count": 116,
   "metadata": {
    "collapsed": false
   },
   "outputs": [],
   "source": [
    "import matplotlib.pyplot as plt\n",
    "import matplotlib\n",
    "matplotlib.style.use('ggplot')\n",
    "from pandas import set_option\n",
    "set_option(\"display.max_rows\", 16)\n",
    "\n",
    "LARGE_FIGSIZE = (12, 8)\n",
    "\n",
    "from ipywidgets import interact"
   ]
  },
  {
   "cell_type": "code",
   "execution_count": 117,
   "metadata": {
    "collapsed": true
   },
   "outputs": [],
   "source": [
    "# inline plots\n",
    "%matplotlib inline"
   ]
  },
  {
   "cell_type": "code",
   "execution_count": 118,
   "metadata": {
    "collapsed": false
   },
   "outputs": [
    {
     "data": {
      "text/plain": [
       "Country Name     object\n",
       "Code             object\n",
       "1960            float64\n",
       "1961            float64\n",
       "1962            float64\n",
       "1963            float64\n",
       "1964            float64\n",
       "1965            float64\n",
       "                 ...   \n",
       "2010            float64\n",
       "2011            float64\n",
       "2012            float64\n",
       "2013            float64\n",
       "2014            float64\n",
       "2015            float64\n",
       "2016            float64\n",
       "IncomeGroup      object\n",
       "dtype: object"
      ]
     },
     "execution_count": 118,
     "metadata": {},
     "output_type": "execute_result"
    }
   ],
   "source": [
    "PopInc.dtypes"
   ]
  },
  {
   "cell_type": "code",
   "execution_count": 128,
   "metadata": {
    "collapsed": false
   },
   "outputs": [
    {
     "data": {
      "text/html": [
       "<div>\n",
       "<table border=\"1\" class=\"dataframe\">\n",
       "  <thead>\n",
       "    <tr style=\"text-align: right;\">\n",
       "      <th></th>\n",
       "      <th>Code</th>\n",
       "      <th>1960</th>\n",
       "      <th>1961</th>\n",
       "      <th>1962</th>\n",
       "      <th>1963</th>\n",
       "      <th>1964</th>\n",
       "      <th>1965</th>\n",
       "      <th>1966</th>\n",
       "      <th>1967</th>\n",
       "      <th>1968</th>\n",
       "      <th>...</th>\n",
       "      <th>2008</th>\n",
       "      <th>2009</th>\n",
       "      <th>2010</th>\n",
       "      <th>2011</th>\n",
       "      <th>2012</th>\n",
       "      <th>2013</th>\n",
       "      <th>2014</th>\n",
       "      <th>2015</th>\n",
       "      <th>2016</th>\n",
       "      <th>IncomeGroup</th>\n",
       "    </tr>\n",
       "    <tr>\n",
       "      <th>Country Name</th>\n",
       "      <th></th>\n",
       "      <th></th>\n",
       "      <th></th>\n",
       "      <th></th>\n",
       "      <th></th>\n",
       "      <th></th>\n",
       "      <th></th>\n",
       "      <th></th>\n",
       "      <th></th>\n",
       "      <th></th>\n",
       "      <th></th>\n",
       "      <th></th>\n",
       "      <th></th>\n",
       "      <th></th>\n",
       "      <th></th>\n",
       "      <th></th>\n",
       "      <th></th>\n",
       "      <th></th>\n",
       "      <th></th>\n",
       "      <th></th>\n",
       "      <th></th>\n",
       "    </tr>\n",
       "  </thead>\n",
       "  <tbody>\n",
       "    <tr>\n",
       "      <th>Aruba</th>\n",
       "      <td>ABW</td>\n",
       "      <td>3.134888</td>\n",
       "      <td>2.238266</td>\n",
       "      <td>1.416812</td>\n",
       "      <td>0.834202</td>\n",
       "      <td>0.583861</td>\n",
       "      <td>0.578729</td>\n",
       "      <td>0.611793</td>\n",
       "      <td>0.582236</td>\n",
       "      <td>0.577153</td>\n",
       "      <td>...</td>\n",
       "      <td>0.122433</td>\n",
       "      <td>0.072993</td>\n",
       "      <td>0.178314</td>\n",
       "      <td>0.333116</td>\n",
       "      <td>0.447319</td>\n",
       "      <td>0.514335</td>\n",
       "      <td>0.503970</td>\n",
       "      <td>0.432162</td>\n",
       "      <td>NaN</td>\n",
       "      <td>High income</td>\n",
       "    </tr>\n",
       "    <tr>\n",
       "      <th>Andorra</th>\n",
       "      <td>AND</td>\n",
       "      <td>7.105041</td>\n",
       "      <td>6.926121</td>\n",
       "      <td>6.724770</td>\n",
       "      <td>6.508305</td>\n",
       "      <td>6.259422</td>\n",
       "      <td>6.003857</td>\n",
       "      <td>5.735006</td>\n",
       "      <td>5.491343</td>\n",
       "      <td>5.315136</td>\n",
       "      <td>...</td>\n",
       "      <td>0.865725</td>\n",
       "      <td>-0.165995</td>\n",
       "      <td>-1.241974</td>\n",
       "      <td>-2.510552</td>\n",
       "      <td>-3.724710</td>\n",
       "      <td>-4.399684</td>\n",
       "      <td>-4.191941</td>\n",
       "      <td>-3.229397</td>\n",
       "      <td>NaN</td>\n",
       "      <td>High income</td>\n",
       "    </tr>\n",
       "  </tbody>\n",
       "</table>\n",
       "<p>2 rows × 59 columns</p>\n",
       "</div>"
      ],
      "text/plain": [
       "             Code      1960      1961      1962      1963      1964      1965  \\\n",
       "Country Name                                                                    \n",
       "Aruba         ABW  3.134888  2.238266  1.416812  0.834202  0.583861  0.578729   \n",
       "Andorra       AND  7.105041  6.926121  6.724770  6.508305  6.259422  6.003857   \n",
       "\n",
       "                  1966      1967      1968     ...           2008      2009  \\\n",
       "Country Name                                   ...                            \n",
       "Aruba         0.611793  0.582236  0.577153     ...       0.122433  0.072993   \n",
       "Andorra       5.735006  5.491343  5.315136     ...       0.865725 -0.165995   \n",
       "\n",
       "                  2010      2011      2012      2013      2014      2015  \\\n",
       "Country Name                                                               \n",
       "Aruba         0.178314  0.333116  0.447319  0.514335  0.503970  0.432162   \n",
       "Andorra      -1.241974 -2.510552 -3.724710 -4.399684 -4.191941 -3.229397   \n",
       "\n",
       "              2016  IncomeGroup  \n",
       "Country Name                     \n",
       "Aruba          NaN  High income  \n",
       "Andorra        NaN  High income  \n",
       "\n",
       "[2 rows x 59 columns]"
      ]
     },
     "execution_count": 128,
     "metadata": {},
     "output_type": "execute_result"
    }
   ],
   "source": [
    "PopInc.set_index(\"Country Name\").head(2)"
   ]
  },
  {
   "cell_type": "code",
   "execution_count": 129,
   "metadata": {
    "collapsed": false
   },
   "outputs": [
    {
     "data": {
      "text/plain": [
       "array([  0,   1,   2,   3,   4,   5,   6,   7,   8,   9,  10,  11,  12,\n",
       "        13,  14,  15,  16,  17,  18,  19,  20,  21,  22,  23,  24,  25,\n",
       "        26,  27,  28,  29,  30,  31,  32,  33,  34,  35,  36,  37,  38,\n",
       "        39,  40,  41,  42,  43,  44,  45,  46,  47,  48,  49,  50,  51,\n",
       "        52,  53,  54,  55,  56,  57,  58,  59,  60,  61,  62,  63,  64,\n",
       "        65,  66,  67,  68,  69,  70,  71,  72,  73,  74,  75,  76,  77,\n",
       "        78,  79,  80,  81,  82,  83,  84,  85,  86,  87,  88,  89,  90,\n",
       "        91,  92,  93,  94,  95,  96,  97,  98,  99, 100, 101, 102, 103,\n",
       "       104, 105, 106, 107, 108, 109, 110, 111, 112, 113, 114, 115, 116,\n",
       "       117, 118, 119, 120, 121, 122, 123, 124, 125, 126, 127, 128, 129,\n",
       "       130, 131, 132, 133, 134, 135, 136, 137, 138, 139, 140, 141, 142,\n",
       "       143, 144, 145, 146, 147, 148, 149, 150, 151, 152, 153, 154, 155,\n",
       "       156, 157, 158, 159, 160, 161, 162, 163, 164, 165, 166, 167, 168,\n",
       "       169, 170, 171, 172, 173, 174, 175, 176, 177, 178, 179, 180, 181,\n",
       "       182, 183, 184, 185, 186, 187, 188, 189, 190, 191, 192, 193, 194,\n",
       "       195, 196, 197, 198, 199, 200, 201, 202, 203, 204, 205, 206, 207,\n",
       "       208, 209, 210, 211, 212, 213, 214, 215, 216, 217, 218, 219, 220,\n",
       "       221, 222, 223, 224, 225, 226, 227, 228, 229, 230, 231, 232, 233,\n",
       "       234, 235, 236, 237, 238, 239, 240, 241, 242, 243, 244, 245, 246,\n",
       "       247, 248, 249, 250, 251, 252, 253, 254, 255, 256, 257, 258, 259,\n",
       "       260, 261, 262])"
      ]
     },
     "execution_count": 129,
     "metadata": {},
     "output_type": "execute_result"
    }
   ],
   "source": [
    "PopInc.index.values"
   ]
  },
  {
   "cell_type": "code",
   "execution_count": 122,
   "metadata": {
    "collapsed": false
   },
   "outputs": [
    {
     "data": {
      "text/plain": [
       "<matplotlib.axes._subplots.AxesSubplot at 0x11570ab10>"
      ]
     },
     "execution_count": 122,
     "metadata": {},
     "output_type": "execute_result"
    },
    {
     "data": {
      "image/png": "[encoded data removed]",
      "text/plain": [
       "<matplotlib.figure.Figure at 0x104373d90>"
      ]
     },
     "metadata": {},
     "output_type": "display_data"
    }
   ],
   "source": [
    "PopInc.mean().plot()"
   ]
  },
  {
   "cell_type": "code",
   "execution_count": 123,
   "metadata": {
    "collapsed": false
   },
   "outputs": [
    {
     "name": "stdout",
     "output_type": "stream",
     "text": [
      "124\n",
      "105\n",
      "-0.818261144482\n",
      "9.79644654475\n",
      "2.31080996917\n"
     ]
    }
   ],
   "source": [
    "print(PopInc['1960'].idxmax())\n",
    "print(PopInc['1960'].idxmin())\n",
    "print(PopInc['1960'].min())\n",
    "print(PopInc['1960'].max())\n",
    "print(PopInc['1960'].mean())"
   ]
  },
  {
   "cell_type": "code",
   "execution_count": null,
   "metadata": {
    "collapsed": true
   },
   "outputs": [],
   "source": [
    "def high_low_mean(year):\n",
    "    print(\"In year\", year)\n",
    "    print(PopInc[year].idxmin())"
   ]
  }
 ],
 "metadata": {
  "anaconda-cloud": {},
  "kernelspec": {
   "display_name": "Python [conda root]",
   "language": "python",
   "name": "conda-root-py"
  },
  "language_info": {
   "codemirror_mode": {
    "name": "ipython",
    "version": 2
   },
   "file_extension": ".py",
   "mimetype": "text/x-python",
   "name": "python",
   "nbconvert_exporter": "python",
   "pygments_lexer": "ipython2",
   "version": "2.7.12"
  }
 },
 "nbformat": 4,
 "nbformat_minor": 1
}
