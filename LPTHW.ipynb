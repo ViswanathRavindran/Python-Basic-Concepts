{
 "cells": [
  {
   "cell_type": "markdown",
   "metadata": {},
   "source": [
    "# 1. Printing and Commenting"
   ]
  },
  {
   "cell_type": "code",
   "execution_count": 1,
   "metadata": {},
   "outputs": [
    {
     "name": "stdout",
     "output_type": "stream",
     "text": [
      "welcome to Python\n",
      "Best way to learn Python is read the code backwards\n",
      "Hi # there.\n"
     ]
    }
   ],
   "source": [
    "# Printing and Commenting in python\n",
    "# Single Line comments start with Octothorpe not pound symbol\n",
    "\n",
    "print ('welcome to Python')\n",
    "print ('Best way to learn Python is read the code backwards')\n",
    "\n",
    "\"\"\"\n",
    "Multi line comments have this 3 \n",
    "quote before and after multi \n",
    "line comment\n",
    "\"\"\"\n",
    "# The # inside the quote does not get ignored\n",
    "print(\"Hi # there.\")"
   ]
  },
  {
   "cell_type": "markdown",
   "metadata": {},
   "source": [
    "# 2. Numbers and math"
   ]
  },
  {
   "cell_type": "code",
   "execution_count": 2,
   "metadata": {},
   "outputs": [
    {
     "name": "stdout",
     "output_type": "stream",
     "text": [
      "I will now count my chickens:\n",
      "Hens 30.0\n",
      "Roosters 97\n",
      "Now I will count the eggs:\n",
      "6.75\n",
      "Is it true that 3 + 2 < 5 - 7?\n",
      "False\n",
      "What is 3 + 2? 5\n",
      "What is 5 - 7? -2\n",
      "Oh, that's why it's False.\n",
      "How about some more.\n",
      "Is it greater? True\n",
      "Is it greater or equal? True\n",
      "Is it less or equal? False\n"
     ]
    }
   ],
   "source": [
    "print(\"I will now count my chickens:\")\n",
    "print(\"Hens\", 25 + 30 / 6)\n",
    "print(\"Roosters\", 100 - 25 * 3 % 4)\n",
    "print(\"Now I will count the eggs:\")\n",
    "print(3 + 2 + 1 - 5 + 4 % 2 - 1 / 4 + 6)\n",
    "print(\"Is it true that 3 + 2 < 5 - 7?\")\n",
    "print(3 + 2 < 5 - 7)\n",
    "print(\"What is 3 + 2?\", 3 + 2)\n",
    "print(\"What is 5 - 7?\", 5 - 7)\n",
    "print(\"Oh, that's why it's False.\")\n",
    "print(\"How about some more.\")\n",
    "print(\"Is it greater?\", 5 > -2)\n",
    "print(\"Is it greater or equal?\", 5 >= -2)\n",
    "print(\"Is it less or equal?\", 5 <= -2)\n"
   ]
  },
  {
   "cell_type": "markdown",
   "metadata": {},
   "source": [
    "# 3. Variables and Names"
   ]
  },
  {
   "cell_type": "code",
   "execution_count": 3,
   "metadata": {},
   "outputs": [],
   "source": [
    "cars = 100\n",
    "space_in_a_car = 4.0\n",
    "drivers = 30\n",
    "passengers = 90\n",
    "cars_not_driven = cars - drivers\n",
    "cars_driven = drivers\n",
    "carpool_capacity = cars_driven * space_in_a_car\n",
    "average_passengers_per_car = passengers / cars_driven"
   ]
  },
  {
   "cell_type": "code",
   "execution_count": 4,
   "metadata": {},
   "outputs": [
    {
     "name": "stdout",
     "output_type": "stream",
     "text": [
      "There are 100 cars available.\n",
      "There are only 30 drivers available.\n",
      "There will be 70 empty cars today.\n",
      "We can transport 120.0 people today.\n",
      "We have 90 to carpool today.\n",
      "We need to put about 3.0 in each car.\n"
     ]
    }
   ],
   "source": [
    "print(\"There are\", cars, \"cars available.\")\n",
    "print(\"There are only\", drivers, \"drivers available.\")\n",
    "print(\"There will be\", cars_not_driven, \"empty cars today.\")\n",
    "print(\"We can transport\", carpool_capacity, \"people today.\")\n",
    "print(\"We have\", passengers, \"to carpool today.\")\n",
    "print(\"We need to put about\", average_passengers_per_car,\"in each car.\")"
   ]
  },
  {
   "cell_type": "code",
   "execution_count": 5,
   "metadata": {},
   "outputs": [],
   "source": [
    "avgtemp = 21\n",
    "nowtemp = 23\n",
    "earlytemp = 18\n",
    "peaktemp = 31"
   ]
  },
  {
   "cell_type": "code",
   "execution_count": 6,
   "metadata": {},
   "outputs": [
    {
     "name": "stdout",
     "output_type": "stream",
     "text": [
      "The average temparature in Bangalore is 21\n",
      "The current temperate for today is 23\n",
      "It is usally 18 in the mornings and move up to 31 by afternoon\n"
     ]
    }
   ],
   "source": [
    "print(f\"The average temparature in Bangalore is {avgtemp}\")\n",
    "print(f\"The current temperate for today is {nowtemp}\")\n",
    "print(f\"It is usally {earlytemp} in the mornings and move up to {peaktemp} by afternoon\")"
   ]
  },
  {
   "cell_type": "markdown",
   "metadata": {},
   "source": [
    "# 4. More Strings and variables"
   ]
  },
  {
   "cell_type": "code",
   "execution_count": 7,
   "metadata": {},
   "outputs": [
    {
     "name": "stdout",
     "output_type": "stream",
     "text": [
      "Mary had a little lamb.\n",
      "Its fleece was white as snow.\n",
      "And everywhere that Mary went.\n",
      "..........\n"
     ]
    }
   ],
   "source": [
    "print(\"Mary had a little lamb.\")\n",
    "print(\"Its fleece was white as {}.\".format('snow'))\n",
    "print(\"And everywhere that Mary went.\")\n",
    "print(\".\" * 10)"
   ]
  },
  {
   "cell_type": "code",
   "execution_count": 8,
   "metadata": {},
   "outputs": [],
   "source": [
    "end1 = \"C\"\n",
    "end2 = \"h\"\n",
    "end3 = \"e\"\n",
    "end4 = \"e\"\n",
    "end5 = \"s\"\n",
    "end6 = \"e\"\n",
    "end7, end8, end9, end10, end11, end12 = \"B\",\"u\",\"r\",\"g\",\"e\",\"r\""
   ]
  },
  {
   "cell_type": "code",
   "execution_count": 9,
   "metadata": {},
   "outputs": [
    {
     "name": "stdout",
     "output_type": "stream",
     "text": [
      "Cheese Burger\n"
     ]
    }
   ],
   "source": [
    "# watch end = ' ' at the end.  try removing it to see what happens\n",
    "print(end1 + end2 + end3 + end4 + end5 + end6, end=' ')\n",
    "print(end7 + end8 + end9 + end10 + end11 + end12)"
   ]
  },
  {
   "cell_type": "markdown",
   "metadata": {},
   "source": [
    "# 5. More printing"
   ]
  },
  {
   "cell_type": "code",
   "execution_count": 10,
   "metadata": {},
   "outputs": [
    {
     "name": "stdout",
     "output_type": "stream",
     "text": [
      "1 2 3 4\n",
      "one two three four\n",
      "True False False True\n",
      "{} {} {} {} {} {} {} {} {} {} {} {} {} {} {} {}\n",
      "Try your Own text here Maybe a poem Or a song about fear\n"
     ]
    }
   ],
   "source": [
    "formatter = \"{} {} {} {}\"\n",
    "\n",
    "print(formatter.format(1, 2, 3, 4))\n",
    "print(formatter.format(\"one\", \"two\", \"three\", \"four\"))\n",
    "print(formatter.format(True, False, False, True))\n",
    "print(formatter.format(formatter, formatter, formatter, formatter))\n",
    "print(formatter.format(\"Try your\",\"Own text here\",\"Maybe a poem\",\"Or a song about fear\"))"
   ]
  },
  {
   "cell_type": "raw",
   "metadata": {},
   "source": [
    "Take the formatter string defined on line 1\n",
    "Call its format function, which is similar to telling it to do a command line command named format\n",
    "Pass to format four arguments, which match up with the four {} in the formatter variable. This is like passing arguments to \n",
    "the command line command format"
   ]
  },
  {
   "cell_type": "code",
   "execution_count": 11,
   "metadata": {},
   "outputs": [
    {
     "name": "stdout",
     "output_type": "stream",
     "text": [
      "Here are the days:  Mon Tue Wed Thu Fri Sat Sun\n",
      "Here are the months:  Jan\n",
      "Feb\n",
      "Mar\n",
      "Apr\n",
      "May\n",
      "Jun\n",
      "Jul\n",
      "Aug\n",
      " \n",
      "There's something going on here. \n",
      "With the three double-quotes. \n",
      "We'll be able to type as much as we like. \n",
      "Even 4 lines if we want, or 5, or 6. \n",
      "\n"
     ]
    }
   ],
   "source": [
    "# Here's some new strange stuff, remember type it exactly. \n",
    " \n",
    "days = \"Mon Tue Wed Thu Fri Sat Sun\" \n",
    "months = \"Jan\\nFeb\\nMar\\nApr\\nMay\\nJun\\nJul\\nAug\" \n",
    " \n",
    "print(\"Here are the days: \", days) \n",
    "print(\"Here are the months: \", months) \n",
    " \n",
    "print(\"\"\" \n",
    "There's something going on here. \n",
    "With the three double-quotes. \n",
    "We'll be able to type as much as we like. \n",
    "Even 4 lines if we want, or 5, or 6. \n",
    "\"\"\") "
   ]
  },
  {
   "cell_type": "raw",
   "metadata": {},
   "source": [
    "There are 2 ways that we have to put the strings across multiple lines\n",
    "1. Using \\n in between the strings\n",
    "2. Using triple quotes spanning the string across multple lines"
   ]
  },
  {
   "cell_type": "markdown",
   "metadata": {},
   "source": [
    "# 6. Escape Character Sequences"
   ]
  },
  {
   "cell_type": "code",
   "execution_count": 12,
   "metadata": {},
   "outputs": [],
   "source": [
    "tabby_cat = \"\\tI'm tabbed in.\" \n",
    "persian_cat = \"I'm split\\non a line.\" \n",
    "backslash_cat = \"I'm \\\\ a \\\\ cat.\" \n",
    "  \n",
    "fat_cat = \"\"\" \n",
    "I'll do a list: \n",
    "\\t* Cat food \n",
    "\\t* Fishies \n",
    "\\t* Catnip\\n\\t* Grass \n",
    "\"\"\" "
   ]
  },
  {
   "cell_type": "code",
   "execution_count": 13,
   "metadata": {},
   "outputs": [
    {
     "name": "stdout",
     "output_type": "stream",
     "text": [
      "\tI'm tabbed in.\n",
      "I'm split\n",
      "on a line.\n",
      "I'm \\ a \\ cat.\n",
      " \n",
      "I'll do a list: \n",
      "\t* Cat food \n",
      "\t* Fishies \n",
      "\t* Catnip\n",
      "\t* Grass \n",
      "\n"
     ]
    }
   ],
   "source": [
    "print(tabby_cat) \n",
    "print(persian_cat) \n",
    "print(backslash_cat) \n",
    "print(fat_cat)"
   ]
  },
  {
   "cell_type": "markdown",
   "metadata": {},
   "source": [
    "# 7. Asking for Inputs"
   ]
  },
  {
   "cell_type": "code",
   "execution_count": 14,
   "metadata": {},
   "outputs": [
    {
     "name": "stdout",
     "output_type": "stream",
     "text": [
      "How old are you? How tall are you? How much do you weigh? "
     ]
    }
   ],
   "source": [
    "#import fake_input \n",
    "#input, input = fake_input.create(['38', '6\\'2\"', '180lbs']) \n",
    "\n",
    " \n",
    "### @export \"code\" \n",
    "print(\"How old are you?\", end=' ') \n",
    "age = input() \n",
    "print(\"How tall are you?\", end=' ') \n",
    "height = input() \n",
    "print(\"How much do you weigh?\", end=' ') \n",
    "weight = input() "
   ]
  },
  {
   "cell_type": "code",
   "execution_count": 15,
   "metadata": {},
   "outputs": [
    {
     "name": "stdout",
     "output_type": "stream",
     "text": [
      "So, you're 33 old, 172 tall and 77 heavy.\n"
     ]
    }
   ],
   "source": [
    "print(f\"So, you're {age} old, {height} tall and {weight} heavy.\")"
   ]
  },
  {
   "cell_type": "markdown",
   "metadata": {},
   "source": [
    "# 8. Parameters, Unpacking, Variables"
   ]
  },
  {
   "cell_type": "code",
   "execution_count": 16,
   "metadata": {},
   "outputs": [
    {
     "name": "stdout",
     "output_type": "stream",
     "text": [
      "The script is called: C:\\Users\\804357\\AppData\\Local\\Continuum\\anaconda3\\lib\\site-packages\\ipykernel_launcher.py\n",
      "Your first variable is: -f\n",
      "Your second variable is: C:\\Users\\804357\\AppData\\Roaming\\jupyter\\runtime\\kernel-d07e11fd-14dc-4e3c-8067-2aac3f1a04b0.json\n"
     ]
    }
   ],
   "source": [
    "from sys import argv \n",
    "# read the WYSS section for how to run this \n",
    "script, first, second = argv \n",
    "\n",
    "print(\"The script is called:\", script) \n",
    "print(\"Your first variable is:\", first) \n",
    "print(\"Your second variable is:\", second) \n",
    "#print(\"Your third variable is:\", third) "
   ]
  },
  {
   "cell_type": "markdown",
   "metadata": {},
   "source": [
    "# 9. prompting and Passing"
   ]
  },
  {
   "cell_type": "code",
   "execution_count": 17,
   "metadata": {},
   "outputs": [
    {
     "name": "stdout",
     "output_type": "stream",
     "text": [
      "Hi ['C:\\\\Users\\\\804357\\\\AppData\\\\Local\\\\Continuum\\\\anaconda3\\\\lib\\\\site-packages\\\\ipykernel_launcher.py', '-f', 'C:\\\\Users\\\\804357\\\\AppData\\\\Roaming\\\\jupyter\\\\runtime\\\\kernel-d07e11fd-14dc-4e3c-8067-2aac3f1a04b0.json'], I'm the C:\\Users\\804357\\AppData\\Local\\Continuum\\anaconda3\\lib\\site-packages\\ipykernel_launcher.py script.\n",
      "I'd like to ask you a few questions.\n",
      "Do you like me ['C:\\\\Users\\\\804357\\\\AppData\\\\Local\\\\Continuum\\\\anaconda3\\\\lib\\\\site-packages\\\\ipykernel_launcher.py', '-f', 'C:\\\\Users\\\\804357\\\\AppData\\\\Roaming\\\\jupyter\\\\runtime\\\\kernel-d07e11fd-14dc-4e3c-8067-2aac3f1a04b0.json']?\n",
      "Where do you live ['C:\\\\Users\\\\804357\\\\AppData\\\\Local\\\\Continuum\\\\anaconda3\\\\lib\\\\site-packages\\\\ipykernel_launcher.py', '-f', 'C:\\\\Users\\\\804357\\\\AppData\\\\Roaming\\\\jupyter\\\\runtime\\\\kernel-d07e11fd-14dc-4e3c-8067-2aac3f1a04b0.json']?\n",
      "What kind of computer do you have?\n"
     ]
    }
   ],
   "source": [
    "### @export \"setup\" \n",
    "#import fake_input \n",
    "# input, input = fake_input.create(['Yes', \"San Francisco\",'Tandy 1000']) \n",
    " \n",
    "### @export \"code\" \n",
    "from sys import argv \n",
    "#script, \n",
    "user_name = argv \n",
    "prompt = '> ' \n",
    " \n",
    "print(f\"Hi {user_name}, I'm the {script} script.\") \n",
    "print(\"I'd like to ask you a few questions.\") \n",
    "print(f\"Do you like me {user_name}?\") \n",
    "likes = input(prompt) \n",
    "\n",
    "print(f\"Where do you live {user_name}?\") \n",
    "lives = input(prompt) \n",
    "\n",
    "print(\"What kind of computer do you have?\") \n",
    "computer = input(prompt) "
   ]
  },
  {
   "cell_type": "code",
   "execution_count": 18,
   "metadata": {},
   "outputs": [
    {
     "name": "stdout",
     "output_type": "stream",
     "text": [
      " \n",
      "Alright, so you said vishy about liking me. \n",
      "You live in bangalore.  Not sure where that is. \n",
      "And you have a mac computer.  Nice. \n",
      "\n"
     ]
    }
   ],
   "source": [
    "print(f\"\"\" \n",
    "Alright, so you said {likes} about liking me. \n",
    "You live in {lives}.  Not sure where that is. \n",
    "And you have a {computer} computer.  Nice. \n",
    "\"\"\")"
   ]
  },
  {
   "cell_type": "markdown",
   "metadata": {},
   "source": [
    "# 10 .Reading files"
   ]
  },
  {
   "cell_type": "code",
   "execution_count": 19,
   "metadata": {},
   "outputs": [],
   "source": [
    "#import fake_input \n",
    "#input, input = fake_input.create(['ex15_sample.txt']) \n",
    " \n",
    "### @export \"code\" \n",
    "from sys import argv \n",
    "#script, \n",
    "filename = 'sample.txt'\n",
    "txt = open(filename) "
   ]
  },
  {
   "cell_type": "code",
   "execution_count": 20,
   "metadata": {},
   "outputs": [
    {
     "name": "stdout",
     "output_type": "stream",
     "text": [
      "Here's your file sample.txt:\n",
      "This is a test\n",
      "This is a test 2\n",
      "This is a test 3\n",
      "\n",
      "Type the filename again:\n",
      "This is a test\n",
      "This is a test 2\n",
      "This is a test 3\n",
      "\n"
     ]
    }
   ],
   "source": [
    "print(f\"Here's your file {filename}:\") \n",
    "print(txt.read()) \n",
    "\n",
    "print(\"Type the filename again:\") \n",
    "file_again = input(\"> \") \n",
    " \n",
    "txt_again = open(file_again) \n",
    "print(txt_again.read())"
   ]
  },
  {
   "cell_type": "markdown",
   "metadata": {},
   "source": [
    "# 11. Reading and Writing Files"
   ]
  },
  {
   "cell_type": "code",
   "execution_count": 21,
   "metadata": {},
   "outputs": [
    {
     "name": "stdout",
     "output_type": "stream",
     "text": [
      "We're going to erase sample.txt.\n",
      "If you don't want that, hit CTRL-C (^C).\n",
      "If you do want that, hit RETURN.\n",
      "Opening the file...\n",
      "Truncating the file.  Goodbye!\n",
      "Now I'm going to ask you for three lines.\n",
      "I'm going to write these to the file.\n",
      "And finally, we close it.\n"
     ]
    }
   ],
   "source": [
    "from sys import argv \n",
    "#script, filename = argv \n",
    "filename = 'sample.txt'\n",
    " \n",
    "print(f\"We're going to erase {filename}.\") \n",
    "print(\"If you don't want that, hit CTRL-C (^C).\") \n",
    "print(\"If you do want that, hit RETURN.\") \n",
    " \n",
    "input(\"?\") \n",
    " \n",
    "print(\"Opening the file...\") \n",
    "target = open(filename, 'w') \n",
    " \n",
    "print(\"Truncating the file.  Goodbye!\") \n",
    "target.truncate() \n",
    " \n",
    "print(\"Now I'm going to ask you for three lines.\") \n",
    " \n",
    "line1 = input(\"line 1: \") \n",
    "line2 = input(\"line 2: \") \n",
    "line3 = input(\"line 3: \") \n",
    "\n",
    "print(\"I'm going to write these to the file.\") \n",
    " \n",
    "target.write(line1) \n",
    "target.write(\"\\n\") \n",
    "target.write(line2) \n",
    "target.write(\"\\n\") \n",
    "target.write(line3) \n",
    "target.write(\"\\n\") \n",
    " \n",
    "print(\"And finally, we close it.\") \n",
    "target.close()"
   ]
  },
  {
   "cell_type": "markdown",
   "metadata": {},
   "source": [
    "# 12. Names, variables, Codes and Functions"
   ]
  },
  {
   "cell_type": "code",
   "execution_count": 22,
   "metadata": {},
   "outputs": [],
   "source": [
    "# this one is like your scripts with argv \n",
    "def print_two(*args): \n",
    "    arg1, arg2 = args \n",
    "    print(f\"arg1: {arg1}, arg2: {arg2}\") \n",
    "\n",
    "# ok, that *args is actually pointless, we can just do this \n",
    "def print_two_again(arg1, arg2): \n",
    "    print(f\"arg1: {arg1}, arg2: {arg2}\") \n",
    "\n",
    "# this just takes one argument \n",
    "def print_one(arg1): \n",
    "    print(f\"arg1: {arg1}\") \n",
    "\n",
    "# this one takes no arguments \n",
    "def print_none(): \n",
    "    print(\"I got nothin'.\")"
   ]
  },
  {
   "cell_type": "code",
   "execution_count": 23,
   "metadata": {},
   "outputs": [
    {
     "name": "stdout",
     "output_type": "stream",
     "text": [
      "arg1: Viswanath, arg2: Ravindran\n",
      "arg1: Viswanath, arg2: Ravindran\n",
      "arg1: First!\n",
      "I got nothin'.\n"
     ]
    }
   ],
   "source": [
    "print_two(\"Viswanath\",\"Ravindran\") \n",
    "print_two_again(\"Viswanath\",\"Ravindran\") \n",
    "print_one(\"First!\") \n",
    "print_none()"
   ]
  },
  {
   "cell_type": "raw",
   "metadata": {},
   "source": [
    "Functions are:\n",
    "1. They can be used to name pieces of code like variables name strings and numbers\n",
    "2. They take arguments the way your scripts using argv\n",
    "3. Function lets you make Mini_scripts and your commands inside the name\n",
    "4. Function name starts after the def which defines the function\n",
    "5. Arguments to the functions are passed within ()"
   ]
  },
  {
   "cell_type": "markdown",
   "metadata": {},
   "source": [
    "# 13. Functions and variables"
   ]
  },
  {
   "cell_type": "code",
   "execution_count": 24,
   "metadata": {},
   "outputs": [
    {
     "name": "stdout",
     "output_type": "stream",
     "text": [
      "We can just give the function numbers directly:\n",
      "You have 20 cheeses!\n",
      "You have 30 boxes of crackers!\n",
      "Man that's enough for a party!\n",
      "Get a blanket.\n",
      "\n",
      "OR, we can use variables from our script:\n",
      "You have 10 cheeses!\n",
      "You have 50 boxes of crackers!\n",
      "Man that's enough for a party!\n",
      "Get a blanket.\n",
      "\n",
      "We can even do math inside too:\n",
      "You have 30 cheeses!\n",
      "You have 11 boxes of crackers!\n",
      "Man that's enough for a party!\n",
      "Get a blanket.\n",
      "\n",
      "And we can combine the two, variables and math:\n",
      "You have 110 cheeses!\n",
      "You have 1050 boxes of crackers!\n",
      "Man that's enough for a party!\n",
      "Get a blanket.\n",
      "\n"
     ]
    }
   ],
   "source": [
    "def cheese_and_crackers(cheese_count, boxes_of_crackers): \n",
    "    print(f\"You have {cheese_count} cheeses!\") \n",
    "    print(f\"You have {boxes_of_crackers} boxes of crackers!\") \n",
    "    print(\"Man that's enough for a party!\") \n",
    "    print(\"Get a blanket.\\n\") \n",
    " \n",
    "print(\"We can just give the function numbers directly:\") \n",
    "cheese_and_crackers(20, 30) \n",
    " \n",
    "print(\"OR, we can use variables from our script:\") \n",
    "amount_of_cheese = 10 \n",
    "amount_of_crackers = 50 \n",
    "cheese_and_crackers(amount_of_cheese, amount_of_crackers) \n",
    " \n",
    "print(\"We can even do math inside too:\") \n",
    "cheese_and_crackers(10 + 20, 5 + 6) \n",
    "\n",
    "print(\"And we can combine the two, variables and math:\") \n",
    "cheese_and_crackers(amount_of_cheese + 100, amount_of_crackers + 1000)"
   ]
  },
  {
   "cell_type": "raw",
   "metadata": {},
   "source": [
    "The above example passes the variables for its function using different methods"
   ]
  },
  {
   "cell_type": "markdown",
   "metadata": {},
   "source": [
    "# 14. Functions can return things"
   ]
  },
  {
   "cell_type": "code",
   "execution_count": 25,
   "metadata": {},
   "outputs": [
    {
     "name": "stdout",
     "output_type": "stream",
     "text": [
      "Let's do some math with just functions!\n",
      "ADDING 30 + 5\n",
      "SUBTRACTING 78 - 4\n",
      "MULTIPLYING 90 * 2\n",
      "DIVIDING 100 / 2\n",
      "Age: 35, Height: 74, Weight: 180, IQ: 50.0\n",
      "Here is a puzzle.\n",
      "DIVIDING 50.0 / 2\n",
      "MULTIPLYING 180 * 25.0\n",
      "SUBTRACTING 74 - 4500.0\n",
      "ADDING 35 + -4426.0\n",
      "That becomes:  -4391.0 Can you do it by hand?\n"
     ]
    }
   ],
   "source": [
    "def add(a, b):\n",
    "    print(f\"ADDING {a} + {b}\")\n",
    "    return a + b\n",
    " \n",
    "def subtract(a, b):\n",
    "    print(f\"SUBTRACTING {a} - {b}\") \n",
    "    return a - b \n",
    " \n",
    "def multiply(a, b): \n",
    "    print(f\"MULTIPLYING {a} * {b}\") \n",
    "    return a * b \n",
    " \n",
    "def divide(a, b): \n",
    "    print(f\"DIVIDING {a} / {b}\") \n",
    "    return a / b \n",
    " \n",
    "print(\"Let's do some math with just functions!\") \n",
    " \n",
    "age = add(30, 5) \n",
    "height = subtract(78, 4) \n",
    "weight = multiply(90, 2) \n",
    "iq = divide(100, 2)  \n",
    "print(f\"Age: {age}, Height: {height}, Weight: {weight}, IQ: {iq}\") \n",
    " \n",
    "# A puzzle for the extra credit, type it in anyway. \n",
    "print(\"Here is a puzzle.\")  \n",
    "what = add(age, subtract(height, multiply(weight, divide(iq, 2)))) \n",
    "print(\"That becomes: \", what, \"Can you do it by hand?\")"
   ]
  },
  {
   "cell_type": "markdown",
   "metadata": {},
   "source": [
    "# 15. Practise things"
   ]
  },
  {
   "cell_type": "code",
   "execution_count": 26,
   "metadata": {},
   "outputs": [
    {
     "name": "stdout",
     "output_type": "stream",
     "text": [
      "Let's practice everything.\n",
      "You'd need to know 'bout escapes with \\ that do \n",
      " newlines and \t tabs.\n",
      "--------------\n",
      " \n",
      "\tThe lovely world \n",
      "with logic so firmly planted \n",
      "cannot discern \n",
      " the needs of love \n",
      "nor comprehend passion from intuition \n",
      "and requires an explanation \n",
      "\n",
      "\t\twhere there is none. \n",
      "\n",
      "--------------\n",
      "This should be five: 5\n",
      "With a starting point of: 10000\n",
      "We'd have 5000000 beans, 5000.0 jars, and 50.0 crates.\n",
      "We can also do that this way:\n",
      "We'd have 500000.0 beans, 500.0 jars, and 5.0 crates.\n"
     ]
    }
   ],
   "source": [
    "print(\"Let's practice everything.\") \n",
    "print('You\\'d need to know \\'bout escapes with \\\\ that do \\n newlines and \\t tabs.') \n",
    " \n",
    "poem = \"\"\" \n",
    "\\tThe lovely world \n",
    "with logic so firmly planted \n",
    "cannot discern \\n the needs of love \n",
    "nor comprehend passion from intuition \n",
    "and requires an explanation \n",
    "\\n\\t\\twhere there is none. \n",
    "\"\"\"\n",
    " \n",
    "print(\"--------------\") \n",
    "print(poem) \n",
    "print(\"--------------\") \n",
    " \n",
    "five = 10 - 2 + 3 - 6 \n",
    "print(f\"This should be five: {five}\") \n",
    " \n",
    "def secret_formula(started): \n",
    "    jelly_beans = started * 500 \n",
    "    jars = jelly_beans / 1000 \n",
    "    crates = jars / 100 \n",
    "    return jelly_beans, jars, crates \n",
    " \n",
    "start_point = 10000 \n",
    "beans, jars, crates = secret_formula(start_point) \n",
    " \n",
    "# remember that this is another way to format a string \n",
    "print(\"With a starting point of: {}\".format(start_point)) \n",
    "# it's just like with an f\"\" string \n",
    "print(f\"We'd have {beans} beans, {jars} jars, and {crates} crates.\")\n",
    " \n",
    "start_point = start_point / 10 \n",
    "print(\"We can also do that this way:\") \n",
    "formula = secret_formula(start_point) \n",
    "# this is an easy way to apply a list to a format string \n",
    "print(\"We'd have {} beans, {} jars, and {} crates.\".format(*formula))"
   ]
  },
  {
   "cell_type": "code",
   "execution_count": 27,
   "metadata": {},
   "outputs": [],
   "source": [
    "def break_words(stuff):\n",
    "    \"\"\"This function will break up words for us.\"\"\" \n",
    "    words = stuff.split(' ') \n",
    "    return words\n",
    " \n",
    "def sort_words(words): \n",
    "    \"\"\"Sorts the words.\"\"\" \n",
    "    return sorted(words) \n",
    " \n",
    "def print_first_word(words): \n",
    "    \"\"\"Prints the first word after popping it off.\"\"\" \n",
    "    word = words.pop(0) \n",
    "    print(word)\n",
    "\n",
    "def print_last_word(words): \n",
    "    \"\"\"Prints the last word after popping it off.\"\"\" \n",
    "    word = words.pop(-1) \n",
    "    print(word) \n",
    "\n",
    "def sort_sentence(sentence): \n",
    "    \"\"\"Takes in a full sentence and returns the sorted words.\"\"\" \n",
    "    words = break_words(sentence) \n",
    "    return sort_words(words) \n",
    " \n",
    "def print_first_and_last(sentence):\n",
    "    \"\"\"Prints the first and last words of the sentence.\"\"\" \n",
    "    words = break_words(sentence) \n",
    "    print_first_word(words) \n",
    "    print_last_word(words)\n",
    "\n",
    "def print_first_and_last_sorted(sentence): \n",
    "    \"\"\"Sorts the words then prints the first and last one.\"\"\" \n",
    "    words = sort_sentence(sentence) \n",
    "    print_first_word(words) \n",
    "    print_last_word(words)"
   ]
  },
  {
   "cell_type": "code",
   "execution_count": 28,
   "metadata": {},
   "outputs": [],
   "source": [
    "sentence = \"All good things come to those who are ready to wait\"\n",
    "words = ['A','An', 'The']"
   ]
  },
  {
   "cell_type": "code",
   "execution_count": 29,
   "metadata": {},
   "outputs": [
    {
     "name": "stdout",
     "output_type": "stream",
     "text": [
      "-------------------------------------------------------------------------------------------------------------\n",
      "['All', 'good', 'things', 'come', 'to', 'those', 'who', 'are', 'ready', 'to', 'wait']\n",
      "-------------------------------------------------------------------------------------------------------------\n",
      "['A', 'An', 'The']\n",
      "-------------------------------------------------------------------------------------------------------------\n",
      "A\n",
      "None\n",
      "-------------------------------------------------------------------------------------------------------------\n",
      "The\n",
      "None\n",
      "-------------------------------------------------------------------------------------------------------------\n",
      "['All', 'are', 'come', 'good', 'ready', 'things', 'those', 'to', 'to', 'wait', 'who']\n",
      "-------------------------------------------------------------------------------------------------------------\n",
      "All\n",
      "wait\n",
      "None\n",
      "-------------------------------------------------------------------------------------------------------------\n",
      "All\n",
      "who\n",
      "None\n"
     ]
    }
   ],
   "source": [
    "print ('-------------------------------------------------------------------------------------------------------------')\n",
    "print (break_words(sentence))\n",
    "print ('-------------------------------------------------------------------------------------------------------------')\n",
    "print (sort_words(words))\n",
    "print ('-------------------------------------------------------------------------------------------------------------')\n",
    "print (print_first_word(words))\n",
    "print ('-------------------------------------------------------------------------------------------------------------')\n",
    "print (print_last_word(words))\n",
    "print ('-------------------------------------------------------------------------------------------------------------')\n",
    "print (sort_sentence(sentence))\n",
    "print ('-------------------------------------------------------------------------------------------------------------')\n",
    "print (print_first_and_last(sentence))\n",
    "print ('-------------------------------------------------------------------------------------------------------------')\n",
    "print (print_first_and_last_sorted(sentence))"
   ]
  },
  {
   "cell_type": "markdown",
   "metadata": {},
   "source": [
    "# 16. The If / IF else, While Loops"
   ]
  },
  {
   "cell_type": "code",
   "execution_count": 30,
   "metadata": {},
   "outputs": [
    {
     "name": "stdout",
     "output_type": "stream",
     "text": [
      "Too many cats! The world is doomed!\n",
      "The world is dry!\n",
      "People are greater than or equal to dogs.\n",
      "People are less than or equal to dogs.\n",
      "People are dogs.\n"
     ]
    }
   ],
   "source": [
    "people = 20\n",
    "cats = 30\n",
    "dogs = 15\n",
    "\n",
    "if people < cats:\n",
    "    print(\"Too many cats! The world is doomed!\")\n",
    "\n",
    "if people > cats:\n",
    "    print(\"Not many cats! The world is saved!\")\n",
    "\n",
    "if people < dogs:\n",
    "    print(\"The world is drooled on!\")\n",
    "\n",
    "if people > dogs:\n",
    "    print(\"The world is dry!\")\n",
    "\n",
    "dogs += 5\n",
    "\n",
    "if people >= dogs:\n",
    "    print(\"People are greater than or equal to dogs.\")\n",
    "\n",
    "if people <= dogs:\n",
    "    print(\"People are less than or equal to dogs.\")\n",
    "\n",
    "if people == dogs:\n",
    "    print(\"People are dogs.\")"
   ]
  },
  {
   "cell_type": "code",
   "execution_count": 31,
   "metadata": {},
   "outputs": [
    {
     "name": "stdout",
     "output_type": "stream",
     "text": [
      "We should take the cars.\n",
      "Maybe we could take the trucks.\n",
      "Alright, let's just take the trucks.\n"
     ]
    }
   ],
   "source": [
    "people = 30\n",
    "cars = 40\n",
    "trucks = 15\n",
    "\n",
    "if cars > people:\n",
    "    print(\"We should take the cars.\")\n",
    "elif cars < people:\n",
    "    print(\"We should not take the cars.\")\n",
    "else:\n",
    "    print(\"We can't decide.\")\n",
    "\n",
    "if trucks > cars:\n",
    "    print(\"That's too many trucks.\")\n",
    "elif trucks < cars:\n",
    "    print(\"Maybe we could take the trucks.\")\n",
    "else:\n",
    "    print(\"We still can't decide.\")\n",
    "\n",
    "if people > trucks:\n",
    "    print(\"Alright, let's just take the trucks.\")\n",
    "else:\n",
    "    print(\"Fine, let's stay home then.\")"
   ]
  },
  {
   "cell_type": "code",
   "execution_count": 32,
   "metadata": {},
   "outputs": [
    {
     "name": "stdout",
     "output_type": "stream",
     "text": [
      "You enter a dark room with two doors. Do you go through door #1 or door #2?\n",
      "You stare into the endless abyss at Cthulhu's retina.\n",
      "1. Blueberries.\n",
      "2. Yellow jacket clothespins.\n",
      "3. Understanding revolvers yelling melodies.\n",
      "Your body survives powered by a mind of jello.  Good job!\n"
     ]
    }
   ],
   "source": [
    "print(\"\"\"You enter a dark room with two doors. Do you go through door #1 or door #2?\"\"\")\n",
    " \n",
    "door = input(\"> \")\n",
    " \n",
    "if door == \"1\": \n",
    "    print(\"There's a giant bear here eating a cheese cake.  What do you do?\") \n",
    "    print(\"1. Take the cake.\") \n",
    "    print(\"2. Scream at the bear.\")\n",
    "\n",
    "    bear = input(\"> \")\n",
    " \n",
    "    if bear == \"1\": \n",
    "        print(\"The bear eats your face off.  Good job!\") \n",
    "    elif bear == \"2\": \n",
    "        print(\"The bear eats your legs off.  Good job!\") \n",
    "    else: \n",
    "       print(f\"Well, doing {bear} is probably better.  Bear runs away.\")\n",
    "\n",
    "elif door == \"2\": \n",
    "    print(\"You stare into the endless abyss at Cthulhu's retina.\") \n",
    "    print(\"1. Blueberries.\") \n",
    "    print(\"2. Yellow jacket clothespins.\") \n",
    "    print(\"3. Understanding revolvers yelling melodies.\")\n",
    "\n",
    "    insanity = input(\"> \") \n",
    "    if insanity == \"1\" or insanity == \"2\": \n",
    "        print(\"Your body survives powered by a mind of jello.  Good job!\") \n",
    "    else: \n",
    "        print(\"The insanity rots your eyes into a pool of muck.  Good job!\")\n",
    "\n",
    "else:\n",
    "    print(\"You stumble around and fall on a knife and die.  Good job!\")"
   ]
  },
  {
   "cell_type": "code",
   "execution_count": 33,
   "metadata": {},
   "outputs": [
    {
     "name": "stdout",
     "output_type": "stream",
     "text": [
      "This is count 1\n",
      "This is count 2\n",
      "This is count 3\n",
      "This is count 4\n",
      "This is count 5\n",
      "A fruit of type: apples\n",
      "A fruit of type: oranges\n",
      "A fruit of type: pears\n",
      "A fruit of type: apricots\n",
      "I got 1\n",
      "I got pennies\n",
      "I got 2\n",
      "I got dimes\n",
      "I got 3\n",
      "I got quarters\n",
      "Adding 0 to the list.\n",
      "Adding 1 to the list.\n",
      "Adding 2 to the list.\n",
      "Adding 3 to the list.\n",
      "Adding 4 to the list.\n",
      "Adding 5 to the list.\n",
      "Element was: 0\n",
      "Element was: 1\n",
      "Element was: 2\n",
      "Element was: 3\n",
      "Element was: 4\n",
      "Element was: 5\n"
     ]
    }
   ],
   "source": [
    "the_count = [1, 2, 3, 4, 5] \n",
    "fruits = ['apples', 'oranges', 'pears', 'apricots'] \n",
    "change = [1, 'pennies', 2, 'dimes', 3, 'quarters'] \n",
    " \n",
    "# this first kind of for-loop goes through a list \n",
    "for number in the_count:\n",
    "    print(f\"This is count {number}\")\n",
    "\n",
    "# same as above \n",
    "for fruit in fruits: \n",
    "    print(f\"A fruit of type: {fruit}\")\n",
    "\n",
    "# also we can go through mixed lists too \n",
    "# notice we have to use {} since we don't know what's in it \n",
    "for i in change: \n",
    "    print(f\"I got {i}\")\n",
    "\n",
    "# we can also build lists, first start with an empty one \n",
    "elements = [] \n",
    " \n",
    "# then use the range function to do 0 to 5 counts \n",
    "for i in range(0, 6): \n",
    "    print(f\"Adding {i} to the list.\") \n",
    "    # append is a function that lists understand \n",
    "    elements.append(i) \n",
    "\n",
    "# now we can print them out too \n",
    "for i in elements: \n",
    "    print(f\"Element was: {i}\")"
   ]
  },
  {
   "cell_type": "code",
   "execution_count": 34,
   "metadata": {},
   "outputs": [
    {
     "name": "stdout",
     "output_type": "stream",
     "text": [
      "At the top i is 0\n",
      "Numbers now:  [0]\n",
      "At the bottom i is 1\n",
      "At the top i is 1\n",
      "Numbers now:  [0, 1]\n",
      "At the bottom i is 2\n",
      "At the top i is 2\n",
      "Numbers now:  [0, 1, 2]\n",
      "At the bottom i is 3\n",
      "At the top i is 3\n",
      "Numbers now:  [0, 1, 2, 3]\n",
      "At the bottom i is 4\n",
      "At the top i is 4\n",
      "Numbers now:  [0, 1, 2, 3, 4]\n",
      "At the bottom i is 5\n",
      "At the top i is 5\n",
      "Numbers now:  [0, 1, 2, 3, 4, 5]\n",
      "At the bottom i is 6\n",
      "The numbers: \n",
      "0\n",
      "1\n",
      "2\n",
      "3\n",
      "4\n",
      "5\n"
     ]
    }
   ],
   "source": [
    "i = 0 \n",
    "numbers = [] \n",
    " \n",
    "while i < 6:\n",
    "    print(f\"At the top i is {i}\")\n",
    "    numbers.append(i)\n",
    "\n",
    "    i = i + 1\n",
    "    print(\"Numbers now: \", numbers)\n",
    "    print(f\"At the bottom i is {i}\")\n",
    "\n",
    "print(\"The numbers: \")\n",
    "\n",
    "for num in numbers: \n",
    "    print(num)"
   ]
  },
  {
   "cell_type": "code",
   "execution_count": 39,
   "metadata": {},
   "outputs": [
    {
     "name": "stdout",
     "output_type": "stream",
     "text": [
      "You are in a dark room.\n",
      "There is a door to your right and left.\n",
      "Which one do you take?\n",
      "You stumble around the room until you starve. Good job!\n"
     ]
    },
    {
     "ename": "SystemExit",
     "evalue": "0",
     "output_type": "error",
     "traceback": [
      "An exception has occurred, use %tb to see the full traceback.\n",
      "\u001b[1;31mSystemExit\u001b[0m\u001b[1;31m:\u001b[0m 0\n"
     ]
    },
    {
     "name": "stderr",
     "output_type": "stream",
     "text": [
      "C:\\Users\\804357\\AppData\\Local\\Continuum\\anaconda3\\lib\\site-packages\\IPython\\core\\interactiveshell.py:2918: UserWarning: To exit: use 'exit', 'quit', or Ctrl-D.\n",
      "  warn(\"To exit: use 'exit', 'quit', or Ctrl-D.\", stacklevel=1)\n"
     ]
    }
   ],
   "source": [
    "from sys import exit \n",
    "\n",
    "def gold_room(): \n",
    "    print(\"This room is full of gold.  How much do you take?\")\n",
    " \n",
    "    choice = input(\"> \") \n",
    "    if \"0\" in choice or \"1\" in choice: \n",
    "        how_much = int(choice) \n",
    "    else: \n",
    "        dead(\"Man, learn to type a number.\")\n",
    " \n",
    "    if how_much < 50: \n",
    "        print(\"Nice, you're not greedy, you win!\") \n",
    "        exit(0)\n",
    "    else:\n",
    "        dead(\"You are greedy!\")\n",
    "\n",
    "def bear_room():\n",
    "    print(\"There is a bear here.\")\n",
    "    print(\"The bear has a bunch of honey.\")\n",
    "    print(\"The fat bear is in front of another door.\")\n",
    "    print(\"How are you going to move the bear?\")\n",
    "    bear_moved = False\n",
    " \n",
    "    while True:\n",
    "        choice = input(\"> \")\n",
    " \n",
    "        if choice == \"take honey\": \n",
    "            dead(\"The bear looks at you then slaps your face off.\") \n",
    "        elif choice == \"taunt bear\" and not bear_moved: \n",
    "            print(\"The bear has moved from the door. You can go through it now.\") \n",
    "            bear_moved = True \n",
    "        elif choice == \"taunt bear\" and bear_moved: \n",
    "            dead(\"The bear gets pissed off and chews your leg off.\") \n",
    "        elif choice == \"open door\" and bear_moved: \n",
    "            gold_room() \n",
    "        else: \n",
    "            print(\"I got no idea what that means.\")\n",
    "\n",
    "def cthulhu_room():\n",
    "    print(\"Here you see the great evil Cthulhu.\") \n",
    "    print(\"He, it, whatever stares at you and you go insane.\") \n",
    "    print(\"Do you flee for your life or eat your head?\")\n",
    " \n",
    "    choice = input(\"> \")\n",
    " \n",
    "    if \"flee\" in choice: \n",
    "        start() \n",
    "    elif \"head\" in choice: \n",
    "        dead(\"Well that was tasty!\") \n",
    "    else: \n",
    "        cthulhu_room()\n",
    "\n",
    "def dead(why):\n",
    "    print(why, \"Good job!\")\n",
    "    exit(0)\n",
    "\n",
    "def start():\n",
    "    print(\"You are in a dark room.\") \n",
    "    print(\"There is a door to your right and left.\") \n",
    "    print(\"Which one do you take?\")\n",
    " \n",
    "    choice = input(\"> \")\n",
    " \n",
    "    if choice == \"left\": \n",
    "        bear_room() \n",
    "    elif choice == \"right\": \n",
    "        cthulhu_room() \n",
    "    else: \n",
    "        dead(\"You stumble around the room until you starve.\")\n",
    " \n",
    "start()"
   ]
  },
  {
   "cell_type": "markdown",
   "metadata": {},
   "source": [
    "# 17. Lists"
   ]
  },
  {
   "cell_type": "code",
   "execution_count": 40,
   "metadata": {},
   "outputs": [
    {
     "name": "stdout",
     "output_type": "stream",
     "text": [
      "Wait there are not 10 things in that list. Let's fix that.\n",
      "Adding:  Boy\n",
      "There are 7 items now.\n",
      "Adding:  Girl\n",
      "There are 8 items now.\n",
      "Adding:  Banana\n",
      "There are 9 items now.\n",
      "Adding:  Corn\n",
      "There are 10 items now.\n",
      "There we go:  ['Apples', 'Oranges', 'Crows', 'Telephone', 'Light', 'Sugar', 'Boy', 'Girl', 'Banana', 'Corn']\n",
      "Let's do some things with stuff.\n",
      "Oranges\n",
      "Corn\n",
      "Corn\n",
      "Apples Oranges Crows Telephone Light Sugar Boy Girl Banana\n",
      "Telephone#Light\n"
     ]
    }
   ],
   "source": [
    "ten_things = \"Apples Oranges Crows Telephone Light Sugar\"\n",
    "print(\"Wait there are not 10 things in that list. Let's fix that.\") \n",
    " \n",
    "stuff = ten_things.split(' ') \n",
    "more_stuff = [\"Day\", \"Night\", \"Song\", \"Frisbee\", \"Corn\", \"Banana\", \"Girl\", \"Boy\"] \n",
    " \n",
    "while len(stuff) != 10: \n",
    "    next_one = more_stuff.pop() \n",
    "    print(\"Adding: \", next_one) \n",
    "    stuff.append(next_one) \n",
    "    print(f\"There are {len(stuff)} items now.\") \n",
    "\n",
    "print(\"There we go: \", stuff) \n",
    " \n",
    "print(\"Let's do some things with stuff.\") \n",
    "\n",
    "print(stuff[1]) \n",
    "print(stuff[-1]) # whoa! fancy \n",
    "print(stuff.pop()) \n",
    "print(' '.join(stuff)) # what? cool! \n",
    "print('#'.join(stuff[3:5])) # super stellar!"
   ]
  },
  {
   "cell_type": "markdown",
   "metadata": {},
   "source": [
    "# 18. Dictionaries"
   ]
  },
  {
   "cell_type": "code",
   "execution_count": 41,
   "metadata": {},
   "outputs": [
    {
     "name": "stdout",
     "output_type": "stream",
     "text": [
      "----------\n",
      "NY State has:  New York\n",
      "OR State has:  Portland\n",
      "----------\n",
      "Michigan's abbreviation is:  MI\n",
      "Florida's abbreviation is:  FL\n",
      "----------\n",
      "Michigan has:  Detroit\n",
      "Florida has:  Jacksonville\n",
      "----------\n",
      "Oregon is abbreviated OR\n",
      "Florida is abbreviated FL\n",
      "California is abbreviated CA\n",
      "New York is abbreviated NY\n",
      "Michigan is abbreviated MI\n",
      "----------\n",
      "CA has the city San Francisco\n",
      "MI has the city Detroit\n",
      "FL has the city Jacksonville\n",
      "NY has the city New York\n",
      "OR has the city Portland\n",
      "----------\n",
      "Oregon state is abbreviated OR and has city Portland\n",
      "Florida state is abbreviated FL and has city Jacksonville\n",
      "California state is abbreviated CA and has city San Francisco\n",
      "New York state is abbreviated NY and has city New York\n",
      "Michigan state is abbreviated MI and has city Detroit\n",
      "----------\n",
      "Sorry, no Texas.\n",
      "The city for the state 'TX' is: Does Not Exist\n"
     ]
    }
   ],
   "source": [
    "# create a mapping of state to abbreviation \n",
    "states = { \n",
    "    'Oregon': 'OR', \n",
    "    'Florida': 'FL', \n",
    "    'California': 'CA', \n",
    "    'New York': 'NY', \n",
    "    'Michigan': 'MI' }\n",
    "\n",
    " \n",
    "# create a basic set of states and some cities in them \n",
    "cities = {'CA': 'San Francisco', 'MI': 'Detroit', 'FL': 'Jacksonville' }\n",
    " \n",
    "# add some more cities \n",
    "cities['NY'] = 'New York' \n",
    "cities['OR'] = 'Portland'\n",
    " \n",
    "# print out some cities \n",
    "print('-' * 10) \n",
    "print(\"NY State has: \", cities['NY']) \n",
    "print(\"OR State has: \", cities['OR'])\n",
    " \n",
    "#print some states \n",
    "print('-' * 10)\n",
    "print(\"Michigan's abbreviation is: \", states['Michigan'])\n",
    "print(\"Florida's abbreviation is: \", states['Florida'])\n",
    " \n",
    "# do it by using the state then cities dict \n",
    "print('-' * 10) \n",
    "print(\"Michigan has: \", cities[states['Michigan']]) \n",
    "print(\"Florida has: \", cities[states['Florida']])\n",
    " \n",
    "# print every state abbreviation \n",
    "print('-' * 10) \n",
    "for state, abbrev in list(states.items()):\n",
    "    print(f\"{state} is abbreviated {abbrev}\")\n",
    "\n",
    "# print every city in state \n",
    "print('-' * 10) \n",
    "for abbrev, city in list(cities.items()): \n",
    "    print(f\"{abbrev} has the city {city}\")\n",
    "\n",
    "# now do both at the same time \n",
    "print('-' * 10) \n",
    "for state, abbrev in list(states.items()): \n",
    "    print(f\"{state} state is abbreviated {abbrev} and has city {cities[abbrev]}\")\n",
    "\n",
    "print('-' * 10) \n",
    "# safely get a abbreviation by state that might not be there \n",
    "state = states.get('Texas')\n",
    " \n",
    "if not state: \n",
    "    print(\"Sorry, no Texas.\") \n",
    "\n",
    "# get a city with a default value \n",
    "city = cities.get('TX', 'Does Not Exist') \n",
    "print(f\"The city for the state 'TX' is: {city}\")"
   ]
  },
  {
   "cell_type": "markdown",
   "metadata": {},
   "source": [
    "# 19. Modules, Classes and Objects"
   ]
  },
  {
   "cell_type": "raw",
   "metadata": {},
   "source": [
    "1. Modules are like dictionaries. It is a Python file with some function or variables in it which can be imported and \n",
    "    access the function and variable within the module using a '.'(dot).\n",
    "2. A class is a way to take group of functions and place them inside a container so you can access them with a '.'(dot) operator.\n",
    "3. You can take a class and can use it to craft many of them millions at a time. The best part is that they won't inerfere \n",
    "    with each other\n",
    "4. Objects are like Mini Projects."
   ]
  },
  {
   "cell_type": "code",
   "execution_count": 42,
   "metadata": {},
   "outputs": [
    {
     "name": "stdout",
     "output_type": "stream",
     "text": [
      "Happy birthday to you\n",
      "I don't want to get sued\n",
      "So I'll stop right there\n",
      "They rally around tha family\n",
      "With pockets full of shells\n"
     ]
    }
   ],
   "source": [
    "class Song(object):  \n",
    "    def __init__(self, lyrics): \n",
    "        self.lyrics = lyrics\n",
    " \n",
    "    def sing_me_a_song(self): \n",
    "        for line in self.lyrics: \n",
    "            print(line)\n",
    "\n",
    "happy_bday = Song([\"Happy birthday to you\", \n",
    "                   \"I don't want to get sued\", \n",
    "                   \"So I'll stop right there\"])\n",
    " \n",
    "bulls_on_parade = Song([\"They rally around tha family\", \n",
    "                        \"With pockets full of shells\"])\n",
    " \n",
    "happy_bday.sing_me_a_song()  \n",
    "bulls_on_parade.sing_me_a_song()"
   ]
  },
  {
   "cell_type": "code",
   "execution_count": null,
   "metadata": {},
   "outputs": [],
   "source": []
  }
 ],
 "metadata": {
  "kernelspec": {
   "display_name": "Python 3",
   "language": "python",
   "name": "python3"
  },
  "language_info": {
   "codemirror_mode": {
    "name": "ipython",
    "version": 3
   },
   "file_extension": ".py",
   "mimetype": "text/x-python",
   "name": "python",
   "nbconvert_exporter": "python",
   "pygments_lexer": "ipython3",
   "version": "3.6.4"
  }
 },
 "nbformat": 4,
 "nbformat_minor": 2
}
