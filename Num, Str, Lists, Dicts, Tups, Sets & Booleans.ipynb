{
 "cells": [
  {
   "cell_type": "code",
   "execution_count": 1,
   "metadata": {},
   "outputs": [
    {
     "name": "stdout",
     "output_type": "stream",
     "text": [
      "4\n",
      "2\n",
      "4\n",
      "1.5\n"
     ]
    }
   ],
   "source": [
    "# Basic Numeric Calculation 1\n",
    "print (1+3)\n",
    "print (3-1)\n",
    "print (2*2)\n",
    "# Division alone in Python 3 does not work as expected instead results\n",
    "# and provides a result as integer 1\n",
    "print (3/2)"
   ]
  },
  {
   "cell_type": "code",
   "execution_count": 2,
   "metadata": {},
   "outputs": [
    {
     "data": {
      "text/plain": [
       "3.0"
      ]
     },
     "execution_count": 2,
     "metadata": {},
     "output_type": "execute_result"
    }
   ],
   "source": [
    "# casting of numbers \n",
    "float(3)"
   ]
  },
  {
   "cell_type": "code",
   "execution_count": 3,
   "metadata": {},
   "outputs": [
    {
     "name": "stdout",
     "output_type": "stream",
     "text": [
      "8\n",
      "1024\n",
      "2.0\n",
      "105\n",
      "156\n"
     ]
    }
   ],
   "source": [
    "# Basic Numeric Calculation 2\n",
    "print (2**3)\n",
    "print (4**5)\n",
    "print (4**0.5)\n",
    "# BODMAS rules apply\n",
    "print (2 + 10 * 10 + 3)\n",
    "print ((2+10)*(10+3))"
   ]
  },
  {
   "cell_type": "code",
   "execution_count": 4,
   "metadata": {},
   "outputs": [
    {
     "name": "stdout",
     "output_type": "stream",
     "text": [
      "5\n",
      "10\n"
     ]
    }
   ],
   "source": [
    "# Variable calculation\n",
    "a = 5\n",
    "print (a)\n",
    "print (a+a)"
   ]
  },
  {
   "cell_type": "code",
   "execution_count": 5,
   "metadata": {},
   "outputs": [
    {
     "name": "stdout",
     "output_type": "stream",
     "text": [
      "10\n"
     ]
    },
    {
     "data": {
      "text/plain": [
       "'\\n1. Names can not start with a number\\n2. There can be no spaces in the name, use_instead\\n3. Can\\'t use any of these symbols like :\\'\",<>/?\\\\|()!@#$%^&*~`+=\\n'"
      ]
     },
     "execution_count": 5,
     "metadata": {},
     "output_type": "execute_result"
    }
   ],
   "source": [
    "a = 10\n",
    "print (a)\n",
    "# varaibale name rules\n",
    "\"\"\"\n",
    "1. Names can not start with a number\n",
    "2. There can be no spaces in the name, use_instead\n",
    "3. Can't use any of these symbols like :'\",<>/?\\|()!@#$%^&*~`+=\n",
    "\"\"\""
   ]
  },
  {
   "cell_type": "code",
   "execution_count": 6,
   "metadata": {},
   "outputs": [
    {
     "name": "stdout",
     "output_type": "stream",
     "text": [
      "10.0\n"
     ]
    }
   ],
   "source": [
    "# sample variable creation\n",
    "my_income = 100\n",
    "tax_rate = 0.1\n",
    "my_taxes = my_income*tax_rate\n",
    "print (my_taxes)"
   ]
  },
  {
   "cell_type": "markdown",
   "metadata": {},
   "source": [
    "# Strings"
   ]
  },
  {
   "cell_type": "code",
   "execution_count": 7,
   "metadata": {},
   "outputs": [
    {
     "data": {
      "text/plain": [
       "'Hello'"
      ]
     },
     "execution_count": 7,
     "metadata": {},
     "output_type": "execute_result"
    }
   ],
   "source": [
    "'Hello'"
   ]
  },
  {
   "cell_type": "code",
   "execution_count": 8,
   "metadata": {},
   "outputs": [
    {
     "data": {
      "text/plain": [
       "'This is also a string'"
      ]
     },
     "execution_count": 8,
     "metadata": {},
     "output_type": "execute_result"
    }
   ],
   "source": [
    "# Python remembers the complete string as a sequence\n",
    "\"This is also a string\""
   ]
  },
  {
   "cell_type": "code",
   "execution_count": 9,
   "metadata": {},
   "outputs": [
    {
     "name": "stdout",
     "output_type": "stream",
     "text": [
      "Hello World 1\n",
      "Hello World 2\n"
     ]
    }
   ],
   "source": [
    "print ('Hello World 1')\n",
    "print ('Hello World 2')"
   ]
  },
  {
   "cell_type": "code",
   "execution_count": 10,
   "metadata": {},
   "outputs": [
    {
     "name": "stdout",
     "output_type": "stream",
     "text": [
      "Here is a new line \n",
      " Here is the second line\n"
     ]
    }
   ],
   "source": [
    "# In Python 3, print statement are a function hence should \n",
    "# be inside a bracket\n",
    "print ('Here is a new line \\n Here is the second line')"
   ]
  },
  {
   "cell_type": "code",
   "execution_count": 11,
   "metadata": {},
   "outputs": [
    {
     "data": {
      "text/plain": [
       "11"
      ]
     },
     "execution_count": 11,
     "metadata": {},
     "output_type": "execute_result"
    }
   ],
   "source": [
    "# Basic print Functions\n",
    "# len\n",
    "len('Hello World')"
   ]
  },
  {
   "cell_type": "code",
   "execution_count": 12,
   "metadata": {},
   "outputs": [
    {
     "data": {
      "text/plain": [
       "'Hello world'"
      ]
     },
     "execution_count": 12,
     "metadata": {},
     "output_type": "execute_result"
    }
   ],
   "source": [
    "s = 'Hello world'\n",
    "s"
   ]
  },
  {
   "cell_type": "code",
   "execution_count": 13,
   "metadata": {},
   "outputs": [
    {
     "name": "stdout",
     "output_type": "stream",
     "text": [
      "H\n",
      "ello world\n",
      "Hello \n",
      "Hello world\n",
      "Hello worl\n",
      "Hello world\n",
      "He\n",
      "Hello worl\n",
      "Hello wo\n"
     ]
    }
   ],
   "source": [
    "# Incides & Slicing for strings\n",
    "print (s[0])\n",
    "print (s[1:])\n",
    "print (s[0:6])\n",
    "print (s[:])\n",
    "# Reverse Indexing\n",
    "print (s[:-1])\n",
    "print (s[::1])\n",
    "print (s[:2])\n",
    "print (s[:-1])\n",
    "print (s[:-3])"
   ]
  },
  {
   "cell_type": "code",
   "execution_count": 14,
   "metadata": {},
   "outputs": [
    {
     "ename": "TypeError",
     "evalue": "'str' object does not support item assignment",
     "output_type": "error",
     "traceback": [
      "\u001b[0;31m---------------------------------------------------------------------------\u001b[0m",
      "\u001b[0;31mTypeError\u001b[0m                                 Traceback (most recent call last)",
      "\u001b[0;32m<ipython-input-14-322ac94157b2>\u001b[0m in \u001b[0;36m<module>\u001b[0;34m()\u001b[0m\n\u001b[1;32m      3\u001b[0m \u001b[0;31m# You can concatenate strings but cannot change the sequence\u001b[0m\u001b[0;34m\u001b[0m\u001b[0;34m\u001b[0m\u001b[0m\n\u001b[1;32m      4\u001b[0m \u001b[0;31m# this throws an error\u001b[0m\u001b[0;34m\u001b[0m\u001b[0;34m\u001b[0m\u001b[0m\n\u001b[0;32m----> 5\u001b[0;31m \u001b[0ms\u001b[0m\u001b[0;34m[\u001b[0m\u001b[0;36m0\u001b[0m\u001b[0;34m]\u001b[0m \u001b[0;34m=\u001b[0m \u001b[0;34m'X'\u001b[0m\u001b[0;34m\u001b[0m\u001b[0m\n\u001b[0m",
      "\u001b[0;31mTypeError\u001b[0m: 'str' object does not support item assignment"
     ]
    }
   ],
   "source": [
    "# Strings are immutable\n",
    "# It will not let us to change the elements the sequence\n",
    "# You can concatenate strings but cannot change the sequence\n",
    "# this throws an error\n",
    "s[0] = 'X'"
   ]
  },
  {
   "cell_type": "code",
   "execution_count": 15,
   "metadata": {},
   "outputs": [
    {
     "name": "stdout",
     "output_type": "stream",
     "text": [
      "zz\n",
      "zzzzzzzzzzzzzzzzzzzz\n"
     ]
    }
   ],
   "source": [
    "letter = 'zz'\n",
    "print (letter)\n",
    "print (letter*10)"
   ]
  },
  {
   "cell_type": "code",
   "execution_count": 16,
   "metadata": {},
   "outputs": [
    {
     "name": "stdout",
     "output_type": "stream",
     "text": [
      "HELLO WORLD\n",
      "hello world\n",
      "['H', 'llo world']\n",
      "3\n",
      "6\n",
      "Hello Universe\n"
     ]
    }
   ],
   "source": [
    "# Other methods in Strings\n",
    "print (s.upper())\n",
    "print (s.lower())\n",
    "print (s.split('e'))\n",
    "print (s.count('l'))\n",
    "print (s.find('world'))\n",
    "print (s.replace('world', 'Universe'))"
   ]
  },
  {
   "cell_type": "markdown",
   "metadata": {},
   "source": [
    "# Quick Formating"
   ]
  },
  {
   "cell_type": "code",
   "execution_count": 17,
   "metadata": {},
   "outputs": [
    {
     "name": "stdout",
     "output_type": "stream",
     "text": [
      "This is a string\n",
      "Place my varaiable here :Insert\n",
      "The distance between earth and moon is 1300000\n"
     ]
    }
   ],
   "source": [
    "# print Formatting\n",
    "print ('This is a string')\n",
    "x = 13.13\n",
    "print ('Place my varaiable here :{x}'.format(x='Insert'))\n",
    "print ('The distance between {x} and {y} is {z}'.format(x='earth', y='moon', z='1300000'))"
   ]
  },
  {
   "cell_type": "code",
   "execution_count": 18,
   "metadata": {},
   "outputs": [
    {
     "name": "stdout",
     "output_type": "stream",
     "text": [
      "Floating point number: 13.14400\n",
      "Floating Point number: 13.14\n",
      "Floating point number:      13.14\n",
      "FLoating point number:                     13.14\n"
     ]
    }
   ],
   "source": [
    "# inserting numbers\n",
    "print ('Floating point number: %1.5f' %(13.144))\n",
    "print ('Floating Point number: %1.2f' %(13.144))\n",
    "print ('Floating point number: %10.2f' %(13.144))\n",
    "print ('FLoating point number: %25.2f' %(13.144))"
   ]
  },
  {
   "cell_type": "code",
   "execution_count": 19,
   "metadata": {},
   "outputs": [
    {
     "name": "stdout",
     "output_type": "stream",
     "text": [
      "Here is a number: 123.1. Here is a string: hi\n",
      "Here is a number: 123.1. Here is a string: 'hi'\n"
     ]
    }
   ],
   "source": [
    "# Conversion format methods\n",
    "print ('Here is a number: %s. Here is a string: %s' %(123.1, 'hi'))\n",
    "print ('Here is a number: %r. Here is a string: %r' %(123.1, 'hi'))"
   ]
  },
  {
   "cell_type": "markdown",
   "metadata": {},
   "source": [
    "# Lists"
   ]
  },
  {
   "cell_type": "code",
   "execution_count": 20,
   "metadata": {
    "collapsed": true
   },
   "outputs": [],
   "source": [
    "# lists are most basic generalization of na ordered arranging of elements into a collective bucket.\n",
    "my_list = [1,2,3]"
   ]
  },
  {
   "cell_type": "code",
   "execution_count": 21,
   "metadata": {},
   "outputs": [
    {
     "data": {
      "text/plain": [
       "[1, 2, 3]"
      ]
     },
     "execution_count": 21,
     "metadata": {},
     "output_type": "execute_result"
    }
   ],
   "source": [
    "my_list"
   ]
  },
  {
   "cell_type": "code",
   "execution_count": 22,
   "metadata": {},
   "outputs": [
    {
     "name": "stdout",
     "output_type": "stream",
     "text": [
      "['string', 1, 3.4]\n"
     ]
    }
   ],
   "source": [
    "# lists can hold multiple different object types within a single list type\n",
    "my_list = ['string', 1, 3.4]\n",
    "print (my_list)"
   ]
  },
  {
   "cell_type": "code",
   "execution_count": 23,
   "metadata": {},
   "outputs": [
    {
     "name": "stdout",
     "output_type": "stream",
     "text": [
      "No. of Elements in the my_list is : 5\n"
     ]
    }
   ],
   "source": [
    "# Lists support the len function\n",
    "my_list = ['one', 'two', 'there', 4, 5]\n",
    "print ('No. of Elements in the my_list is :', len(my_list))"
   ]
  },
  {
   "cell_type": "code",
   "execution_count": 24,
   "metadata": {},
   "outputs": [
    {
     "name": "stdout",
     "output_type": "stream",
     "text": [
      "one\n",
      "['two', 'there']\n",
      "['one', 'two', 'there', 4]\n"
     ]
    }
   ],
   "source": [
    "# Indexing/Slicing operation are also allowed within a list\n",
    "print (my_list[0])\n",
    "print (my_list[1:3])\n",
    "print (my_list[:4])"
   ]
  },
  {
   "cell_type": "code",
   "execution_count": 25,
   "metadata": {},
   "outputs": [
    {
     "name": "stdout",
     "output_type": "stream",
     "text": [
      "['one', 'two', 'there', 4, 5]\n"
     ]
    }
   ],
   "source": [
    "# concatenation of lists\n",
    "my_list + ['new_item']\n",
    "print (my_list)"
   ]
  },
  {
   "cell_type": "code",
   "execution_count": 24,
   "metadata": {},
   "outputs": [
    {
     "name": "stdout",
     "output_type": "stream",
     "text": [
      "Initial List\n",
      "['one', 'two', 'there', 4, 5]\n",
      "Updated the my_list\n",
      "['one', 'two', 'there', 4, 5, 'new_item']\n"
     ]
    }
   ],
   "source": [
    "# To make a change in the list permanently you should assign to the list name\n",
    "print ('Initial List')\n",
    "print (my_list)\n",
    "my_list = my_list + ['new_item']\n",
    "print ('Updated the my_list')\n",
    "print (my_list)"
   ]
  },
  {
   "cell_type": "code",
   "execution_count": 25,
   "metadata": {
    "collapsed": true
   },
   "outputs": [],
   "source": [
    "# List has the advantage that it can grow as big as possible\n",
    "# List can have multiple types viz., int, float etc.."
   ]
  },
  {
   "cell_type": "code",
   "execution_count": 26,
   "metadata": {},
   "outputs": [
    {
     "name": "stdout",
     "output_type": "stream",
     "text": [
      "Original List:  [1, 2, 3]\n"
     ]
    }
   ],
   "source": [
    "# Methods in List\n",
    "l = [1,2,3]\n",
    "print ('Original List: ', l)"
   ]
  },
  {
   "cell_type": "code",
   "execution_count": 27,
   "metadata": {},
   "outputs": [
    {
     "name": "stdout",
     "output_type": "stream",
     "text": [
      "Appended the item to list l:  [1, 2, 3, 4]\n",
      "Updated list after pop: [1, 3, 4]\n",
      "Item popped from list l 2\n"
     ]
    }
   ],
   "source": [
    "# Let us append to the list l\n",
    "l.append(4)\n",
    "print ('Appended the item to list l: ', l)\n",
    "# pop will remove the last entry made to the list and \n",
    "# assign the index to remove the specific element\n",
    "x = l.pop(1)\n",
    "print ('Updated list after pop:', l)\n",
    "print ('Item popped from list l', x)"
   ]
  },
  {
   "cell_type": "code",
   "execution_count": 28,
   "metadata": {
    "collapsed": true
   },
   "outputs": [],
   "source": [
    "new_list = ['a', 'e', 'x', 'b', 'c']"
   ]
  },
  {
   "cell_type": "code",
   "execution_count": 29,
   "metadata": {},
   "outputs": [
    {
     "data": {
      "text/plain": [
       "['c', 'b', 'x', 'e', 'a']"
      ]
     },
     "execution_count": 29,
     "metadata": {},
     "output_type": "execute_result"
    }
   ],
   "source": [
    "# Most of the mothods applied in manipulating the list are premanent\n",
    "new_list.reverse()\n",
    "new_list"
   ]
  },
  {
   "cell_type": "code",
   "execution_count": 30,
   "metadata": {},
   "outputs": [
    {
     "data": {
      "text/plain": [
       "['a', 'b', 'c', 'e', 'x']"
      ]
     },
     "execution_count": 30,
     "metadata": {},
     "output_type": "execute_result"
    }
   ],
   "source": [
    "new_list.sort()\n",
    "new_list"
   ]
  },
  {
   "cell_type": "code",
   "execution_count": 31,
   "metadata": {},
   "outputs": [
    {
     "name": "stdout",
     "output_type": "stream",
     "text": [
      "1\n"
     ]
    }
   ],
   "source": [
    "print (new_list.count('a'))"
   ]
  },
  {
   "cell_type": "code",
   "execution_count": 32,
   "metadata": {
    "collapsed": true
   },
   "outputs": [],
   "source": [
    "# Lists Support Nesting\n",
    "l_1 = [1,2,3]\n",
    "l_2 = [4,5,6]\n",
    "l_3 = [7,8,9]"
   ]
  },
  {
   "cell_type": "code",
   "execution_count": 33,
   "metadata": {},
   "outputs": [
    {
     "name": "stdout",
     "output_type": "stream",
     "text": [
      "[[1, 2, 3], [4, 5, 6], [7, 8, 9]]\n"
     ]
    }
   ],
   "source": [
    "matrix = [l_1, l_2, l_3]\n",
    "print (matrix)"
   ]
  },
  {
   "cell_type": "code",
   "execution_count": 34,
   "metadata": {},
   "outputs": [
    {
     "name": "stdout",
     "output_type": "stream",
     "text": [
      "1\n",
      "5\n",
      "9\n"
     ]
    }
   ],
   "source": [
    "# We can access the elements using multiple index\n",
    "print (matrix[0][0])\n",
    "print (matrix[1][1])\n",
    "print (matrix[2][2])"
   ]
  },
  {
   "cell_type": "code",
   "execution_count": 40,
   "metadata": {},
   "outputs": [
    {
     "name": "stdout",
     "output_type": "stream",
     "text": [
      "[1, 4, 7]\n"
     ]
    }
   ],
   "source": [
    "# List Comprehension is like deconstructing a for loop within a bracket\n",
    "first_col = [row[0] for row in matrix]\n",
    "print (first_col)"
   ]
  },
  {
   "cell_type": "code",
   "execution_count": 46,
   "metadata": {
    "collapsed": true
   },
   "outputs": [],
   "source": [
    "# Initializing a new list\n",
    "l = [1,2,3]"
   ]
  },
  {
   "cell_type": "code",
   "execution_count": 47,
   "metadata": {},
   "outputs": [
    {
     "name": "stdout",
     "output_type": "stream",
     "text": [
      "Initial list is [1, 2, 3]\n",
      "List after appending [1, 2, 3, 4]\n",
      "Number of instances an item appears in list 1\n",
      "List after extending 2 new elements [1, 2, 3, 4, 4, 5]\n",
      "location of of item 2 is 1\n",
      "New list after the insert operation [1, 2, 'item', 3, 4, 4, 5]\n",
      "List after removing an item 1 looks like [2, 'item', 3, 4, 4, 5]\n"
     ]
    }
   ],
   "source": [
    "# Other methods in list\n",
    "print ('Initial list is', l)\n",
    "# Append to add new elements\n",
    "l.append(4)\n",
    "print ('List after appending', l)\n",
    "# count - check the no of items\n",
    "print ('Number of instances an item appears in list', l.count(2))\n",
    "# extend - to add in an iterable\n",
    "l.extend([4, 5])\n",
    "print ('List after extending 2 new elements', l)\n",
    "# index - to fetch the location of an item\n",
    "print ('location of of item {x} is {y}'.format(x=2, y=l.index(x)))\n",
    "# insert - places an object at a specific location\n",
    "l.insert(2, 'item')\n",
    "print ('New list after the insert operation', l)\n",
    "# pop reoves the last item in the list\n",
    "# remove will remove the first occurence of a value\n",
    "l.remove(1)\n",
    "print ('List after removing an item 1 looks like', l)\n",
    "# reverse iwill invert the list\n",
    "# sort will sort the list into place"
   ]
  },
  {
   "cell_type": "markdown",
   "metadata": {},
   "source": [
    "# Dictionaries"
   ]
  },
  {
   "cell_type": "code",
   "execution_count": 48,
   "metadata": {
    "collapsed": true
   },
   "outputs": [],
   "source": [
    "# Dictionaries are like key value pair and they are mappings\n",
    "# these mappings will not retain the order\n",
    "my_dict = {'k1': 'var1', 'k2': 'var2', 'k3': 6.78, 'k4': 43}"
   ]
  },
  {
   "cell_type": "code",
   "execution_count": 59,
   "metadata": {},
   "outputs": [
    {
     "name": "stdout",
     "output_type": "stream",
     "text": [
      "var1\n",
      "a\n",
      "2\n",
      "VAR2\n",
      "49\n"
     ]
    }
   ],
   "source": [
    "print (my_dict['k1'])\n",
    "print (my_dict['k2'][1])\n",
    "print (my_dict['k2'][-1])\n",
    "print (my_dict['k2'].upper())\n",
    "print (my_dict['k4']+6) "
   ]
  },
  {
   "cell_type": "code",
   "execution_count": 57,
   "metadata": {},
   "outputs": [
    {
     "name": "stdout",
     "output_type": "stream",
     "text": [
      "new Dictionary created is : {'key1': 123, 'key2': [12, 23, 33], 'key3': ['item0', 'item1', 'item2']}\n",
      "Calling a specific item: ['item0', 'item1', 'item2']\n",
      "Calling an index on that value item0\n",
      "Can apply a method after object is called ITEM0\n"
     ]
    }
   ],
   "source": [
    "# Its important to note that dictionaries are very flexible in the data types they can hold\n",
    "my_dict = {'key1':123,'key2':[12,23,33],'key3':['item0','item1','item2']}\n",
    "print ('new Dictionary created is :', my_dict)\n",
    "#Lets call items from the dictionary\n",
    "print ('Calling a specific item:',my_dict['key3'])\n",
    "# Can call an index on that value\n",
    "print ('Calling an index on that value',my_dict['key3'][0])\n",
    "#Can then even call methods on that value\n",
    "print ('Can apply a method after object is called', my_dict['key3'][0].upper())"
   ]
  },
  {
   "cell_type": "code",
   "execution_count": 49,
   "metadata": {},
   "outputs": [
    {
     "name": "stdout",
     "output_type": "stream",
     "text": [
      "{'a1': 5, 'a2': 7.56, 'a3': 'str'}\n",
      "49\n"
     ]
    }
   ],
   "source": [
    "# Dictionary can hold heterogenous types of value\n",
    "sim_dict = {'a1':5, 'a2':7.56, 'a3': 'str'}\n",
    "print (sim_dict)\n",
    "# just as lists dicts can be permanently updated\n",
    "my_dict['k4'] = my_dict['k4']+6\n",
    "print (my_dict['k4'])"
   ]
  },
  {
   "cell_type": "code",
   "execution_count": 50,
   "metadata": {},
   "outputs": [
    {
     "name": "stdout",
     "output_type": "stream",
     "text": [
      "149\n"
     ]
    }
   ],
   "source": [
    "# Quick Syntax for assignment\n",
    "my_dict['k4'] += 100\n",
    "print (my_dict['k4'])"
   ]
  },
  {
   "cell_type": "code",
   "execution_count": 51,
   "metadata": {},
   "outputs": [
    {
     "name": "stdout",
     "output_type": "stream",
     "text": [
      "{'animal': 'dog', 'val': 42}\n"
     ]
    }
   ],
   "source": [
    "# Assignment of values to the dictionary\n",
    "d = {}\n",
    "d['animal'] = 'dog'\n",
    "d['val'] = 42\n",
    "print (d)"
   ]
  },
  {
   "cell_type": "code",
   "execution_count": 52,
   "metadata": {
    "collapsed": true
   },
   "outputs": [],
   "source": [
    "# Nesting in dictionary\n",
    "nd = {'u1': {'m1': {'l1': 'value'}}}"
   ]
  },
  {
   "cell_type": "code",
   "execution_count": 53,
   "metadata": {},
   "outputs": [
    {
     "name": "stdout",
     "output_type": "stream",
     "text": [
      "{'u1': {'m1': {'l1': 'value'}}}\n",
      "{'m1': {'l1': 'value'}}\n",
      "{'l1': 'value'}\n",
      "value\n",
      "VALUE\n"
     ]
    }
   ],
   "source": [
    "# Accessing the items in a nested dictionary\n",
    "print (nd)\n",
    "print (nd['u1'])\n",
    "print (nd['u1']['m1'])\n",
    "print (nd['u1']['m1']['l1'])\n",
    "print (nd['u1']['m1']['l1'].upper())"
   ]
  },
  {
   "cell_type": "code",
   "execution_count": 54,
   "metadata": {
    "collapsed": true
   },
   "outputs": [],
   "source": [
    "# Dictionary Methods\n",
    "d = {}\n",
    "d['k1'] = 1\n",
    "d['k2'] = 2\n",
    "d['k3'] = 3"
   ]
  },
  {
   "cell_type": "code",
   "execution_count": 55,
   "metadata": {},
   "outputs": [
    {
     "name": "stdout",
     "output_type": "stream",
     "text": [
      "dict_keys(['k1', 'k2', 'k3'])\n",
      "dict_values([1, 2, 3])\n",
      "dict_items([('k1', 1), ('k2', 2), ('k3', 3)])\n"
     ]
    }
   ],
   "source": [
    "print (d.keys())\n",
    "print (d.values())\n",
    "print (d.items())"
   ]
  },
  {
   "cell_type": "code",
   "execution_count": 58,
   "metadata": {},
   "outputs": [
    {
     "name": "stdout",
     "output_type": "stream",
     "text": [
      "{'k1': 1, 'k2': 2}\n"
     ]
    }
   ],
   "source": [
    "# Advanced Dictionaries\n",
    "d = {'k1':1, 'k2':2}\n",
    "print (d)"
   ]
  },
  {
   "cell_type": "code",
   "execution_count": 59,
   "metadata": {},
   "outputs": [
    {
     "data": {
      "text/plain": [
       "{0: 0, 1: 1, 2: 4, 3: 9, 4: 16, 5: 25, 6: 36, 7: 49, 8: 64, 9: 81}"
      ]
     },
     "execution_count": 59,
     "metadata": {},
     "output_type": "execute_result"
    }
   ],
   "source": [
    "# Dictionary Comperhensions\n",
    "{x:x**2 for x in range(10)}"
   ]
  },
  {
   "cell_type": "code",
   "execution_count": 67,
   "metadata": {
    "scrolled": true
   },
   "outputs": [
    {
     "name": "stdout",
     "output_type": "stream",
     "text": [
      "Only Keys\n",
      "k1\n",
      "k2\n",
      "Only Values\n",
      "1\n",
      "2\n",
      "Both Keys and values\n",
      "('k1', 1)\n",
      "('k2', 2)\n"
     ]
    }
   ],
   "source": [
    "# Iteration over Keys, values and Items\n",
    "print ('Only Keys')\n",
    "for k in d.keys():\n",
    "    print (k)\n",
    "print ('Only Values')\n",
    "for v in d.values():\n",
    "    print (v)\n",
    "print ('Both Keys and values')\n",
    "for item in d.items():\n",
    "    print (item)"
   ]
  },
  {
   "cell_type": "markdown",
   "metadata": {},
   "source": [
    "# Tuples"
   ]
  },
  {
   "cell_type": "code",
   "execution_count": 70,
   "metadata": {
    "collapsed": true
   },
   "outputs": [],
   "source": [
    "# Tuples are very similar to lists but are immutability\n",
    "t = (1, 2, 3)"
   ]
  },
  {
   "cell_type": "code",
   "execution_count": 71,
   "metadata": {},
   "outputs": [
    {
     "data": {
      "text/plain": [
       "3"
      ]
     },
     "execution_count": 71,
     "metadata": {},
     "output_type": "execute_result"
    }
   ],
   "source": [
    "len(t)"
   ]
  },
  {
   "cell_type": "code",
   "execution_count": 72,
   "metadata": {
    "collapsed": true
   },
   "outputs": [],
   "source": [
    "t = (1, 2, 3, 'val', 6.7)"
   ]
  },
  {
   "cell_type": "code",
   "execution_count": 73,
   "metadata": {},
   "outputs": [
    {
     "name": "stdout",
     "output_type": "stream",
     "text": [
      "1\n",
      "(3, 'val', 6.7)\n"
     ]
    }
   ],
   "source": [
    "# both indeing and slicing works here too\n",
    "print (t[0])\n",
    "print (t[2:])"
   ]
  },
  {
   "cell_type": "code",
   "execution_count": 74,
   "metadata": {},
   "outputs": [
    {
     "data": {
      "text/plain": [
       "2"
      ]
     },
     "execution_count": 74,
     "metadata": {},
     "output_type": "execute_result"
    }
   ],
   "source": [
    "# Only 2 methods for tuples\n",
    "# check the index value\n",
    "t.index(3)"
   ]
  },
  {
   "cell_type": "code",
   "execution_count": 75,
   "metadata": {},
   "outputs": [
    {
     "data": {
      "text/plain": [
       "1"
      ]
     },
     "execution_count": 75,
     "metadata": {},
     "output_type": "execute_result"
    }
   ],
   "source": [
    "# Counts the number of index values\n",
    "t.count(1)"
   ]
  },
  {
   "cell_type": "code",
   "execution_count": 76,
   "metadata": {
    "collapsed": true
   },
   "outputs": [],
   "source": [
    "# tuples cannot be altered and cannot be changed at all\n",
    "# trying to change the Tuple will give an error\n",
    "# There are fewer supported methods that are available in the Tuples\n",
    "# Only index and count are the methods\n",
    "# It can be used in the case where you need a rigid data struture"
   ]
  },
  {
   "cell_type": "code",
   "execution_count": 81,
   "metadata": {},
   "outputs": [
    {
     "name": "stdout",
     "output_type": "stream",
     "text": [
      "Original List [1, 2, 3]\n",
      "Updated List [1, 4, 3]\n",
      "Original Tuple (1, 2, 3)\n",
      "Trying to alter this throws an error\n",
      "tuple[2] = 3 - tuple object does not support item assignment\n"
     ]
    }
   ],
   "source": [
    "list = [1,2,3]\n",
    "tuple = (1,2,3)\n",
    "print ('Original List', list)\n",
    "list[1] = 4\n",
    "print ('Updated List', list)\n",
    "print ('Original Tuple', tuple)\n",
    "print ('Trying to alter this throws an error')\n",
    "print ('tuple[2] = 3 - tuple object does not support item assignment')"
   ]
  },
  {
   "cell_type": "code",
   "execution_count": 75,
   "metadata": {
    "collapsed": true
   },
   "outputs": [],
   "source": [
    "# A list can be an item in the Tuple\n",
    "t = (1, 2, [1,2])"
   ]
  },
  {
   "cell_type": "code",
   "execution_count": 76,
   "metadata": {},
   "outputs": [
    {
     "data": {
      "text/plain": [
       "[1, 2]"
      ]
     },
     "execution_count": 76,
     "metadata": {},
     "output_type": "execute_result"
    }
   ],
   "source": [
    "t[2]"
   ]
  },
  {
   "cell_type": "markdown",
   "metadata": {},
   "source": [
    "# Sets and Booleans"
   ]
  },
  {
   "cell_type": "code",
   "execution_count": 82,
   "metadata": {
    "collapsed": true
   },
   "outputs": [],
   "source": [
    "# Sets is an unordered collection of unique items\n",
    "x = set()"
   ]
  },
  {
   "cell_type": "code",
   "execution_count": 83,
   "metadata": {},
   "outputs": [
    {
     "data": {
      "text/plain": [
       "set()"
      ]
     },
     "execution_count": 83,
     "metadata": {},
     "output_type": "execute_result"
    }
   ],
   "source": [
    "x"
   ]
  },
  {
   "cell_type": "code",
   "execution_count": 84,
   "metadata": {
    "collapsed": true
   },
   "outputs": [],
   "source": [
    "x.add(1)"
   ]
  },
  {
   "cell_type": "code",
   "execution_count": 85,
   "metadata": {},
   "outputs": [
    {
     "data": {
      "text/plain": [
       "{1}"
      ]
     },
     "execution_count": 85,
     "metadata": {},
     "output_type": "execute_result"
    }
   ],
   "source": [
    "# Sets can be thought of as an dicts with keys\n",
    "x"
   ]
  },
  {
   "cell_type": "code",
   "execution_count": 87,
   "metadata": {},
   "outputs": [
    {
     "name": "stdout",
     "output_type": "stream",
     "text": [
      "This is a list (1, 1, 1, 2, 2, 3, 3, 3, 4, 4, 5)\n",
      "Compressing the list into a set {1, 2, 3, 4, 5}\n"
     ]
    }
   ],
   "source": [
    "# list with repeated items cane be casting into a unique set\n",
    "l = (1,1,1,2,2,3,3,3,4,4,5)\n",
    "print (\"This is a list\", l)\n",
    "print ('Compressing the list into a set', set(l))"
   ]
  },
  {
   "cell_type": "code",
   "execution_count": 88,
   "metadata": {},
   "outputs": [
    {
     "data": {
      "text/plain": [
       "True"
      ]
     },
     "execution_count": 88,
     "metadata": {},
     "output_type": "execute_result"
    }
   ],
   "source": [
    "#Booleans\n",
    "a = True\n",
    "a"
   ]
  },
  {
   "cell_type": "code",
   "execution_count": 89,
   "metadata": {},
   "outputs": [
    {
     "data": {
      "text/plain": [
       "False"
      ]
     },
     "execution_count": 89,
     "metadata": {},
     "output_type": "execute_result"
    }
   ],
   "source": [
    "1 > 2"
   ]
  },
  {
   "cell_type": "code",
   "execution_count": 90,
   "metadata": {
    "collapsed": true
   },
   "outputs": [],
   "source": [
    "b = None\n",
    "b"
   ]
  },
  {
   "cell_type": "code",
   "execution_count": null,
   "metadata": {
    "collapsed": true
   },
   "outputs": [],
   "source": []
  }
 ],
 "metadata": {
  "kernelspec": {
   "display_name": "Python 3",
   "language": "python",
   "name": "python3"
  },
  "language_info": {
   "codemirror_mode": {
    "name": "ipython",
    "version": 3
   },
   "file_extension": ".py",
   "mimetype": "text/x-python",
   "name": "python",
   "nbconvert_exporter": "python",
   "pygments_lexer": "ipython3",
   "version": "3.6.1"
  }
 },
 "nbformat": 4,
 "nbformat_minor": 2
}
