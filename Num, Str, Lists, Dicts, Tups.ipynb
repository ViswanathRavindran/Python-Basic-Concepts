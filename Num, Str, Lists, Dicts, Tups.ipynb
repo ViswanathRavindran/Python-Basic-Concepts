{
 "cells": [
  {
   "cell_type": "code",
   "execution_count": 1,
   "metadata": {},
   "outputs": [
    {
     "name": "stdout",
     "output_type": "stream",
     "text": [
      "4\n",
      "2\n",
      "4\n",
      "1.5\n"
     ]
    }
   ],
   "source": [
    "# Basic Numeric Calculation 1\n",
    "print (1+3)\n",
    "print (3-1)\n",
    "print (2*2)\n",
    "# Division alone in Python 3 does not work as expected instead results\n",
    "# and provides a result as integer 1\n",
    "print (3/2)"
   ]
  },
  {
   "cell_type": "code",
   "execution_count": 2,
   "metadata": {},
   "outputs": [
    {
     "name": "stdout",
     "output_type": "stream",
     "text": [
      "8\n",
      "1024\n",
      "2.0\n",
      "105\n",
      "156\n"
     ]
    }
   ],
   "source": [
    "# Basic Numeric Calculation 2\n",
    "print (2**3)\n",
    "print (4**5)\n",
    "print (4**0.5)\n",
    "# BODMAS rules apply\n",
    "print (2 + 10 * 10 + 3)\n",
    "print ((2+10)*(10+3))"
   ]
  },
  {
   "cell_type": "code",
   "execution_count": 3,
   "metadata": {},
   "outputs": [
    {
     "name": "stdout",
     "output_type": "stream",
     "text": [
      "5\n",
      "10\n"
     ]
    }
   ],
   "source": [
    "# Variable calculation\n",
    "a = 5\n",
    "print (a)\n",
    "print (a+a)"
   ]
  },
  {
   "cell_type": "code",
   "execution_count": 4,
   "metadata": {},
   "outputs": [
    {
     "name": "stdout",
     "output_type": "stream",
     "text": [
      "10\n"
     ]
    },
    {
     "data": {
      "text/plain": [
       "'\\n1. Names can not start with a number\\n2. There can be no spaces in the name, use_instead\\n3. Can\\'t use any of these symbols like :\\'\",<>/?\\\\|()!@#$%^&*~`+=\\n'"
      ]
     },
     "execution_count": 4,
     "metadata": {},
     "output_type": "execute_result"
    }
   ],
   "source": [
    "a = 10\n",
    "print (a)\n",
    "# varaibale name rules\n",
    "\"\"\"\n",
    "1. Names can not start with a number\n",
    "2. There can be no spaces in the name, use_instead\n",
    "3. Can't use any of these symbols like :'\",<>/?\\|()!@#$%^&*~`+=\n",
    "\"\"\""
   ]
  },
  {
   "cell_type": "code",
   "execution_count": 5,
   "metadata": {},
   "outputs": [
    {
     "name": "stdout",
     "output_type": "stream",
     "text": [
      "10.0\n"
     ]
    }
   ],
   "source": [
    "# sample variable creation\n",
    "my_income = 100\n",
    "tax_rate = 0.1\n",
    "my_taxes = my_income*tax_rate\n",
    "print (my_taxes)"
   ]
  },
  {
   "cell_type": "markdown",
   "metadata": {},
   "source": [
    "# Strings"
   ]
  },
  {
   "cell_type": "code",
   "execution_count": 6,
   "metadata": {},
   "outputs": [
    {
     "data": {
      "text/plain": [
       "'Hello'"
      ]
     },
     "execution_count": 6,
     "metadata": {},
     "output_type": "execute_result"
    }
   ],
   "source": [
    "'Hello'"
   ]
  },
  {
   "cell_type": "code",
   "execution_count": 7,
   "metadata": {},
   "outputs": [
    {
     "data": {
      "text/plain": [
       "'This is also a string'"
      ]
     },
     "execution_count": 7,
     "metadata": {},
     "output_type": "execute_result"
    }
   ],
   "source": [
    "# Python remembers the complete string as a sequence\n",
    "\"This is also a string\""
   ]
  },
  {
   "cell_type": "code",
   "execution_count": 8,
   "metadata": {},
   "outputs": [
    {
     "name": "stdout",
     "output_type": "stream",
     "text": [
      "Hello World 1\n",
      "Hello World 2\n"
     ]
    }
   ],
   "source": [
    "print ('Hello World 1')\n",
    "print ('Hello World 2')"
   ]
  },
  {
   "cell_type": "code",
   "execution_count": 9,
   "metadata": {},
   "outputs": [
    {
     "name": "stdout",
     "output_type": "stream",
     "text": [
      "Here is a new line \n",
      " Here is the second line\n"
     ]
    }
   ],
   "source": [
    "# In Python 3, print statement are a function hence should \n",
    "# be inside a bracket\n",
    "print ('Here is a new line \\n Here is the second line')"
   ]
  },
  {
   "cell_type": "code",
   "execution_count": 10,
   "metadata": {},
   "outputs": [
    {
     "data": {
      "text/plain": [
       "11"
      ]
     },
     "execution_count": 10,
     "metadata": {},
     "output_type": "execute_result"
    }
   ],
   "source": [
    "# Basic print Functions\n",
    "# len\n",
    "len('Hello World')"
   ]
  },
  {
   "cell_type": "code",
   "execution_count": 11,
   "metadata": {},
   "outputs": [
    {
     "data": {
      "text/plain": [
       "'Hello world'"
      ]
     },
     "execution_count": 11,
     "metadata": {},
     "output_type": "execute_result"
    }
   ],
   "source": [
    "s = 'Hello world'\n",
    "s"
   ]
  },
  {
   "cell_type": "code",
   "execution_count": 12,
   "metadata": {},
   "outputs": [
    {
     "name": "stdout",
     "output_type": "stream",
     "text": [
      "H\n",
      "ello world\n",
      "Hello \n",
      "Hello world\n",
      "Hello worl\n",
      "Hello world\n",
      "He\n",
      "Hello worl\n",
      "Hello wo\n"
     ]
    }
   ],
   "source": [
    "# Incides & Slicing for strings\n",
    "print (s[0])\n",
    "print (s[1:])\n",
    "print (s[0:6])\n",
    "print (s[:])\n",
    "# Reverse Indexing\n",
    "print (s[:-1])\n",
    "print (s[::1])\n",
    "print (s[:2])\n",
    "print (s[:-1])\n",
    "print (s[:-3])"
   ]
  },
  {
   "cell_type": "code",
   "execution_count": 13,
   "metadata": {},
   "outputs": [
    {
     "ename": "TypeError",
     "evalue": "'str' object does not support item assignment",
     "output_type": "error",
     "traceback": [
      "\u001b[0;31m---------------------------------------------------------------------------\u001b[0m",
      "\u001b[0;31mTypeError\u001b[0m                                 Traceback (most recent call last)",
      "\u001b[0;32m<ipython-input-13-322ac94157b2>\u001b[0m in \u001b[0;36m<module>\u001b[0;34m()\u001b[0m\n\u001b[1;32m      3\u001b[0m \u001b[0;31m# You can concatenate strings but cannot change the sequence\u001b[0m\u001b[0;34m\u001b[0m\u001b[0;34m\u001b[0m\u001b[0m\n\u001b[1;32m      4\u001b[0m \u001b[0;31m# this throws an error\u001b[0m\u001b[0;34m\u001b[0m\u001b[0;34m\u001b[0m\u001b[0m\n\u001b[0;32m----> 5\u001b[0;31m \u001b[0ms\u001b[0m\u001b[0;34m[\u001b[0m\u001b[0;36m0\u001b[0m\u001b[0;34m]\u001b[0m \u001b[0;34m=\u001b[0m \u001b[0;34m'X'\u001b[0m\u001b[0;34m\u001b[0m\u001b[0m\n\u001b[0m",
      "\u001b[0;31mTypeError\u001b[0m: 'str' object does not support item assignment"
     ]
    }
   ],
   "source": [
    "# Strings are immutable\n",
    "# It will not let us to change the elements the sequence\n",
    "# You can concatenate strings but cannot change the sequence\n",
    "# this throws an error\n",
    "s[0] = 'X'"
   ]
  },
  {
   "cell_type": "code",
   "execution_count": 14,
   "metadata": {},
   "outputs": [
    {
     "name": "stdout",
     "output_type": "stream",
     "text": [
      "zz\n",
      "zzzzzzzzzzzzzzzzzzzz\n"
     ]
    }
   ],
   "source": [
    "letter = 'zz'\n",
    "print (letter)\n",
    "print (letter*10)"
   ]
  },
  {
   "cell_type": "code",
   "execution_count": 15,
   "metadata": {},
   "outputs": [
    {
     "name": "stdout",
     "output_type": "stream",
     "text": [
      "HELLO WORLD\n",
      "hello world\n",
      "['H', 'llo world']\n",
      "3\n",
      "6\n",
      "Hello Universe\n"
     ]
    }
   ],
   "source": [
    "# Other methods in Strings\n",
    "print (s.upper())\n",
    "print (s.lower())\n",
    "print (s.split('e'))\n",
    "print (s.count('l'))\n",
    "print (s.find('world'))\n",
    "print (s.replace('world', 'Universe'))"
   ]
  },
  {
   "cell_type": "code",
   "execution_count": 16,
   "metadata": {},
   "outputs": [
    {
     "name": "stdout",
     "output_type": "stream",
     "text": [
      "This is a string\n",
      "Place my varaiable here :%1.2f\n"
     ]
    },
    {
     "ename": "TypeError",
     "evalue": "unsupported operand type(s) for %: 'NoneType' and 'float'",
     "output_type": "error",
     "traceback": [
      "\u001b[0;31m---------------------------------------------------------------------------\u001b[0m",
      "\u001b[0;31mTypeError\u001b[0m                                 Traceback (most recent call last)",
      "\u001b[0;32m<ipython-input-16-a68da8e93b96>\u001b[0m in \u001b[0;36m<module>\u001b[0;34m()\u001b[0m\n\u001b[1;32m      2\u001b[0m \u001b[0mprint\u001b[0m \u001b[0;34m(\u001b[0m\u001b[0;34m'This is a string'\u001b[0m\u001b[0;34m)\u001b[0m\u001b[0;34m\u001b[0m\u001b[0m\n\u001b[1;32m      3\u001b[0m \u001b[0mx\u001b[0m \u001b[0;34m=\u001b[0m \u001b[0;36m13.13\u001b[0m\u001b[0;34m\u001b[0m\u001b[0m\n\u001b[0;32m----> 4\u001b[0;31m \u001b[0mprint\u001b[0m \u001b[0;34m(\u001b[0m\u001b[0;34m'Place my varaiable here :%1.2f'\u001b[0m\u001b[0;34m)\u001b[0m\u001b[0;34m%\u001b[0m\u001b[0;34m(\u001b[0m\u001b[0mx\u001b[0m\u001b[0;34m)\u001b[0m\u001b[0;34m\u001b[0m\u001b[0m\n\u001b[0m",
      "\u001b[0;31mTypeError\u001b[0m: unsupported operand type(s) for %: 'NoneType' and 'float'"
     ]
    }
   ],
   "source": [
    "# print Formatting\n",
    "print ('This is a string')\n",
    "x = 13.13\n",
    "print ('Place my varaiable here :%1.2f')%(x)"
   ]
  },
  {
   "cell_type": "markdown",
   "metadata": {},
   "source": [
    "# Lists"
   ]
  },
  {
   "cell_type": "code",
   "execution_count": 17,
   "metadata": {
    "collapsed": true
   },
   "outputs": [],
   "source": [
    "# lists are most basic generalization of na ordered arranging of elements into a collective bucket.\n",
    "my_list = [1,2,3]"
   ]
  },
  {
   "cell_type": "code",
   "execution_count": 18,
   "metadata": {},
   "outputs": [
    {
     "data": {
      "text/plain": [
       "[1, 2, 3]"
      ]
     },
     "execution_count": 18,
     "metadata": {},
     "output_type": "execute_result"
    }
   ],
   "source": [
    "my_list"
   ]
  },
  {
   "cell_type": "code",
   "execution_count": 19,
   "metadata": {},
   "outputs": [
    {
     "name": "stdout",
     "output_type": "stream",
     "text": [
      "['string', 1, 3.4]\n"
     ]
    }
   ],
   "source": [
    "# lists can hold multiple different object types within a single list type\n",
    "my_list = ['string', 1, 3.4]\n",
    "print (my_list)"
   ]
  },
  {
   "cell_type": "code",
   "execution_count": 20,
   "metadata": {},
   "outputs": [
    {
     "name": "stdout",
     "output_type": "stream",
     "text": [
      "No. of Elements in the my_list is : 5\n"
     ]
    }
   ],
   "source": [
    "# Lists support the len function\n",
    "my_list = ['one', 'two', 'there', 4, 5]\n",
    "print ('No. of Elements in the my_list is :', len(my_list))"
   ]
  },
  {
   "cell_type": "code",
   "execution_count": 22,
   "metadata": {},
   "outputs": [
    {
     "name": "stdout",
     "output_type": "stream",
     "text": [
      "one\n",
      "['two', 'there']\n",
      "['one', 'two', 'there', 4]\n"
     ]
    }
   ],
   "source": [
    "# Indexing/Slicing operation are also allowed within a list\n",
    "print (my_list[0])\n",
    "print (my_list[1:3])\n",
    "print (my_list[:4])"
   ]
  },
  {
   "cell_type": "code",
   "execution_count": 23,
   "metadata": {},
   "outputs": [
    {
     "name": "stdout",
     "output_type": "stream",
     "text": [
      "['one', 'two', 'there', 4, 5]\n"
     ]
    }
   ],
   "source": [
    "# concatenation of lists\n",
    "my_list + ['new_item']\n",
    "print (my_list)"
   ]
  },
  {
   "cell_type": "code",
   "execution_count": 24,
   "metadata": {},
   "outputs": [
    {
     "name": "stdout",
     "output_type": "stream",
     "text": [
      "Initial List\n",
      "['one', 'two', 'there', 4, 5]\n",
      "Updated the my_list\n",
      "['one', 'two', 'there', 4, 5, 'new_item']\n"
     ]
    }
   ],
   "source": [
    "# To make a change in the list permanently you should assign to the list name\n",
    "print ('Initial List')\n",
    "print (my_list)\n",
    "my_list = my_list + ['new_item']\n",
    "print ('Updated the my_list')\n",
    "print (my_list)"
   ]
  },
  {
   "cell_type": "code",
   "execution_count": 25,
   "metadata": {
    "collapsed": true
   },
   "outputs": [],
   "source": [
    "# List has the advantage that it can grow as big as possible\n",
    "# List can have multiple types viz., int, float etc.."
   ]
  },
  {
   "cell_type": "code",
   "execution_count": 30,
   "metadata": {},
   "outputs": [
    {
     "name": "stdout",
     "output_type": "stream",
     "text": [
      "Original List:  [1, 2, 3]\n"
     ]
    }
   ],
   "source": [
    "# Methods in List\n",
    "l = [1,2,3]\n",
    "print ('Original List: ', l)"
   ]
  },
  {
   "cell_type": "code",
   "execution_count": 31,
   "metadata": {},
   "outputs": [
    {
     "name": "stdout",
     "output_type": "stream",
     "text": [
      "Appended the item to list l:  [1, 2, 3, 4]\n",
      "Updated list after pop: [1, 3, 4]\n",
      "Item popped from list l 2\n"
     ]
    }
   ],
   "source": [
    "# Let us append to the list l\n",
    "l.append(4)\n",
    "print ('Appended the item to list l: ', l)\n",
    "# pop will remove the last entry made to the list and \n",
    "# assign the index to remove the specific element\n",
    "x = l.pop(1)\n",
    "print ('Updated list after pop:', l)\n",
    "print ('Item popped from list l', x)"
   ]
  },
  {
   "cell_type": "code",
   "execution_count": 39,
   "metadata": {
    "collapsed": true
   },
   "outputs": [],
   "source": [
    "new_list = ['a', 'e', 'x', 'b', 'c']"
   ]
  },
  {
   "cell_type": "code",
   "execution_count": 40,
   "metadata": {},
   "outputs": [
    {
     "data": {
      "text/plain": [
       "['c', 'b', 'x', 'e', 'a']"
      ]
     },
     "execution_count": 40,
     "metadata": {},
     "output_type": "execute_result"
    }
   ],
   "source": [
    "# Most of the mothods applied in manipulating the list are premanent\n",
    "new_list.reverse()\n",
    "new_list"
   ]
  },
  {
   "cell_type": "code",
   "execution_count": 41,
   "metadata": {},
   "outputs": [
    {
     "data": {
      "text/plain": [
       "['a', 'b', 'c', 'e', 'x']"
      ]
     },
     "execution_count": 41,
     "metadata": {},
     "output_type": "execute_result"
    }
   ],
   "source": [
    "new_list.sort()\n",
    "new_list"
   ]
  },
  {
   "cell_type": "code",
   "execution_count": 42,
   "metadata": {},
   "outputs": [
    {
     "name": "stdout",
     "output_type": "stream",
     "text": [
      "1\n"
     ]
    }
   ],
   "source": [
    "print (new_list.count('a'))"
   ]
  },
  {
   "cell_type": "code",
   "execution_count": 43,
   "metadata": {
    "collapsed": true
   },
   "outputs": [],
   "source": [
    "# Lists Support Nesting\n",
    "l_1 = [1,2,3]\n",
    "l_2 = [4,5,6]\n",
    "l_3 = [7,8,9]"
   ]
  },
  {
   "cell_type": "code",
   "execution_count": 44,
   "metadata": {},
   "outputs": [
    {
     "name": "stdout",
     "output_type": "stream",
     "text": [
      "[[1, 2, 3], [4, 5, 6], [7, 8, 9]]\n"
     ]
    }
   ],
   "source": [
    "matrix = [l_1, l_2, l_3]\n",
    "print (matrix)"
   ]
  },
  {
   "cell_type": "code",
   "execution_count": 45,
   "metadata": {},
   "outputs": [
    {
     "name": "stdout",
     "output_type": "stream",
     "text": [
      "1\n",
      "5\n",
      "9\n"
     ]
    }
   ],
   "source": [
    "# We can access the elements using multiple index\n",
    "print (matrix[0][0])\n",
    "print (matrix[1][1])\n",
    "print (matrix[2][2])"
   ]
  },
  {
   "cell_type": "code",
   "execution_count": 46,
   "metadata": {},
   "outputs": [
    {
     "name": "stdout",
     "output_type": "stream",
     "text": [
      "[1, 4, 7]\n"
     ]
    }
   ],
   "source": [
    "# List Comprehension is like deconstructing a for loop within a bracket\n",
    "first_col = [row[0] for row in matrix]\n",
    "print (first_col)"
   ]
  },
  {
   "cell_type": "code",
   "execution_count": 58,
   "metadata": {
    "collapsed": true
   },
   "outputs": [],
   "source": [
    "# Dictionaries are like key value pair and they are mappings\n",
    "# these mappings will not retain the order\n",
    "my_dict = {'k1': 'var1', 'k2': 'var2', 'k3': 6.78, 'k4': 43}"
   ]
  },
  {
   "cell_type": "code",
   "execution_count": 59,
   "metadata": {},
   "outputs": [
    {
     "name": "stdout",
     "output_type": "stream",
     "text": [
      "var1\n",
      "a\n",
      "2\n",
      "VAR2\n",
      "49\n"
     ]
    }
   ],
   "source": [
    "print (my_dict['k1'])\n",
    "print (my_dict['k2'][1])\n",
    "print (my_dict['k2'][-1])\n",
    "print (my_dict['k2'].upper())\n",
    "print (my_dict['k4']+6) "
   ]
  },
  {
   "cell_type": "code",
   "execution_count": 60,
   "metadata": {},
   "outputs": [
    {
     "name": "stdout",
     "output_type": "stream",
     "text": [
      "49\n"
     ]
    }
   ],
   "source": [
    "# just as lists dicts can be permanently updated\n",
    "my_dict['k4'] = my_dict['k4']+6\n",
    "print (my_dict['k4'])"
   ]
  },
  {
   "cell_type": "code",
   "execution_count": 61,
   "metadata": {},
   "outputs": [
    {
     "name": "stdout",
     "output_type": "stream",
     "text": [
      "149\n"
     ]
    }
   ],
   "source": [
    "# Quick Syntax for assignment\n",
    "my_dict['k4'] += 100\n",
    "print (my_dict['k4'])"
   ]
  },
  {
   "cell_type": "code",
   "execution_count": 62,
   "metadata": {},
   "outputs": [
    {
     "name": "stdout",
     "output_type": "stream",
     "text": [
      "{'animal': 'dog', 'val': 42}\n"
     ]
    }
   ],
   "source": [
    "# Assignment of values to the dictionary\n",
    "d = {}\n",
    "d['animal'] = 'dog'\n",
    "d['val'] = 42\n",
    "print (d)"
   ]
  },
  {
   "cell_type": "code",
   "execution_count": 63,
   "metadata": {
    "collapsed": true
   },
   "outputs": [],
   "source": [
    "# Nesting in dictionary\n",
    "nd = {'u1': {'m1': {'l1': 'value'}}}"
   ]
  },
  {
   "cell_type": "code",
   "execution_count": 65,
   "metadata": {},
   "outputs": [
    {
     "name": "stdout",
     "output_type": "stream",
     "text": [
      "{'u1': {'m1': {'l1': 'value'}}}\n",
      "{'m1': {'l1': 'value'}}\n",
      "{'l1': 'value'}\n",
      "value\n",
      "VALUE\n"
     ]
    }
   ],
   "source": [
    "# Accessing the items\n",
    "print (nd)\n",
    "print (nd['u1'])\n",
    "print (nd['u1']['m1'])\n",
    "print (nd['u1']['m1']['l1'])\n",
    "print (nd['u1']['m1']['l1'].upper())"
   ]
  },
  {
   "cell_type": "code",
   "execution_count": 66,
   "metadata": {
    "collapsed": true
   },
   "outputs": [],
   "source": [
    "# Dictionary Methods\n",
    "d['k1'] = 1\n",
    "d['k2'] = 2\n",
    "d['k3'] = 3"
   ]
  },
  {
   "cell_type": "code",
   "execution_count": 67,
   "metadata": {},
   "outputs": [
    {
     "name": "stdout",
     "output_type": "stream",
     "text": [
      "dict_keys(['animal', 'val', 'k1', 'k2', 'k3'])\n",
      "dict_values(['dog', 42, 1, 2, 3])\n",
      "dict_items([('animal', 'dog'), ('val', 42), ('k1', 1), ('k2', 2), ('k3', 3)])\n"
     ]
    }
   ],
   "source": [
    "print (d.keys())\n",
    "print (d.values())\n",
    "print (d.items())"
   ]
  },
  {
   "cell_type": "code",
   "execution_count": 68,
   "metadata": {
    "collapsed": true
   },
   "outputs": [],
   "source": [
    "# Tuples are very similar to lists but are immutability\n",
    "t = (1, 2, 3)"
   ]
  },
  {
   "cell_type": "code",
   "execution_count": 69,
   "metadata": {},
   "outputs": [
    {
     "data": {
      "text/plain": [
       "3"
      ]
     },
     "execution_count": 69,
     "metadata": {},
     "output_type": "execute_result"
    }
   ],
   "source": [
    "len(t)"
   ]
  },
  {
   "cell_type": "code",
   "execution_count": 70,
   "metadata": {
    "collapsed": true
   },
   "outputs": [],
   "source": [
    "t = (1, 2, 3, 'val', 6.7)"
   ]
  },
  {
   "cell_type": "code",
   "execution_count": 71,
   "metadata": {},
   "outputs": [
    {
     "name": "stdout",
     "output_type": "stream",
     "text": [
      "1\n",
      "(3, 'val', 6.7)\n"
     ]
    }
   ],
   "source": [
    "print (t[0])\n",
    "print (t[2:])"
   ]
  },
  {
   "cell_type": "code",
   "execution_count": 72,
   "metadata": {},
   "outputs": [
    {
     "data": {
      "text/plain": [
       "2"
      ]
     },
     "execution_count": 72,
     "metadata": {},
     "output_type": "execute_result"
    }
   ],
   "source": [
    "t.index(3)"
   ]
  },
  {
   "cell_type": "code",
   "execution_count": 73,
   "metadata": {},
   "outputs": [
    {
     "data": {
      "text/plain": [
       "1"
      ]
     },
     "execution_count": 73,
     "metadata": {},
     "output_type": "execute_result"
    }
   ],
   "source": [
    "t.count(1)"
   ]
  },
  {
   "cell_type": "code",
   "execution_count": 74,
   "metadata": {
    "collapsed": true
   },
   "outputs": [],
   "source": [
    "# tuples cannot be altered and cannot be changed at all\n",
    "# trying to change the Tuple will give an error\n",
    "# There are fewer supported methods that are available in the Tuples\n",
    "# Only index and count are the methods\n",
    "# It can be used in the case where you need a rigid data struture"
   ]
  },
  {
   "cell_type": "code",
   "execution_count": 75,
   "metadata": {
    "collapsed": true
   },
   "outputs": [],
   "source": [
    "# A list can be an item in the Tuple\n",
    "t = (1, 2, [1,2])"
   ]
  },
  {
   "cell_type": "code",
   "execution_count": 76,
   "metadata": {},
   "outputs": [
    {
     "data": {
      "text/plain": [
       "[1, 2]"
      ]
     },
     "execution_count": 76,
     "metadata": {},
     "output_type": "execute_result"
    }
   ],
   "source": [
    "t[2]"
   ]
  }
 ],
 "metadata": {
  "kernelspec": {
   "display_name": "Python 3",
   "language": "python",
   "name": "python3"
  },
  "language_info": {
   "codemirror_mode": {
    "name": "ipython",
    "version": 3
   },
   "file_extension": ".py",
   "mimetype": "text/x-python",
   "name": "python",
   "nbconvert_exporter": "python",
   "pygments_lexer": "ipython3",
   "version": "3.6.1"
  }
 },
 "nbformat": 4,
 "nbformat_minor": 2
}
